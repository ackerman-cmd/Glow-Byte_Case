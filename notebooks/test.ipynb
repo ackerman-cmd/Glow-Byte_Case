{
 "cells": [
  {
   "cell_type": "code",
   "execution_count": 1,
   "id": "initial_id",
   "metadata": {
    "collapsed": true,
    "ExecuteTime": {
     "end_time": "2025-05-05T06:21:47.768351014Z",
     "start_time": "2025-05-05T06:21:47.236252604Z"
    }
   },
   "outputs": [],
   "source": [
    "import pandas as pd\n",
    "import numpy as np"
   ]
  },
  {
   "cell_type": "code",
   "execution_count": 2,
   "outputs": [],
   "source": [
    "def calculate_coal_balance(row):\n",
    "    # Берём ключевые поля из текущей строки\n",
    "    current_date = row['ВыгрузкаНаСклад']\n",
    "    warehouse = row['Склад']\n",
    "    pile = row['Штабель']\n",
    "    cargo_type = row['Марка']\n",
    "\n",
    "    # Фильтруем запасы угля на складе до текущей даты\n",
    "    incoming = supplies[\n",
    "        (supplies['ВыгрузкаНаСклад'] <= current_date)\n",
    "        & (supplies['Склад'] == warehouse)\n",
    "        & (supplies['Штабель'] == pile)\n",
    "        & (supplies['Марка'] == cargo_type)\n",
    "        ]['На склад, тн'].sum()\n",
    "\n",
    "    # Фильтруем объёмы угля, отправленные с судов до текущей даты\n",
    "    outgoing = supplies[\n",
    "        (supplies['ПогрузкаНаСудно'] <= current_date)\n",
    "        & (supplies['Склад'] == warehouse)\n",
    "        & (supplies['Штабель'] == pile)\n",
    "        & (supplies['Марка'] == cargo_type)\n",
    "        ]['На судно, тн'].sum()\n",
    "\n",
    "    # Баланс равен количеству принятого угля минус отправленному\n",
    "    balance = incoming - outgoing\n",
    "    return balance\n"
   ],
   "metadata": {
    "collapsed": false,
    "ExecuteTime": {
     "end_time": "2025-05-05T06:22:18.910586303Z",
     "start_time": "2025-05-05T06:22:18.869739281Z"
    }
   },
   "id": "a4c95a8cf892442a"
  },
  {
   "cell_type": "code",
   "execution_count": 96,
   "outputs": [],
   "source": [
    "supplies = pd.read_csv('../data/supplies.csv', parse_dates=['ВыгрузкаНаСклад', 'ПогрузкаНаСудно'])\n",
    "temperature = pd.read_csv('../data/temperature (1).csv', parse_dates=['Дата акта'])\n",
    "weather_2015 = pd.read_csv('../data/weather_data_2015.csv', parse_dates=['date'])\n",
    "weather_2016 = pd.read_csv('../data/weather_data_2016.csv', parse_dates=['date'])\n",
    "weather_2017 = pd.read_csv('../data/weather_data_2017.csv', parse_dates=['date'])\n",
    "weather_2018 = pd.read_csv('../data/weather_data_2018.csv', parse_dates=['date'])\n",
    "weather_2019 = pd.read_csv('../data/weather_data_2019.csv', parse_dates=['date'])\n",
    "weather_2020 = pd.read_csv('../data/weather_data_2020.csv', parse_dates=['date'])\n",
    "weather_2021 = pd.read_csv('../data/weather_data_2021.csv', parse_dates=['date'])\n",
    "weather = pd.concat([weather_2015, weather_2016, weather_2017, weather_2018, weather_2019, weather_2020, weather_2021])\n",
    "fires = pd.read_csv('../data/fires.csv', parse_dates=['Дата начала', 'Дата оконч.'])"
   ],
   "metadata": {
    "collapsed": false,
    "ExecuteTime": {
     "end_time": "2025-05-05T08:23:04.718904799Z",
     "start_time": "2025-05-05T08:23:04.573693463Z"
    }
   },
   "id": "34e90f58ca123106"
  },
  {
   "cell_type": "code",
   "execution_count": 101,
   "outputs": [
    {
     "name": "stderr",
     "output_type": "stream",
     "text": [
      "/tmp/ipykernel_92154/14908574.py:20: SettingWithCopyWarning: \n",
      "A value is trying to be set on a copy of a slice from a DataFrame\n",
      "\n",
      "See the caveats in the documentation: https://pandas.pydata.org/pandas-docs/stable/user_guide/indexing.html#returning-a-view-versus-a-copy\n",
      "  supplies['Масса угля'][i] = calculate_coal_balance(supplies.loc[i])\n",
      "/tmp/ipykernel_92154/14908574.py:20: FutureWarning: Setting an item of incompatible dtype is deprecated and will raise in a future error of pandas. Value '11984.1925' has dtype incompatible with int64, please explicitly cast to a compatible dtype first.\n",
      "  supplies['Масса угля'][i] = calculate_coal_balance(supplies.loc[i])\n"
     ]
    }
   ],
   "source": [
    "temperature.sort_values(['Дата акта'], inplace=True)\n",
    "min_date = temperature['Дата акта'].iloc[0]\n",
    "max_date = temperature['Дата акта'].iloc[-1]\n",
    "\n",
    "temperature.rename(columns={'Дата акта': 'Дата'}, inplace=True)\n",
    "\n",
    "supplies.rename(columns={'Наим. ЕТСНГ': 'Марка'}, inplace=True)\n",
    "\n",
    "fires.rename(columns={'Груз': 'Марка'}, inplace=True)\n",
    "fires['Дата начала'] = fires['Дата начала'].dt.normalize()\n",
    "\n",
    "supplies.sort_values(['ВыгрузкаНаСклад'], inplace=True)\n",
    "fires.sort_values(['Дата начала'], inplace=True)\n",
    "\n",
    "\n",
    "\n",
    "supplies['Масса угля'] = 0\n",
    "\n",
    "for i in supplies.index:\n",
    "    supplies['Масса угля'][i] = calculate_coal_balance(supplies.loc[i])\n",
    "\n",
    "storage = supplies.copy()\n",
    "storage.drop_duplicates(subset=['Масса угля'], keep='last', inplace=True)\n",
    "storage = storage.filter(['ВыгрузкаНаСклад', 'Марка', 'Штабель', 'Склад', 'Масса угля'])\n",
    "storage.rename(columns={'ВыгрузкаНаСклад': 'Дата'}, inplace=True)\n",
    "\n",
    "# Генерируем диапазон всех нужных дат\n",
    "all_dates = pd.date_range(start=min_date, end=max_date, freq='D')\n",
    "\n",
    "# Уникальные активные комбинации Марка + Штабель + Склад\n",
    "active_combinations = storage[['Марка', 'Штабель', 'Склад']].drop_duplicates()\n",
    "\n",
    "# Создаём все даты для активных комбинаций\n",
    "active_combinations['key'] = 1\n",
    "all_dates_df = pd.DataFrame({'Дата': all_dates})\n",
    "all_dates_df['key'] = 1\n",
    "\n",
    "# Картезианское произведение (все даты × активные штабели)\n",
    "full_grid = all_dates_df.merge(active_combinations, on='key').drop(columns='key')\n",
    "\n",
    "# Объединяем с оригинальной таблицей\n",
    "df_full = full_grid.merge(storage, on=['Дата', 'Марка', 'Штабель', 'Склад'], how='left')\n",
    "\n",
    "# Заполняем пропуски методом ffill по группам\n",
    "df_full['Масса угля'] = df_full.groupby(['Марка', 'Штабель', 'Склад'])['Масса угля'].ffill()\n",
    "\n",
    "# Отсортируем для читаемости\n",
    "df_result = df_full.sort_values(['Марка', 'Штабель', 'Склад', 'Дата']).reset_index(drop=True)"
   ],
   "metadata": {
    "collapsed": false,
    "ExecuteTime": {
     "end_time": "2025-05-05T08:34:54.135757047Z",
     "start_time": "2025-05-05T08:34:34.311526838Z"
    }
   },
   "id": "15f9b547a8a11912"
  },
  {
   "cell_type": "code",
   "execution_count": 102,
   "outputs": [
    {
     "data": {
      "text/plain": "            Дата Марка  Штабель  Склад  Масса угля Дата составления  \\\n0     2019-11-23    A1        1      3         NaN              NaN   \n1     2019-11-24    A1        1      3         NaN              NaN   \n2     2019-11-25    A1        1      3         NaN              NaN   \n3     2019-11-26    A1        1      3         NaN              NaN   \n4     2019-11-27    A1        1      3         NaN              NaN   \n...          ...   ...      ...    ...         ...              ...   \n75824 2020-09-26   L11       34      3   43274.197              NaN   \n75825 2020-09-27   L11       34      3   43274.197              NaN   \n75826 2020-09-28   L11       34      3   43274.197              NaN   \n75827 2020-09-29   L11       34      3   43274.197              NaN   \n75828 2020-09-30   L11       34      3   43274.197              NaN   \n\n       Вес по акту, тн Дата начала Дата оконч. Нач.форм.штабеля  \n0                  NaN         NaT         NaT              NaN  \n1                  NaN         NaT         NaT              NaN  \n2                  NaN         NaT         NaT              NaN  \n3                  NaN         NaT         NaT              NaN  \n4                  NaN         NaT         NaT              NaN  \n...                ...         ...         ...              ...  \n75824              NaN         NaT         NaT              NaN  \n75825              NaN         NaT         NaT              NaN  \n75826              NaN         NaT         NaT              NaN  \n75827              NaN         NaT         NaT              NaN  \n75828              NaN         NaT         NaT              NaN  \n\n[75829 rows x 10 columns]",
      "text/html": "<div>\n<style scoped>\n    .dataframe tbody tr th:only-of-type {\n        vertical-align: middle;\n    }\n\n    .dataframe tbody tr th {\n        vertical-align: top;\n    }\n\n    .dataframe thead th {\n        text-align: right;\n    }\n</style>\n<table border=\"1\" class=\"dataframe\">\n  <thead>\n    <tr style=\"text-align: right;\">\n      <th></th>\n      <th>Дата</th>\n      <th>Марка</th>\n      <th>Штабель</th>\n      <th>Склад</th>\n      <th>Масса угля</th>\n      <th>Дата составления</th>\n      <th>Вес по акту, тн</th>\n      <th>Дата начала</th>\n      <th>Дата оконч.</th>\n      <th>Нач.форм.штабеля</th>\n    </tr>\n  </thead>\n  <tbody>\n    <tr>\n      <th>0</th>\n      <td>2019-11-23</td>\n      <td>A1</td>\n      <td>1</td>\n      <td>3</td>\n      <td>NaN</td>\n      <td>NaN</td>\n      <td>NaN</td>\n      <td>NaT</td>\n      <td>NaT</td>\n      <td>NaN</td>\n    </tr>\n    <tr>\n      <th>1</th>\n      <td>2019-11-24</td>\n      <td>A1</td>\n      <td>1</td>\n      <td>3</td>\n      <td>NaN</td>\n      <td>NaN</td>\n      <td>NaN</td>\n      <td>NaT</td>\n      <td>NaT</td>\n      <td>NaN</td>\n    </tr>\n    <tr>\n      <th>2</th>\n      <td>2019-11-25</td>\n      <td>A1</td>\n      <td>1</td>\n      <td>3</td>\n      <td>NaN</td>\n      <td>NaN</td>\n      <td>NaN</td>\n      <td>NaT</td>\n      <td>NaT</td>\n      <td>NaN</td>\n    </tr>\n    <tr>\n      <th>3</th>\n      <td>2019-11-26</td>\n      <td>A1</td>\n      <td>1</td>\n      <td>3</td>\n      <td>NaN</td>\n      <td>NaN</td>\n      <td>NaN</td>\n      <td>NaT</td>\n      <td>NaT</td>\n      <td>NaN</td>\n    </tr>\n    <tr>\n      <th>4</th>\n      <td>2019-11-27</td>\n      <td>A1</td>\n      <td>1</td>\n      <td>3</td>\n      <td>NaN</td>\n      <td>NaN</td>\n      <td>NaN</td>\n      <td>NaT</td>\n      <td>NaT</td>\n      <td>NaN</td>\n    </tr>\n    <tr>\n      <th>...</th>\n      <td>...</td>\n      <td>...</td>\n      <td>...</td>\n      <td>...</td>\n      <td>...</td>\n      <td>...</td>\n      <td>...</td>\n      <td>...</td>\n      <td>...</td>\n      <td>...</td>\n    </tr>\n    <tr>\n      <th>75824</th>\n      <td>2020-09-26</td>\n      <td>L11</td>\n      <td>34</td>\n      <td>3</td>\n      <td>43274.197</td>\n      <td>NaN</td>\n      <td>NaN</td>\n      <td>NaT</td>\n      <td>NaT</td>\n      <td>NaN</td>\n    </tr>\n    <tr>\n      <th>75825</th>\n      <td>2020-09-27</td>\n      <td>L11</td>\n      <td>34</td>\n      <td>3</td>\n      <td>43274.197</td>\n      <td>NaN</td>\n      <td>NaN</td>\n      <td>NaT</td>\n      <td>NaT</td>\n      <td>NaN</td>\n    </tr>\n    <tr>\n      <th>75826</th>\n      <td>2020-09-28</td>\n      <td>L11</td>\n      <td>34</td>\n      <td>3</td>\n      <td>43274.197</td>\n      <td>NaN</td>\n      <td>NaN</td>\n      <td>NaT</td>\n      <td>NaT</td>\n      <td>NaN</td>\n    </tr>\n    <tr>\n      <th>75827</th>\n      <td>2020-09-29</td>\n      <td>L11</td>\n      <td>34</td>\n      <td>3</td>\n      <td>43274.197</td>\n      <td>NaN</td>\n      <td>NaN</td>\n      <td>NaT</td>\n      <td>NaT</td>\n      <td>NaN</td>\n    </tr>\n    <tr>\n      <th>75828</th>\n      <td>2020-09-30</td>\n      <td>L11</td>\n      <td>34</td>\n      <td>3</td>\n      <td>43274.197</td>\n      <td>NaN</td>\n      <td>NaN</td>\n      <td>NaT</td>\n      <td>NaT</td>\n      <td>NaN</td>\n    </tr>\n  </tbody>\n</table>\n<p>75829 rows × 10 columns</p>\n</div>"
     },
     "execution_count": 102,
     "metadata": {},
     "output_type": "execute_result"
    }
   ],
   "source": [
    "fires = fires[(fires['Дата начала'] >= min_date) & (fires['Дата начала'] <= max_date)]\n",
    "\n",
    "full_data = df_result.merge(fires, how='left',\n",
    "                            left_on=['Дата', 'Марка', 'Штабель', 'Склад'],\n",
    "                            right_on=['Дата начала', 'Марка', 'Штабель', 'Склад'])\n",
    "full_data"
   ],
   "metadata": {
    "collapsed": false,
    "ExecuteTime": {
     "end_time": "2025-05-05T08:35:15.360872535Z",
     "start_time": "2025-05-05T08:35:15.301771360Z"
    }
   },
   "id": "897d169badaaf3f0"
  },
  {
   "cell_type": "code",
   "execution_count": 103,
   "outputs": [
    {
     "data": {
      "text/plain": "            Дата Марка  Штабель  Склад  Масса угля Дата составления  \\\n0     2019-11-23    A1        1      3         NaN              NaN   \n1     2019-11-24    A1        1      3         NaN              NaN   \n2     2019-11-25    A1        1      3         NaN              NaN   \n3     2019-11-26    A1        1      3         NaN              NaN   \n4     2019-11-27    A1        1      3         NaN              NaN   \n...          ...   ...      ...    ...         ...              ...   \n75824 2020-09-26   L11       34      3   43274.197              NaN   \n75825 2020-09-27   L11       34      3   43274.197              NaN   \n75826 2020-09-28   L11       34      3   43274.197              NaN   \n75827 2020-09-29   L11       34      3   43274.197              NaN   \n75828 2020-09-30   L11       34      3   43274.197              NaN   \n\n       Вес по акту, тн Дата начала Дата оконч. Нач.форм.штабеля  Возгорание  \n0                  NaN         NaT         NaT              NaN           0  \n1                  NaN         NaT         NaT              NaN           0  \n2                  NaN         NaT         NaT              NaN           0  \n3                  NaN         NaT         NaT              NaN           0  \n4                  NaN         NaT         NaT              NaN           0  \n...                ...         ...         ...              ...         ...  \n75824              NaN         NaT         NaT              NaN           0  \n75825              NaN         NaT         NaT              NaN           0  \n75826              NaN         NaT         NaT              NaN           0  \n75827              NaN         NaT         NaT              NaN           0  \n75828              NaN         NaT         NaT              NaN           0  \n\n[75829 rows x 11 columns]",
      "text/html": "<div>\n<style scoped>\n    .dataframe tbody tr th:only-of-type {\n        vertical-align: middle;\n    }\n\n    .dataframe tbody tr th {\n        vertical-align: top;\n    }\n\n    .dataframe thead th {\n        text-align: right;\n    }\n</style>\n<table border=\"1\" class=\"dataframe\">\n  <thead>\n    <tr style=\"text-align: right;\">\n      <th></th>\n      <th>Дата</th>\n      <th>Марка</th>\n      <th>Штабель</th>\n      <th>Склад</th>\n      <th>Масса угля</th>\n      <th>Дата составления</th>\n      <th>Вес по акту, тн</th>\n      <th>Дата начала</th>\n      <th>Дата оконч.</th>\n      <th>Нач.форм.штабеля</th>\n      <th>Возгорание</th>\n    </tr>\n  </thead>\n  <tbody>\n    <tr>\n      <th>0</th>\n      <td>2019-11-23</td>\n      <td>A1</td>\n      <td>1</td>\n      <td>3</td>\n      <td>NaN</td>\n      <td>NaN</td>\n      <td>NaN</td>\n      <td>NaT</td>\n      <td>NaT</td>\n      <td>NaN</td>\n      <td>0</td>\n    </tr>\n    <tr>\n      <th>1</th>\n      <td>2019-11-24</td>\n      <td>A1</td>\n      <td>1</td>\n      <td>3</td>\n      <td>NaN</td>\n      <td>NaN</td>\n      <td>NaN</td>\n      <td>NaT</td>\n      <td>NaT</td>\n      <td>NaN</td>\n      <td>0</td>\n    </tr>\n    <tr>\n      <th>2</th>\n      <td>2019-11-25</td>\n      <td>A1</td>\n      <td>1</td>\n      <td>3</td>\n      <td>NaN</td>\n      <td>NaN</td>\n      <td>NaN</td>\n      <td>NaT</td>\n      <td>NaT</td>\n      <td>NaN</td>\n      <td>0</td>\n    </tr>\n    <tr>\n      <th>3</th>\n      <td>2019-11-26</td>\n      <td>A1</td>\n      <td>1</td>\n      <td>3</td>\n      <td>NaN</td>\n      <td>NaN</td>\n      <td>NaN</td>\n      <td>NaT</td>\n      <td>NaT</td>\n      <td>NaN</td>\n      <td>0</td>\n    </tr>\n    <tr>\n      <th>4</th>\n      <td>2019-11-27</td>\n      <td>A1</td>\n      <td>1</td>\n      <td>3</td>\n      <td>NaN</td>\n      <td>NaN</td>\n      <td>NaN</td>\n      <td>NaT</td>\n      <td>NaT</td>\n      <td>NaN</td>\n      <td>0</td>\n    </tr>\n    <tr>\n      <th>...</th>\n      <td>...</td>\n      <td>...</td>\n      <td>...</td>\n      <td>...</td>\n      <td>...</td>\n      <td>...</td>\n      <td>...</td>\n      <td>...</td>\n      <td>...</td>\n      <td>...</td>\n      <td>...</td>\n    </tr>\n    <tr>\n      <th>75824</th>\n      <td>2020-09-26</td>\n      <td>L11</td>\n      <td>34</td>\n      <td>3</td>\n      <td>43274.197</td>\n      <td>NaN</td>\n      <td>NaN</td>\n      <td>NaT</td>\n      <td>NaT</td>\n      <td>NaN</td>\n      <td>0</td>\n    </tr>\n    <tr>\n      <th>75825</th>\n      <td>2020-09-27</td>\n      <td>L11</td>\n      <td>34</td>\n      <td>3</td>\n      <td>43274.197</td>\n      <td>NaN</td>\n      <td>NaN</td>\n      <td>NaT</td>\n      <td>NaT</td>\n      <td>NaN</td>\n      <td>0</td>\n    </tr>\n    <tr>\n      <th>75826</th>\n      <td>2020-09-28</td>\n      <td>L11</td>\n      <td>34</td>\n      <td>3</td>\n      <td>43274.197</td>\n      <td>NaN</td>\n      <td>NaN</td>\n      <td>NaT</td>\n      <td>NaT</td>\n      <td>NaN</td>\n      <td>0</td>\n    </tr>\n    <tr>\n      <th>75827</th>\n      <td>2020-09-29</td>\n      <td>L11</td>\n      <td>34</td>\n      <td>3</td>\n      <td>43274.197</td>\n      <td>NaN</td>\n      <td>NaN</td>\n      <td>NaT</td>\n      <td>NaT</td>\n      <td>NaN</td>\n      <td>0</td>\n    </tr>\n    <tr>\n      <th>75828</th>\n      <td>2020-09-30</td>\n      <td>L11</td>\n      <td>34</td>\n      <td>3</td>\n      <td>43274.197</td>\n      <td>NaN</td>\n      <td>NaN</td>\n      <td>NaT</td>\n      <td>NaT</td>\n      <td>NaN</td>\n      <td>0</td>\n    </tr>\n  </tbody>\n</table>\n<p>75829 rows × 11 columns</p>\n</div>"
     },
     "execution_count": 103,
     "metadata": {},
     "output_type": "execute_result"
    }
   ],
   "source": [
    "full_data['Возгорание'] = (~full_data['Дата начала'].isnull()).astype(int)\n",
    "full_data"
   ],
   "metadata": {
    "collapsed": false,
    "ExecuteTime": {
     "end_time": "2025-05-05T08:35:21.893374122Z",
     "start_time": "2025-05-05T08:35:21.846693820Z"
    }
   },
   "id": "8bdc4c8cad1fe09e"
  },
  {
   "cell_type": "code",
   "execution_count": 104,
   "outputs": [
    {
     "data": {
      "text/plain": "Возгорание\n0    75524\n1      305\nName: count, dtype: int64"
     },
     "execution_count": 104,
     "metadata": {},
     "output_type": "execute_result"
    }
   ],
   "source": [
    "full_data['Возгорание'].value_counts()"
   ],
   "metadata": {
    "collapsed": false,
    "ExecuteTime": {
     "end_time": "2025-05-05T08:35:28.391574458Z",
     "start_time": "2025-05-05T08:35:28.360740493Z"
    }
   },
   "id": "83d989f1423f4ca7"
  },
  {
   "cell_type": "code",
   "execution_count": 75,
   "outputs": [
    {
     "data": {
      "text/plain": "            Дата Марка  Штабель  Склад   Масса угля Дата составления  \\\n19159 2019-11-23    A1       36      3  238428.6550              NaN   \n45468 2019-11-23    C3       36      3   25809.4085              NaN   \n8822  2019-11-23    A1       17      3   32158.8575              NaN   \n5066  2019-11-23    A1       10      4   22825.6450              NaN   \n16961 2019-11-24    A1       31      3  263446.7560              NaN   \n...          ...   ...      ...    ...          ...              ...   \n26374 2020-09-30    A1       50      4  119624.8435              NaN   \n26687 2020-09-30    A1       51      6   65224.1465              NaN   \n60804 2020-09-30    E5       26      6    2607.5195              NaN   \n2560  2020-09-30    A1        5      6  184674.6975              NaN   \n75828 2020-09-30   L11       34      3   43274.1970              NaN   \n\n       Вес по акту, тн Дата начала Дата оконч. Нач.форм.штабеля  Возгорание  \n19159              NaN         NaT         NaT              NaN           0  \n45468              NaN         NaT         NaT              NaN           0  \n8822               NaN         NaT         NaT              NaN           0  \n5066               NaN         NaT         NaT              NaN           0  \n16961              NaN         NaT         NaT              NaN           0  \n...                ...         ...         ...              ...         ...  \n26374              NaN         NaT         NaT              NaN           0  \n26687              NaN         NaT         NaT              NaN           0  \n60804              NaN         NaT         NaT              NaN           0  \n2560               NaN         NaT         NaT              NaN           0  \n75828              NaN         NaT         NaT              NaN           0  \n\n[28699 rows x 11 columns]",
      "text/html": "<div>\n<style scoped>\n    .dataframe tbody tr th:only-of-type {\n        vertical-align: middle;\n    }\n\n    .dataframe tbody tr th {\n        vertical-align: top;\n    }\n\n    .dataframe thead th {\n        text-align: right;\n    }\n</style>\n<table border=\"1\" class=\"dataframe\">\n  <thead>\n    <tr style=\"text-align: right;\">\n      <th></th>\n      <th>Дата</th>\n      <th>Марка</th>\n      <th>Штабель</th>\n      <th>Склад</th>\n      <th>Масса угля</th>\n      <th>Дата составления</th>\n      <th>Вес по акту, тн</th>\n      <th>Дата начала</th>\n      <th>Дата оконч.</th>\n      <th>Нач.форм.штабеля</th>\n      <th>Возгорание</th>\n    </tr>\n  </thead>\n  <tbody>\n    <tr>\n      <th>19159</th>\n      <td>2019-11-23</td>\n      <td>A1</td>\n      <td>36</td>\n      <td>3</td>\n      <td>238428.6550</td>\n      <td>NaN</td>\n      <td>NaN</td>\n      <td>NaT</td>\n      <td>NaT</td>\n      <td>NaN</td>\n      <td>0</td>\n    </tr>\n    <tr>\n      <th>45468</th>\n      <td>2019-11-23</td>\n      <td>C3</td>\n      <td>36</td>\n      <td>3</td>\n      <td>25809.4085</td>\n      <td>NaN</td>\n      <td>NaN</td>\n      <td>NaT</td>\n      <td>NaT</td>\n      <td>NaN</td>\n      <td>0</td>\n    </tr>\n    <tr>\n      <th>8822</th>\n      <td>2019-11-23</td>\n      <td>A1</td>\n      <td>17</td>\n      <td>3</td>\n      <td>32158.8575</td>\n      <td>NaN</td>\n      <td>NaN</td>\n      <td>NaT</td>\n      <td>NaT</td>\n      <td>NaN</td>\n      <td>0</td>\n    </tr>\n    <tr>\n      <th>5066</th>\n      <td>2019-11-23</td>\n      <td>A1</td>\n      <td>10</td>\n      <td>4</td>\n      <td>22825.6450</td>\n      <td>NaN</td>\n      <td>NaN</td>\n      <td>NaT</td>\n      <td>NaT</td>\n      <td>NaN</td>\n      <td>0</td>\n    </tr>\n    <tr>\n      <th>16961</th>\n      <td>2019-11-24</td>\n      <td>A1</td>\n      <td>31</td>\n      <td>3</td>\n      <td>263446.7560</td>\n      <td>NaN</td>\n      <td>NaN</td>\n      <td>NaT</td>\n      <td>NaT</td>\n      <td>NaN</td>\n      <td>0</td>\n    </tr>\n    <tr>\n      <th>...</th>\n      <td>...</td>\n      <td>...</td>\n      <td>...</td>\n      <td>...</td>\n      <td>...</td>\n      <td>...</td>\n      <td>...</td>\n      <td>...</td>\n      <td>...</td>\n      <td>...</td>\n      <td>...</td>\n    </tr>\n    <tr>\n      <th>26374</th>\n      <td>2020-09-30</td>\n      <td>A1</td>\n      <td>50</td>\n      <td>4</td>\n      <td>119624.8435</td>\n      <td>NaN</td>\n      <td>NaN</td>\n      <td>NaT</td>\n      <td>NaT</td>\n      <td>NaN</td>\n      <td>0</td>\n    </tr>\n    <tr>\n      <th>26687</th>\n      <td>2020-09-30</td>\n      <td>A1</td>\n      <td>51</td>\n      <td>6</td>\n      <td>65224.1465</td>\n      <td>NaN</td>\n      <td>NaN</td>\n      <td>NaT</td>\n      <td>NaT</td>\n      <td>NaN</td>\n      <td>0</td>\n    </tr>\n    <tr>\n      <th>60804</th>\n      <td>2020-09-30</td>\n      <td>E5</td>\n      <td>26</td>\n      <td>6</td>\n      <td>2607.5195</td>\n      <td>NaN</td>\n      <td>NaN</td>\n      <td>NaT</td>\n      <td>NaT</td>\n      <td>NaN</td>\n      <td>0</td>\n    </tr>\n    <tr>\n      <th>2560</th>\n      <td>2020-09-30</td>\n      <td>A1</td>\n      <td>5</td>\n      <td>6</td>\n      <td>184674.6975</td>\n      <td>NaN</td>\n      <td>NaN</td>\n      <td>NaT</td>\n      <td>NaT</td>\n      <td>NaN</td>\n      <td>0</td>\n    </tr>\n    <tr>\n      <th>75828</th>\n      <td>2020-09-30</td>\n      <td>L11</td>\n      <td>34</td>\n      <td>3</td>\n      <td>43274.1970</td>\n      <td>NaN</td>\n      <td>NaN</td>\n      <td>NaT</td>\n      <td>NaT</td>\n      <td>NaN</td>\n      <td>0</td>\n    </tr>\n  </tbody>\n</table>\n<p>28699 rows × 11 columns</p>\n</div>"
     },
     "execution_count": 75,
     "metadata": {},
     "output_type": "execute_result"
    }
   ],
   "source": [
    "full_data = full_data.dropna(subset=['Масса угля']).sort_values(['Дата'])\n",
    "full_data"
   ],
   "metadata": {
    "collapsed": false,
    "ExecuteTime": {
     "end_time": "2025-05-05T08:02:15.531502607Z",
     "start_time": "2025-05-05T08:02:15.217522313Z"
    }
   },
   "id": "1b08a7dd6bd9de6e"
  },
  {
   "cell_type": "code",
   "execution_count": 77,
   "outputs": [],
   "source": [
    "full_data.drop_duplicates(subset=['Масса угля', 'Дата'], inplace=True)"
   ],
   "metadata": {
    "collapsed": false,
    "ExecuteTime": {
     "end_time": "2025-05-05T08:02:15.674417469Z",
     "start_time": "2025-05-05T08:02:15.276688174Z"
    }
   },
   "id": "90def9480d448b2e"
  },
  {
   "cell_type": "code",
   "execution_count": 78,
   "outputs": [
    {
     "data": {
      "text/plain": "            Дата Марка  Штабель  Склад   Масса угля Дата составления  \\\n19159 2019-11-23    A1       36      3  238428.6550              NaN   \n45468 2019-11-23    C3       36      3   25809.4085              NaN   \n8822  2019-11-23    A1       17      3   32158.8575              NaN   \n5066  2019-11-23    A1       10      4   22825.6450              NaN   \n16961 2019-11-24    A1       31      3  263446.7560              NaN   \n...          ...   ...      ...    ...          ...              ...   \n26374 2020-09-30    A1       50      4  119624.8435              NaN   \n26687 2020-09-30    A1       51      6   65224.1465              NaN   \n60804 2020-09-30    E5       26      6    2607.5195              NaN   \n2560  2020-09-30    A1        5      6  184674.6975              NaN   \n75828 2020-09-30   L11       34      3   43274.1970              NaN   \n\n       Вес по акту, тн Дата начала Дата оконч. Нач.форм.штабеля  Возгорание  \n19159              NaN         NaT         NaT              NaN           0  \n45468              NaN         NaT         NaT              NaN           0  \n8822               NaN         NaT         NaT              NaN           0  \n5066               NaN         NaT         NaT              NaN           0  \n16961              NaN         NaT         NaT              NaN           0  \n...                ...         ...         ...              ...         ...  \n26374              NaN         NaT         NaT              NaN           0  \n26687              NaN         NaT         NaT              NaN           0  \n60804              NaN         NaT         NaT              NaN           0  \n2560               NaN         NaT         NaT              NaN           0  \n75828              NaN         NaT         NaT              NaN           0  \n\n[28616 rows x 11 columns]",
      "text/html": "<div>\n<style scoped>\n    .dataframe tbody tr th:only-of-type {\n        vertical-align: middle;\n    }\n\n    .dataframe tbody tr th {\n        vertical-align: top;\n    }\n\n    .dataframe thead th {\n        text-align: right;\n    }\n</style>\n<table border=\"1\" class=\"dataframe\">\n  <thead>\n    <tr style=\"text-align: right;\">\n      <th></th>\n      <th>Дата</th>\n      <th>Марка</th>\n      <th>Штабель</th>\n      <th>Склад</th>\n      <th>Масса угля</th>\n      <th>Дата составления</th>\n      <th>Вес по акту, тн</th>\n      <th>Дата начала</th>\n      <th>Дата оконч.</th>\n      <th>Нач.форм.штабеля</th>\n      <th>Возгорание</th>\n    </tr>\n  </thead>\n  <tbody>\n    <tr>\n      <th>19159</th>\n      <td>2019-11-23</td>\n      <td>A1</td>\n      <td>36</td>\n      <td>3</td>\n      <td>238428.6550</td>\n      <td>NaN</td>\n      <td>NaN</td>\n      <td>NaT</td>\n      <td>NaT</td>\n      <td>NaN</td>\n      <td>0</td>\n    </tr>\n    <tr>\n      <th>45468</th>\n      <td>2019-11-23</td>\n      <td>C3</td>\n      <td>36</td>\n      <td>3</td>\n      <td>25809.4085</td>\n      <td>NaN</td>\n      <td>NaN</td>\n      <td>NaT</td>\n      <td>NaT</td>\n      <td>NaN</td>\n      <td>0</td>\n    </tr>\n    <tr>\n      <th>8822</th>\n      <td>2019-11-23</td>\n      <td>A1</td>\n      <td>17</td>\n      <td>3</td>\n      <td>32158.8575</td>\n      <td>NaN</td>\n      <td>NaN</td>\n      <td>NaT</td>\n      <td>NaT</td>\n      <td>NaN</td>\n      <td>0</td>\n    </tr>\n    <tr>\n      <th>5066</th>\n      <td>2019-11-23</td>\n      <td>A1</td>\n      <td>10</td>\n      <td>4</td>\n      <td>22825.6450</td>\n      <td>NaN</td>\n      <td>NaN</td>\n      <td>NaT</td>\n      <td>NaT</td>\n      <td>NaN</td>\n      <td>0</td>\n    </tr>\n    <tr>\n      <th>16961</th>\n      <td>2019-11-24</td>\n      <td>A1</td>\n      <td>31</td>\n      <td>3</td>\n      <td>263446.7560</td>\n      <td>NaN</td>\n      <td>NaN</td>\n      <td>NaT</td>\n      <td>NaT</td>\n      <td>NaN</td>\n      <td>0</td>\n    </tr>\n    <tr>\n      <th>...</th>\n      <td>...</td>\n      <td>...</td>\n      <td>...</td>\n      <td>...</td>\n      <td>...</td>\n      <td>...</td>\n      <td>...</td>\n      <td>...</td>\n      <td>...</td>\n      <td>...</td>\n      <td>...</td>\n    </tr>\n    <tr>\n      <th>26374</th>\n      <td>2020-09-30</td>\n      <td>A1</td>\n      <td>50</td>\n      <td>4</td>\n      <td>119624.8435</td>\n      <td>NaN</td>\n      <td>NaN</td>\n      <td>NaT</td>\n      <td>NaT</td>\n      <td>NaN</td>\n      <td>0</td>\n    </tr>\n    <tr>\n      <th>26687</th>\n      <td>2020-09-30</td>\n      <td>A1</td>\n      <td>51</td>\n      <td>6</td>\n      <td>65224.1465</td>\n      <td>NaN</td>\n      <td>NaN</td>\n      <td>NaT</td>\n      <td>NaT</td>\n      <td>NaN</td>\n      <td>0</td>\n    </tr>\n    <tr>\n      <th>60804</th>\n      <td>2020-09-30</td>\n      <td>E5</td>\n      <td>26</td>\n      <td>6</td>\n      <td>2607.5195</td>\n      <td>NaN</td>\n      <td>NaN</td>\n      <td>NaT</td>\n      <td>NaT</td>\n      <td>NaN</td>\n      <td>0</td>\n    </tr>\n    <tr>\n      <th>2560</th>\n      <td>2020-09-30</td>\n      <td>A1</td>\n      <td>5</td>\n      <td>6</td>\n      <td>184674.6975</td>\n      <td>NaN</td>\n      <td>NaN</td>\n      <td>NaT</td>\n      <td>NaT</td>\n      <td>NaN</td>\n      <td>0</td>\n    </tr>\n    <tr>\n      <th>75828</th>\n      <td>2020-09-30</td>\n      <td>L11</td>\n      <td>34</td>\n      <td>3</td>\n      <td>43274.1970</td>\n      <td>NaN</td>\n      <td>NaN</td>\n      <td>NaT</td>\n      <td>NaT</td>\n      <td>NaN</td>\n      <td>0</td>\n    </tr>\n  </tbody>\n</table>\n<p>28616 rows × 11 columns</p>\n</div>"
     },
     "execution_count": 78,
     "metadata": {},
     "output_type": "execute_result"
    }
   ],
   "source": [
    "full_data = full_data[full_data['Масса угля'] != 0]\n",
    "full_data"
   ],
   "metadata": {
    "collapsed": false,
    "ExecuteTime": {
     "end_time": "2025-05-05T08:02:15.675697732Z",
     "start_time": "2025-05-05T08:02:15.317419859Z"
    }
   },
   "id": "57f0f4a9086abb2f"
  },
  {
   "cell_type": "code",
   "execution_count": 79,
   "outputs": [
    {
     "data": {
      "text/plain": "      Склад  Штабель      Марка  Максимальная температура      Пикет  \\\n30        4       10    A1-СУЭК                      16.7        NaN   \n22        3        7     A1-СКГ                      19.2        NaN   \n23        3       36  A1-МТ-ШУБ                      17.7        NaN   \n24        3       17     A1-КРУ                      20.5        NaN   \n25        3       31  A1-СА-ШУБ                      18.3        NaN   \n...     ...      ...        ...                       ...        ...   \n4081      3       33         A1                      73.5  3048-3092   \n4080      3       27         A1                      34.3  3004-3007   \n4104      6        1         A1                      28.4  6035-6053   \n4091      6        1         A1                      55.8  6035-6053   \n4105      6        5         A1                      30.1  6054-6083   \n\n           Дата  Смена  \n30   2019-11-23  921.0  \n22   2019-11-23  921.0  \n23   2019-11-23  921.0  \n24   2019-11-23  921.0  \n25   2019-11-23  921.0  \n...         ...    ...  \n4081 2020-09-30  219.0  \n4080 2020-09-30  219.0  \n4104 2020-09-30  921.0  \n4091 2020-09-30  219.0  \n4105 2020-09-30  921.0  \n\n[4106 rows x 7 columns]",
      "text/html": "<div>\n<style scoped>\n    .dataframe tbody tr th:only-of-type {\n        vertical-align: middle;\n    }\n\n    .dataframe tbody tr th {\n        vertical-align: top;\n    }\n\n    .dataframe thead th {\n        text-align: right;\n    }\n</style>\n<table border=\"1\" class=\"dataframe\">\n  <thead>\n    <tr style=\"text-align: right;\">\n      <th></th>\n      <th>Склад</th>\n      <th>Штабель</th>\n      <th>Марка</th>\n      <th>Максимальная температура</th>\n      <th>Пикет</th>\n      <th>Дата</th>\n      <th>Смена</th>\n    </tr>\n  </thead>\n  <tbody>\n    <tr>\n      <th>30</th>\n      <td>4</td>\n      <td>10</td>\n      <td>A1-СУЭК</td>\n      <td>16.7</td>\n      <td>NaN</td>\n      <td>2019-11-23</td>\n      <td>921.0</td>\n    </tr>\n    <tr>\n      <th>22</th>\n      <td>3</td>\n      <td>7</td>\n      <td>A1-СКГ</td>\n      <td>19.2</td>\n      <td>NaN</td>\n      <td>2019-11-23</td>\n      <td>921.0</td>\n    </tr>\n    <tr>\n      <th>23</th>\n      <td>3</td>\n      <td>36</td>\n      <td>A1-МТ-ШУБ</td>\n      <td>17.7</td>\n      <td>NaN</td>\n      <td>2019-11-23</td>\n      <td>921.0</td>\n    </tr>\n    <tr>\n      <th>24</th>\n      <td>3</td>\n      <td>17</td>\n      <td>A1-КРУ</td>\n      <td>20.5</td>\n      <td>NaN</td>\n      <td>2019-11-23</td>\n      <td>921.0</td>\n    </tr>\n    <tr>\n      <th>25</th>\n      <td>3</td>\n      <td>31</td>\n      <td>A1-СА-ШУБ</td>\n      <td>18.3</td>\n      <td>NaN</td>\n      <td>2019-11-23</td>\n      <td>921.0</td>\n    </tr>\n    <tr>\n      <th>...</th>\n      <td>...</td>\n      <td>...</td>\n      <td>...</td>\n      <td>...</td>\n      <td>...</td>\n      <td>...</td>\n      <td>...</td>\n    </tr>\n    <tr>\n      <th>4081</th>\n      <td>3</td>\n      <td>33</td>\n      <td>A1</td>\n      <td>73.5</td>\n      <td>3048-3092</td>\n      <td>2020-09-30</td>\n      <td>219.0</td>\n    </tr>\n    <tr>\n      <th>4080</th>\n      <td>3</td>\n      <td>27</td>\n      <td>A1</td>\n      <td>34.3</td>\n      <td>3004-3007</td>\n      <td>2020-09-30</td>\n      <td>219.0</td>\n    </tr>\n    <tr>\n      <th>4104</th>\n      <td>6</td>\n      <td>1</td>\n      <td>A1</td>\n      <td>28.4</td>\n      <td>6035-6053</td>\n      <td>2020-09-30</td>\n      <td>921.0</td>\n    </tr>\n    <tr>\n      <th>4091</th>\n      <td>6</td>\n      <td>1</td>\n      <td>A1</td>\n      <td>55.8</td>\n      <td>6035-6053</td>\n      <td>2020-09-30</td>\n      <td>219.0</td>\n    </tr>\n    <tr>\n      <th>4105</th>\n      <td>6</td>\n      <td>5</td>\n      <td>A1</td>\n      <td>30.1</td>\n      <td>6054-6083</td>\n      <td>2020-09-30</td>\n      <td>921.0</td>\n    </tr>\n  </tbody>\n</table>\n<p>4106 rows × 7 columns</p>\n</div>"
     },
     "execution_count": 79,
     "metadata": {},
     "output_type": "execute_result"
    }
   ],
   "source": [
    "temperature"
   ],
   "metadata": {
    "collapsed": false,
    "ExecuteTime": {
     "end_time": "2025-05-05T08:02:15.678218938Z",
     "start_time": "2025-05-05T08:02:15.325005062Z"
    }
   },
   "id": "461800ebfc10069"
  },
  {
   "cell_type": "code",
   "execution_count": 80,
   "outputs": [
    {
     "data": {
      "text/plain": "            Дата Марка  Штабель  Склад   Масса угля  Возгорание\n19159 2019-11-23    A1       36      3  238428.6550           0\n8822  2019-11-23    A1       17      3   32158.8575           0\n5066  2019-11-23    A1       10      4   22825.6450           0\n16961 2019-11-24    A1       31      3  263446.7560           0\n24498 2019-11-24    A1       46      4   41344.7905           0\n...          ...   ...      ...    ...          ...         ...\n25748 2020-09-30    A1       48      3  222639.7860           0\n26061 2020-09-30    A1       50      3   22399.0895           0\n26374 2020-09-30    A1       50      4  119624.8435           0\n26687 2020-09-30    A1       51      6   65224.1465           0\n2560  2020-09-30    A1        5      6  184674.6975           0\n\n[13934 rows x 6 columns]",
      "text/html": "<div>\n<style scoped>\n    .dataframe tbody tr th:only-of-type {\n        vertical-align: middle;\n    }\n\n    .dataframe tbody tr th {\n        vertical-align: top;\n    }\n\n    .dataframe thead th {\n        text-align: right;\n    }\n</style>\n<table border=\"1\" class=\"dataframe\">\n  <thead>\n    <tr style=\"text-align: right;\">\n      <th></th>\n      <th>Дата</th>\n      <th>Марка</th>\n      <th>Штабель</th>\n      <th>Склад</th>\n      <th>Масса угля</th>\n      <th>Возгорание</th>\n    </tr>\n  </thead>\n  <tbody>\n    <tr>\n      <th>19159</th>\n      <td>2019-11-23</td>\n      <td>A1</td>\n      <td>36</td>\n      <td>3</td>\n      <td>238428.6550</td>\n      <td>0</td>\n    </tr>\n    <tr>\n      <th>8822</th>\n      <td>2019-11-23</td>\n      <td>A1</td>\n      <td>17</td>\n      <td>3</td>\n      <td>32158.8575</td>\n      <td>0</td>\n    </tr>\n    <tr>\n      <th>5066</th>\n      <td>2019-11-23</td>\n      <td>A1</td>\n      <td>10</td>\n      <td>4</td>\n      <td>22825.6450</td>\n      <td>0</td>\n    </tr>\n    <tr>\n      <th>16961</th>\n      <td>2019-11-24</td>\n      <td>A1</td>\n      <td>31</td>\n      <td>3</td>\n      <td>263446.7560</td>\n      <td>0</td>\n    </tr>\n    <tr>\n      <th>24498</th>\n      <td>2019-11-24</td>\n      <td>A1</td>\n      <td>46</td>\n      <td>4</td>\n      <td>41344.7905</td>\n      <td>0</td>\n    </tr>\n    <tr>\n      <th>...</th>\n      <td>...</td>\n      <td>...</td>\n      <td>...</td>\n      <td>...</td>\n      <td>...</td>\n      <td>...</td>\n    </tr>\n    <tr>\n      <th>25748</th>\n      <td>2020-09-30</td>\n      <td>A1</td>\n      <td>48</td>\n      <td>3</td>\n      <td>222639.7860</td>\n      <td>0</td>\n    </tr>\n    <tr>\n      <th>26061</th>\n      <td>2020-09-30</td>\n      <td>A1</td>\n      <td>50</td>\n      <td>3</td>\n      <td>22399.0895</td>\n      <td>0</td>\n    </tr>\n    <tr>\n      <th>26374</th>\n      <td>2020-09-30</td>\n      <td>A1</td>\n      <td>50</td>\n      <td>4</td>\n      <td>119624.8435</td>\n      <td>0</td>\n    </tr>\n    <tr>\n      <th>26687</th>\n      <td>2020-09-30</td>\n      <td>A1</td>\n      <td>51</td>\n      <td>6</td>\n      <td>65224.1465</td>\n      <td>0</td>\n    </tr>\n    <tr>\n      <th>2560</th>\n      <td>2020-09-30</td>\n      <td>A1</td>\n      <td>5</td>\n      <td>6</td>\n      <td>184674.6975</td>\n      <td>0</td>\n    </tr>\n  </tbody>\n</table>\n<p>13934 rows × 6 columns</p>\n</div>"
     },
     "execution_count": 80,
     "metadata": {},
     "output_type": "execute_result"
    }
   ],
   "source": [
    "tmp = full_data.drop(columns=['Дата составления', 'Вес по акту, тн', 'Дата начала', 'Дата оконч.', 'Нач.форм.штабеля'])\n",
    "tmp = tmp[tmp['Марка'] == 'A1']\n",
    "tmp = tmp[(tmp['Дата'] >= temperature['Дата'].iloc[0]) & (tmp['Дата'] <= temperature['Дата'].iloc[-1])]\n",
    "tmp"
   ],
   "metadata": {
    "collapsed": false,
    "ExecuteTime": {
     "end_time": "2025-05-05T08:02:15.679100898Z",
     "start_time": "2025-05-05T08:02:15.356914537Z"
    }
   },
   "id": "70c0749439c665ae"
  },
  {
   "cell_type": "code",
   "execution_count": 81,
   "outputs": [],
   "source": [
    "temperature.rename(columns={'Дата акта': 'Дата'}, inplace=True)\n",
    "temperature['Дата'] = pd.to_datetime(temperature['Дата'])"
   ],
   "metadata": {
    "collapsed": false,
    "ExecuteTime": {
     "end_time": "2025-05-05T08:02:15.870265459Z",
     "start_time": "2025-05-05T08:02:15.397685765Z"
    }
   },
   "id": "93d25615d5766a71"
  },
  {
   "cell_type": "code",
   "execution_count": 82,
   "outputs": [
    {
     "name": "stderr",
     "output_type": "stream",
     "text": [
      "/tmp/ipykernel_92154/824777246.py:3: SettingWithCopyWarning: \n",
      "A value is trying to be set on a copy of a slice from a DataFrame.\n",
      "Try using .loc[row_indexer,col_indexer] = value instead\n",
      "\n",
      "See the caveats in the documentation: https://pandas.pydata.org/pandas-docs/stable/user_guide/indexing.html#returning-a-view-versus-a-copy\n",
      "  filtered_temperature['Дата'] = pd.to_datetime(filtered_temperature['Дата'], errors='coerce')\n"
     ]
    },
    {
     "data": {
      "text/plain": "      Склад  Штабель      Марка  Максимальная температура      Пикет  \\\n30        4       10    A1-СУЭК                      16.7        NaN   \n22        3        7     A1-СКГ                      19.2        NaN   \n23        3       36  A1-МТ-ШУБ                      17.7        NaN   \n24        3       17     A1-КРУ                      20.5        NaN   \n25        3       31  A1-СА-ШУБ                      18.3        NaN   \n...     ...      ...        ...                       ...        ...   \n4081      3       33         A1                      73.5  3048-3092   \n4080      3       27         A1                      34.3  3004-3007   \n4104      6        1         A1                      28.4  6035-6053   \n4091      6        1         A1                      55.8  6035-6053   \n4105      6        5         A1                      30.1  6054-6083   \n\n           Дата  Смена  \n30   2019-11-23  921.0  \n22   2019-11-23  921.0  \n23   2019-11-23  921.0  \n24   2019-11-23  921.0  \n25   2019-11-23  921.0  \n...         ...    ...  \n4081 2020-09-30  219.0  \n4080 2020-09-30  219.0  \n4104 2020-09-30  921.0  \n4091 2020-09-30  219.0  \n4105 2020-09-30  921.0  \n\n[4095 rows x 7 columns]",
      "text/html": "<div>\n<style scoped>\n    .dataframe tbody tr th:only-of-type {\n        vertical-align: middle;\n    }\n\n    .dataframe tbody tr th {\n        vertical-align: top;\n    }\n\n    .dataframe thead th {\n        text-align: right;\n    }\n</style>\n<table border=\"1\" class=\"dataframe\">\n  <thead>\n    <tr style=\"text-align: right;\">\n      <th></th>\n      <th>Склад</th>\n      <th>Штабель</th>\n      <th>Марка</th>\n      <th>Максимальная температура</th>\n      <th>Пикет</th>\n      <th>Дата</th>\n      <th>Смена</th>\n    </tr>\n  </thead>\n  <tbody>\n    <tr>\n      <th>30</th>\n      <td>4</td>\n      <td>10</td>\n      <td>A1-СУЭК</td>\n      <td>16.7</td>\n      <td>NaN</td>\n      <td>2019-11-23</td>\n      <td>921.0</td>\n    </tr>\n    <tr>\n      <th>22</th>\n      <td>3</td>\n      <td>7</td>\n      <td>A1-СКГ</td>\n      <td>19.2</td>\n      <td>NaN</td>\n      <td>2019-11-23</td>\n      <td>921.0</td>\n    </tr>\n    <tr>\n      <th>23</th>\n      <td>3</td>\n      <td>36</td>\n      <td>A1-МТ-ШУБ</td>\n      <td>17.7</td>\n      <td>NaN</td>\n      <td>2019-11-23</td>\n      <td>921.0</td>\n    </tr>\n    <tr>\n      <th>24</th>\n      <td>3</td>\n      <td>17</td>\n      <td>A1-КРУ</td>\n      <td>20.5</td>\n      <td>NaN</td>\n      <td>2019-11-23</td>\n      <td>921.0</td>\n    </tr>\n    <tr>\n      <th>25</th>\n      <td>3</td>\n      <td>31</td>\n      <td>A1-СА-ШУБ</td>\n      <td>18.3</td>\n      <td>NaN</td>\n      <td>2019-11-23</td>\n      <td>921.0</td>\n    </tr>\n    <tr>\n      <th>...</th>\n      <td>...</td>\n      <td>...</td>\n      <td>...</td>\n      <td>...</td>\n      <td>...</td>\n      <td>...</td>\n      <td>...</td>\n    </tr>\n    <tr>\n      <th>4081</th>\n      <td>3</td>\n      <td>33</td>\n      <td>A1</td>\n      <td>73.5</td>\n      <td>3048-3092</td>\n      <td>2020-09-30</td>\n      <td>219.0</td>\n    </tr>\n    <tr>\n      <th>4080</th>\n      <td>3</td>\n      <td>27</td>\n      <td>A1</td>\n      <td>34.3</td>\n      <td>3004-3007</td>\n      <td>2020-09-30</td>\n      <td>219.0</td>\n    </tr>\n    <tr>\n      <th>4104</th>\n      <td>6</td>\n      <td>1</td>\n      <td>A1</td>\n      <td>28.4</td>\n      <td>6035-6053</td>\n      <td>2020-09-30</td>\n      <td>921.0</td>\n    </tr>\n    <tr>\n      <th>4091</th>\n      <td>6</td>\n      <td>1</td>\n      <td>A1</td>\n      <td>55.8</td>\n      <td>6035-6053</td>\n      <td>2020-09-30</td>\n      <td>219.0</td>\n    </tr>\n    <tr>\n      <th>4105</th>\n      <td>6</td>\n      <td>5</td>\n      <td>A1</td>\n      <td>30.1</td>\n      <td>6054-6083</td>\n      <td>2020-09-30</td>\n      <td>921.0</td>\n    </tr>\n  </tbody>\n</table>\n<p>4095 rows × 7 columns</p>\n</div>"
     },
     "execution_count": 82,
     "metadata": {},
     "output_type": "execute_result"
    }
   ],
   "source": [
    "filtered_temperature = temperature[temperature['Марка'].str.startswith('A1')]\n",
    "# filtered_temperature['Марка'] = filtered_temperature['Марка'].where(~filtered_temperature['Марка'].str.contains('^A1'), 'A1')\n",
    "filtered_temperature['Дата'] = pd.to_datetime(filtered_temperature['Дата'], errors='coerce')\n",
    "filtered_temperature"
   ],
   "metadata": {
    "collapsed": false,
    "ExecuteTime": {
     "end_time": "2025-05-05T08:02:23.572737610Z",
     "start_time": "2025-05-05T08:02:23.540502512Z"
    }
   },
   "id": "eca4ddab9cb29106"
  },
  {
   "cell_type": "code",
   "execution_count": 83,
   "outputs": [
    {
     "data": {
      "text/plain": "            Дата  Штабель  Склад   Масса угля Дата составления  \\\n19159 2019-11-23       36      3  238428.6550              NaN   \n8822  2019-11-23       17      3   32158.8575              NaN   \n5066  2019-11-23       10      4   22825.6450              NaN   \n16961 2019-11-24       31      3  263446.7560              NaN   \n24498 2019-11-24       46      4   41344.7905              NaN   \n...          ...      ...    ...          ...              ...   \n25748 2020-09-30       48      3  222639.7860              NaN   \n26061 2020-09-30       50      3   22399.0895              NaN   \n26374 2020-09-30       50      4  119624.8435              NaN   \n26687 2020-09-30       51      6   65224.1465              NaN   \n2560  2020-09-30        5      6  184674.6975              NaN   \n\n       Вес по акту, тн Дата начала Дата оконч. Нач.форм.штабеля  Возгорание  \n19159              NaN         NaT         NaT              NaN           0  \n8822               NaN         NaT         NaT              NaN           0  \n5066               NaN         NaT         NaT              NaN           0  \n16961              NaN         NaT         NaT              NaN           0  \n24498              NaN         NaT         NaT              NaN           0  \n...                ...         ...         ...              ...         ...  \n25748              NaN         NaT         NaT              NaN           0  \n26061              NaN         NaT         NaT              NaN           0  \n26374              NaN         NaT         NaT              NaN           0  \n26687              NaN         NaT         NaT              NaN           0  \n2560               NaN         NaT         NaT              NaN           0  \n\n[13934 rows x 10 columns]",
      "text/html": "<div>\n<style scoped>\n    .dataframe tbody tr th:only-of-type {\n        vertical-align: middle;\n    }\n\n    .dataframe tbody tr th {\n        vertical-align: top;\n    }\n\n    .dataframe thead th {\n        text-align: right;\n    }\n</style>\n<table border=\"1\" class=\"dataframe\">\n  <thead>\n    <tr style=\"text-align: right;\">\n      <th></th>\n      <th>Дата</th>\n      <th>Штабель</th>\n      <th>Склад</th>\n      <th>Масса угля</th>\n      <th>Дата составления</th>\n      <th>Вес по акту, тн</th>\n      <th>Дата начала</th>\n      <th>Дата оконч.</th>\n      <th>Нач.форм.штабеля</th>\n      <th>Возгорание</th>\n    </tr>\n  </thead>\n  <tbody>\n    <tr>\n      <th>19159</th>\n      <td>2019-11-23</td>\n      <td>36</td>\n      <td>3</td>\n      <td>238428.6550</td>\n      <td>NaN</td>\n      <td>NaN</td>\n      <td>NaT</td>\n      <td>NaT</td>\n      <td>NaN</td>\n      <td>0</td>\n    </tr>\n    <tr>\n      <th>8822</th>\n      <td>2019-11-23</td>\n      <td>17</td>\n      <td>3</td>\n      <td>32158.8575</td>\n      <td>NaN</td>\n      <td>NaN</td>\n      <td>NaT</td>\n      <td>NaT</td>\n      <td>NaN</td>\n      <td>0</td>\n    </tr>\n    <tr>\n      <th>5066</th>\n      <td>2019-11-23</td>\n      <td>10</td>\n      <td>4</td>\n      <td>22825.6450</td>\n      <td>NaN</td>\n      <td>NaN</td>\n      <td>NaT</td>\n      <td>NaT</td>\n      <td>NaN</td>\n      <td>0</td>\n    </tr>\n    <tr>\n      <th>16961</th>\n      <td>2019-11-24</td>\n      <td>31</td>\n      <td>3</td>\n      <td>263446.7560</td>\n      <td>NaN</td>\n      <td>NaN</td>\n      <td>NaT</td>\n      <td>NaT</td>\n      <td>NaN</td>\n      <td>0</td>\n    </tr>\n    <tr>\n      <th>24498</th>\n      <td>2019-11-24</td>\n      <td>46</td>\n      <td>4</td>\n      <td>41344.7905</td>\n      <td>NaN</td>\n      <td>NaN</td>\n      <td>NaT</td>\n      <td>NaT</td>\n      <td>NaN</td>\n      <td>0</td>\n    </tr>\n    <tr>\n      <th>...</th>\n      <td>...</td>\n      <td>...</td>\n      <td>...</td>\n      <td>...</td>\n      <td>...</td>\n      <td>...</td>\n      <td>...</td>\n      <td>...</td>\n      <td>...</td>\n      <td>...</td>\n    </tr>\n    <tr>\n      <th>25748</th>\n      <td>2020-09-30</td>\n      <td>48</td>\n      <td>3</td>\n      <td>222639.7860</td>\n      <td>NaN</td>\n      <td>NaN</td>\n      <td>NaT</td>\n      <td>NaT</td>\n      <td>NaN</td>\n      <td>0</td>\n    </tr>\n    <tr>\n      <th>26061</th>\n      <td>2020-09-30</td>\n      <td>50</td>\n      <td>3</td>\n      <td>22399.0895</td>\n      <td>NaN</td>\n      <td>NaN</td>\n      <td>NaT</td>\n      <td>NaT</td>\n      <td>NaN</td>\n      <td>0</td>\n    </tr>\n    <tr>\n      <th>26374</th>\n      <td>2020-09-30</td>\n      <td>50</td>\n      <td>4</td>\n      <td>119624.8435</td>\n      <td>NaN</td>\n      <td>NaN</td>\n      <td>NaT</td>\n      <td>NaT</td>\n      <td>NaN</td>\n      <td>0</td>\n    </tr>\n    <tr>\n      <th>26687</th>\n      <td>2020-09-30</td>\n      <td>51</td>\n      <td>6</td>\n      <td>65224.1465</td>\n      <td>NaN</td>\n      <td>NaN</td>\n      <td>NaT</td>\n      <td>NaT</td>\n      <td>NaN</td>\n      <td>0</td>\n    </tr>\n    <tr>\n      <th>2560</th>\n      <td>2020-09-30</td>\n      <td>5</td>\n      <td>6</td>\n      <td>184674.6975</td>\n      <td>NaN</td>\n      <td>NaN</td>\n      <td>NaT</td>\n      <td>NaT</td>\n      <td>NaN</td>\n      <td>0</td>\n    </tr>\n  </tbody>\n</table>\n<p>13934 rows × 10 columns</p>\n</div>"
     },
     "execution_count": 83,
     "metadata": {},
     "output_type": "execute_result"
    }
   ],
   "source": [
    "tmp = full_data[(full_data['Дата'] >= temperature['Дата'].iloc[0]) & (full_data['Дата'] <= temperature['Дата'].iloc[-1])\n",
    "                & (full_data['Марка'] == 'A1')]\n",
    "tmp = tmp.drop(columns=['Марка'])\n",
    "tmp"
   ],
   "metadata": {
    "collapsed": false,
    "ExecuteTime": {
     "end_time": "2025-05-05T08:02:26.071929203Z",
     "start_time": "2025-05-05T08:02:26.046949890Z"
    }
   },
   "id": "1cf69d6cf17fad12"
  },
  {
   "cell_type": "code",
   "execution_count": 84,
   "outputs": [],
   "source": [
    "tmp_temp = filtered_temperature.drop(columns=['Марка'])"
   ],
   "metadata": {
    "collapsed": false,
    "ExecuteTime": {
     "end_time": "2025-05-05T08:02:28.327645059Z",
     "start_time": "2025-05-05T08:02:28.292055165Z"
    }
   },
   "id": "91b0dc5b050dfbe0"
  },
  {
   "cell_type": "code",
   "execution_count": 85,
   "outputs": [
    {
     "data": {
      "text/plain": "           Дата  Штабель  Склад   Масса угля  Возгорание  \\\n0    2019-11-23       36      3  238428.6550           0   \n1    2019-11-23       17      3   32158.8575           0   \n2    2019-11-23       10      4   22825.6450           0   \n3    2019-11-24       31      3  263446.7560           0   \n4    2019-11-24       31      3  263446.7560           0   \n...         ...      ...    ...          ...         ...   \n3885 2020-09-30       45      6    8674.2585           0   \n3886 2020-09-30       46      4  129052.8055           0   \n3887 2020-09-30       46      4  129052.8055           0   \n3888 2020-09-30        5      6  184674.6975           0   \n3889 2020-09-30        5      6  184674.6975           0   \n\n      Максимальная температура  \n0                         17.7  \n1                         20.5  \n2                         16.7  \n3                         14.8  \n4                         18.1  \n...                        ...  \n3885                      30.7  \n3886                      27.2  \n3887                      29.4  \n3888                      65.3  \n3889                      30.1  \n\n[3890 rows x 6 columns]",
      "text/html": "<div>\n<style scoped>\n    .dataframe tbody tr th:only-of-type {\n        vertical-align: middle;\n    }\n\n    .dataframe tbody tr th {\n        vertical-align: top;\n    }\n\n    .dataframe thead th {\n        text-align: right;\n    }\n</style>\n<table border=\"1\" class=\"dataframe\">\n  <thead>\n    <tr style=\"text-align: right;\">\n      <th></th>\n      <th>Дата</th>\n      <th>Штабель</th>\n      <th>Склад</th>\n      <th>Масса угля</th>\n      <th>Возгорание</th>\n      <th>Максимальная температура</th>\n    </tr>\n  </thead>\n  <tbody>\n    <tr>\n      <th>0</th>\n      <td>2019-11-23</td>\n      <td>36</td>\n      <td>3</td>\n      <td>238428.6550</td>\n      <td>0</td>\n      <td>17.7</td>\n    </tr>\n    <tr>\n      <th>1</th>\n      <td>2019-11-23</td>\n      <td>17</td>\n      <td>3</td>\n      <td>32158.8575</td>\n      <td>0</td>\n      <td>20.5</td>\n    </tr>\n    <tr>\n      <th>2</th>\n      <td>2019-11-23</td>\n      <td>10</td>\n      <td>4</td>\n      <td>22825.6450</td>\n      <td>0</td>\n      <td>16.7</td>\n    </tr>\n    <tr>\n      <th>3</th>\n      <td>2019-11-24</td>\n      <td>31</td>\n      <td>3</td>\n      <td>263446.7560</td>\n      <td>0</td>\n      <td>14.8</td>\n    </tr>\n    <tr>\n      <th>4</th>\n      <td>2019-11-24</td>\n      <td>31</td>\n      <td>3</td>\n      <td>263446.7560</td>\n      <td>0</td>\n      <td>18.1</td>\n    </tr>\n    <tr>\n      <th>...</th>\n      <td>...</td>\n      <td>...</td>\n      <td>...</td>\n      <td>...</td>\n      <td>...</td>\n      <td>...</td>\n    </tr>\n    <tr>\n      <th>3885</th>\n      <td>2020-09-30</td>\n      <td>45</td>\n      <td>6</td>\n      <td>8674.2585</td>\n      <td>0</td>\n      <td>30.7</td>\n    </tr>\n    <tr>\n      <th>3886</th>\n      <td>2020-09-30</td>\n      <td>46</td>\n      <td>4</td>\n      <td>129052.8055</td>\n      <td>0</td>\n      <td>27.2</td>\n    </tr>\n    <tr>\n      <th>3887</th>\n      <td>2020-09-30</td>\n      <td>46</td>\n      <td>4</td>\n      <td>129052.8055</td>\n      <td>0</td>\n      <td>29.4</td>\n    </tr>\n    <tr>\n      <th>3888</th>\n      <td>2020-09-30</td>\n      <td>5</td>\n      <td>6</td>\n      <td>184674.6975</td>\n      <td>0</td>\n      <td>65.3</td>\n    </tr>\n    <tr>\n      <th>3889</th>\n      <td>2020-09-30</td>\n      <td>5</td>\n      <td>6</td>\n      <td>184674.6975</td>\n      <td>0</td>\n      <td>30.1</td>\n    </tr>\n  </tbody>\n</table>\n<p>3890 rows × 6 columns</p>\n</div>"
     },
     "execution_count": 85,
     "metadata": {},
     "output_type": "execute_result"
    }
   ],
   "source": [
    "tmp = tmp.merge(tmp_temp, how='inner', left_on=['Дата', 'Штабель', 'Склад'], right_on=['Дата', 'Штабель', 'Склад'])\n",
    "tmp.drop(columns=['Смена'], inplace=True)\n",
    "tmp.dropna(axis=1, inplace=True)\n",
    "tmp"
   ],
   "metadata": {
    "collapsed": false,
    "ExecuteTime": {
     "end_time": "2025-05-05T08:02:29.581228133Z",
     "start_time": "2025-05-05T08:02:29.543426442Z"
    }
   },
   "id": "bca6b04d58e79898"
  },
  {
   "cell_type": "code",
   "execution_count": 86,
   "outputs": [
    {
     "data": {
      "text/plain": "           Дата  Штабель  Склад   Масса угля  Возгорание  \\\n0    2019-11-23       17      3   32158.8575           0   \n1    2019-11-23       36      3  238428.6550           0   \n2    2019-11-23       10      4   22825.6450           0   \n3    2019-11-24       17      3   32547.1120           0   \n4    2019-11-24       31      3  263446.7560           0   \n...         ...      ...    ...          ...         ...   \n2053 2020-09-30       46      4  129052.8055           0   \n2054 2020-09-30        1      6  233258.9125           0   \n2055 2020-09-30        5      6  184674.6975           0   \n2056 2020-09-30       26      6  120530.8670           0   \n2057 2020-09-30       45      6    8674.2585           0   \n\n      Максимальная температура  \n0                         20.5  \n1                         17.7  \n2                         16.7  \n3                         16.6  \n4                         18.1  \n...                        ...  \n2053                      29.4  \n2054                      55.8  \n2055                      65.3  \n2056                      30.4  \n2057                      30.7  \n\n[2058 rows x 6 columns]",
      "text/html": "<div>\n<style scoped>\n    .dataframe tbody tr th:only-of-type {\n        vertical-align: middle;\n    }\n\n    .dataframe tbody tr th {\n        vertical-align: top;\n    }\n\n    .dataframe thead th {\n        text-align: right;\n    }\n</style>\n<table border=\"1\" class=\"dataframe\">\n  <thead>\n    <tr style=\"text-align: right;\">\n      <th></th>\n      <th>Дата</th>\n      <th>Штабель</th>\n      <th>Склад</th>\n      <th>Масса угля</th>\n      <th>Возгорание</th>\n      <th>Максимальная температура</th>\n    </tr>\n  </thead>\n  <tbody>\n    <tr>\n      <th>0</th>\n      <td>2019-11-23</td>\n      <td>17</td>\n      <td>3</td>\n      <td>32158.8575</td>\n      <td>0</td>\n      <td>20.5</td>\n    </tr>\n    <tr>\n      <th>1</th>\n      <td>2019-11-23</td>\n      <td>36</td>\n      <td>3</td>\n      <td>238428.6550</td>\n      <td>0</td>\n      <td>17.7</td>\n    </tr>\n    <tr>\n      <th>2</th>\n      <td>2019-11-23</td>\n      <td>10</td>\n      <td>4</td>\n      <td>22825.6450</td>\n      <td>0</td>\n      <td>16.7</td>\n    </tr>\n    <tr>\n      <th>3</th>\n      <td>2019-11-24</td>\n      <td>17</td>\n      <td>3</td>\n      <td>32547.1120</td>\n      <td>0</td>\n      <td>16.6</td>\n    </tr>\n    <tr>\n      <th>4</th>\n      <td>2019-11-24</td>\n      <td>31</td>\n      <td>3</td>\n      <td>263446.7560</td>\n      <td>0</td>\n      <td>18.1</td>\n    </tr>\n    <tr>\n      <th>...</th>\n      <td>...</td>\n      <td>...</td>\n      <td>...</td>\n      <td>...</td>\n      <td>...</td>\n      <td>...</td>\n    </tr>\n    <tr>\n      <th>2053</th>\n      <td>2020-09-30</td>\n      <td>46</td>\n      <td>4</td>\n      <td>129052.8055</td>\n      <td>0</td>\n      <td>29.4</td>\n    </tr>\n    <tr>\n      <th>2054</th>\n      <td>2020-09-30</td>\n      <td>1</td>\n      <td>6</td>\n      <td>233258.9125</td>\n      <td>0</td>\n      <td>55.8</td>\n    </tr>\n    <tr>\n      <th>2055</th>\n      <td>2020-09-30</td>\n      <td>5</td>\n      <td>6</td>\n      <td>184674.6975</td>\n      <td>0</td>\n      <td>65.3</td>\n    </tr>\n    <tr>\n      <th>2056</th>\n      <td>2020-09-30</td>\n      <td>26</td>\n      <td>6</td>\n      <td>120530.8670</td>\n      <td>0</td>\n      <td>30.4</td>\n    </tr>\n    <tr>\n      <th>2057</th>\n      <td>2020-09-30</td>\n      <td>45</td>\n      <td>6</td>\n      <td>8674.2585</td>\n      <td>0</td>\n      <td>30.7</td>\n    </tr>\n  </tbody>\n</table>\n<p>2058 rows × 6 columns</p>\n</div>"
     },
     "execution_count": 86,
     "metadata": {},
     "output_type": "execute_result"
    }
   ],
   "source": [
    "group_cols = ['Дата', 'Склад', 'Штабель', 'Масса угля', 'Возгорание']  # подставь свои реальные имена\n",
    "\n",
    "# Найдём индексы строк с максимальной температурой в каждой группе\n",
    "idx = tmp.groupby(group_cols)['Максимальная температура'].idxmax()\n",
    "\n",
    "# Оставим только строки с максимальной температурой\n",
    "df_max_temp = tmp.loc[idx].reset_index(drop=True)\n",
    "df_max_temp"
   ],
   "metadata": {
    "collapsed": false,
    "ExecuteTime": {
     "end_time": "2025-05-05T08:02:31.888417431Z",
     "start_time": "2025-05-05T08:02:31.737323035Z"
    }
   },
   "id": "f815305dde7b7fbe"
  },
  {
   "cell_type": "code",
   "execution_count": 87,
   "outputs": [
    {
     "data": {
      "text/plain": "           Дата  Штабель  Склад   Масса угля  Возгорание  \\\n0    2019-11-23       17      3   32158.8575           0   \n1    2019-11-23       36      3  238428.6550           0   \n2    2019-11-23       10      4   22825.6450           0   \n3    2019-11-24       17      3   32547.1120           0   \n4    2019-11-24       31      3  263446.7560           0   \n...         ...      ...    ...          ...         ...   \n2053 2020-09-30       46      4  129052.8055           0   \n2054 2020-09-30        1      6  233258.9125           0   \n2055 2020-09-30        5      6  184674.6975           0   \n2056 2020-09-30       26      6  120530.8670           0   \n2057 2020-09-30       45      6    8674.2585           0   \n\n      Максимальная температура  is_fire  \n0                         20.5      0.0  \n1                         17.7      0.0  \n2                         16.7      0.0  \n3                         16.6      0.0  \n4                         18.1      0.0  \n...                        ...      ...  \n2053                      29.4      NaN  \n2054                      55.8      NaN  \n2055                      65.3      NaN  \n2056                      30.4      NaN  \n2057                      30.7      NaN  \n\n[2058 rows x 7 columns]",
      "text/html": "<div>\n<style scoped>\n    .dataframe tbody tr th:only-of-type {\n        vertical-align: middle;\n    }\n\n    .dataframe tbody tr th {\n        vertical-align: top;\n    }\n\n    .dataframe thead th {\n        text-align: right;\n    }\n</style>\n<table border=\"1\" class=\"dataframe\">\n  <thead>\n    <tr style=\"text-align: right;\">\n      <th></th>\n      <th>Дата</th>\n      <th>Штабель</th>\n      <th>Склад</th>\n      <th>Масса угля</th>\n      <th>Возгорание</th>\n      <th>Максимальная температура</th>\n      <th>is_fire</th>\n    </tr>\n  </thead>\n  <tbody>\n    <tr>\n      <th>0</th>\n      <td>2019-11-23</td>\n      <td>17</td>\n      <td>3</td>\n      <td>32158.8575</td>\n      <td>0</td>\n      <td>20.5</td>\n      <td>0.0</td>\n    </tr>\n    <tr>\n      <th>1</th>\n      <td>2019-11-23</td>\n      <td>36</td>\n      <td>3</td>\n      <td>238428.6550</td>\n      <td>0</td>\n      <td>17.7</td>\n      <td>0.0</td>\n    </tr>\n    <tr>\n      <th>2</th>\n      <td>2019-11-23</td>\n      <td>10</td>\n      <td>4</td>\n      <td>22825.6450</td>\n      <td>0</td>\n      <td>16.7</td>\n      <td>0.0</td>\n    </tr>\n    <tr>\n      <th>3</th>\n      <td>2019-11-24</td>\n      <td>17</td>\n      <td>3</td>\n      <td>32547.1120</td>\n      <td>0</td>\n      <td>16.6</td>\n      <td>0.0</td>\n    </tr>\n    <tr>\n      <th>4</th>\n      <td>2019-11-24</td>\n      <td>31</td>\n      <td>3</td>\n      <td>263446.7560</td>\n      <td>0</td>\n      <td>18.1</td>\n      <td>0.0</td>\n    </tr>\n    <tr>\n      <th>...</th>\n      <td>...</td>\n      <td>...</td>\n      <td>...</td>\n      <td>...</td>\n      <td>...</td>\n      <td>...</td>\n      <td>...</td>\n    </tr>\n    <tr>\n      <th>2053</th>\n      <td>2020-09-30</td>\n      <td>46</td>\n      <td>4</td>\n      <td>129052.8055</td>\n      <td>0</td>\n      <td>29.4</td>\n      <td>NaN</td>\n    </tr>\n    <tr>\n      <th>2054</th>\n      <td>2020-09-30</td>\n      <td>1</td>\n      <td>6</td>\n      <td>233258.9125</td>\n      <td>0</td>\n      <td>55.8</td>\n      <td>NaN</td>\n    </tr>\n    <tr>\n      <th>2055</th>\n      <td>2020-09-30</td>\n      <td>5</td>\n      <td>6</td>\n      <td>184674.6975</td>\n      <td>0</td>\n      <td>65.3</td>\n      <td>NaN</td>\n    </tr>\n    <tr>\n      <th>2056</th>\n      <td>2020-09-30</td>\n      <td>26</td>\n      <td>6</td>\n      <td>120530.8670</td>\n      <td>0</td>\n      <td>30.4</td>\n      <td>NaN</td>\n    </tr>\n    <tr>\n      <th>2057</th>\n      <td>2020-09-30</td>\n      <td>45</td>\n      <td>6</td>\n      <td>8674.2585</td>\n      <td>0</td>\n      <td>30.7</td>\n      <td>NaN</td>\n    </tr>\n  </tbody>\n</table>\n<p>2058 rows × 7 columns</p>\n</div>"
     },
     "execution_count": 87,
     "metadata": {},
     "output_type": "execute_result"
    }
   ],
   "source": [
    "# Создаём сдвинутую на -3 дня таблицу с нужными колонками\n",
    "df_shifted = df_max_temp[['Дата', 'Штабель', 'Склад', 'Возгорание']].copy()\n",
    "df_shifted['Дата'] = df_shifted['Дата'] - pd.Timedelta(days=3)\n",
    "df_shifted = df_shifted.rename(columns={'Возгорание': 'is_fire'})\n",
    "\n",
    "# Объединяем по дате, складу и штабелю\n",
    "df_with_target = df_max_temp.merge(df_shifted, on=['Дата', 'Штабель', 'Склад'], how='left')\n",
    "\n",
    "# Заполним пропущенные значения (если есть) — например, нулями\n",
    "# df_with_target['is_fire'] = df_with_target['is_fire'].fillna(0).astype(int)\n",
    "\n",
    "df_with_target"
   ],
   "metadata": {
    "collapsed": false,
    "ExecuteTime": {
     "end_time": "2025-05-05T08:02:33.956654205Z",
     "start_time": "2025-05-05T08:02:33.901014065Z"
    }
   },
   "id": "fc61f78cefa3163b"
  },
  {
   "cell_type": "code",
   "execution_count": 88,
   "outputs": [],
   "source": [
    "weather.drop(columns=['visibility'], inplace=True)"
   ],
   "metadata": {
    "collapsed": false,
    "ExecuteTime": {
     "end_time": "2025-05-05T08:02:45.243034667Z",
     "start_time": "2025-05-05T08:02:45.206118319Z"
    }
   },
   "id": "8fb9af6636cc1b0b"
  },
  {
   "cell_type": "code",
   "execution_count": 89,
   "outputs": [],
   "source": [
    "weather_daily = weather.groupby(weather['date'].dt.date).agg({\n",
    "    't': ['mean', 'min', 'max'],\n",
    "    'p': 'mean',\n",
    "    'humidity': 'mean',\n",
    "    'precipitation': 'sum',\n",
    "    'wind_dir': lambda x: x.mode().iloc[0] if not x.mode().empty else np.nan,\n",
    "    'v_avg': 'mean',\n",
    "    'v_max': 'max',\n",
    "    'cloudcover': 'mean',\n",
    "    'weather_code': lambda x: x.mode().iloc[0] if not x.mode().empty else np.nan,\n",
    "}).reset_index()\n",
    "weather_daily['date'] = pd.to_datetime(weather_daily['date'])\n",
    "# Убираем мультииндекс после агрегации\n",
    "weather_daily.columns = ['_'.join(col).strip() if isinstance(col, tuple) else col for col in weather_daily.columns]\n",
    "\n",
    "# Переименуем 'date_' обратно в 'date'\n",
    "weather_daily = weather_daily.rename(columns={'date_': 'date'})\n",
    "\n",
    "# Оставляем только нужные колонки\n",
    "weather_daily = weather_daily[[\n",
    "    'date',\n",
    "    't_mean',          # средняя температура\n",
    "    'humidity_mean',   # средняя влажность\n",
    "    'precipitation_sum',  # сумма осадков\n",
    "    'v_avg_mean',      # средняя скорость ветра\n",
    "    'weather_code_<lambda>'  # тип погоды\n",
    "]]\n",
    "\n",
    "# Переименуем weather_code_<lambda> для удобства\n",
    "weather_daily = weather_daily.rename(columns={\n",
    "    'weather_code_<lambda>': 'weather_code'\n",
    "})"
   ],
   "metadata": {
    "collapsed": false,
    "ExecuteTime": {
     "end_time": "2025-05-05T08:02:48.098246503Z",
     "start_time": "2025-05-05T08:02:46.711804443Z"
    }
   },
   "id": "5b2f373aad2b0a2a"
  },
  {
   "cell_type": "code",
   "execution_count": 90,
   "outputs": [
    {
     "data": {
      "text/plain": "           date     t_mean  humidity_mean  precipitation_sum  v_avg_mean  \\\n1786 2019-11-23   2.254167      75.916667                0.0   38.029167   \n1787 2019-11-24   3.379167      77.833333                0.0   29.037500   \n1788 2019-11-25   5.375000      83.250000                0.1   23.812500   \n1789 2019-11-26   7.733333      79.625000                1.3   27.516667   \n1790 2019-11-27  11.083333      89.333333                3.7   20.954167   \n...         ...        ...            ...                ...         ...   \n2093 2020-09-26  21.545833      82.000000                0.0   13.000000   \n2094 2020-09-27  22.458333      91.083333                0.1   19.654167   \n2095 2020-09-28  21.470833      76.708333                0.0   18.729167   \n2096 2020-09-29  22.441667      88.083333                0.1   18.458333   \n2097 2020-09-30  20.650000      81.458333               10.2   17.550000   \n\n      weather_code  \n1786             0  \n1787             3  \n1788             3  \n1789             3  \n1790            51  \n...            ...  \n2093             0  \n2094             1  \n2095             0  \n2096             3  \n2097             0  \n\n[312 rows x 6 columns]",
      "text/html": "<div>\n<style scoped>\n    .dataframe tbody tr th:only-of-type {\n        vertical-align: middle;\n    }\n\n    .dataframe tbody tr th {\n        vertical-align: top;\n    }\n\n    .dataframe thead th {\n        text-align: right;\n    }\n</style>\n<table border=\"1\" class=\"dataframe\">\n  <thead>\n    <tr style=\"text-align: right;\">\n      <th></th>\n      <th>date</th>\n      <th>t_mean</th>\n      <th>humidity_mean</th>\n      <th>precipitation_sum</th>\n      <th>v_avg_mean</th>\n      <th>weather_code</th>\n    </tr>\n  </thead>\n  <tbody>\n    <tr>\n      <th>1786</th>\n      <td>2019-11-23</td>\n      <td>2.254167</td>\n      <td>75.916667</td>\n      <td>0.0</td>\n      <td>38.029167</td>\n      <td>0</td>\n    </tr>\n    <tr>\n      <th>1787</th>\n      <td>2019-11-24</td>\n      <td>3.379167</td>\n      <td>77.833333</td>\n      <td>0.0</td>\n      <td>29.037500</td>\n      <td>3</td>\n    </tr>\n    <tr>\n      <th>1788</th>\n      <td>2019-11-25</td>\n      <td>5.375000</td>\n      <td>83.250000</td>\n      <td>0.1</td>\n      <td>23.812500</td>\n      <td>3</td>\n    </tr>\n    <tr>\n      <th>1789</th>\n      <td>2019-11-26</td>\n      <td>7.733333</td>\n      <td>79.625000</td>\n      <td>1.3</td>\n      <td>27.516667</td>\n      <td>3</td>\n    </tr>\n    <tr>\n      <th>1790</th>\n      <td>2019-11-27</td>\n      <td>11.083333</td>\n      <td>89.333333</td>\n      <td>3.7</td>\n      <td>20.954167</td>\n      <td>51</td>\n    </tr>\n    <tr>\n      <th>...</th>\n      <td>...</td>\n      <td>...</td>\n      <td>...</td>\n      <td>...</td>\n      <td>...</td>\n      <td>...</td>\n    </tr>\n    <tr>\n      <th>2093</th>\n      <td>2020-09-26</td>\n      <td>21.545833</td>\n      <td>82.000000</td>\n      <td>0.0</td>\n      <td>13.000000</td>\n      <td>0</td>\n    </tr>\n    <tr>\n      <th>2094</th>\n      <td>2020-09-27</td>\n      <td>22.458333</td>\n      <td>91.083333</td>\n      <td>0.1</td>\n      <td>19.654167</td>\n      <td>1</td>\n    </tr>\n    <tr>\n      <th>2095</th>\n      <td>2020-09-28</td>\n      <td>21.470833</td>\n      <td>76.708333</td>\n      <td>0.0</td>\n      <td>18.729167</td>\n      <td>0</td>\n    </tr>\n    <tr>\n      <th>2096</th>\n      <td>2020-09-29</td>\n      <td>22.441667</td>\n      <td>88.083333</td>\n      <td>0.1</td>\n      <td>18.458333</td>\n      <td>3</td>\n    </tr>\n    <tr>\n      <th>2097</th>\n      <td>2020-09-30</td>\n      <td>20.650000</td>\n      <td>81.458333</td>\n      <td>10.2</td>\n      <td>17.550000</td>\n      <td>0</td>\n    </tr>\n  </tbody>\n</table>\n<p>312 rows × 6 columns</p>\n</div>"
     },
     "execution_count": 90,
     "metadata": {},
     "output_type": "execute_result"
    }
   ],
   "source": [
    "weather_daily = weather_daily[(weather_daily['date'] >= temperature['Дата'].iloc[0]) & (weather_daily['date'] <= temperature['Дата'].iloc[-1])]\n",
    "weather_daily"
   ],
   "metadata": {
    "collapsed": false,
    "ExecuteTime": {
     "end_time": "2025-05-05T08:02:50.856036228Z",
     "start_time": "2025-05-05T08:02:50.807711804Z"
    }
   },
   "id": "11a70d2bd197a85e"
  },
  {
   "cell_type": "code",
   "execution_count": 91,
   "outputs": [
    {
     "data": {
      "text/plain": "           Дата  Штабель  Склад   Масса угля  Возгорание  \\\n0    2019-11-23       17      3   32158.8575           0   \n1    2019-11-23       36      3  238428.6550           0   \n2    2019-11-23       10      4   22825.6450           0   \n3    2019-11-24       17      3   32547.1120           0   \n4    2019-11-24       31      3  263446.7560           0   \n...         ...      ...    ...          ...         ...   \n2053 2020-09-30       46      4  129052.8055           0   \n2054 2020-09-30        1      6  233258.9125           0   \n2055 2020-09-30        5      6  184674.6975           0   \n2056 2020-09-30       26      6  120530.8670           0   \n2057 2020-09-30       45      6    8674.2585           0   \n\n      Максимальная температура  is_fire       date     t_mean  humidity_mean  \\\n0                         20.5      0.0 2019-11-23   2.254167      75.916667   \n1                         17.7      0.0 2019-11-23   2.254167      75.916667   \n2                         16.7      0.0 2019-11-23   2.254167      75.916667   \n3                         16.6      0.0 2019-11-24   3.379167      77.833333   \n4                         18.1      0.0 2019-11-24   3.379167      77.833333   \n...                        ...      ...        ...        ...            ...   \n2053                      29.4      NaN 2020-09-30  20.650000      81.458333   \n2054                      55.8      NaN 2020-09-30  20.650000      81.458333   \n2055                      65.3      NaN 2020-09-30  20.650000      81.458333   \n2056                      30.4      NaN 2020-09-30  20.650000      81.458333   \n2057                      30.7      NaN 2020-09-30  20.650000      81.458333   \n\n      precipitation_sum  v_avg_mean  weather_code  \n0                   0.0   38.029167             0  \n1                   0.0   38.029167             0  \n2                   0.0   38.029167             0  \n3                   0.0   29.037500             3  \n4                   0.0   29.037500             3  \n...                 ...         ...           ...  \n2053               10.2   17.550000             0  \n2054               10.2   17.550000             0  \n2055               10.2   17.550000             0  \n2056               10.2   17.550000             0  \n2057               10.2   17.550000             0  \n\n[2058 rows x 13 columns]",
      "text/html": "<div>\n<style scoped>\n    .dataframe tbody tr th:only-of-type {\n        vertical-align: middle;\n    }\n\n    .dataframe tbody tr th {\n        vertical-align: top;\n    }\n\n    .dataframe thead th {\n        text-align: right;\n    }\n</style>\n<table border=\"1\" class=\"dataframe\">\n  <thead>\n    <tr style=\"text-align: right;\">\n      <th></th>\n      <th>Дата</th>\n      <th>Штабель</th>\n      <th>Склад</th>\n      <th>Масса угля</th>\n      <th>Возгорание</th>\n      <th>Максимальная температура</th>\n      <th>is_fire</th>\n      <th>date</th>\n      <th>t_mean</th>\n      <th>humidity_mean</th>\n      <th>precipitation_sum</th>\n      <th>v_avg_mean</th>\n      <th>weather_code</th>\n    </tr>\n  </thead>\n  <tbody>\n    <tr>\n      <th>0</th>\n      <td>2019-11-23</td>\n      <td>17</td>\n      <td>3</td>\n      <td>32158.8575</td>\n      <td>0</td>\n      <td>20.5</td>\n      <td>0.0</td>\n      <td>2019-11-23</td>\n      <td>2.254167</td>\n      <td>75.916667</td>\n      <td>0.0</td>\n      <td>38.029167</td>\n      <td>0</td>\n    </tr>\n    <tr>\n      <th>1</th>\n      <td>2019-11-23</td>\n      <td>36</td>\n      <td>3</td>\n      <td>238428.6550</td>\n      <td>0</td>\n      <td>17.7</td>\n      <td>0.0</td>\n      <td>2019-11-23</td>\n      <td>2.254167</td>\n      <td>75.916667</td>\n      <td>0.0</td>\n      <td>38.029167</td>\n      <td>0</td>\n    </tr>\n    <tr>\n      <th>2</th>\n      <td>2019-11-23</td>\n      <td>10</td>\n      <td>4</td>\n      <td>22825.6450</td>\n      <td>0</td>\n      <td>16.7</td>\n      <td>0.0</td>\n      <td>2019-11-23</td>\n      <td>2.254167</td>\n      <td>75.916667</td>\n      <td>0.0</td>\n      <td>38.029167</td>\n      <td>0</td>\n    </tr>\n    <tr>\n      <th>3</th>\n      <td>2019-11-24</td>\n      <td>17</td>\n      <td>3</td>\n      <td>32547.1120</td>\n      <td>0</td>\n      <td>16.6</td>\n      <td>0.0</td>\n      <td>2019-11-24</td>\n      <td>3.379167</td>\n      <td>77.833333</td>\n      <td>0.0</td>\n      <td>29.037500</td>\n      <td>3</td>\n    </tr>\n    <tr>\n      <th>4</th>\n      <td>2019-11-24</td>\n      <td>31</td>\n      <td>3</td>\n      <td>263446.7560</td>\n      <td>0</td>\n      <td>18.1</td>\n      <td>0.0</td>\n      <td>2019-11-24</td>\n      <td>3.379167</td>\n      <td>77.833333</td>\n      <td>0.0</td>\n      <td>29.037500</td>\n      <td>3</td>\n    </tr>\n    <tr>\n      <th>...</th>\n      <td>...</td>\n      <td>...</td>\n      <td>...</td>\n      <td>...</td>\n      <td>...</td>\n      <td>...</td>\n      <td>...</td>\n      <td>...</td>\n      <td>...</td>\n      <td>...</td>\n      <td>...</td>\n      <td>...</td>\n      <td>...</td>\n    </tr>\n    <tr>\n      <th>2053</th>\n      <td>2020-09-30</td>\n      <td>46</td>\n      <td>4</td>\n      <td>129052.8055</td>\n      <td>0</td>\n      <td>29.4</td>\n      <td>NaN</td>\n      <td>2020-09-30</td>\n      <td>20.650000</td>\n      <td>81.458333</td>\n      <td>10.2</td>\n      <td>17.550000</td>\n      <td>0</td>\n    </tr>\n    <tr>\n      <th>2054</th>\n      <td>2020-09-30</td>\n      <td>1</td>\n      <td>6</td>\n      <td>233258.9125</td>\n      <td>0</td>\n      <td>55.8</td>\n      <td>NaN</td>\n      <td>2020-09-30</td>\n      <td>20.650000</td>\n      <td>81.458333</td>\n      <td>10.2</td>\n      <td>17.550000</td>\n      <td>0</td>\n    </tr>\n    <tr>\n      <th>2055</th>\n      <td>2020-09-30</td>\n      <td>5</td>\n      <td>6</td>\n      <td>184674.6975</td>\n      <td>0</td>\n      <td>65.3</td>\n      <td>NaN</td>\n      <td>2020-09-30</td>\n      <td>20.650000</td>\n      <td>81.458333</td>\n      <td>10.2</td>\n      <td>17.550000</td>\n      <td>0</td>\n    </tr>\n    <tr>\n      <th>2056</th>\n      <td>2020-09-30</td>\n      <td>26</td>\n      <td>6</td>\n      <td>120530.8670</td>\n      <td>0</td>\n      <td>30.4</td>\n      <td>NaN</td>\n      <td>2020-09-30</td>\n      <td>20.650000</td>\n      <td>81.458333</td>\n      <td>10.2</td>\n      <td>17.550000</td>\n      <td>0</td>\n    </tr>\n    <tr>\n      <th>2057</th>\n      <td>2020-09-30</td>\n      <td>45</td>\n      <td>6</td>\n      <td>8674.2585</td>\n      <td>0</td>\n      <td>30.7</td>\n      <td>NaN</td>\n      <td>2020-09-30</td>\n      <td>20.650000</td>\n      <td>81.458333</td>\n      <td>10.2</td>\n      <td>17.550000</td>\n      <td>0</td>\n    </tr>\n  </tbody>\n</table>\n<p>2058 rows × 13 columns</p>\n</div>"
     },
     "execution_count": 91,
     "metadata": {},
     "output_type": "execute_result"
    }
   ],
   "source": [
    "final_data = df_with_target.merge(weather_daily, how='inner', left_on=['Дата'], right_on=['date'])\n",
    "final_data"
   ],
   "metadata": {
    "collapsed": false,
    "ExecuteTime": {
     "end_time": "2025-05-05T08:02:55.785306303Z",
     "start_time": "2025-05-05T08:02:55.736698085Z"
    }
   },
   "id": "f5f1494382d11106"
  },
  {
   "cell_type": "code",
   "execution_count": 98,
   "outputs": [],
   "source": [
    "final_data.dropna(inplace=True)"
   ],
   "metadata": {
    "collapsed": false,
    "ExecuteTime": {
     "end_time": "2025-05-05T08:30:02.732635075Z",
     "start_time": "2025-05-05T08:30:02.681578787Z"
    }
   },
   "id": "f8aad1216afd4cd7"
  },
  {
   "cell_type": "code",
   "execution_count": 99,
   "outputs": [
    {
     "data": {
      "text/plain": "Возгорание\n0    1532\n1     207\nName: count, dtype: int64"
     },
     "execution_count": 99,
     "metadata": {},
     "output_type": "execute_result"
    }
   ],
   "source": [
    "final_data['Возгорание'].value_counts()"
   ],
   "metadata": {
    "collapsed": false,
    "ExecuteTime": {
     "end_time": "2025-05-05T08:30:05.421242459Z",
     "start_time": "2025-05-05T08:30:05.402366077Z"
    }
   },
   "id": "3ff85485580484fc"
  },
  {
   "cell_type": "code",
   "execution_count": 100,
   "outputs": [
    {
     "data": {
      "text/plain": "           Дата  Штабель  Склад   Масса угля  Возгорание  \\\n433  2020-05-11        6      4  198518.0525           0   \n625  2020-05-29        1      6  554091.1405           0   \n636  2020-05-30        1      6  554091.1405           0   \n682  2020-06-03        1      6  554091.1405           0   \n692  2020-06-04        1      6  554091.1405           0   \n...         ...      ...    ...          ...         ...   \n1970 2020-09-24        5      6  184674.6975           1   \n1976 2020-09-25       33      3  350350.6115           1   \n1983 2020-09-25        1      6  233258.9125           1   \n1991 2020-09-26       33      3  350350.6115           0   \n2006 2020-09-27       33      3  350350.6115           1   \n\n      Максимальная температура  is_fire       date     t_mean  humidity_mean  \\\n433                       24.7      1.0 2020-05-11  13.725000      84.208333   \n625                       28.1      1.0 2020-05-29  15.566667      84.666667   \n636                       30.5      1.0 2020-05-30  15.604167      82.083333   \n682                       32.1      1.0 2020-06-03  16.058333      84.000000   \n692                       31.6      1.0 2020-06-04  15.508333      77.000000   \n...                        ...      ...        ...        ...            ...   \n1970                      93.3      1.0 2020-09-24  20.850000      87.708333   \n1976                     254.0      1.0 2020-09-25  21.629167      77.958333   \n1983                      80.8      1.0 2020-09-25  21.629167      77.958333   \n1991                      38.3      1.0 2020-09-26  21.545833      82.000000   \n2006                     150.0      1.0 2020-09-27  22.458333      91.083333   \n\n      precipitation_sum  v_avg_mean  weather_code  \n433                 0.0   22.987500             0  \n625                10.8   18.950000             3  \n636                 0.6   37.037500             0  \n682                 0.0   19.191667             0  \n692                 0.5   16.866667             3  \n...                 ...         ...           ...  \n1970                0.0    9.120833             0  \n1976                0.0    8.458333             0  \n1983                0.0    8.458333             0  \n1991                0.0   13.000000             0  \n2006                0.1   19.654167             1  \n\n[211 rows x 13 columns]",
      "text/html": "<div>\n<style scoped>\n    .dataframe tbody tr th:only-of-type {\n        vertical-align: middle;\n    }\n\n    .dataframe tbody tr th {\n        vertical-align: top;\n    }\n\n    .dataframe thead th {\n        text-align: right;\n    }\n</style>\n<table border=\"1\" class=\"dataframe\">\n  <thead>\n    <tr style=\"text-align: right;\">\n      <th></th>\n      <th>Дата</th>\n      <th>Штабель</th>\n      <th>Склад</th>\n      <th>Масса угля</th>\n      <th>Возгорание</th>\n      <th>Максимальная температура</th>\n      <th>is_fire</th>\n      <th>date</th>\n      <th>t_mean</th>\n      <th>humidity_mean</th>\n      <th>precipitation_sum</th>\n      <th>v_avg_mean</th>\n      <th>weather_code</th>\n    </tr>\n  </thead>\n  <tbody>\n    <tr>\n      <th>433</th>\n      <td>2020-05-11</td>\n      <td>6</td>\n      <td>4</td>\n      <td>198518.0525</td>\n      <td>0</td>\n      <td>24.7</td>\n      <td>1.0</td>\n      <td>2020-05-11</td>\n      <td>13.725000</td>\n      <td>84.208333</td>\n      <td>0.0</td>\n      <td>22.987500</td>\n      <td>0</td>\n    </tr>\n    <tr>\n      <th>625</th>\n      <td>2020-05-29</td>\n      <td>1</td>\n      <td>6</td>\n      <td>554091.1405</td>\n      <td>0</td>\n      <td>28.1</td>\n      <td>1.0</td>\n      <td>2020-05-29</td>\n      <td>15.566667</td>\n      <td>84.666667</td>\n      <td>10.8</td>\n      <td>18.950000</td>\n      <td>3</td>\n    </tr>\n    <tr>\n      <th>636</th>\n      <td>2020-05-30</td>\n      <td>1</td>\n      <td>6</td>\n      <td>554091.1405</td>\n      <td>0</td>\n      <td>30.5</td>\n      <td>1.0</td>\n      <td>2020-05-30</td>\n      <td>15.604167</td>\n      <td>82.083333</td>\n      <td>0.6</td>\n      <td>37.037500</td>\n      <td>0</td>\n    </tr>\n    <tr>\n      <th>682</th>\n      <td>2020-06-03</td>\n      <td>1</td>\n      <td>6</td>\n      <td>554091.1405</td>\n      <td>0</td>\n      <td>32.1</td>\n      <td>1.0</td>\n      <td>2020-06-03</td>\n      <td>16.058333</td>\n      <td>84.000000</td>\n      <td>0.0</td>\n      <td>19.191667</td>\n      <td>0</td>\n    </tr>\n    <tr>\n      <th>692</th>\n      <td>2020-06-04</td>\n      <td>1</td>\n      <td>6</td>\n      <td>554091.1405</td>\n      <td>0</td>\n      <td>31.6</td>\n      <td>1.0</td>\n      <td>2020-06-04</td>\n      <td>15.508333</td>\n      <td>77.000000</td>\n      <td>0.5</td>\n      <td>16.866667</td>\n      <td>3</td>\n    </tr>\n    <tr>\n      <th>...</th>\n      <td>...</td>\n      <td>...</td>\n      <td>...</td>\n      <td>...</td>\n      <td>...</td>\n      <td>...</td>\n      <td>...</td>\n      <td>...</td>\n      <td>...</td>\n      <td>...</td>\n      <td>...</td>\n      <td>...</td>\n      <td>...</td>\n    </tr>\n    <tr>\n      <th>1970</th>\n      <td>2020-09-24</td>\n      <td>5</td>\n      <td>6</td>\n      <td>184674.6975</td>\n      <td>1</td>\n      <td>93.3</td>\n      <td>1.0</td>\n      <td>2020-09-24</td>\n      <td>20.850000</td>\n      <td>87.708333</td>\n      <td>0.0</td>\n      <td>9.120833</td>\n      <td>0</td>\n    </tr>\n    <tr>\n      <th>1976</th>\n      <td>2020-09-25</td>\n      <td>33</td>\n      <td>3</td>\n      <td>350350.6115</td>\n      <td>1</td>\n      <td>254.0</td>\n      <td>1.0</td>\n      <td>2020-09-25</td>\n      <td>21.629167</td>\n      <td>77.958333</td>\n      <td>0.0</td>\n      <td>8.458333</td>\n      <td>0</td>\n    </tr>\n    <tr>\n      <th>1983</th>\n      <td>2020-09-25</td>\n      <td>1</td>\n      <td>6</td>\n      <td>233258.9125</td>\n      <td>1</td>\n      <td>80.8</td>\n      <td>1.0</td>\n      <td>2020-09-25</td>\n      <td>21.629167</td>\n      <td>77.958333</td>\n      <td>0.0</td>\n      <td>8.458333</td>\n      <td>0</td>\n    </tr>\n    <tr>\n      <th>1991</th>\n      <td>2020-09-26</td>\n      <td>33</td>\n      <td>3</td>\n      <td>350350.6115</td>\n      <td>0</td>\n      <td>38.3</td>\n      <td>1.0</td>\n      <td>2020-09-26</td>\n      <td>21.545833</td>\n      <td>82.000000</td>\n      <td>0.0</td>\n      <td>13.000000</td>\n      <td>0</td>\n    </tr>\n    <tr>\n      <th>2006</th>\n      <td>2020-09-27</td>\n      <td>33</td>\n      <td>3</td>\n      <td>350350.6115</td>\n      <td>1</td>\n      <td>150.0</td>\n      <td>1.0</td>\n      <td>2020-09-27</td>\n      <td>22.458333</td>\n      <td>91.083333</td>\n      <td>0.1</td>\n      <td>19.654167</td>\n      <td>1</td>\n    </tr>\n  </tbody>\n</table>\n<p>211 rows × 13 columns</p>\n</div>"
     },
     "execution_count": 100,
     "metadata": {},
     "output_type": "execute_result"
    }
   ],
   "source": [
    "final_data[final_data['is_fire'] == 1]"
   ],
   "metadata": {
    "collapsed": false,
    "ExecuteTime": {
     "end_time": "2025-05-05T08:30:12.120105076Z",
     "start_time": "2025-05-05T08:30:12.108229121Z"
    }
   },
   "id": "62fc65604c57d2bd"
  },
  {
   "cell_type": "code",
   "execution_count": 110,
   "outputs": [
    {
     "ename": "KeyboardInterrupt",
     "evalue": "",
     "output_type": "error",
     "traceback": [
      "\u001B[0;31m---------------------------------------------------------------------------\u001B[0m",
      "\u001B[0;31mKeyboardInterrupt\u001B[0m                         Traceback (most recent call last)",
      "Cell \u001B[0;32mIn[110], line 2\u001B[0m\n\u001B[1;32m      1\u001B[0m \u001B[38;5;28;01mfrom\u001B[39;00m \u001B[38;5;21;01mpreprocessing_1\u001B[39;00m \u001B[38;5;28;01mimport\u001B[39;00m \u001B[38;5;241m*\u001B[39m\n\u001B[0;32m----> 2\u001B[0m df \u001B[38;5;241m=\u001B[39m prepare_and_merge_data()\n\u001B[1;32m      3\u001B[0m df\n",
      "File \u001B[0;32m~/DataSpellProjects/Coal self-combustion/preprocessing_1.py:19\u001B[0m, in \u001B[0;36mprepare_and_merge_data\u001B[0;34m()\u001B[0m\n\u001B[1;32m     16\u001B[0m \u001B[38;5;28;01mdef\u001B[39;00m \u001B[38;5;21mprepare_and_merge_data\u001B[39m():\n\u001B[1;32m     17\u001B[0m \n\u001B[1;32m     18\u001B[0m     \u001B[38;5;66;03m# Чтение файлов\u001B[39;00m\n\u001B[0;32m---> 19\u001B[0m     dfs \u001B[38;5;241m=\u001B[39m read_multiple_csv(\u001B[38;5;124m'\u001B[39m\u001B[38;5;124m../data/supplies.csv\u001B[39m\u001B[38;5;124m'\u001B[39m, \u001B[38;5;124m\"\u001B[39m\u001B[38;5;124m../data/fires.csv\u001B[39m\u001B[38;5;124m\"\u001B[39m, \u001B[38;5;124m'\u001B[39m\u001B[38;5;124m../data/temperature.csv\u001B[39m\u001B[38;5;124m'\u001B[39m,\n\u001B[1;32m     20\u001B[0m                             \u001B[38;5;124m'\u001B[39m\u001B[38;5;124m../data/weather_data_2015.csv\u001B[39m\u001B[38;5;124m'\u001B[39m, \u001B[38;5;124m'\u001B[39m\u001B[38;5;124m../data/weather_data_2016.csv\u001B[39m\u001B[38;5;124m'\u001B[39m, \u001B[38;5;124m'\u001B[39m\u001B[38;5;124m../data/weather_data_2017.csv\u001B[39m\u001B[38;5;124m'\u001B[39m,\n\u001B[1;32m     21\u001B[0m                             \u001B[38;5;124m'\u001B[39m\u001B[38;5;124m../data/weather_data_2018.csv\u001B[39m\u001B[38;5;124m'\u001B[39m, \u001B[38;5;124m'\u001B[39m\u001B[38;5;124m../data/weather_data_2019.csv\u001B[39m\u001B[38;5;124m'\u001B[39m, \u001B[38;5;124m'\u001B[39m\u001B[38;5;124m../data/weather_data_2020.csv\u001B[39m\u001B[38;5;124m'\u001B[39m,\n\u001B[1;32m     22\u001B[0m                             \u001B[38;5;124m'\u001B[39m\u001B[38;5;124m../data/weather_data_2021.csv\u001B[39m\u001B[38;5;124m'\u001B[39m)\n\u001B[1;32m     24\u001B[0m     supplies \u001B[38;5;241m=\u001B[39m dfs[\u001B[38;5;241m0\u001B[39m]\n\u001B[1;32m     25\u001B[0m     fires \u001B[38;5;241m=\u001B[39m dfs[\u001B[38;5;241m1\u001B[39m]\n",
      "File \u001B[0;32m~/DataSpellProjects/Coal self-combustion/preprocessing_1.py:7\u001B[0m, in \u001B[0;36mread_multiple_csv\u001B[0;34m(*csv_files)\u001B[0m\n\u001B[1;32m      4\u001B[0m \u001B[38;5;28;01mdef\u001B[39;00m \u001B[38;5;21mread_multiple_csv\u001B[39m(\u001B[38;5;241m*\u001B[39mcsv_files):\n\u001B[1;32m      6\u001B[0m     dfs \u001B[38;5;241m=\u001B[39m []\n\u001B[0;32m----> 7\u001B[0m     \u001B[38;5;28;01mfor\u001B[39;00m file_path \u001B[38;5;129;01min\u001B[39;00m csv_files:\n\u001B[1;32m      8\u001B[0m         \u001B[38;5;28;01mtry\u001B[39;00m:\n\u001B[1;32m      9\u001B[0m             df \u001B[38;5;241m=\u001B[39m pd\u001B[38;5;241m.\u001B[39mread_csv(file_path)\n",
      "File \u001B[0;32m~/dataspell-2023.2.5/plugins/python-ce/helpers/pydev/_pydevd_bundle/pydevd_frame.py:884\u001B[0m, in \u001B[0;36mPyDBFrame.trace_dispatch\u001B[0;34m(self, frame, event, arg)\u001B[0m\n\u001B[1;32m    882\u001B[0m \u001B[38;5;28;01mif\u001B[39;00m is_line:\n\u001B[1;32m    883\u001B[0m     \u001B[38;5;28mself\u001B[39m\u001B[38;5;241m.\u001B[39mset_suspend(thread, step_cmd)\n\u001B[0;32m--> 884\u001B[0m     \u001B[38;5;28mself\u001B[39m\u001B[38;5;241m.\u001B[39mdo_wait_suspend(thread, frame, event, arg)\n\u001B[1;32m    885\u001B[0m \u001B[38;5;28;01melse\u001B[39;00m:  \u001B[38;5;66;03m# return event\u001B[39;00m\n\u001B[1;32m    886\u001B[0m     back \u001B[38;5;241m=\u001B[39m frame\u001B[38;5;241m.\u001B[39mf_back\n",
      "File \u001B[0;32m~/dataspell-2023.2.5/plugins/python-ce/helpers/pydev/_pydevd_bundle/pydevd_frame.py:144\u001B[0m, in \u001B[0;36mPyDBFrame.do_wait_suspend\u001B[0;34m(self, *args, **kwargs)\u001B[0m\n\u001B[1;32m    143\u001B[0m \u001B[38;5;28;01mdef\u001B[39;00m \u001B[38;5;21mdo_wait_suspend\u001B[39m(\u001B[38;5;28mself\u001B[39m, \u001B[38;5;241m*\u001B[39margs, \u001B[38;5;241m*\u001B[39m\u001B[38;5;241m*\u001B[39mkwargs):\n\u001B[0;32m--> 144\u001B[0m     \u001B[38;5;28mself\u001B[39m\u001B[38;5;241m.\u001B[39m_args[\u001B[38;5;241m0\u001B[39m]\u001B[38;5;241m.\u001B[39mdo_wait_suspend(\u001B[38;5;241m*\u001B[39margs, \u001B[38;5;241m*\u001B[39m\u001B[38;5;241m*\u001B[39mkwargs)\n",
      "File \u001B[0;32m~/dataspell-2023.2.5/plugins/python-ce/helpers/pydev/pydevd.py:1160\u001B[0m, in \u001B[0;36mPyDB.do_wait_suspend\u001B[0;34m(self, thread, frame, event, arg, send_suspend_message, is_unhandled_exception)\u001B[0m\n\u001B[1;32m   1157\u001B[0m         from_this_thread\u001B[38;5;241m.\u001B[39mappend(frame_id)\n\u001B[1;32m   1159\u001B[0m \u001B[38;5;28;01mwith\u001B[39;00m \u001B[38;5;28mself\u001B[39m\u001B[38;5;241m.\u001B[39m_threads_suspended_single_notification\u001B[38;5;241m.\u001B[39mnotify_thread_suspended(thread_id, stop_reason):\n\u001B[0;32m-> 1160\u001B[0m     \u001B[38;5;28mself\u001B[39m\u001B[38;5;241m.\u001B[39m_do_wait_suspend(thread, frame, event, arg, suspend_type, from_this_thread)\n",
      "File \u001B[0;32m~/dataspell-2023.2.5/plugins/python-ce/helpers/pydev/pydevd.py:1175\u001B[0m, in \u001B[0;36mPyDB._do_wait_suspend\u001B[0;34m(self, thread, frame, event, arg, suspend_type, from_this_thread)\u001B[0m\n\u001B[1;32m   1172\u001B[0m             \u001B[38;5;28mself\u001B[39m\u001B[38;5;241m.\u001B[39m_call_mpl_hook()\n\u001B[1;32m   1174\u001B[0m         \u001B[38;5;28mself\u001B[39m\u001B[38;5;241m.\u001B[39mprocess_internal_commands()\n\u001B[0;32m-> 1175\u001B[0m         time\u001B[38;5;241m.\u001B[39msleep(\u001B[38;5;241m0.01\u001B[39m)\n\u001B[1;32m   1177\u001B[0m \u001B[38;5;28mself\u001B[39m\u001B[38;5;241m.\u001B[39mcancel_async_evaluation(get_current_thread_id(thread), \u001B[38;5;28mstr\u001B[39m(\u001B[38;5;28mid\u001B[39m(frame)))\n\u001B[1;32m   1179\u001B[0m \u001B[38;5;66;03m# process any stepping instructions\u001B[39;00m\n",
      "\u001B[0;31mKeyboardInterrupt\u001B[0m: "
     ]
    }
   ],
   "source": [
    "from preprocessing_1 import *\n",
    "df = prepare_and_merge_data()\n",
    "df"
   ],
   "metadata": {
    "collapsed": false,
    "ExecuteTime": {
     "end_time": "2025-05-05T09:26:05.536533820Z",
     "start_time": "2025-05-05T09:25:07.299198156Z"
    }
   },
   "id": "6031c8dbd46c2d71"
  }
 ],
 "metadata": {
  "kernelspec": {
   "display_name": "Python 3",
   "language": "python",
   "name": "python3"
  },
  "language_info": {
   "codemirror_mode": {
    "name": "ipython",
    "version": 2
   },
   "file_extension": ".py",
   "mimetype": "text/x-python",
   "name": "python",
   "nbconvert_exporter": "python",
   "pygments_lexer": "ipython2",
   "version": "2.7.6"
  }
 },
 "nbformat": 4,
 "nbformat_minor": 5
}
