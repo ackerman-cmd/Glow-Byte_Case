{
 "cells": [
  {
   "cell_type": "markdown",
   "source": [
    "# EDA"
   ],
   "metadata": {
    "collapsed": false
   },
   "id": "94697e6fc5b6cec6"
  },
  {
   "cell_type": "code",
   "execution_count": 1,
   "id": "initial_id",
   "metadata": {
    "collapsed": true,
    "ExecuteTime": {
     "end_time": "2025-05-04T07:00:30.803744771Z",
     "start_time": "2025-05-04T07:00:30.495129876Z"
    }
   },
   "outputs": [],
   "source": [
    "import pandas as pd\n",
    "import numpy as np"
   ]
  },
  {
   "cell_type": "code",
   "execution_count": 24,
   "outputs": [],
   "source": [
    "supplies = pd.read_csv('../data/supplies.csv', parse_dates=True)\n",
    "temperature = pd.read_csv('../data/temperature (1).csv', parse_dates=True)\n",
    "weather_2015 = pd.read_csv('../data/weather_data_2015.csv', parse_dates=True)\n",
    "weather_2016 = pd.read_csv('../data/weather_data_2016.csv', parse_dates=True)\n",
    "weather_2017 = pd.read_csv('../data/weather_data_2017.csv', parse_dates=True)\n",
    "weather_2018 = pd.read_csv('../data/weather_data_2018.csv', parse_dates=True)\n",
    "weather_2019 = pd.read_csv('../data/weather_data_2019.csv', parse_dates=True)\n",
    "weather_2020 = pd.read_csv('../data/weather_data_2020.csv', parse_dates=True)\n",
    "weather_2021 = pd.read_csv('../data/weather_data_2021.csv', parse_dates=True)\n",
    "weather = pd.concat([weather_2015, weather_2016, weather_2017, weather_2018, weather_2019, weather_2020, weather_2021])"
   ],
   "metadata": {
    "collapsed": false,
    "ExecuteTime": {
     "end_time": "2025-05-04T07:30:43.279106673Z",
     "start_time": "2025-05-04T07:30:43.126327464Z"
    }
   },
   "id": "244aba27d7649791"
  },
  {
   "cell_type": "code",
   "execution_count": 4,
   "outputs": [
    {
     "data": {
      "text/plain": "     ВыгрузкаНаСклад Наим. ЕТСНГ  Штабель ПогрузкаНаСудно  На склад, тн  \\\n0         2019-01-02          E5        1      2019-02-08    11984.1925   \n1         2019-01-02          A1       34      2019-02-12     3913.8250   \n2         2019-01-02          A1       37      2019-02-23    11626.9120   \n3         2019-01-02          A1       44      2019-01-04      184.7815   \n4         2019-01-02          C3       22      2019-02-07     9520.3315   \n...              ...         ...      ...             ...           ...   \n6318      2020-09-30          E5       15      2020-10-18    12979.1345   \n6319      2020-09-30          A1       15      2020-10-18    79187.0030   \n6320      2020-09-30          A1       46      2020-10-13    15870.3755   \n6321      2020-09-30          A1       46      2020-10-16    11834.6605   \n6322      2020-09-30          A1       46      2020-10-29     3732.9110   \n\n      На судно, тн  Склад  \n0       11984.1925      3  \n1        3913.8250      3  \n2       11626.9120      3  \n3         184.7815      4  \n4        9520.3315      3  \n...            ...    ...  \n6318    12979.1345      3  \n6319    79187.0030      3  \n6320    15641.7765      4  \n6321    11781.4165      4  \n6322     3609.8140      4  \n\n[6323 rows x 7 columns]",
      "text/html": "<div>\n<style scoped>\n    .dataframe tbody tr th:only-of-type {\n        vertical-align: middle;\n    }\n\n    .dataframe tbody tr th {\n        vertical-align: top;\n    }\n\n    .dataframe thead th {\n        text-align: right;\n    }\n</style>\n<table border=\"1\" class=\"dataframe\">\n  <thead>\n    <tr style=\"text-align: right;\">\n      <th></th>\n      <th>ВыгрузкаНаСклад</th>\n      <th>Наим. ЕТСНГ</th>\n      <th>Штабель</th>\n      <th>ПогрузкаНаСудно</th>\n      <th>На склад, тн</th>\n      <th>На судно, тн</th>\n      <th>Склад</th>\n    </tr>\n  </thead>\n  <tbody>\n    <tr>\n      <th>0</th>\n      <td>2019-01-02</td>\n      <td>E5</td>\n      <td>1</td>\n      <td>2019-02-08</td>\n      <td>11984.1925</td>\n      <td>11984.1925</td>\n      <td>3</td>\n    </tr>\n    <tr>\n      <th>1</th>\n      <td>2019-01-02</td>\n      <td>A1</td>\n      <td>34</td>\n      <td>2019-02-12</td>\n      <td>3913.8250</td>\n      <td>3913.8250</td>\n      <td>3</td>\n    </tr>\n    <tr>\n      <th>2</th>\n      <td>2019-01-02</td>\n      <td>A1</td>\n      <td>37</td>\n      <td>2019-02-23</td>\n      <td>11626.9120</td>\n      <td>11626.9120</td>\n      <td>3</td>\n    </tr>\n    <tr>\n      <th>3</th>\n      <td>2019-01-02</td>\n      <td>A1</td>\n      <td>44</td>\n      <td>2019-01-04</td>\n      <td>184.7815</td>\n      <td>184.7815</td>\n      <td>4</td>\n    </tr>\n    <tr>\n      <th>4</th>\n      <td>2019-01-02</td>\n      <td>C3</td>\n      <td>22</td>\n      <td>2019-02-07</td>\n      <td>9520.3315</td>\n      <td>9520.3315</td>\n      <td>3</td>\n    </tr>\n    <tr>\n      <th>...</th>\n      <td>...</td>\n      <td>...</td>\n      <td>...</td>\n      <td>...</td>\n      <td>...</td>\n      <td>...</td>\n      <td>...</td>\n    </tr>\n    <tr>\n      <th>6318</th>\n      <td>2020-09-30</td>\n      <td>E5</td>\n      <td>15</td>\n      <td>2020-10-18</td>\n      <td>12979.1345</td>\n      <td>12979.1345</td>\n      <td>3</td>\n    </tr>\n    <tr>\n      <th>6319</th>\n      <td>2020-09-30</td>\n      <td>A1</td>\n      <td>15</td>\n      <td>2020-10-18</td>\n      <td>79187.0030</td>\n      <td>79187.0030</td>\n      <td>3</td>\n    </tr>\n    <tr>\n      <th>6320</th>\n      <td>2020-09-30</td>\n      <td>A1</td>\n      <td>46</td>\n      <td>2020-10-13</td>\n      <td>15870.3755</td>\n      <td>15641.7765</td>\n      <td>4</td>\n    </tr>\n    <tr>\n      <th>6321</th>\n      <td>2020-09-30</td>\n      <td>A1</td>\n      <td>46</td>\n      <td>2020-10-16</td>\n      <td>11834.6605</td>\n      <td>11781.4165</td>\n      <td>4</td>\n    </tr>\n    <tr>\n      <th>6322</th>\n      <td>2020-09-30</td>\n      <td>A1</td>\n      <td>46</td>\n      <td>2020-10-29</td>\n      <td>3732.9110</td>\n      <td>3609.8140</td>\n      <td>4</td>\n    </tr>\n  </tbody>\n</table>\n<p>6323 rows × 7 columns</p>\n</div>"
     },
     "execution_count": 4,
     "metadata": {},
     "output_type": "execute_result"
    }
   ],
   "source": [
    "supplies"
   ],
   "metadata": {
    "collapsed": false,
    "ExecuteTime": {
     "end_time": "2025-05-03T07:20:16.337590225Z",
     "start_time": "2025-05-03T07:20:16.304743758Z"
    }
   },
   "id": "d2a7f37835d2bd56"
  },
  {
   "cell_type": "code",
   "execution_count": 18,
   "outputs": [
    {
     "data": {
      "text/plain": "Наим. ЕТСНГ\nA1     4285\nE5      736\nB2      606\nC3      399\nG7      177\nK10      66\nI9       25\nF6       16\nL11      13\nName: count, dtype: int64"
     },
     "execution_count": 18,
     "metadata": {},
     "output_type": "execute_result"
    }
   ],
   "source": [
    "supplies['Наим. ЕТСНГ'].value_counts()"
   ],
   "metadata": {
    "collapsed": false,
    "ExecuteTime": {
     "end_time": "2025-05-03T07:50:53.310658821Z",
     "start_time": "2025-05-03T07:50:53.269543983Z"
    }
   },
   "id": "29ab5e46ea83a713"
  },
  {
   "cell_type": "code",
   "execution_count": 109,
   "outputs": [
    {
     "data": {
      "text/plain": "      Склад  Штабель Марка  Максимальная температура      Пикет   Дата акта  \\\n0         3       43    A1                      36.2  3045-3075  2020-08-05   \n1         4       39    A1                     109.4  4025-4047  2020-08-05   \n2         4       23    A1                      38.6  4048-4052  2020-08-05   \n3         4       46    A1                      37.3  4057-4077  2020-08-05   \n4         4       12    A1                      36.4  4091-4112  2020-08-05   \n...     ...      ...   ...                       ...        ...         ...   \n4101      4       12    A1                      30.2  4102-4120  2020-09-30   \n4102      6       45    A1                      29.6  6017-6023  2020-09-30   \n4103      6       26    A1                      30.4  6026-6034  2020-09-30   \n4104      6        1    A1                      28.4  6035-6053  2020-09-30   \n4105      6        5    A1                      30.1  6054-6083  2020-09-30   \n\n      Смена  \n0     219.0  \n1     219.0  \n2     219.0  \n3     219.0  \n4     219.0  \n...     ...  \n4101  921.0  \n4102  921.0  \n4103  921.0  \n4104  921.0  \n4105  921.0  \n\n[4031 rows x 7 columns]",
      "text/html": "<div>\n<style scoped>\n    .dataframe tbody tr th:only-of-type {\n        vertical-align: middle;\n    }\n\n    .dataframe tbody tr th {\n        vertical-align: top;\n    }\n\n    .dataframe thead th {\n        text-align: right;\n    }\n</style>\n<table border=\"1\" class=\"dataframe\">\n  <thead>\n    <tr style=\"text-align: right;\">\n      <th></th>\n      <th>Склад</th>\n      <th>Штабель</th>\n      <th>Марка</th>\n      <th>Максимальная температура</th>\n      <th>Пикет</th>\n      <th>Дата акта</th>\n      <th>Смена</th>\n    </tr>\n  </thead>\n  <tbody>\n    <tr>\n      <th>0</th>\n      <td>3</td>\n      <td>43</td>\n      <td>A1</td>\n      <td>36.2</td>\n      <td>3045-3075</td>\n      <td>2020-08-05</td>\n      <td>219.0</td>\n    </tr>\n    <tr>\n      <th>1</th>\n      <td>4</td>\n      <td>39</td>\n      <td>A1</td>\n      <td>109.4</td>\n      <td>4025-4047</td>\n      <td>2020-08-05</td>\n      <td>219.0</td>\n    </tr>\n    <tr>\n      <th>2</th>\n      <td>4</td>\n      <td>23</td>\n      <td>A1</td>\n      <td>38.6</td>\n      <td>4048-4052</td>\n      <td>2020-08-05</td>\n      <td>219.0</td>\n    </tr>\n    <tr>\n      <th>3</th>\n      <td>4</td>\n      <td>46</td>\n      <td>A1</td>\n      <td>37.3</td>\n      <td>4057-4077</td>\n      <td>2020-08-05</td>\n      <td>219.0</td>\n    </tr>\n    <tr>\n      <th>4</th>\n      <td>4</td>\n      <td>12</td>\n      <td>A1</td>\n      <td>36.4</td>\n      <td>4091-4112</td>\n      <td>2020-08-05</td>\n      <td>219.0</td>\n    </tr>\n    <tr>\n      <th>...</th>\n      <td>...</td>\n      <td>...</td>\n      <td>...</td>\n      <td>...</td>\n      <td>...</td>\n      <td>...</td>\n      <td>...</td>\n    </tr>\n    <tr>\n      <th>4101</th>\n      <td>4</td>\n      <td>12</td>\n      <td>A1</td>\n      <td>30.2</td>\n      <td>4102-4120</td>\n      <td>2020-09-30</td>\n      <td>921.0</td>\n    </tr>\n    <tr>\n      <th>4102</th>\n      <td>6</td>\n      <td>45</td>\n      <td>A1</td>\n      <td>29.6</td>\n      <td>6017-6023</td>\n      <td>2020-09-30</td>\n      <td>921.0</td>\n    </tr>\n    <tr>\n      <th>4103</th>\n      <td>6</td>\n      <td>26</td>\n      <td>A1</td>\n      <td>30.4</td>\n      <td>6026-6034</td>\n      <td>2020-09-30</td>\n      <td>921.0</td>\n    </tr>\n    <tr>\n      <th>4104</th>\n      <td>6</td>\n      <td>1</td>\n      <td>A1</td>\n      <td>28.4</td>\n      <td>6035-6053</td>\n      <td>2020-09-30</td>\n      <td>921.0</td>\n    </tr>\n    <tr>\n      <th>4105</th>\n      <td>6</td>\n      <td>5</td>\n      <td>A1</td>\n      <td>30.1</td>\n      <td>6054-6083</td>\n      <td>2020-09-30</td>\n      <td>921.0</td>\n    </tr>\n  </tbody>\n</table>\n<p>4031 rows × 7 columns</p>\n</div>"
     },
     "execution_count": 109,
     "metadata": {},
     "output_type": "execute_result"
    }
   ],
   "source": [
    "temperature.drop_duplicates(inplace=True)\n",
    "temperature"
   ],
   "metadata": {
    "collapsed": false,
    "ExecuteTime": {
     "end_time": "2025-05-04T14:04:09.434430965Z",
     "start_time": "2025-05-04T14:04:09.390200835Z"
    }
   },
   "id": "dd6876c3c1925b2e"
  },
  {
   "cell_type": "code",
   "execution_count": 110,
   "outputs": [
    {
     "data": {
      "text/plain": "             Склад      Штабель  Максимальная температура  \\\ncount  4031.000000  4031.000000               4031.000000   \nmean      4.278343    22.889854                 44.611610   \nmin       3.000000     0.000000                  0.000000   \n25%       3.000000     5.000000                 27.100000   \n50%       4.000000    23.000000                 33.900000   \n75%       6.000000    39.000000                 38.900000   \nmax       6.000000    62.000000                679.000000   \nstd       1.186117    17.056563                 49.786181   \n\n                           Дата акта        Смена  \ncount                           4031  3886.000000  \nmean   2020-06-22 19:01:42.704043520   602.516727  \nmin              2019-11-23 00:00:00   219.000000  \n25%              2020-05-28 00:00:00   219.000000  \n50%              2020-07-10 00:00:00   921.000000  \n75%              2020-08-18 00:00:00   921.000000  \nmax              2020-09-30 00:00:00   921.000000  \nstd                              NaN   349.535552  ",
      "text/html": "<div>\n<style scoped>\n    .dataframe tbody tr th:only-of-type {\n        vertical-align: middle;\n    }\n\n    .dataframe tbody tr th {\n        vertical-align: top;\n    }\n\n    .dataframe thead th {\n        text-align: right;\n    }\n</style>\n<table border=\"1\" class=\"dataframe\">\n  <thead>\n    <tr style=\"text-align: right;\">\n      <th></th>\n      <th>Склад</th>\n      <th>Штабель</th>\n      <th>Максимальная температура</th>\n      <th>Дата акта</th>\n      <th>Смена</th>\n    </tr>\n  </thead>\n  <tbody>\n    <tr>\n      <th>count</th>\n      <td>4031.000000</td>\n      <td>4031.000000</td>\n      <td>4031.000000</td>\n      <td>4031</td>\n      <td>3886.000000</td>\n    </tr>\n    <tr>\n      <th>mean</th>\n      <td>4.278343</td>\n      <td>22.889854</td>\n      <td>44.611610</td>\n      <td>2020-06-22 19:01:42.704043520</td>\n      <td>602.516727</td>\n    </tr>\n    <tr>\n      <th>min</th>\n      <td>3.000000</td>\n      <td>0.000000</td>\n      <td>0.000000</td>\n      <td>2019-11-23 00:00:00</td>\n      <td>219.000000</td>\n    </tr>\n    <tr>\n      <th>25%</th>\n      <td>3.000000</td>\n      <td>5.000000</td>\n      <td>27.100000</td>\n      <td>2020-05-28 00:00:00</td>\n      <td>219.000000</td>\n    </tr>\n    <tr>\n      <th>50%</th>\n      <td>4.000000</td>\n      <td>23.000000</td>\n      <td>33.900000</td>\n      <td>2020-07-10 00:00:00</td>\n      <td>921.000000</td>\n    </tr>\n    <tr>\n      <th>75%</th>\n      <td>6.000000</td>\n      <td>39.000000</td>\n      <td>38.900000</td>\n      <td>2020-08-18 00:00:00</td>\n      <td>921.000000</td>\n    </tr>\n    <tr>\n      <th>max</th>\n      <td>6.000000</td>\n      <td>62.000000</td>\n      <td>679.000000</td>\n      <td>2020-09-30 00:00:00</td>\n      <td>921.000000</td>\n    </tr>\n    <tr>\n      <th>std</th>\n      <td>1.186117</td>\n      <td>17.056563</td>\n      <td>49.786181</td>\n      <td>NaN</td>\n      <td>349.535552</td>\n    </tr>\n  </tbody>\n</table>\n</div>"
     },
     "execution_count": 110,
     "metadata": {},
     "output_type": "execute_result"
    }
   ],
   "source": [
    "temperature['Дата акта'] = pd.to_datetime(temperature['Дата акта'])\n",
    "temperature.describe()"
   ],
   "metadata": {
    "collapsed": false,
    "ExecuteTime": {
     "end_time": "2025-05-04T14:05:02.270860275Z",
     "start_time": "2025-05-04T14:05:02.211653024Z"
    }
   },
   "id": "8640885b40171316"
  },
  {
   "cell_type": "code",
   "execution_count": 111,
   "outputs": [
    {
     "name": "stdout",
     "output_type": "stream",
     "text": [
      "<class 'pandas.core.frame.DataFrame'>\n",
      "Index: 4031 entries, 0 to 4105\n",
      "Data columns (total 7 columns):\n",
      " #   Column                    Non-Null Count  Dtype         \n",
      "---  ------                    --------------  -----         \n",
      " 0   Склад                     4031 non-null   int64         \n",
      " 1   Штабель                   4031 non-null   int64         \n",
      " 2   Марка                     4031 non-null   object        \n",
      " 3   Максимальная температура  4031 non-null   float64       \n",
      " 4   Пикет                     3572 non-null   object        \n",
      " 5   Дата акта                 4031 non-null   datetime64[ns]\n",
      " 6   Смена                     3886 non-null   float64       \n",
      "dtypes: datetime64[ns](1), float64(2), int64(2), object(2)\n",
      "memory usage: 251.9+ KB\n"
     ]
    }
   ],
   "source": [
    "temperature.info()"
   ],
   "metadata": {
    "collapsed": false,
    "ExecuteTime": {
     "end_time": "2025-05-04T14:13:29.584238301Z",
     "start_time": "2025-05-04T14:13:29.531673132Z"
    }
   },
   "id": "50c7d3d160898ef"
  },
  {
   "cell_type": "code",
   "execution_count": 43,
   "outputs": [
    {
     "data": {
      "text/plain": "Марка\nA1             3689\nA1-КТК          114\nA1-СУЭК          70\nA1-СА-ШУБ        51\nA1-МТ-ШУБ        39\nA1-КРУ           31\nA1-СКГ           27\nA1-СА-           22\nA1-КГК            8\nA1-МТ-            8\nA1-СУЭК-КАМ       8\nA1-СУЭК-          6\nA1-ГЕН-МЕР        6\nA1-СТР            5\nNAN               5\nA1-СТР-           4\nА                 4\nA1-ГЕН-           3\nA1-САШУБ          2\nA1-МТШУБ          1\nFL-               1\nA1-ЕР             1\nЯ                 1\nName: count, dtype: int64"
     },
     "execution_count": 43,
     "metadata": {},
     "output_type": "execute_result"
    }
   ],
   "source": [
    "temperature['Марка'].value_counts()"
   ],
   "metadata": {
    "collapsed": false,
    "ExecuteTime": {
     "end_time": "2025-05-03T11:05:02.520798457Z",
     "start_time": "2025-05-03T11:05:02.501380704Z"
    }
   },
   "id": "464d68e3e8dff70"
  },
  {
   "cell_type": "code",
   "execution_count": 13,
   "outputs": [
    {
     "data": {
      "text/plain": "                     date    t       p  humidity  precipitation  wind_dir  \\\n0     2015-01-01 00:00:00 -2.1  1026.6        75            0.0        41   \n1     2015-01-01 01:00:00 -2.1  1025.9        73            0.0        40   \n2     2015-01-01 02:00:00 -2.2  1026.1        75            0.0        36   \n3     2015-01-01 03:00:00 -2.2  1025.8        75            0.0        34   \n4     2015-01-01 04:00:00 -2.3  1025.9        76            0.0        33   \n...                   ...  ...     ...       ...            ...       ...   \n8755  2021-12-31 19:00:00  3.7  1018.4        90            0.4       324   \n8756  2021-12-31 20:00:00  3.7  1018.4        90            0.1       325   \n8757  2021-12-31 21:00:00  3.9  1018.3        89            0.0       318   \n8758  2021-12-31 22:00:00  4.0  1018.2        89            0.0       313   \n8759  2021-12-31 23:00:00  4.2  1018.0        89            0.0       308   \n\n      v_avg  v_max  cloudcover  visibility  weather_code  \n0      34.2   54.0          98         NaN             3  \n1      32.2   52.2          99         NaN             3  \n2      32.2   50.4          99         NaN             3  \n3      33.2   51.5          97         NaN             3  \n4      33.5   52.6         100         NaN             3  \n...     ...    ...         ...         ...           ...  \n8755   16.0   25.6         100         NaN            51  \n8756   15.0   24.1         100         NaN            51  \n8757   13.5   23.0         100         NaN             3  \n8758   12.2   21.2         100         NaN             3  \n8759   12.3   19.4         100         NaN             3  \n\n[61344 rows x 11 columns]",
      "text/html": "<div>\n<style scoped>\n    .dataframe tbody tr th:only-of-type {\n        vertical-align: middle;\n    }\n\n    .dataframe tbody tr th {\n        vertical-align: top;\n    }\n\n    .dataframe thead th {\n        text-align: right;\n    }\n</style>\n<table border=\"1\" class=\"dataframe\">\n  <thead>\n    <tr style=\"text-align: right;\">\n      <th></th>\n      <th>date</th>\n      <th>t</th>\n      <th>p</th>\n      <th>humidity</th>\n      <th>precipitation</th>\n      <th>wind_dir</th>\n      <th>v_avg</th>\n      <th>v_max</th>\n      <th>cloudcover</th>\n      <th>visibility</th>\n      <th>weather_code</th>\n    </tr>\n  </thead>\n  <tbody>\n    <tr>\n      <th>0</th>\n      <td>2015-01-01 00:00:00</td>\n      <td>-2.1</td>\n      <td>1026.6</td>\n      <td>75</td>\n      <td>0.0</td>\n      <td>41</td>\n      <td>34.2</td>\n      <td>54.0</td>\n      <td>98</td>\n      <td>NaN</td>\n      <td>3</td>\n    </tr>\n    <tr>\n      <th>1</th>\n      <td>2015-01-01 01:00:00</td>\n      <td>-2.1</td>\n      <td>1025.9</td>\n      <td>73</td>\n      <td>0.0</td>\n      <td>40</td>\n      <td>32.2</td>\n      <td>52.2</td>\n      <td>99</td>\n      <td>NaN</td>\n      <td>3</td>\n    </tr>\n    <tr>\n      <th>2</th>\n      <td>2015-01-01 02:00:00</td>\n      <td>-2.2</td>\n      <td>1026.1</td>\n      <td>75</td>\n      <td>0.0</td>\n      <td>36</td>\n      <td>32.2</td>\n      <td>50.4</td>\n      <td>99</td>\n      <td>NaN</td>\n      <td>3</td>\n    </tr>\n    <tr>\n      <th>3</th>\n      <td>2015-01-01 03:00:00</td>\n      <td>-2.2</td>\n      <td>1025.8</td>\n      <td>75</td>\n      <td>0.0</td>\n      <td>34</td>\n      <td>33.2</td>\n      <td>51.5</td>\n      <td>97</td>\n      <td>NaN</td>\n      <td>3</td>\n    </tr>\n    <tr>\n      <th>4</th>\n      <td>2015-01-01 04:00:00</td>\n      <td>-2.3</td>\n      <td>1025.9</td>\n      <td>76</td>\n      <td>0.0</td>\n      <td>33</td>\n      <td>33.5</td>\n      <td>52.6</td>\n      <td>100</td>\n      <td>NaN</td>\n      <td>3</td>\n    </tr>\n    <tr>\n      <th>...</th>\n      <td>...</td>\n      <td>...</td>\n      <td>...</td>\n      <td>...</td>\n      <td>...</td>\n      <td>...</td>\n      <td>...</td>\n      <td>...</td>\n      <td>...</td>\n      <td>...</td>\n      <td>...</td>\n    </tr>\n    <tr>\n      <th>8755</th>\n      <td>2021-12-31 19:00:00</td>\n      <td>3.7</td>\n      <td>1018.4</td>\n      <td>90</td>\n      <td>0.4</td>\n      <td>324</td>\n      <td>16.0</td>\n      <td>25.6</td>\n      <td>100</td>\n      <td>NaN</td>\n      <td>51</td>\n    </tr>\n    <tr>\n      <th>8756</th>\n      <td>2021-12-31 20:00:00</td>\n      <td>3.7</td>\n      <td>1018.4</td>\n      <td>90</td>\n      <td>0.1</td>\n      <td>325</td>\n      <td>15.0</td>\n      <td>24.1</td>\n      <td>100</td>\n      <td>NaN</td>\n      <td>51</td>\n    </tr>\n    <tr>\n      <th>8757</th>\n      <td>2021-12-31 21:00:00</td>\n      <td>3.9</td>\n      <td>1018.3</td>\n      <td>89</td>\n      <td>0.0</td>\n      <td>318</td>\n      <td>13.5</td>\n      <td>23.0</td>\n      <td>100</td>\n      <td>NaN</td>\n      <td>3</td>\n    </tr>\n    <tr>\n      <th>8758</th>\n      <td>2021-12-31 22:00:00</td>\n      <td>4.0</td>\n      <td>1018.2</td>\n      <td>89</td>\n      <td>0.0</td>\n      <td>313</td>\n      <td>12.2</td>\n      <td>21.2</td>\n      <td>100</td>\n      <td>NaN</td>\n      <td>3</td>\n    </tr>\n    <tr>\n      <th>8759</th>\n      <td>2021-12-31 23:00:00</td>\n      <td>4.2</td>\n      <td>1018.0</td>\n      <td>89</td>\n      <td>0.0</td>\n      <td>308</td>\n      <td>12.3</td>\n      <td>19.4</td>\n      <td>100</td>\n      <td>NaN</td>\n      <td>3</td>\n    </tr>\n  </tbody>\n</table>\n<p>61344 rows × 11 columns</p>\n</div>"
     },
     "execution_count": 13,
     "metadata": {},
     "output_type": "execute_result"
    }
   ],
   "source": [
    "weather"
   ],
   "metadata": {
    "collapsed": false,
    "ExecuteTime": {
     "end_time": "2025-05-03T07:22:32.394429726Z",
     "start_time": "2025-05-03T07:22:32.369631549Z"
    }
   },
   "id": "4e776862742ad380"
  },
  {
   "cell_type": "code",
   "execution_count": 25,
   "outputs": [
    {
     "data": {
      "text/plain": "    Дата составления Груз  Вес по акту, тн  Склад         Дата начала  \\\n0         2019-03-19   A1           255.00      4 2019-03-19 09:00:00   \n1         2019-03-24   B2            42.50      3 2019-03-24 09:00:00   \n2         2019-03-25   B2            72.25      3 2019-03-24 21:00:00   \n3         2019-06-11   A1           127.50      4 2019-06-11 09:00:00   \n4         2019-07-07   A1           127.50      4 2019-07-06 21:00:00   \n..               ...  ...              ...    ...                 ...   \n481       2020-09-28   A1            46.75      3 2020-09-28 09:00:00   \n482       2020-09-29   A1            34.00      3 2020-09-28 21:00:00   \n483       2020-09-29   A1             5.95      6 2020-09-28 21:00:00   \n484       2020-09-30   A1            34.00      3 2020-09-29 21:00:00   \n485       2020-09-30   A1           255.00      3 2020-09-30 09:00:00   \n\n            Дата оконч.     Нач.форм.штабеля  Штабель  \n0   2019-03-19 21:00:00  2018-11-23 00:00:00        6  \n1   2019-03-24 21:00:00  2019-01-03 00:00:00       21  \n2   2019-03-25 09:00:00  2019-01-03 00:00:00       21  \n3   2019-06-11 21:00:00  2019-04-28 23:55:00       15  \n4   2019-07-07 09:00:00  2019-05-19 00:00:00       22  \n..                  ...                  ...      ...  \n481 2020-09-28 21:00:00  2020-08-09 09:00:00       33  \n482 2020-09-29 09:00:00  2020-08-09 09:00:00       33  \n483 2020-09-29 09:00:00  2020-03-15 00:00:00        1  \n484 2020-09-30 09:00:00  2020-08-09 09:00:00       33  \n485 2020-09-30 21:00:00  2020-08-09 09:00:00       33  \n\n[486 rows x 8 columns]",
      "text/html": "<div>\n<style scoped>\n    .dataframe tbody tr th:only-of-type {\n        vertical-align: middle;\n    }\n\n    .dataframe tbody tr th {\n        vertical-align: top;\n    }\n\n    .dataframe thead th {\n        text-align: right;\n    }\n</style>\n<table border=\"1\" class=\"dataframe\">\n  <thead>\n    <tr style=\"text-align: right;\">\n      <th></th>\n      <th>Дата составления</th>\n      <th>Груз</th>\n      <th>Вес по акту, тн</th>\n      <th>Склад</th>\n      <th>Дата начала</th>\n      <th>Дата оконч.</th>\n      <th>Нач.форм.штабеля</th>\n      <th>Штабель</th>\n    </tr>\n  </thead>\n  <tbody>\n    <tr>\n      <th>0</th>\n      <td>2019-03-19</td>\n      <td>A1</td>\n      <td>255.00</td>\n      <td>4</td>\n      <td>2019-03-19 09:00:00</td>\n      <td>2019-03-19 21:00:00</td>\n      <td>2018-11-23 00:00:00</td>\n      <td>6</td>\n    </tr>\n    <tr>\n      <th>1</th>\n      <td>2019-03-24</td>\n      <td>B2</td>\n      <td>42.50</td>\n      <td>3</td>\n      <td>2019-03-24 09:00:00</td>\n      <td>2019-03-24 21:00:00</td>\n      <td>2019-01-03 00:00:00</td>\n      <td>21</td>\n    </tr>\n    <tr>\n      <th>2</th>\n      <td>2019-03-25</td>\n      <td>B2</td>\n      <td>72.25</td>\n      <td>3</td>\n      <td>2019-03-24 21:00:00</td>\n      <td>2019-03-25 09:00:00</td>\n      <td>2019-01-03 00:00:00</td>\n      <td>21</td>\n    </tr>\n    <tr>\n      <th>3</th>\n      <td>2019-06-11</td>\n      <td>A1</td>\n      <td>127.50</td>\n      <td>4</td>\n      <td>2019-06-11 09:00:00</td>\n      <td>2019-06-11 21:00:00</td>\n      <td>2019-04-28 23:55:00</td>\n      <td>15</td>\n    </tr>\n    <tr>\n      <th>4</th>\n      <td>2019-07-07</td>\n      <td>A1</td>\n      <td>127.50</td>\n      <td>4</td>\n      <td>2019-07-06 21:00:00</td>\n      <td>2019-07-07 09:00:00</td>\n      <td>2019-05-19 00:00:00</td>\n      <td>22</td>\n    </tr>\n    <tr>\n      <th>...</th>\n      <td>...</td>\n      <td>...</td>\n      <td>...</td>\n      <td>...</td>\n      <td>...</td>\n      <td>...</td>\n      <td>...</td>\n      <td>...</td>\n    </tr>\n    <tr>\n      <th>481</th>\n      <td>2020-09-28</td>\n      <td>A1</td>\n      <td>46.75</td>\n      <td>3</td>\n      <td>2020-09-28 09:00:00</td>\n      <td>2020-09-28 21:00:00</td>\n      <td>2020-08-09 09:00:00</td>\n      <td>33</td>\n    </tr>\n    <tr>\n      <th>482</th>\n      <td>2020-09-29</td>\n      <td>A1</td>\n      <td>34.00</td>\n      <td>3</td>\n      <td>2020-09-28 21:00:00</td>\n      <td>2020-09-29 09:00:00</td>\n      <td>2020-08-09 09:00:00</td>\n      <td>33</td>\n    </tr>\n    <tr>\n      <th>483</th>\n      <td>2020-09-29</td>\n      <td>A1</td>\n      <td>5.95</td>\n      <td>6</td>\n      <td>2020-09-28 21:00:00</td>\n      <td>2020-09-29 09:00:00</td>\n      <td>2020-03-15 00:00:00</td>\n      <td>1</td>\n    </tr>\n    <tr>\n      <th>484</th>\n      <td>2020-09-30</td>\n      <td>A1</td>\n      <td>34.00</td>\n      <td>3</td>\n      <td>2020-09-29 21:00:00</td>\n      <td>2020-09-30 09:00:00</td>\n      <td>2020-08-09 09:00:00</td>\n      <td>33</td>\n    </tr>\n    <tr>\n      <th>485</th>\n      <td>2020-09-30</td>\n      <td>A1</td>\n      <td>255.00</td>\n      <td>3</td>\n      <td>2020-09-30 09:00:00</td>\n      <td>2020-09-30 21:00:00</td>\n      <td>2020-08-09 09:00:00</td>\n      <td>33</td>\n    </tr>\n  </tbody>\n</table>\n<p>486 rows × 8 columns</p>\n</div>"
     },
     "execution_count": 25,
     "metadata": {},
     "output_type": "execute_result"
    }
   ],
   "source": [
    "fires = pd.read_csv('../data/fires.csv', parse_dates=['Дата начала', 'Дата оконч.'])\n",
    "fires"
   ],
   "metadata": {
    "collapsed": false,
    "ExecuteTime": {
     "end_time": "2025-05-04T07:30:58.807605442Z",
     "start_time": "2025-05-04T07:30:58.769756908Z"
    }
   },
   "id": "a2176229466f120a"
  },
  {
   "cell_type": "code",
   "execution_count": 20,
   "outputs": [
    {
     "data": {
      "text/plain": "Груз\nA1    483\nB2      2\nE5      1\nName: count, dtype: int64"
     },
     "execution_count": 20,
     "metadata": {},
     "output_type": "execute_result"
    }
   ],
   "source": [
    "fires['Груз'].value_counts()"
   ],
   "metadata": {
    "collapsed": false,
    "ExecuteTime": {
     "end_time": "2025-05-03T07:51:13.344194849Z",
     "start_time": "2025-05-03T07:51:13.339257664Z"
    }
   },
   "id": "d5827c49e942bd25"
  },
  {
   "cell_type": "code",
   "execution_count": 86,
   "outputs": [
    {
     "data": {
      "text/plain": "               Дата составления  Марка  Вес по акту, тн  Дата начала  \\\nСклад Штабель                                                          \n3     1                      30     30               30           30   \n      4                       1      1                1            1   \n      10                      2      2                2            2   \n      13                      2      2                2            2   \n      18                     16     16               16           16   \n      21                      2      2                2            2   \n      33                     24     24               24           24   \n      41                      3      3                3            3   \n      42                      5      5                5            5   \n      48                     15     15               15           15   \n4     3                      11     11               11           11   \n      6                       2      2                2            2   \n      9                      23     23               23           23   \n      12                      1      1                1            1   \n      13                      1      1                1            1   \n      15                      4      4                4            4   \n      16                      2      2                2            2   \n      22                     24     24               24           24   \n      23                      4      4                4            4   \n      39                     59     59               59           59   \n      40                     18     18               18           18   \n      46                     33     33               33           33   \n6     1                     115    115              115          115   \n      4                      70     70               70           70   \n      5                      14     14               14           14   \n\n               Дата оконч.  Нач.форм.штабеля  \nСклад Штабель                                 \n3     1                 30                30  \n      4                  1                 1  \n      10                 2                 2  \n      13                 2                 2  \n      18                16                16  \n      21                 2                 2  \n      33                24                24  \n      41                 3                 3  \n      42                 5                 5  \n      48                15                15  \n4     3                 11                11  \n      6                  2                 2  \n      9                 23                23  \n      12                 1                 1  \n      13                 1                 1  \n      15                 4                 4  \n      16                 2                 2  \n      22                24                24  \n      23                 4                 4  \n      39                59                59  \n      40                18                18  \n      46                33                33  \n6     1                115               115  \n      4                 70                70  \n      5                 14                14  ",
      "text/html": "<div>\n<style scoped>\n    .dataframe tbody tr th:only-of-type {\n        vertical-align: middle;\n    }\n\n    .dataframe tbody tr th {\n        vertical-align: top;\n    }\n\n    .dataframe thead th {\n        text-align: right;\n    }\n</style>\n<table border=\"1\" class=\"dataframe\">\n  <thead>\n    <tr style=\"text-align: right;\">\n      <th></th>\n      <th></th>\n      <th>Дата составления</th>\n      <th>Марка</th>\n      <th>Вес по акту, тн</th>\n      <th>Дата начала</th>\n      <th>Дата оконч.</th>\n      <th>Нач.форм.штабеля</th>\n    </tr>\n    <tr>\n      <th>Склад</th>\n      <th>Штабель</th>\n      <th></th>\n      <th></th>\n      <th></th>\n      <th></th>\n      <th></th>\n      <th></th>\n    </tr>\n  </thead>\n  <tbody>\n    <tr>\n      <th rowspan=\"10\" valign=\"top\">3</th>\n      <th>1</th>\n      <td>30</td>\n      <td>30</td>\n      <td>30</td>\n      <td>30</td>\n      <td>30</td>\n      <td>30</td>\n    </tr>\n    <tr>\n      <th>4</th>\n      <td>1</td>\n      <td>1</td>\n      <td>1</td>\n      <td>1</td>\n      <td>1</td>\n      <td>1</td>\n    </tr>\n    <tr>\n      <th>10</th>\n      <td>2</td>\n      <td>2</td>\n      <td>2</td>\n      <td>2</td>\n      <td>2</td>\n      <td>2</td>\n    </tr>\n    <tr>\n      <th>13</th>\n      <td>2</td>\n      <td>2</td>\n      <td>2</td>\n      <td>2</td>\n      <td>2</td>\n      <td>2</td>\n    </tr>\n    <tr>\n      <th>18</th>\n      <td>16</td>\n      <td>16</td>\n      <td>16</td>\n      <td>16</td>\n      <td>16</td>\n      <td>16</td>\n    </tr>\n    <tr>\n      <th>21</th>\n      <td>2</td>\n      <td>2</td>\n      <td>2</td>\n      <td>2</td>\n      <td>2</td>\n      <td>2</td>\n    </tr>\n    <tr>\n      <th>33</th>\n      <td>24</td>\n      <td>24</td>\n      <td>24</td>\n      <td>24</td>\n      <td>24</td>\n      <td>24</td>\n    </tr>\n    <tr>\n      <th>41</th>\n      <td>3</td>\n      <td>3</td>\n      <td>3</td>\n      <td>3</td>\n      <td>3</td>\n      <td>3</td>\n    </tr>\n    <tr>\n      <th>42</th>\n      <td>5</td>\n      <td>5</td>\n      <td>5</td>\n      <td>5</td>\n      <td>5</td>\n      <td>5</td>\n    </tr>\n    <tr>\n      <th>48</th>\n      <td>15</td>\n      <td>15</td>\n      <td>15</td>\n      <td>15</td>\n      <td>15</td>\n      <td>15</td>\n    </tr>\n    <tr>\n      <th rowspan=\"12\" valign=\"top\">4</th>\n      <th>3</th>\n      <td>11</td>\n      <td>11</td>\n      <td>11</td>\n      <td>11</td>\n      <td>11</td>\n      <td>11</td>\n    </tr>\n    <tr>\n      <th>6</th>\n      <td>2</td>\n      <td>2</td>\n      <td>2</td>\n      <td>2</td>\n      <td>2</td>\n      <td>2</td>\n    </tr>\n    <tr>\n      <th>9</th>\n      <td>23</td>\n      <td>23</td>\n      <td>23</td>\n      <td>23</td>\n      <td>23</td>\n      <td>23</td>\n    </tr>\n    <tr>\n      <th>12</th>\n      <td>1</td>\n      <td>1</td>\n      <td>1</td>\n      <td>1</td>\n      <td>1</td>\n      <td>1</td>\n    </tr>\n    <tr>\n      <th>13</th>\n      <td>1</td>\n      <td>1</td>\n      <td>1</td>\n      <td>1</td>\n      <td>1</td>\n      <td>1</td>\n    </tr>\n    <tr>\n      <th>15</th>\n      <td>4</td>\n      <td>4</td>\n      <td>4</td>\n      <td>4</td>\n      <td>4</td>\n      <td>4</td>\n    </tr>\n    <tr>\n      <th>16</th>\n      <td>2</td>\n      <td>2</td>\n      <td>2</td>\n      <td>2</td>\n      <td>2</td>\n      <td>2</td>\n    </tr>\n    <tr>\n      <th>22</th>\n      <td>24</td>\n      <td>24</td>\n      <td>24</td>\n      <td>24</td>\n      <td>24</td>\n      <td>24</td>\n    </tr>\n    <tr>\n      <th>23</th>\n      <td>4</td>\n      <td>4</td>\n      <td>4</td>\n      <td>4</td>\n      <td>4</td>\n      <td>4</td>\n    </tr>\n    <tr>\n      <th>39</th>\n      <td>59</td>\n      <td>59</td>\n      <td>59</td>\n      <td>59</td>\n      <td>59</td>\n      <td>59</td>\n    </tr>\n    <tr>\n      <th>40</th>\n      <td>18</td>\n      <td>18</td>\n      <td>18</td>\n      <td>18</td>\n      <td>18</td>\n      <td>18</td>\n    </tr>\n    <tr>\n      <th>46</th>\n      <td>33</td>\n      <td>33</td>\n      <td>33</td>\n      <td>33</td>\n      <td>33</td>\n      <td>33</td>\n    </tr>\n    <tr>\n      <th rowspan=\"3\" valign=\"top\">6</th>\n      <th>1</th>\n      <td>115</td>\n      <td>115</td>\n      <td>115</td>\n      <td>115</td>\n      <td>115</td>\n      <td>115</td>\n    </tr>\n    <tr>\n      <th>4</th>\n      <td>70</td>\n      <td>70</td>\n      <td>70</td>\n      <td>70</td>\n      <td>70</td>\n      <td>70</td>\n    </tr>\n    <tr>\n      <th>5</th>\n      <td>14</td>\n      <td>14</td>\n      <td>14</td>\n      <td>14</td>\n      <td>14</td>\n      <td>14</td>\n    </tr>\n  </tbody>\n</table>\n</div>"
     },
     "execution_count": 86,
     "metadata": {},
     "output_type": "execute_result"
    }
   ],
   "source": [
    "fires.groupby(['Склад', 'Штабель']).count()"
   ],
   "metadata": {
    "collapsed": false,
    "ExecuteTime": {
     "end_time": "2025-05-03T14:33:28.555171825Z",
     "start_time": "2025-05-03T14:33:28.507014145Z"
    }
   },
   "id": "773baabb4a4f4070"
  },
  {
   "cell_type": "code",
   "execution_count": 57,
   "outputs": [
    {
     "data": {
      "text/plain": "33    2019-07-18 01:31:00\n34    2019-07-18 01:31:00\n35    2019-07-18 01:31:00\n36    2019-07-18 01:31:00\n38    2019-07-18 01:31:00\n39    2019-07-18 01:31:00\n40    2019-07-18 01:31:00\n42    2019-07-18 01:31:00\n43    2019-07-18 01:31:00\n46    2019-07-18 01:31:00\n48    2019-07-18 01:31:00\n51    2019-07-18 01:31:00\n52    2019-07-18 01:31:00\n56    2019-07-18 01:31:00\n57    2019-07-18 01:31:00\n60    2019-07-18 01:31:00\n61    2019-07-18 01:31:00\n62    2019-07-18 01:31:00\n63    2019-07-18 01:31:00\n64    2019-07-18 01:31:00\n65    2019-07-18 01:31:00\n66    2019-07-18 01:31:00\n69    2019-07-18 01:31:00\n70    2019-07-18 01:31:00\n72    2019-07-18 01:31:00\n74    2019-07-18 01:31:00\n76    2019-07-18 01:31:00\n77    2019-07-18 01:31:00\n79    2019-07-18 01:31:00\n80    2019-01-01 00:00:00\n81    2019-07-18 01:31:00\nName: Нач.форм.штабеля, dtype: object"
     },
     "execution_count": 57,
     "metadata": {},
     "output_type": "execute_result"
    }
   ],
   "source": [
    "fires[(fires['Склад'] == 3) & (fires['Штабель'] == 1)]['Нач.форм.штабеля']"
   ],
   "metadata": {
    "collapsed": false,
    "ExecuteTime": {
     "end_time": "2025-05-03T12:45:05.440579683Z",
     "start_time": "2025-05-03T12:45:05.415818112Z"
    }
   },
   "id": "a0c5f595b3d0c37b"
  },
  {
   "cell_type": "markdown",
   "source": [
    "Агрегирование"
   ],
   "metadata": {
    "collapsed": false
   },
   "id": "dbe9b7ff4afc98a3"
  },
  {
   "cell_type": "code",
   "execution_count": 95,
   "outputs": [
    {
     "data": {
      "text/plain": "                     ВыгрузкаНаСклад  ПогрузкаНаСудно  На склад, тн  \\\nСклад Штабель Марка                                                   \n3     1       A1                  13                3            15   \n              B2                   9                2             9   \n              E5                   7                2             7   \n      2       B2                  25                4            24   \n              E5                  16                3            16   \n...                              ...              ...           ...   \n6     45      A1                  13                2            13   \n              B2                   2                1             2   \n              C3                   3                3             3   \n              E5                   5                4             6   \n      51      A1                   3                2             3   \n\n                     На судно, тн  \nСклад Штабель Марка                \n3     1       A1               15  \n              B2                9  \n              E5                7  \n      2       B2               24  \n              E5               16  \n...                           ...  \n6     45      A1               13  \n              B2                2  \n              C3                3  \n              E5                6  \n      51      A1                3  \n\n[243 rows x 4 columns]",
      "text/html": "<div>\n<style scoped>\n    .dataframe tbody tr th:only-of-type {\n        vertical-align: middle;\n    }\n\n    .dataframe tbody tr th {\n        vertical-align: top;\n    }\n\n    .dataframe thead th {\n        text-align: right;\n    }\n</style>\n<table border=\"1\" class=\"dataframe\">\n  <thead>\n    <tr style=\"text-align: right;\">\n      <th></th>\n      <th></th>\n      <th></th>\n      <th>ВыгрузкаНаСклад</th>\n      <th>ПогрузкаНаСудно</th>\n      <th>На склад, тн</th>\n      <th>На судно, тн</th>\n    </tr>\n    <tr>\n      <th>Склад</th>\n      <th>Штабель</th>\n      <th>Марка</th>\n      <th></th>\n      <th></th>\n      <th></th>\n      <th></th>\n    </tr>\n  </thead>\n  <tbody>\n    <tr>\n      <th rowspan=\"5\" valign=\"top\">3</th>\n      <th rowspan=\"3\" valign=\"top\">1</th>\n      <th>A1</th>\n      <td>13</td>\n      <td>3</td>\n      <td>15</td>\n      <td>15</td>\n    </tr>\n    <tr>\n      <th>B2</th>\n      <td>9</td>\n      <td>2</td>\n      <td>9</td>\n      <td>9</td>\n    </tr>\n    <tr>\n      <th>E5</th>\n      <td>7</td>\n      <td>2</td>\n      <td>7</td>\n      <td>7</td>\n    </tr>\n    <tr>\n      <th rowspan=\"2\" valign=\"top\">2</th>\n      <th>B2</th>\n      <td>25</td>\n      <td>4</td>\n      <td>24</td>\n      <td>24</td>\n    </tr>\n    <tr>\n      <th>E5</th>\n      <td>16</td>\n      <td>3</td>\n      <td>16</td>\n      <td>16</td>\n    </tr>\n    <tr>\n      <th>...</th>\n      <th>...</th>\n      <th>...</th>\n      <td>...</td>\n      <td>...</td>\n      <td>...</td>\n      <td>...</td>\n    </tr>\n    <tr>\n      <th rowspan=\"5\" valign=\"top\">6</th>\n      <th rowspan=\"4\" valign=\"top\">45</th>\n      <th>A1</th>\n      <td>13</td>\n      <td>2</td>\n      <td>13</td>\n      <td>13</td>\n    </tr>\n    <tr>\n      <th>B2</th>\n      <td>2</td>\n      <td>1</td>\n      <td>2</td>\n      <td>2</td>\n    </tr>\n    <tr>\n      <th>C3</th>\n      <td>3</td>\n      <td>3</td>\n      <td>3</td>\n      <td>3</td>\n    </tr>\n    <tr>\n      <th>E5</th>\n      <td>5</td>\n      <td>4</td>\n      <td>6</td>\n      <td>6</td>\n    </tr>\n    <tr>\n      <th>51</th>\n      <th>A1</th>\n      <td>3</td>\n      <td>2</td>\n      <td>3</td>\n      <td>3</td>\n    </tr>\n  </tbody>\n</table>\n<p>243 rows × 4 columns</p>\n</div>"
     },
     "execution_count": 95,
     "metadata": {},
     "output_type": "execute_result"
    }
   ],
   "source": [
    "supplies.groupby(['Склад', 'Штабель', 'Марка']).nunique()"
   ],
   "metadata": {
    "collapsed": false,
    "ExecuteTime": {
     "end_time": "2025-05-03T15:28:35.889656482Z",
     "start_time": "2025-05-03T15:28:35.823546232Z"
    }
   },
   "id": "6ce9a412b1938035"
  },
  {
   "cell_type": "code",
   "execution_count": 73,
   "outputs": [
    {
     "data": {
      "text/plain": "               Марка  Максимальная температура  Пикет  Дата акта  Смена\nСклад Штабель                                                          \n3     0            1                         1      1          1      1\n      2            1                         1      1          1      1\n      4            1                         4      0          3      2\n      5            1                         1      1          1      1\n      7            4                        54     13         44      2\n...              ...                       ...    ...        ...    ...\n6     5            3                       117      9         91      2\n      10           1                        36      5         24      2\n      26           1                        46      3         28      2\n      45           1                        92      6         73      2\n      51           1                        22      3         14      2\n\n[69 rows x 5 columns]",
      "text/html": "<div>\n<style scoped>\n    .dataframe tbody tr th:only-of-type {\n        vertical-align: middle;\n    }\n\n    .dataframe tbody tr th {\n        vertical-align: top;\n    }\n\n    .dataframe thead th {\n        text-align: right;\n    }\n</style>\n<table border=\"1\" class=\"dataframe\">\n  <thead>\n    <tr style=\"text-align: right;\">\n      <th></th>\n      <th></th>\n      <th>Марка</th>\n      <th>Максимальная температура</th>\n      <th>Пикет</th>\n      <th>Дата акта</th>\n      <th>Смена</th>\n    </tr>\n    <tr>\n      <th>Склад</th>\n      <th>Штабель</th>\n      <th></th>\n      <th></th>\n      <th></th>\n      <th></th>\n      <th></th>\n    </tr>\n  </thead>\n  <tbody>\n    <tr>\n      <th rowspan=\"5\" valign=\"top\">3</th>\n      <th>0</th>\n      <td>1</td>\n      <td>1</td>\n      <td>1</td>\n      <td>1</td>\n      <td>1</td>\n    </tr>\n    <tr>\n      <th>2</th>\n      <td>1</td>\n      <td>1</td>\n      <td>1</td>\n      <td>1</td>\n      <td>1</td>\n    </tr>\n    <tr>\n      <th>4</th>\n      <td>1</td>\n      <td>4</td>\n      <td>0</td>\n      <td>3</td>\n      <td>2</td>\n    </tr>\n    <tr>\n      <th>5</th>\n      <td>1</td>\n      <td>1</td>\n      <td>1</td>\n      <td>1</td>\n      <td>1</td>\n    </tr>\n    <tr>\n      <th>7</th>\n      <td>4</td>\n      <td>54</td>\n      <td>13</td>\n      <td>44</td>\n      <td>2</td>\n    </tr>\n    <tr>\n      <th>...</th>\n      <th>...</th>\n      <td>...</td>\n      <td>...</td>\n      <td>...</td>\n      <td>...</td>\n      <td>...</td>\n    </tr>\n    <tr>\n      <th rowspan=\"5\" valign=\"top\">6</th>\n      <th>5</th>\n      <td>3</td>\n      <td>117</td>\n      <td>9</td>\n      <td>91</td>\n      <td>2</td>\n    </tr>\n    <tr>\n      <th>10</th>\n      <td>1</td>\n      <td>36</td>\n      <td>5</td>\n      <td>24</td>\n      <td>2</td>\n    </tr>\n    <tr>\n      <th>26</th>\n      <td>1</td>\n      <td>46</td>\n      <td>3</td>\n      <td>28</td>\n      <td>2</td>\n    </tr>\n    <tr>\n      <th>45</th>\n      <td>1</td>\n      <td>92</td>\n      <td>6</td>\n      <td>73</td>\n      <td>2</td>\n    </tr>\n    <tr>\n      <th>51</th>\n      <td>1</td>\n      <td>22</td>\n      <td>3</td>\n      <td>14</td>\n      <td>2</td>\n    </tr>\n  </tbody>\n</table>\n<p>69 rows × 5 columns</p>\n</div>"
     },
     "execution_count": 73,
     "metadata": {},
     "output_type": "execute_result"
    }
   ],
   "source": [
    "temperature.groupby(['Склад', 'Штабель']).nunique()"
   ],
   "metadata": {
    "collapsed": false,
    "ExecuteTime": {
     "end_time": "2025-05-03T13:47:42.246779551Z",
     "start_time": "2025-05-03T13:47:42.197614118Z"
    }
   },
   "id": "20ce71dd8caf89f8"
  },
  {
   "cell_type": "markdown",
   "source": [],
   "metadata": {
    "collapsed": false
   },
   "id": "49f0a4da1d71320a"
  },
  {
   "cell_type": "code",
   "execution_count": 26,
   "outputs": [],
   "source": [
    "fires.rename(columns={'Груз': 'Марка'}, inplace=True)\n",
    "supplies.rename(columns={'Наим. ЕТСНГ' : 'Марка'}, inplace=True)"
   ],
   "metadata": {
    "collapsed": false,
    "ExecuteTime": {
     "end_time": "2025-05-04T07:31:12.998755779Z",
     "start_time": "2025-05-04T07:31:12.957659616Z"
    }
   },
   "id": "5fcc7550e09db0f9"
  },
  {
   "cell_type": "code",
   "execution_count": 40,
   "outputs": [],
   "source": [
    "from tqdm import tqdm\n",
    "\n",
    "fires = pd.read_csv('../data/fires.csv', parse_dates=['Дата начала', 'Дата оконч.'], dtype={'Склад': 'int8', 'Штабель': 'int8', 'Груз': 'category'})\n",
    "supplies = pd.read_csv('../data/supplies.csv', parse_dates=['ВыгрузкаНаСклад', 'ПогрузкаНаСудно'],\n",
    "                       dtype={'Склад': 'int8', 'Штабель': 'int8', 'На склад, тн': 'float32', 'На судно, тн': 'float32', 'Наим. ЕТСНГ': 'category'})\n",
    "temperature = pd.read_csv('../data/temperature.csv', parse_dates=['Дата акта'],\n",
    "                          dtype={'Склад': 'int8', 'Штабель': 'int8', 'Максимальная температура': 'float32', 'Марка': 'category'})\n",
    "weather_2019 = pd.read_csv('../data/weather_data_2019.csv', parse_dates=['date'],\n",
    "                           dtype={'t': 'float32', 'p': 'float32', 'humidity': 'float32', 'precipitation': 'float32',\n",
    "                                  'v_avg': 'float32', 'v_max': 'float32', 'cloudcover': 'float32', 'wind_dir': 'category'})\n",
    "weather_2020 = pd.read_csv('../data/weather_data_2020.csv', parse_dates=['date'],\n",
    "                           dtype={'t': 'float32', 'p': 'float32', 'humidity': 'float32', 'precipitation': 'float32',\n",
    "                                  'v_avg': 'float32', 'v_max': 'float32', 'cloudcover': 'float32', 'wind_dir': 'category'})\n",
    "\n",
    "weather = pd.concat([weather_2019, weather_2020])\n",
    "\n",
    "base_df = fires[['Склад', 'Штабель', 'Дата начала', 'Груз', 'Вес по акту, тн']].copy()\n",
    "base_df['Возгорание'] = 1\n",
    "base_df.rename(columns={'Дата начала': 'Дата и время', 'Груз': 'Тип угля', 'Вес по акту, тн': 'Вес угля'}, inplace=True)"
   ],
   "metadata": {
    "collapsed": false,
    "ExecuteTime": {
     "end_time": "2025-05-03T10:24:25.687556512Z",
     "start_time": "2025-05-03T10:24:25.602351890Z"
    }
   },
   "id": "eb20b14555b89c5f"
  },
  {
   "cell_type": "code",
   "execution_count": 41,
   "outputs": [
    {
     "data": {
      "text/plain": "     Склад  Штабель        Дата и время Тип угля  Вес угля  Возгорание\n0        4        6 2019-03-19 09:00:00       A1    255.00           1\n1        3       21 2019-03-24 09:00:00       B2     42.50           1\n2        3       21 2018-03-24 21:00:00       B2     72.25           1\n3        4       15 2019-06-11 09:00:00       A1    127.50           1\n4        4       22 2019-07-06 21:00:00       A1    127.50           1\n..     ...      ...                 ...      ...       ...         ...\n481      3       33 2020-09-28 09:00:00       A1     46.75           1\n482      3       33 2020-09-28 21:00:00       A1     34.00           1\n483      6        1 2020-09-28 21:00:00       A1      5.95           1\n484      3       33 2020-09-29 21:00:00       A1     34.00           1\n485      3       33 2020-09-30 09:00:00       A1    255.00           1\n\n[486 rows x 6 columns]",
      "text/html": "<div>\n<style scoped>\n    .dataframe tbody tr th:only-of-type {\n        vertical-align: middle;\n    }\n\n    .dataframe tbody tr th {\n        vertical-align: top;\n    }\n\n    .dataframe thead th {\n        text-align: right;\n    }\n</style>\n<table border=\"1\" class=\"dataframe\">\n  <thead>\n    <tr style=\"text-align: right;\">\n      <th></th>\n      <th>Склад</th>\n      <th>Штабель</th>\n      <th>Дата и время</th>\n      <th>Тип угля</th>\n      <th>Вес угля</th>\n      <th>Возгорание</th>\n    </tr>\n  </thead>\n  <tbody>\n    <tr>\n      <th>0</th>\n      <td>4</td>\n      <td>6</td>\n      <td>2019-03-19 09:00:00</td>\n      <td>A1</td>\n      <td>255.00</td>\n      <td>1</td>\n    </tr>\n    <tr>\n      <th>1</th>\n      <td>3</td>\n      <td>21</td>\n      <td>2019-03-24 09:00:00</td>\n      <td>B2</td>\n      <td>42.50</td>\n      <td>1</td>\n    </tr>\n    <tr>\n      <th>2</th>\n      <td>3</td>\n      <td>21</td>\n      <td>2018-03-24 21:00:00</td>\n      <td>B2</td>\n      <td>72.25</td>\n      <td>1</td>\n    </tr>\n    <tr>\n      <th>3</th>\n      <td>4</td>\n      <td>15</td>\n      <td>2019-06-11 09:00:00</td>\n      <td>A1</td>\n      <td>127.50</td>\n      <td>1</td>\n    </tr>\n    <tr>\n      <th>4</th>\n      <td>4</td>\n      <td>22</td>\n      <td>2019-07-06 21:00:00</td>\n      <td>A1</td>\n      <td>127.50</td>\n      <td>1</td>\n    </tr>\n    <tr>\n      <th>...</th>\n      <td>...</td>\n      <td>...</td>\n      <td>...</td>\n      <td>...</td>\n      <td>...</td>\n      <td>...</td>\n    </tr>\n    <tr>\n      <th>481</th>\n      <td>3</td>\n      <td>33</td>\n      <td>2020-09-28 09:00:00</td>\n      <td>A1</td>\n      <td>46.75</td>\n      <td>1</td>\n    </tr>\n    <tr>\n      <th>482</th>\n      <td>3</td>\n      <td>33</td>\n      <td>2020-09-28 21:00:00</td>\n      <td>A1</td>\n      <td>34.00</td>\n      <td>1</td>\n    </tr>\n    <tr>\n      <th>483</th>\n      <td>6</td>\n      <td>1</td>\n      <td>2020-09-28 21:00:00</td>\n      <td>A1</td>\n      <td>5.95</td>\n      <td>1</td>\n    </tr>\n    <tr>\n      <th>484</th>\n      <td>3</td>\n      <td>33</td>\n      <td>2020-09-29 21:00:00</td>\n      <td>A1</td>\n      <td>34.00</td>\n      <td>1</td>\n    </tr>\n    <tr>\n      <th>485</th>\n      <td>3</td>\n      <td>33</td>\n      <td>2020-09-30 09:00:00</td>\n      <td>A1</td>\n      <td>255.00</td>\n      <td>1</td>\n    </tr>\n  </tbody>\n</table>\n<p>486 rows × 6 columns</p>\n</div>"
     },
     "execution_count": 41,
     "metadata": {},
     "output_type": "execute_result"
    }
   ],
   "source": [
    "base_df"
   ],
   "metadata": {
    "collapsed": false,
    "ExecuteTime": {
     "end_time": "2025-05-03T10:24:27.014940664Z",
     "start_time": "2025-05-03T10:24:26.965697543Z"
    }
   },
   "id": "e3d308f996a20f95"
  },
  {
   "cell_type": "code",
   "execution_count": 30,
   "outputs": [
    {
     "name": "stderr",
     "output_type": "stream",
     "text": [
      "/tmp/ipykernel_6171/1485264220.py:41: FutureWarning: Series.fillna with 'method' is deprecated and will raise in a future version. Use obj.ffill() or obj.bfill() instead.\n",
      "  base_df['Максимальная температура'] = base_df.groupby(['Склад', 'Штабель'])['Максимальная температура'].fillna(method='ffill')\n"
     ]
    }
   ],
   "source": [
    "supplies['Дата и время'] = supplies['ВыгрузкаНаСклад']\n",
    "supplies_events = supplies[['Склад', 'Штабель', 'Дата и время', 'На склад, тн', 'Наим. ЕТСНГ']].copy()\n",
    "supplies_events['Возгорание'] = 0\n",
    "supplies_events.rename(columns={'Наим. ЕТСНГ': 'Тип угля'}, inplace=True)\n",
    "\n",
    "base_df = pd.concat([base_df, supplies_events[['Склад', 'Штабель', 'Дата и время', 'Тип угля', 'Возгорание']]])\n",
    "\n",
    "base_df['Дата и время'] = base_df['Дата и время'].dt.round('H')\n",
    "\n",
    "base_df = base_df.drop_duplicates(subset=['Дата и время', 'Склад', 'Штабель'])\n",
    "\n",
    "supplies['Объем угля (тн)'] = supplies.groupby(['Склад', 'Штабель'])['На склад, тн'].cumsum().fillna(0) - \\\n",
    "                              supplies.groupby(['Склад', 'Штабель'])['На судно, тн'].cumsum().fillna(0)\n",
    "base_df = base_df.merge(supplies[['Склад', 'Штабель', 'ВыгрузкаНаСклад', 'Объем угля (тн)']],\n",
    "                        left_on=['Склад', 'Штабель', 'Дата и время'], right_on=['Склад', 'Штабель', 'ВыгрузкаНаСклад'],\n",
    "                        how='left')\n",
    "base_df['Объем угля (тн)'] = base_df['Объем угля (тн)'].fillna(0)\n",
    "\n",
    "base_df = base_df.merge(temperature[['Склад', 'Штабель', 'Дата акта', 'Максимальная температура']],\n",
    "                        left_on=['Склад', 'Штабель'], right_on=['Склад', 'Штабель'], how='left')\n",
    "base_df['Максимальная температура'] = base_df.groupby(['Склад', 'Штабель'])['Максимальная температура'].fillna(method='ffill')\n",
    "\n",
    "base_df = base_df.merge(weather, left_on='Дата и время', right_on='date', how='left')\n",
    "\n",
    "# Удаление временных столбцов\n",
    "# base_df = base_df.drop(columns=['date', 'ВыгрузкаНаСклад', 'Дата акта'], errors='ignore')\n",
    "\n",
    "# # Заполнение пропусков\n",
    "# base_df['Максимальная температура'] = base_df['Максимальная температура'].fillna(base_df['Максимальная температура'].mean())\n",
    "# base_df[['t', 'p', 'humidity', 'precipitation', 'v_avg', 'v_max', 'cloudcover']] = \\\n",
    "#     base_df[['t', 'p', 'humidity', 'precipitation', 'v_avg', 'v_max', 'cloudcover']].interpolate()"
   ],
   "metadata": {
    "collapsed": false,
    "ExecuteTime": {
     "start_time": "2025-05-03T09:31:15.551585998Z"
    }
   },
   "id": "97584d84a305924"
  },
  {
   "cell_type": "code",
   "execution_count": 27,
   "outputs": [
    {
     "data": {
      "text/plain": "        Склад  Штабель        Дата и время Тип угля  Возгорание  \\\n0           4        6 2019-03-19 09:00:00       A1           1   \n1           4        6 2019-03-19 09:00:00       A1           1   \n2           4        6 2019-03-19 09:00:00       A1           1   \n3           4        6 2019-03-19 09:00:00       A1           1   \n4           4        6 2019-03-19 09:00:00       A1           1   \n...       ...      ...                 ...      ...         ...   \n537123      4       46 2020-09-30 00:00:00       A1           0   \n537124      4       46 2020-09-30 00:00:00       A1           0   \n537125      4       46 2020-09-30 00:00:00       A1           0   \n537126      4       46 2020-09-30 00:00:00       A1           0   \n537127      4       46 2020-09-30 00:00:00       A1           0   \n\n       ВыгрузкаНаСклад  Объем угля (тн)  Дата акта  Максимальная температура  \\\n0                  NaT              0.0 2020-01-19                  4.800000   \n1                  NaT              0.0 2020-01-20                  0.000000   \n2                  NaT              0.0 2020-01-20                  1.600000   \n3                  NaT              0.0 2020-01-21                  0.200000   \n4                  NaT              0.0 2020-02-03                  8.300000   \n...                ...              ...        ...                       ...   \n537123      2020-09-30           7385.0 2020-09-28                 28.799999   \n537124      2020-09-30           7385.0 2020-09-29                 35.700001   \n537125      2020-09-30           7385.0 2020-09-29                 34.400002   \n537126      2020-09-30           7385.0 2020-09-30                 29.400000   \n537127      2020-09-30           7385.0 2020-09-30                 27.200001   \n\n                      date          t            p  humidity  precipitation  \\\n0      2019-03-19 09:00:00   6.800000  1024.400024      84.0            0.0   \n1      2019-03-19 09:00:00   6.800000  1024.400024      84.0            0.0   \n2      2019-03-19 09:00:00   6.800000  1024.400024      84.0            0.0   \n3      2019-03-19 09:00:00   6.800000  1024.400024      84.0            0.0   \n4      2019-03-19 09:00:00   6.800000  1024.400024      84.0            0.0   \n...                    ...        ...          ...       ...            ...   \n537123 2020-09-30 00:00:00  22.799999  1008.099976      71.0            0.0   \n537124 2020-09-30 00:00:00  22.799999  1008.099976      71.0            0.0   \n537125 2020-09-30 00:00:00  22.799999  1008.099976      71.0            0.0   \n537126 2020-09-30 00:00:00  22.799999  1008.099976      71.0            0.0   \n537127 2020-09-30 00:00:00  22.799999  1008.099976      71.0            0.0   \n\n       wind_dir      v_avg      v_max  cloudcover  visibility  weather_code  \n0            88  18.400000  24.799999         0.0         NaN           0.0  \n1            88  18.400000  24.799999         0.0         NaN           0.0  \n2            88  18.400000  24.799999         0.0         NaN           0.0  \n3            88  18.400000  24.799999         0.0         NaN           0.0  \n4            88  18.400000  24.799999         0.0         NaN           0.0  \n...         ...        ...        ...         ...         ...           ...  \n537123      113  17.299999  24.799999        78.0         NaN           2.0  \n537124      113  17.299999  24.799999        78.0         NaN           2.0  \n537125      113  17.299999  24.799999        78.0         NaN           2.0  \n537126      113  17.299999  24.799999        78.0         NaN           2.0  \n537127      113  17.299999  24.799999        78.0         NaN           2.0  \n\n[537128 rows x 20 columns]",
      "text/html": "<div>\n<style scoped>\n    .dataframe tbody tr th:only-of-type {\n        vertical-align: middle;\n    }\n\n    .dataframe tbody tr th {\n        vertical-align: top;\n    }\n\n    .dataframe thead th {\n        text-align: right;\n    }\n</style>\n<table border=\"1\" class=\"dataframe\">\n  <thead>\n    <tr style=\"text-align: right;\">\n      <th></th>\n      <th>Склад</th>\n      <th>Штабель</th>\n      <th>Дата и время</th>\n      <th>Тип угля</th>\n      <th>Возгорание</th>\n      <th>ВыгрузкаНаСклад</th>\n      <th>Объем угля (тн)</th>\n      <th>Дата акта</th>\n      <th>Максимальная температура</th>\n      <th>date</th>\n      <th>t</th>\n      <th>p</th>\n      <th>humidity</th>\n      <th>precipitation</th>\n      <th>wind_dir</th>\n      <th>v_avg</th>\n      <th>v_max</th>\n      <th>cloudcover</th>\n      <th>visibility</th>\n      <th>weather_code</th>\n    </tr>\n  </thead>\n  <tbody>\n    <tr>\n      <th>0</th>\n      <td>4</td>\n      <td>6</td>\n      <td>2019-03-19 09:00:00</td>\n      <td>A1</td>\n      <td>1</td>\n      <td>NaT</td>\n      <td>0.0</td>\n      <td>2020-01-19</td>\n      <td>4.800000</td>\n      <td>2019-03-19 09:00:00</td>\n      <td>6.800000</td>\n      <td>1024.400024</td>\n      <td>84.0</td>\n      <td>0.0</td>\n      <td>88</td>\n      <td>18.400000</td>\n      <td>24.799999</td>\n      <td>0.0</td>\n      <td>NaN</td>\n      <td>0.0</td>\n    </tr>\n    <tr>\n      <th>1</th>\n      <td>4</td>\n      <td>6</td>\n      <td>2019-03-19 09:00:00</td>\n      <td>A1</td>\n      <td>1</td>\n      <td>NaT</td>\n      <td>0.0</td>\n      <td>2020-01-20</td>\n      <td>0.000000</td>\n      <td>2019-03-19 09:00:00</td>\n      <td>6.800000</td>\n      <td>1024.400024</td>\n      <td>84.0</td>\n      <td>0.0</td>\n      <td>88</td>\n      <td>18.400000</td>\n      <td>24.799999</td>\n      <td>0.0</td>\n      <td>NaN</td>\n      <td>0.0</td>\n    </tr>\n    <tr>\n      <th>2</th>\n      <td>4</td>\n      <td>6</td>\n      <td>2019-03-19 09:00:00</td>\n      <td>A1</td>\n      <td>1</td>\n      <td>NaT</td>\n      <td>0.0</td>\n      <td>2020-01-20</td>\n      <td>1.600000</td>\n      <td>2019-03-19 09:00:00</td>\n      <td>6.800000</td>\n      <td>1024.400024</td>\n      <td>84.0</td>\n      <td>0.0</td>\n      <td>88</td>\n      <td>18.400000</td>\n      <td>24.799999</td>\n      <td>0.0</td>\n      <td>NaN</td>\n      <td>0.0</td>\n    </tr>\n    <tr>\n      <th>3</th>\n      <td>4</td>\n      <td>6</td>\n      <td>2019-03-19 09:00:00</td>\n      <td>A1</td>\n      <td>1</td>\n      <td>NaT</td>\n      <td>0.0</td>\n      <td>2020-01-21</td>\n      <td>0.200000</td>\n      <td>2019-03-19 09:00:00</td>\n      <td>6.800000</td>\n      <td>1024.400024</td>\n      <td>84.0</td>\n      <td>0.0</td>\n      <td>88</td>\n      <td>18.400000</td>\n      <td>24.799999</td>\n      <td>0.0</td>\n      <td>NaN</td>\n      <td>0.0</td>\n    </tr>\n    <tr>\n      <th>4</th>\n      <td>4</td>\n      <td>6</td>\n      <td>2019-03-19 09:00:00</td>\n      <td>A1</td>\n      <td>1</td>\n      <td>NaT</td>\n      <td>0.0</td>\n      <td>2020-02-03</td>\n      <td>8.300000</td>\n      <td>2019-03-19 09:00:00</td>\n      <td>6.800000</td>\n      <td>1024.400024</td>\n      <td>84.0</td>\n      <td>0.0</td>\n      <td>88</td>\n      <td>18.400000</td>\n      <td>24.799999</td>\n      <td>0.0</td>\n      <td>NaN</td>\n      <td>0.0</td>\n    </tr>\n    <tr>\n      <th>...</th>\n      <td>...</td>\n      <td>...</td>\n      <td>...</td>\n      <td>...</td>\n      <td>...</td>\n      <td>...</td>\n      <td>...</td>\n      <td>...</td>\n      <td>...</td>\n      <td>...</td>\n      <td>...</td>\n      <td>...</td>\n      <td>...</td>\n      <td>...</td>\n      <td>...</td>\n      <td>...</td>\n      <td>...</td>\n      <td>...</td>\n      <td>...</td>\n      <td>...</td>\n    </tr>\n    <tr>\n      <th>537123</th>\n      <td>4</td>\n      <td>46</td>\n      <td>2020-09-30 00:00:00</td>\n      <td>A1</td>\n      <td>0</td>\n      <td>2020-09-30</td>\n      <td>7385.0</td>\n      <td>2020-09-28</td>\n      <td>28.799999</td>\n      <td>2020-09-30 00:00:00</td>\n      <td>22.799999</td>\n      <td>1008.099976</td>\n      <td>71.0</td>\n      <td>0.0</td>\n      <td>113</td>\n      <td>17.299999</td>\n      <td>24.799999</td>\n      <td>78.0</td>\n      <td>NaN</td>\n      <td>2.0</td>\n    </tr>\n    <tr>\n      <th>537124</th>\n      <td>4</td>\n      <td>46</td>\n      <td>2020-09-30 00:00:00</td>\n      <td>A1</td>\n      <td>0</td>\n      <td>2020-09-30</td>\n      <td>7385.0</td>\n      <td>2020-09-29</td>\n      <td>35.700001</td>\n      <td>2020-09-30 00:00:00</td>\n      <td>22.799999</td>\n      <td>1008.099976</td>\n      <td>71.0</td>\n      <td>0.0</td>\n      <td>113</td>\n      <td>17.299999</td>\n      <td>24.799999</td>\n      <td>78.0</td>\n      <td>NaN</td>\n      <td>2.0</td>\n    </tr>\n    <tr>\n      <th>537125</th>\n      <td>4</td>\n      <td>46</td>\n      <td>2020-09-30 00:00:00</td>\n      <td>A1</td>\n      <td>0</td>\n      <td>2020-09-30</td>\n      <td>7385.0</td>\n      <td>2020-09-29</td>\n      <td>34.400002</td>\n      <td>2020-09-30 00:00:00</td>\n      <td>22.799999</td>\n      <td>1008.099976</td>\n      <td>71.0</td>\n      <td>0.0</td>\n      <td>113</td>\n      <td>17.299999</td>\n      <td>24.799999</td>\n      <td>78.0</td>\n      <td>NaN</td>\n      <td>2.0</td>\n    </tr>\n    <tr>\n      <th>537126</th>\n      <td>4</td>\n      <td>46</td>\n      <td>2020-09-30 00:00:00</td>\n      <td>A1</td>\n      <td>0</td>\n      <td>2020-09-30</td>\n      <td>7385.0</td>\n      <td>2020-09-30</td>\n      <td>29.400000</td>\n      <td>2020-09-30 00:00:00</td>\n      <td>22.799999</td>\n      <td>1008.099976</td>\n      <td>71.0</td>\n      <td>0.0</td>\n      <td>113</td>\n      <td>17.299999</td>\n      <td>24.799999</td>\n      <td>78.0</td>\n      <td>NaN</td>\n      <td>2.0</td>\n    </tr>\n    <tr>\n      <th>537127</th>\n      <td>4</td>\n      <td>46</td>\n      <td>2020-09-30 00:00:00</td>\n      <td>A1</td>\n      <td>0</td>\n      <td>2020-09-30</td>\n      <td>7385.0</td>\n      <td>2020-09-30</td>\n      <td>27.200001</td>\n      <td>2020-09-30 00:00:00</td>\n      <td>22.799999</td>\n      <td>1008.099976</td>\n      <td>71.0</td>\n      <td>0.0</td>\n      <td>113</td>\n      <td>17.299999</td>\n      <td>24.799999</td>\n      <td>78.0</td>\n      <td>NaN</td>\n      <td>2.0</td>\n    </tr>\n  </tbody>\n</table>\n<p>537128 rows × 20 columns</p>\n</div>"
     },
     "execution_count": 27,
     "metadata": {},
     "output_type": "execute_result"
    }
   ],
   "source": [
    "base_df"
   ],
   "metadata": {
    "collapsed": false,
    "ExecuteTime": {
     "end_time": "2025-05-03T09:27:01.125480260Z",
     "start_time": "2025-05-03T09:27:01.108182654Z"
    }
   },
   "id": "7206dea2f5e0cdef"
  },
  {
   "cell_type": "code",
   "execution_count": 39,
   "outputs": [
    {
     "data": {
      "text/plain": "0       1.198419e+04\n1       3.913825e+03\n2       1.162691e+04\n3       1.847815e+02\n4       9.520331e+03\n            ...     \n6318    1.954665e+05\n6319    2.746535e+05\n6320    3.303718e+06\n6321    3.315553e+06\n6322    3.319286e+06\nName: На склад, тн, Length: 6323, dtype: float32"
     },
     "execution_count": 39,
     "metadata": {},
     "output_type": "execute_result"
    }
   ],
   "source": [
    "supplies.groupby(['Склад', 'Штабель'])['На склад, тн'].cumsum()"
   ],
   "metadata": {
    "collapsed": false,
    "ExecuteTime": {
     "end_time": "2025-05-03T10:06:49.125703820Z",
     "start_time": "2025-05-03T10:06:49.082791668Z"
    }
   },
   "id": "c33f022289ef81e1"
  },
  {
   "cell_type": "code",
   "execution_count": 28,
   "outputs": [
    {
     "data": {
      "text/plain": "Склад                            0\nШтабель                          0\nДата и время                     0\nТип угля                         0\nВозгорание                       0\nВыгрузкаНаСклад             101870\nОбъем угля (тн)                  0\nДата акта                     1335\nМаксимальная температура      1335\ndate                           483\nt                              483\np                              483\nhumidity                       483\nprecipitation                  483\nwind_dir                       483\nv_avg                          483\nv_max                          483\ncloudcover                     483\nvisibility                  537128\nweather_code                   483\ndtype: int64"
     },
     "execution_count": 28,
     "metadata": {},
     "output_type": "execute_result"
    }
   ],
   "source": [
    "base_df.isnull().sum()"
   ],
   "metadata": {
    "collapsed": false,
    "ExecuteTime": {
     "end_time": "2025-05-03T09:28:25.638774176Z",
     "start_time": "2025-05-03T09:28:25.592149688Z"
    }
   },
   "id": "91ce41e603fc020f"
  },
  {
   "cell_type": "code",
   "execution_count": 31,
   "outputs": [],
   "source": [
    "base_df = base_df.drop(columns=['ВыгрузкаНаСклад'], inplace=True)\n",
    "base_df"
   ],
   "metadata": {
    "collapsed": false,
    "ExecuteTime": {
     "end_time": "2025-05-03T09:31:54.407527177Z",
     "start_time": "2025-05-03T09:31:54.365364916Z"
    }
   },
   "id": "bf5d6fd7a57af086"
  },
  {
   "cell_type": "code",
   "execution_count": 66,
   "outputs": [],
   "source": [
    "supplies['ВыгрузкаНаСклад'] = pd.to_datetime(supplies['ВыгрузкаНаСклад'], errors='coerce')\n",
    "supplies['ПогрузкаНаСудно'] = pd.to_datetime(supplies['ПогрузкаНаСудно'], errors='coerce')\n",
    "\n",
    "fires['Нач.форм.штабеля'] = pd.to_datetime(fires['Нач.форм.штабеля'], errors='coerce')\n",
    "fires['Дата начала'] = pd.to_datetime(fires['Дата начала'], errors='coerce').dt.normalize()"
   ],
   "metadata": {
    "collapsed": false,
    "ExecuteTime": {
     "end_time": "2025-05-04T09:29:41.024472935Z",
     "start_time": "2025-05-04T09:29:40.987042574Z"
    }
   },
   "id": "98946d902610fd8f"
  },
  {
   "cell_type": "code",
   "execution_count": 55,
   "outputs": [
    {
     "name": "stdout",
     "output_type": "stream",
     "text": [
      "<class 'pandas.core.frame.DataFrame'>\n",
      "RangeIndex: 6323 entries, 0 to 6322\n",
      "Data columns (total 8 columns):\n",
      " #   Column           Non-Null Count  Dtype         \n",
      "---  ------           --------------  -----         \n",
      " 0   ВыгрузкаНаСклад  6323 non-null   datetime64[ns]\n",
      " 1   Марка            6323 non-null   object        \n",
      " 2   Штабель          6323 non-null   int64         \n",
      " 3   ПогрузкаНаСудно  6323 non-null   datetime64[ns]\n",
      " 4   На склад, тн     6323 non-null   float64       \n",
      " 5   На судно, тн     6321 non-null   float64       \n",
      " 6   Склад            6323 non-null   int64         \n",
      " 7   Масса угля       6323 non-null   float64       \n",
      "dtypes: datetime64[ns](2), float64(3), int64(2), object(1)\n",
      "memory usage: 395.3+ KB\n"
     ]
    }
   ],
   "source": [
    "supplies.info()"
   ],
   "metadata": {
    "collapsed": false,
    "ExecuteTime": {
     "end_time": "2025-05-04T09:13:33.265274858Z",
     "start_time": "2025-05-04T09:13:33.252716925Z"
    }
   },
   "id": "d642600385e9e27d"
  },
  {
   "cell_type": "code",
   "execution_count": 7,
   "outputs": [],
   "source": [
    "supplies = supplies[supplies['ВыгрузкаНаСклад'] >= pd.to_datetime('01.03.2019')]\n",
    "fires = fires[fires['Нач.форм.штабеля'] >= pd.to_datetime('01.03.2019')]"
   ],
   "metadata": {
    "collapsed": false,
    "ExecuteTime": {
     "end_time": "2025-05-04T07:01:38.860273462Z",
     "start_time": "2025-05-04T07:01:38.817986900Z"
    }
   },
   "id": "e43d825ed95773ad"
  },
  {
   "cell_type": "code",
   "execution_count": 8,
   "outputs": [
    {
     "data": {
      "text/plain": "     ВыгрузкаНаСклад Марка  Штабель ПогрузкаНаСудно  На склад, тн  \\\n7         2019-01-03    G7        9      2019-03-11      550.7405   \n8         2019-01-03    G7        9      2019-03-11     9776.2750   \n9         2019-01-03    A1       21      2019-01-22     5278.8655   \n10        2019-01-03    A1       37      2019-02-23    22729.3825   \n11        2019-01-03    A1        6      2019-02-08     1289.7390   \n...              ...   ...      ...             ...           ...   \n6318      2020-09-30    E5       15      2020-10-18    12979.1345   \n6319      2020-09-30    A1       15      2020-10-18    79187.0030   \n6320      2020-09-30    A1       46      2020-10-13    15870.3755   \n6321      2020-09-30    A1       46      2020-10-16    11834.6605   \n6322      2020-09-30    A1       46      2020-10-29     3732.9110   \n\n      На судно, тн  Склад  \n7         550.7405      4  \n8        9776.2750      4  \n9        5278.8655      3  \n10      22729.3825      3  \n11       1289.7390      4  \n...            ...    ...  \n6318    12979.1345      3  \n6319    79187.0030      3  \n6320    15641.7765      4  \n6321    11781.4165      4  \n6322     3609.8140      4  \n\n[6316 rows x 7 columns]",
      "text/html": "<div>\n<style scoped>\n    .dataframe tbody tr th:only-of-type {\n        vertical-align: middle;\n    }\n\n    .dataframe tbody tr th {\n        vertical-align: top;\n    }\n\n    .dataframe thead th {\n        text-align: right;\n    }\n</style>\n<table border=\"1\" class=\"dataframe\">\n  <thead>\n    <tr style=\"text-align: right;\">\n      <th></th>\n      <th>ВыгрузкаНаСклад</th>\n      <th>Марка</th>\n      <th>Штабель</th>\n      <th>ПогрузкаНаСудно</th>\n      <th>На склад, тн</th>\n      <th>На судно, тн</th>\n      <th>Склад</th>\n    </tr>\n  </thead>\n  <tbody>\n    <tr>\n      <th>7</th>\n      <td>2019-01-03</td>\n      <td>G7</td>\n      <td>9</td>\n      <td>2019-03-11</td>\n      <td>550.7405</td>\n      <td>550.7405</td>\n      <td>4</td>\n    </tr>\n    <tr>\n      <th>8</th>\n      <td>2019-01-03</td>\n      <td>G7</td>\n      <td>9</td>\n      <td>2019-03-11</td>\n      <td>9776.2750</td>\n      <td>9776.2750</td>\n      <td>4</td>\n    </tr>\n    <tr>\n      <th>9</th>\n      <td>2019-01-03</td>\n      <td>A1</td>\n      <td>21</td>\n      <td>2019-01-22</td>\n      <td>5278.8655</td>\n      <td>5278.8655</td>\n      <td>3</td>\n    </tr>\n    <tr>\n      <th>10</th>\n      <td>2019-01-03</td>\n      <td>A1</td>\n      <td>37</td>\n      <td>2019-02-23</td>\n      <td>22729.3825</td>\n      <td>22729.3825</td>\n      <td>3</td>\n    </tr>\n    <tr>\n      <th>11</th>\n      <td>2019-01-03</td>\n      <td>A1</td>\n      <td>6</td>\n      <td>2019-02-08</td>\n      <td>1289.7390</td>\n      <td>1289.7390</td>\n      <td>4</td>\n    </tr>\n    <tr>\n      <th>...</th>\n      <td>...</td>\n      <td>...</td>\n      <td>...</td>\n      <td>...</td>\n      <td>...</td>\n      <td>...</td>\n      <td>...</td>\n    </tr>\n    <tr>\n      <th>6318</th>\n      <td>2020-09-30</td>\n      <td>E5</td>\n      <td>15</td>\n      <td>2020-10-18</td>\n      <td>12979.1345</td>\n      <td>12979.1345</td>\n      <td>3</td>\n    </tr>\n    <tr>\n      <th>6319</th>\n      <td>2020-09-30</td>\n      <td>A1</td>\n      <td>15</td>\n      <td>2020-10-18</td>\n      <td>79187.0030</td>\n      <td>79187.0030</td>\n      <td>3</td>\n    </tr>\n    <tr>\n      <th>6320</th>\n      <td>2020-09-30</td>\n      <td>A1</td>\n      <td>46</td>\n      <td>2020-10-13</td>\n      <td>15870.3755</td>\n      <td>15641.7765</td>\n      <td>4</td>\n    </tr>\n    <tr>\n      <th>6321</th>\n      <td>2020-09-30</td>\n      <td>A1</td>\n      <td>46</td>\n      <td>2020-10-16</td>\n      <td>11834.6605</td>\n      <td>11781.4165</td>\n      <td>4</td>\n    </tr>\n    <tr>\n      <th>6322</th>\n      <td>2020-09-30</td>\n      <td>A1</td>\n      <td>46</td>\n      <td>2020-10-29</td>\n      <td>3732.9110</td>\n      <td>3609.8140</td>\n      <td>4</td>\n    </tr>\n  </tbody>\n</table>\n<p>6316 rows × 7 columns</p>\n</div>"
     },
     "execution_count": 8,
     "metadata": {},
     "output_type": "execute_result"
    }
   ],
   "source": [
    "supplies"
   ],
   "metadata": {
    "collapsed": false,
    "ExecuteTime": {
     "end_time": "2025-05-04T07:01:42.299775819Z",
     "start_time": "2025-05-04T07:01:42.273433798Z"
    }
   },
   "id": "cef91bc805bbd63f"
  },
  {
   "cell_type": "code",
   "execution_count": 37,
   "outputs": [
    {
     "data": {
      "text/plain": "    Дата составления Марка  Вес по акту, тн  Склад         Дата начала  \\\n0         2019-03-19    A1           255.00      4 2019-03-19 09:00:00   \n1         2019-03-24    B2            42.50      3 2019-03-24 09:00:00   \n2         2019-03-25    B2            72.25      3 2019-03-24 21:00:00   \n3         2019-06-11    A1           127.50      4 2019-06-11 09:00:00   \n4         2019-07-07    A1           127.50      4 2019-07-06 21:00:00   \n..               ...   ...              ...    ...                 ...   \n481       2020-09-28    A1            46.75      3 2020-09-28 09:00:00   \n482       2020-09-29    A1            34.00      3 2020-09-28 21:00:00   \n483       2020-09-29    A1             5.95      6 2020-09-28 21:00:00   \n484       2020-09-30    A1            34.00      3 2020-09-29 21:00:00   \n485       2020-09-30    A1           255.00      3 2020-09-30 09:00:00   \n\n            Дата оконч.    Нач.форм.штабеля  Штабель  \n0   2019-03-19 21:00:00 2018-11-23 00:00:00        6  \n1   2019-03-24 21:00:00 2019-01-03 00:00:00       21  \n2   2019-03-25 09:00:00 2019-01-03 00:00:00       21  \n3   2019-06-11 21:00:00 2019-04-28 23:55:00       15  \n4   2019-07-07 09:00:00 2019-05-19 00:00:00       22  \n..                  ...                 ...      ...  \n481 2020-09-28 21:00:00 2020-08-09 09:00:00       33  \n482 2020-09-29 09:00:00 2020-08-09 09:00:00       33  \n483 2020-09-29 09:00:00 2020-03-15 00:00:00        1  \n484 2020-09-30 09:00:00 2020-08-09 09:00:00       33  \n485 2020-09-30 21:00:00 2020-08-09 09:00:00       33  \n\n[486 rows x 8 columns]",
      "text/html": "<div>\n<style scoped>\n    .dataframe tbody tr th:only-of-type {\n        vertical-align: middle;\n    }\n\n    .dataframe tbody tr th {\n        vertical-align: top;\n    }\n\n    .dataframe thead th {\n        text-align: right;\n    }\n</style>\n<table border=\"1\" class=\"dataframe\">\n  <thead>\n    <tr style=\"text-align: right;\">\n      <th></th>\n      <th>Дата составления</th>\n      <th>Марка</th>\n      <th>Вес по акту, тн</th>\n      <th>Склад</th>\n      <th>Дата начала</th>\n      <th>Дата оконч.</th>\n      <th>Нач.форм.штабеля</th>\n      <th>Штабель</th>\n    </tr>\n  </thead>\n  <tbody>\n    <tr>\n      <th>0</th>\n      <td>2019-03-19</td>\n      <td>A1</td>\n      <td>255.00</td>\n      <td>4</td>\n      <td>2019-03-19 09:00:00</td>\n      <td>2019-03-19 21:00:00</td>\n      <td>2018-11-23 00:00:00</td>\n      <td>6</td>\n    </tr>\n    <tr>\n      <th>1</th>\n      <td>2019-03-24</td>\n      <td>B2</td>\n      <td>42.50</td>\n      <td>3</td>\n      <td>2019-03-24 09:00:00</td>\n      <td>2019-03-24 21:00:00</td>\n      <td>2019-01-03 00:00:00</td>\n      <td>21</td>\n    </tr>\n    <tr>\n      <th>2</th>\n      <td>2019-03-25</td>\n      <td>B2</td>\n      <td>72.25</td>\n      <td>3</td>\n      <td>2019-03-24 21:00:00</td>\n      <td>2019-03-25 09:00:00</td>\n      <td>2019-01-03 00:00:00</td>\n      <td>21</td>\n    </tr>\n    <tr>\n      <th>3</th>\n      <td>2019-06-11</td>\n      <td>A1</td>\n      <td>127.50</td>\n      <td>4</td>\n      <td>2019-06-11 09:00:00</td>\n      <td>2019-06-11 21:00:00</td>\n      <td>2019-04-28 23:55:00</td>\n      <td>15</td>\n    </tr>\n    <tr>\n      <th>4</th>\n      <td>2019-07-07</td>\n      <td>A1</td>\n      <td>127.50</td>\n      <td>4</td>\n      <td>2019-07-06 21:00:00</td>\n      <td>2019-07-07 09:00:00</td>\n      <td>2019-05-19 00:00:00</td>\n      <td>22</td>\n    </tr>\n    <tr>\n      <th>...</th>\n      <td>...</td>\n      <td>...</td>\n      <td>...</td>\n      <td>...</td>\n      <td>...</td>\n      <td>...</td>\n      <td>...</td>\n      <td>...</td>\n    </tr>\n    <tr>\n      <th>481</th>\n      <td>2020-09-28</td>\n      <td>A1</td>\n      <td>46.75</td>\n      <td>3</td>\n      <td>2020-09-28 09:00:00</td>\n      <td>2020-09-28 21:00:00</td>\n      <td>2020-08-09 09:00:00</td>\n      <td>33</td>\n    </tr>\n    <tr>\n      <th>482</th>\n      <td>2020-09-29</td>\n      <td>A1</td>\n      <td>34.00</td>\n      <td>3</td>\n      <td>2020-09-28 21:00:00</td>\n      <td>2020-09-29 09:00:00</td>\n      <td>2020-08-09 09:00:00</td>\n      <td>33</td>\n    </tr>\n    <tr>\n      <th>483</th>\n      <td>2020-09-29</td>\n      <td>A1</td>\n      <td>5.95</td>\n      <td>6</td>\n      <td>2020-09-28 21:00:00</td>\n      <td>2020-09-29 09:00:00</td>\n      <td>2020-03-15 00:00:00</td>\n      <td>1</td>\n    </tr>\n    <tr>\n      <th>484</th>\n      <td>2020-09-30</td>\n      <td>A1</td>\n      <td>34.00</td>\n      <td>3</td>\n      <td>2020-09-29 21:00:00</td>\n      <td>2020-09-30 09:00:00</td>\n      <td>2020-08-09 09:00:00</td>\n      <td>33</td>\n    </tr>\n    <tr>\n      <th>485</th>\n      <td>2020-09-30</td>\n      <td>A1</td>\n      <td>255.00</td>\n      <td>3</td>\n      <td>2020-09-30 09:00:00</td>\n      <td>2020-09-30 21:00:00</td>\n      <td>2020-08-09 09:00:00</td>\n      <td>33</td>\n    </tr>\n  </tbody>\n</table>\n<p>486 rows × 8 columns</p>\n</div>"
     },
     "execution_count": 37,
     "metadata": {},
     "output_type": "execute_result"
    }
   ],
   "source": [
    "fires"
   ],
   "metadata": {
    "collapsed": false,
    "ExecuteTime": {
     "end_time": "2025-05-04T08:02:40.027380918Z",
     "start_time": "2025-05-04T08:02:40.001022628Z"
    }
   },
   "id": "aca19208e1d939a0"
  },
  {
   "cell_type": "code",
   "execution_count": 93,
   "outputs": [
    {
     "data": {
      "text/plain": "      Марка  Склад  Штабель  На склад, тн Дата составления  Вес по акту, тн  \\\n0        A1      4        6     1289.7390       2020-05-14           680.00   \n1        A1      4        6     1289.7390       2020-05-15           212.50   \n2        A1      4        6     2210.9860       2020-05-14           680.00   \n3        A1      4        6     2210.9860       2020-05-15           212.50   \n4        A1      4        6    20451.6375       2020-05-14           680.00   \n...     ...    ...      ...           ...              ...              ...   \n38843    A1      3       33      603.7465       2020-09-28            25.50   \n38844    A1      3       33      603.7465       2020-09-28            46.75   \n38845    A1      3       33      603.7465       2020-09-29            34.00   \n38846    A1      3       33      603.7465       2020-09-30            34.00   \n38847    A1      3       33      603.7465       2020-09-30           255.00   \n\n              Дата начала         Дата оконч.    Нач.форм.штабеля  \n0     2020-05-14 14:00:00 2020-05-14 19:00:00 2019-12-22 10:10:00  \n1     2020-05-14 21:00:00 2020-05-15 05:00:00 2019-12-22 10:10:00  \n2     2020-05-14 14:00:00 2020-05-14 19:00:00 2019-12-22 10:10:00  \n3     2020-05-14 21:00:00 2020-05-15 05:00:00 2019-12-22 10:10:00  \n4     2020-05-14 14:00:00 2020-05-14 19:00:00 2019-12-22 10:10:00  \n...                   ...                 ...                 ...  \n38843 2020-09-27 21:00:00 2020-09-28 09:00:00 2020-08-09 09:00:00  \n38844 2020-09-28 09:00:00 2020-09-28 21:00:00 2020-08-09 09:00:00  \n38845 2020-09-28 21:00:00 2020-09-29 09:00:00 2020-08-09 09:00:00  \n38846 2020-09-29 21:00:00 2020-09-30 09:00:00 2020-08-09 09:00:00  \n38847 2020-09-30 09:00:00 2020-09-30 21:00:00 2020-08-09 09:00:00  \n\n[38848 rows x 9 columns]",
      "text/html": "<div>\n<style scoped>\n    .dataframe tbody tr th:only-of-type {\n        vertical-align: middle;\n    }\n\n    .dataframe tbody tr th {\n        vertical-align: top;\n    }\n\n    .dataframe thead th {\n        text-align: right;\n    }\n</style>\n<table border=\"1\" class=\"dataframe\">\n  <thead>\n    <tr style=\"text-align: right;\">\n      <th></th>\n      <th>Марка</th>\n      <th>Склад</th>\n      <th>Штабель</th>\n      <th>На склад, тн</th>\n      <th>Дата составления</th>\n      <th>Вес по акту, тн</th>\n      <th>Дата начала</th>\n      <th>Дата оконч.</th>\n      <th>Нач.форм.штабеля</th>\n    </tr>\n  </thead>\n  <tbody>\n    <tr>\n      <th>0</th>\n      <td>A1</td>\n      <td>4</td>\n      <td>6</td>\n      <td>1289.7390</td>\n      <td>2020-05-14</td>\n      <td>680.00</td>\n      <td>2020-05-14 14:00:00</td>\n      <td>2020-05-14 19:00:00</td>\n      <td>2019-12-22 10:10:00</td>\n    </tr>\n    <tr>\n      <th>1</th>\n      <td>A1</td>\n      <td>4</td>\n      <td>6</td>\n      <td>1289.7390</td>\n      <td>2020-05-15</td>\n      <td>212.50</td>\n      <td>2020-05-14 21:00:00</td>\n      <td>2020-05-15 05:00:00</td>\n      <td>2019-12-22 10:10:00</td>\n    </tr>\n    <tr>\n      <th>2</th>\n      <td>A1</td>\n      <td>4</td>\n      <td>6</td>\n      <td>2210.9860</td>\n      <td>2020-05-14</td>\n      <td>680.00</td>\n      <td>2020-05-14 14:00:00</td>\n      <td>2020-05-14 19:00:00</td>\n      <td>2019-12-22 10:10:00</td>\n    </tr>\n    <tr>\n      <th>3</th>\n      <td>A1</td>\n      <td>4</td>\n      <td>6</td>\n      <td>2210.9860</td>\n      <td>2020-05-15</td>\n      <td>212.50</td>\n      <td>2020-05-14 21:00:00</td>\n      <td>2020-05-15 05:00:00</td>\n      <td>2019-12-22 10:10:00</td>\n    </tr>\n    <tr>\n      <th>4</th>\n      <td>A1</td>\n      <td>4</td>\n      <td>6</td>\n      <td>20451.6375</td>\n      <td>2020-05-14</td>\n      <td>680.00</td>\n      <td>2020-05-14 14:00:00</td>\n      <td>2020-05-14 19:00:00</td>\n      <td>2019-12-22 10:10:00</td>\n    </tr>\n    <tr>\n      <th>...</th>\n      <td>...</td>\n      <td>...</td>\n      <td>...</td>\n      <td>...</td>\n      <td>...</td>\n      <td>...</td>\n      <td>...</td>\n      <td>...</td>\n      <td>...</td>\n    </tr>\n    <tr>\n      <th>38843</th>\n      <td>A1</td>\n      <td>3</td>\n      <td>33</td>\n      <td>603.7465</td>\n      <td>2020-09-28</td>\n      <td>25.50</td>\n      <td>2020-09-27 21:00:00</td>\n      <td>2020-09-28 09:00:00</td>\n      <td>2020-08-09 09:00:00</td>\n    </tr>\n    <tr>\n      <th>38844</th>\n      <td>A1</td>\n      <td>3</td>\n      <td>33</td>\n      <td>603.7465</td>\n      <td>2020-09-28</td>\n      <td>46.75</td>\n      <td>2020-09-28 09:00:00</td>\n      <td>2020-09-28 21:00:00</td>\n      <td>2020-08-09 09:00:00</td>\n    </tr>\n    <tr>\n      <th>38845</th>\n      <td>A1</td>\n      <td>3</td>\n      <td>33</td>\n      <td>603.7465</td>\n      <td>2020-09-29</td>\n      <td>34.00</td>\n      <td>2020-09-28 21:00:00</td>\n      <td>2020-09-29 09:00:00</td>\n      <td>2020-08-09 09:00:00</td>\n    </tr>\n    <tr>\n      <th>38846</th>\n      <td>A1</td>\n      <td>3</td>\n      <td>33</td>\n      <td>603.7465</td>\n      <td>2020-09-30</td>\n      <td>34.00</td>\n      <td>2020-09-29 21:00:00</td>\n      <td>2020-09-30 09:00:00</td>\n      <td>2020-08-09 09:00:00</td>\n    </tr>\n    <tr>\n      <th>38847</th>\n      <td>A1</td>\n      <td>3</td>\n      <td>33</td>\n      <td>603.7465</td>\n      <td>2020-09-30</td>\n      <td>255.00</td>\n      <td>2020-09-30 09:00:00</td>\n      <td>2020-09-30 21:00:00</td>\n      <td>2020-08-09 09:00:00</td>\n    </tr>\n  </tbody>\n</table>\n<p>38848 rows × 9 columns</p>\n</div>"
     },
     "execution_count": 93,
     "metadata": {},
     "output_type": "execute_result"
    }
   ],
   "source": [
    "full_data = supplies[['Марка', 'Склад', 'Штабель', 'ВыгрузкаНаСклад']].copy()\n",
    "full_data = pd.merge(full_data, fires, how='inner', on=['Марка', 'Склад', 'Штабель'])\n",
    "full_data"
   ],
   "metadata": {
    "collapsed": false,
    "ExecuteTime": {
     "end_time": "2025-05-03T15:24:35.597848484Z",
     "start_time": "2025-05-03T15:24:35.475631133Z"
    }
   },
   "id": "6a49344c74523e3d"
  },
  {
   "cell_type": "code",
   "execution_count": 94,
   "outputs": [
    {
     "data": {
      "text/plain": "               Марка  На склад, тн  Дата составления  Вес по акту, тн  \\\nШтабель Склад                                                           \n1       3          1            15                22               16   \n        6          1            49                83               43   \n3       4          1            50                10                7   \n4       3          1           153                 1                1   \n        6          1            13                52               35   \n5       6          1            16                12               10   \n6       4          1           138                 2                2   \n9       4          1            70                14               19   \n10      3          1           133                 1                2   \n12      4          1           128                 1                1   \n13      3          1            51                 2                2   \n        4          1            38                 1                1   \n15      4          1            41                 4                4   \n16      4          1           115                 2                2   \n18      3          1            65                13               12   \n21      3          1            29                 2                2   \n22      4          1            65                20               15   \n23      4          2           116                 4                3   \n33      3          1            58                18               15   \n39      4          1           201                41               34   \n40      4          1            88                16               12   \n41      3          1            53                 3                3   \n42      3          1            49                 4                4   \n46      4          1           226                26               13   \n48      3          1            45                10                7   \n\n               Дата начала  Дата оконч.  Нач.форм.штабеля  \nШтабель Склад                                              \n1       3               28           28                 1  \n        6              110          109                 2  \n3       4               11           11                 1  \n4       3                1            1                 1  \n        6               68           68                 1  \n5       6               14           14                 2  \n6       4                2            2                 1  \n9       4               22           23                 1  \n10      3                2            2                 1  \n12      4                1            1                 1  \n13      3                2            2                 1  \n        4                1            1                 1  \n15      4                4            4                 1  \n16      4                2            2                 1  \n18      3               16           15                 1  \n21      3                2            2                 1  \n22      4               22           22                 2  \n23      4                4            4                 1  \n33      3               24           24                 2  \n39      4               57           57                 2  \n40      4               18           18                 2  \n41      3                3            3                 1  \n42      3                5            5                 1  \n46      4               32           32                 1  \n48      3               14           14                 1  ",
      "text/html": "<div>\n<style scoped>\n    .dataframe tbody tr th:only-of-type {\n        vertical-align: middle;\n    }\n\n    .dataframe tbody tr th {\n        vertical-align: top;\n    }\n\n    .dataframe thead th {\n        text-align: right;\n    }\n</style>\n<table border=\"1\" class=\"dataframe\">\n  <thead>\n    <tr style=\"text-align: right;\">\n      <th></th>\n      <th></th>\n      <th>Марка</th>\n      <th>На склад, тн</th>\n      <th>Дата составления</th>\n      <th>Вес по акту, тн</th>\n      <th>Дата начала</th>\n      <th>Дата оконч.</th>\n      <th>Нач.форм.штабеля</th>\n    </tr>\n    <tr>\n      <th>Штабель</th>\n      <th>Склад</th>\n      <th></th>\n      <th></th>\n      <th></th>\n      <th></th>\n      <th></th>\n      <th></th>\n      <th></th>\n    </tr>\n  </thead>\n  <tbody>\n    <tr>\n      <th rowspan=\"2\" valign=\"top\">1</th>\n      <th>3</th>\n      <td>1</td>\n      <td>15</td>\n      <td>22</td>\n      <td>16</td>\n      <td>28</td>\n      <td>28</td>\n      <td>1</td>\n    </tr>\n    <tr>\n      <th>6</th>\n      <td>1</td>\n      <td>49</td>\n      <td>83</td>\n      <td>43</td>\n      <td>110</td>\n      <td>109</td>\n      <td>2</td>\n    </tr>\n    <tr>\n      <th>3</th>\n      <th>4</th>\n      <td>1</td>\n      <td>50</td>\n      <td>10</td>\n      <td>7</td>\n      <td>11</td>\n      <td>11</td>\n      <td>1</td>\n    </tr>\n    <tr>\n      <th rowspan=\"2\" valign=\"top\">4</th>\n      <th>3</th>\n      <td>1</td>\n      <td>153</td>\n      <td>1</td>\n      <td>1</td>\n      <td>1</td>\n      <td>1</td>\n      <td>1</td>\n    </tr>\n    <tr>\n      <th>6</th>\n      <td>1</td>\n      <td>13</td>\n      <td>52</td>\n      <td>35</td>\n      <td>68</td>\n      <td>68</td>\n      <td>1</td>\n    </tr>\n    <tr>\n      <th>5</th>\n      <th>6</th>\n      <td>1</td>\n      <td>16</td>\n      <td>12</td>\n      <td>10</td>\n      <td>14</td>\n      <td>14</td>\n      <td>2</td>\n    </tr>\n    <tr>\n      <th>6</th>\n      <th>4</th>\n      <td>1</td>\n      <td>138</td>\n      <td>2</td>\n      <td>2</td>\n      <td>2</td>\n      <td>2</td>\n      <td>1</td>\n    </tr>\n    <tr>\n      <th>9</th>\n      <th>4</th>\n      <td>1</td>\n      <td>70</td>\n      <td>14</td>\n      <td>19</td>\n      <td>22</td>\n      <td>23</td>\n      <td>1</td>\n    </tr>\n    <tr>\n      <th>10</th>\n      <th>3</th>\n      <td>1</td>\n      <td>133</td>\n      <td>1</td>\n      <td>2</td>\n      <td>2</td>\n      <td>2</td>\n      <td>1</td>\n    </tr>\n    <tr>\n      <th>12</th>\n      <th>4</th>\n      <td>1</td>\n      <td>128</td>\n      <td>1</td>\n      <td>1</td>\n      <td>1</td>\n      <td>1</td>\n      <td>1</td>\n    </tr>\n    <tr>\n      <th rowspan=\"2\" valign=\"top\">13</th>\n      <th>3</th>\n      <td>1</td>\n      <td>51</td>\n      <td>2</td>\n      <td>2</td>\n      <td>2</td>\n      <td>2</td>\n      <td>1</td>\n    </tr>\n    <tr>\n      <th>4</th>\n      <td>1</td>\n      <td>38</td>\n      <td>1</td>\n      <td>1</td>\n      <td>1</td>\n      <td>1</td>\n      <td>1</td>\n    </tr>\n    <tr>\n      <th>15</th>\n      <th>4</th>\n      <td>1</td>\n      <td>41</td>\n      <td>4</td>\n      <td>4</td>\n      <td>4</td>\n      <td>4</td>\n      <td>1</td>\n    </tr>\n    <tr>\n      <th>16</th>\n      <th>4</th>\n      <td>1</td>\n      <td>115</td>\n      <td>2</td>\n      <td>2</td>\n      <td>2</td>\n      <td>2</td>\n      <td>1</td>\n    </tr>\n    <tr>\n      <th>18</th>\n      <th>3</th>\n      <td>1</td>\n      <td>65</td>\n      <td>13</td>\n      <td>12</td>\n      <td>16</td>\n      <td>15</td>\n      <td>1</td>\n    </tr>\n    <tr>\n      <th>21</th>\n      <th>3</th>\n      <td>1</td>\n      <td>29</td>\n      <td>2</td>\n      <td>2</td>\n      <td>2</td>\n      <td>2</td>\n      <td>1</td>\n    </tr>\n    <tr>\n      <th>22</th>\n      <th>4</th>\n      <td>1</td>\n      <td>65</td>\n      <td>20</td>\n      <td>15</td>\n      <td>22</td>\n      <td>22</td>\n      <td>2</td>\n    </tr>\n    <tr>\n      <th>23</th>\n      <th>4</th>\n      <td>2</td>\n      <td>116</td>\n      <td>4</td>\n      <td>3</td>\n      <td>4</td>\n      <td>4</td>\n      <td>1</td>\n    </tr>\n    <tr>\n      <th>33</th>\n      <th>3</th>\n      <td>1</td>\n      <td>58</td>\n      <td>18</td>\n      <td>15</td>\n      <td>24</td>\n      <td>24</td>\n      <td>2</td>\n    </tr>\n    <tr>\n      <th>39</th>\n      <th>4</th>\n      <td>1</td>\n      <td>201</td>\n      <td>41</td>\n      <td>34</td>\n      <td>57</td>\n      <td>57</td>\n      <td>2</td>\n    </tr>\n    <tr>\n      <th>40</th>\n      <th>4</th>\n      <td>1</td>\n      <td>88</td>\n      <td>16</td>\n      <td>12</td>\n      <td>18</td>\n      <td>18</td>\n      <td>2</td>\n    </tr>\n    <tr>\n      <th>41</th>\n      <th>3</th>\n      <td>1</td>\n      <td>53</td>\n      <td>3</td>\n      <td>3</td>\n      <td>3</td>\n      <td>3</td>\n      <td>1</td>\n    </tr>\n    <tr>\n      <th>42</th>\n      <th>3</th>\n      <td>1</td>\n      <td>49</td>\n      <td>4</td>\n      <td>4</td>\n      <td>5</td>\n      <td>5</td>\n      <td>1</td>\n    </tr>\n    <tr>\n      <th>46</th>\n      <th>4</th>\n      <td>1</td>\n      <td>226</td>\n      <td>26</td>\n      <td>13</td>\n      <td>32</td>\n      <td>32</td>\n      <td>1</td>\n    </tr>\n    <tr>\n      <th>48</th>\n      <th>3</th>\n      <td>1</td>\n      <td>45</td>\n      <td>10</td>\n      <td>7</td>\n      <td>14</td>\n      <td>14</td>\n      <td>1</td>\n    </tr>\n  </tbody>\n</table>\n</div>"
     },
     "execution_count": 94,
     "metadata": {},
     "output_type": "execute_result"
    }
   ],
   "source": [
    "full_data.groupby(['Штабель', 'Склад']).nunique()"
   ],
   "metadata": {
    "collapsed": false,
    "ExecuteTime": {
     "end_time": "2025-05-03T15:25:36.281756545Z",
     "start_time": "2025-05-03T15:25:36.232256583Z"
    }
   },
   "id": "5bd70c540df88444"
  },
  {
   "cell_type": "code",
   "execution_count": 91,
   "outputs": [
    {
     "data": {
      "text/plain": "Марка               0\nСклад               0\nШтабель             0\nВыгрузкаНаСклад     0\nДата составления    0\nВес по акту, тн     0\nДата начала         0\nДата оконч.         0\nНач.форм.штабеля    0\ndtype: int64"
     },
     "execution_count": 91,
     "metadata": {},
     "output_type": "execute_result"
    }
   ],
   "source": [
    "full_data.isnull().sum()"
   ],
   "metadata": {
    "collapsed": false,
    "ExecuteTime": {
     "end_time": "2025-05-03T15:12:43.892451685Z",
     "start_time": "2025-05-03T15:12:43.851672770Z"
    }
   },
   "id": "7201c65041ce3209"
  },
  {
   "cell_type": "code",
   "execution_count": 79,
   "outputs": [],
   "source": [
    "full_data['Нач.форм.штабеля'].fillna(pd.to_datetime('01.03.2019'), inplace=True)"
   ],
   "metadata": {
    "collapsed": false,
    "ExecuteTime": {
     "end_time": "2025-05-03T14:08:32.450162925Z",
     "start_time": "2025-05-03T14:08:32.408546177Z"
    }
   },
   "id": "8a84d021ba0e4daf"
  },
  {
   "cell_type": "code",
   "execution_count": 80,
   "outputs": [
    {
     "data": {
      "text/plain": "      Марка  Склад  Штабель Дата составления  Вес по акту, тн  \\\n0        G7      4        9              NaN              NaN   \n1        G7      4        9              NaN              NaN   \n2        A1      3       21              NaN              NaN   \n3        A1      3       37              NaN              NaN   \n4        A1      4        6       2020-05-14           680.00   \n...     ...    ...      ...              ...              ...   \n42998    A1      4       46       2019-11-20            29.75   \n42999    A1      4       46       2019-11-21            93.50   \n43000    A1      4       46       2019-11-21           272.00   \n43001    A1      4       46       2019-11-22            93.50   \n43002    A1      4       46       2019-11-22          1275.00   \n\n              Дата начала         Дата оконч.    Нач.форм.штабеля  \n0                     NaT                 NaT 2019-01-03 00:00:00  \n1                     NaT                 NaT 2019-01-03 00:00:00  \n2                     NaT                 NaT 2019-01-03 00:00:00  \n3                     NaT                 NaT 2019-01-03 00:00:00  \n4     2020-05-14 14:00:00 2020-05-14 19:00:00 2019-12-22 10:10:00  \n...                   ...                 ...                 ...  \n42998 2019-11-20 09:00:00 2019-11-20 21:00:00 2019-07-29 00:00:00  \n42999 2019-11-20 21:00:00 2019-11-21 09:00:00 2019-07-29 00:00:00  \n43000 2019-11-21 21:00:00 2019-11-22 09:00:00 2019-07-29 00:00:00  \n43001 2019-11-21 21:00:00 2019-11-22 09:00:00 2019-07-29 00:00:00  \n43002 2019-11-22 09:00:00 2019-11-22 21:00:00 2019-07-29 00:00:00  \n\n[43003 rows x 8 columns]",
      "text/html": "<div>\n<style scoped>\n    .dataframe tbody tr th:only-of-type {\n        vertical-align: middle;\n    }\n\n    .dataframe tbody tr th {\n        vertical-align: top;\n    }\n\n    .dataframe thead th {\n        text-align: right;\n    }\n</style>\n<table border=\"1\" class=\"dataframe\">\n  <thead>\n    <tr style=\"text-align: right;\">\n      <th></th>\n      <th>Марка</th>\n      <th>Склад</th>\n      <th>Штабель</th>\n      <th>Дата составления</th>\n      <th>Вес по акту, тн</th>\n      <th>Дата начала</th>\n      <th>Дата оконч.</th>\n      <th>Нач.форм.штабеля</th>\n    </tr>\n  </thead>\n  <tbody>\n    <tr>\n      <th>0</th>\n      <td>G7</td>\n      <td>4</td>\n      <td>9</td>\n      <td>NaN</td>\n      <td>NaN</td>\n      <td>NaT</td>\n      <td>NaT</td>\n      <td>2019-01-03 00:00:00</td>\n    </tr>\n    <tr>\n      <th>1</th>\n      <td>G7</td>\n      <td>4</td>\n      <td>9</td>\n      <td>NaN</td>\n      <td>NaN</td>\n      <td>NaT</td>\n      <td>NaT</td>\n      <td>2019-01-03 00:00:00</td>\n    </tr>\n    <tr>\n      <th>2</th>\n      <td>A1</td>\n      <td>3</td>\n      <td>21</td>\n      <td>NaN</td>\n      <td>NaN</td>\n      <td>NaT</td>\n      <td>NaT</td>\n      <td>2019-01-03 00:00:00</td>\n    </tr>\n    <tr>\n      <th>3</th>\n      <td>A1</td>\n      <td>3</td>\n      <td>37</td>\n      <td>NaN</td>\n      <td>NaN</td>\n      <td>NaT</td>\n      <td>NaT</td>\n      <td>2019-01-03 00:00:00</td>\n    </tr>\n    <tr>\n      <th>4</th>\n      <td>A1</td>\n      <td>4</td>\n      <td>6</td>\n      <td>2020-05-14</td>\n      <td>680.00</td>\n      <td>2020-05-14 14:00:00</td>\n      <td>2020-05-14 19:00:00</td>\n      <td>2019-12-22 10:10:00</td>\n    </tr>\n    <tr>\n      <th>...</th>\n      <td>...</td>\n      <td>...</td>\n      <td>...</td>\n      <td>...</td>\n      <td>...</td>\n      <td>...</td>\n      <td>...</td>\n      <td>...</td>\n    </tr>\n    <tr>\n      <th>42998</th>\n      <td>A1</td>\n      <td>4</td>\n      <td>46</td>\n      <td>2019-11-20</td>\n      <td>29.75</td>\n      <td>2019-11-20 09:00:00</td>\n      <td>2019-11-20 21:00:00</td>\n      <td>2019-07-29 00:00:00</td>\n    </tr>\n    <tr>\n      <th>42999</th>\n      <td>A1</td>\n      <td>4</td>\n      <td>46</td>\n      <td>2019-11-21</td>\n      <td>93.50</td>\n      <td>2019-11-20 21:00:00</td>\n      <td>2019-11-21 09:00:00</td>\n      <td>2019-07-29 00:00:00</td>\n    </tr>\n    <tr>\n      <th>43000</th>\n      <td>A1</td>\n      <td>4</td>\n      <td>46</td>\n      <td>2019-11-21</td>\n      <td>272.00</td>\n      <td>2019-11-21 21:00:00</td>\n      <td>2019-11-22 09:00:00</td>\n      <td>2019-07-29 00:00:00</td>\n    </tr>\n    <tr>\n      <th>43001</th>\n      <td>A1</td>\n      <td>4</td>\n      <td>46</td>\n      <td>2019-11-22</td>\n      <td>93.50</td>\n      <td>2019-11-21 21:00:00</td>\n      <td>2019-11-22 09:00:00</td>\n      <td>2019-07-29 00:00:00</td>\n    </tr>\n    <tr>\n      <th>43002</th>\n      <td>A1</td>\n      <td>4</td>\n      <td>46</td>\n      <td>2019-11-22</td>\n      <td>1275.00</td>\n      <td>2019-11-22 09:00:00</td>\n      <td>2019-11-22 21:00:00</td>\n      <td>2019-07-29 00:00:00</td>\n    </tr>\n  </tbody>\n</table>\n<p>43003 rows × 8 columns</p>\n</div>"
     },
     "execution_count": 80,
     "metadata": {},
     "output_type": "execute_result"
    }
   ],
   "source": [
    "full_data"
   ],
   "metadata": {
    "collapsed": false,
    "ExecuteTime": {
     "end_time": "2025-05-03T14:08:36.997051216Z",
     "start_time": "2025-05-03T14:08:36.987460241Z"
    }
   },
   "id": "fd5c4eaf5ab9a9f0"
  },
  {
   "cell_type": "code",
   "execution_count": 87,
   "outputs": [
    {
     "data": {
      "text/plain": "               Марка  Дата составления  Вес по акту, тн  Дата начала  \\\nСклад Штабель                                                          \n3     1          466               450              450          450   \n      2           42                 0                0            0   \n      4          183               161              161          161   \n      5          107                 0                0            0   \n      6           37                 0                0            0   \n...              ...               ...              ...          ...   \n6     10          14                 0                0            0   \n      20           5                 0                0            0   \n      26           6                 0                0            0   \n      45          24                 0                0            0   \n      51           3                 0                0            0   \n\n               Дата оконч.  Нач.форм.штабеля  \nСклад Штабель                                 \n3     1                450               466  \n      2                  0                42  \n      4                161               183  \n      5                  0               107  \n      6                  0                37  \n...                    ...               ...  \n6     10                 0                14  \n      20                 0                 5  \n      26                 0                 6  \n      45                 0                24  \n      51                 0                 3  \n\n[107 rows x 6 columns]",
      "text/html": "<div>\n<style scoped>\n    .dataframe tbody tr th:only-of-type {\n        vertical-align: middle;\n    }\n\n    .dataframe tbody tr th {\n        vertical-align: top;\n    }\n\n    .dataframe thead th {\n        text-align: right;\n    }\n</style>\n<table border=\"1\" class=\"dataframe\">\n  <thead>\n    <tr style=\"text-align: right;\">\n      <th></th>\n      <th></th>\n      <th>Марка</th>\n      <th>Дата составления</th>\n      <th>Вес по акту, тн</th>\n      <th>Дата начала</th>\n      <th>Дата оконч.</th>\n      <th>Нач.форм.штабеля</th>\n    </tr>\n    <tr>\n      <th>Склад</th>\n      <th>Штабель</th>\n      <th></th>\n      <th></th>\n      <th></th>\n      <th></th>\n      <th></th>\n      <th></th>\n    </tr>\n  </thead>\n  <tbody>\n    <tr>\n      <th rowspan=\"5\" valign=\"top\">3</th>\n      <th>1</th>\n      <td>466</td>\n      <td>450</td>\n      <td>450</td>\n      <td>450</td>\n      <td>450</td>\n      <td>466</td>\n    </tr>\n    <tr>\n      <th>2</th>\n      <td>42</td>\n      <td>0</td>\n      <td>0</td>\n      <td>0</td>\n      <td>0</td>\n      <td>42</td>\n    </tr>\n    <tr>\n      <th>4</th>\n      <td>183</td>\n      <td>161</td>\n      <td>161</td>\n      <td>161</td>\n      <td>161</td>\n      <td>183</td>\n    </tr>\n    <tr>\n      <th>5</th>\n      <td>107</td>\n      <td>0</td>\n      <td>0</td>\n      <td>0</td>\n      <td>0</td>\n      <td>107</td>\n    </tr>\n    <tr>\n      <th>6</th>\n      <td>37</td>\n      <td>0</td>\n      <td>0</td>\n      <td>0</td>\n      <td>0</td>\n      <td>37</td>\n    </tr>\n    <tr>\n      <th>...</th>\n      <th>...</th>\n      <td>...</td>\n      <td>...</td>\n      <td>...</td>\n      <td>...</td>\n      <td>...</td>\n      <td>...</td>\n    </tr>\n    <tr>\n      <th rowspan=\"5\" valign=\"top\">6</th>\n      <th>10</th>\n      <td>14</td>\n      <td>0</td>\n      <td>0</td>\n      <td>0</td>\n      <td>0</td>\n      <td>14</td>\n    </tr>\n    <tr>\n      <th>20</th>\n      <td>5</td>\n      <td>0</td>\n      <td>0</td>\n      <td>0</td>\n      <td>0</td>\n      <td>5</td>\n    </tr>\n    <tr>\n      <th>26</th>\n      <td>6</td>\n      <td>0</td>\n      <td>0</td>\n      <td>0</td>\n      <td>0</td>\n      <td>6</td>\n    </tr>\n    <tr>\n      <th>45</th>\n      <td>24</td>\n      <td>0</td>\n      <td>0</td>\n      <td>0</td>\n      <td>0</td>\n      <td>24</td>\n    </tr>\n    <tr>\n      <th>51</th>\n      <td>3</td>\n      <td>0</td>\n      <td>0</td>\n      <td>0</td>\n      <td>0</td>\n      <td>3</td>\n    </tr>\n  </tbody>\n</table>\n<p>107 rows × 6 columns</p>\n</div>"
     },
     "execution_count": 87,
     "metadata": {},
     "output_type": "execute_result"
    }
   ],
   "source": [
    "full_data.groupby(['Склад', 'Штабель']).count()"
   ],
   "metadata": {
    "collapsed": false,
    "ExecuteTime": {
     "end_time": "2025-05-03T14:33:42.411703722Z",
     "start_time": "2025-05-03T14:33:42.370178995Z"
    }
   },
   "id": "14463256433f8627"
  },
  {
   "cell_type": "code",
   "execution_count": 97,
   "outputs": [
    {
     "data": {
      "text/plain": "array([4, 3, 6])"
     },
     "execution_count": 97,
     "metadata": {},
     "output_type": "execute_result"
    }
   ],
   "source": [
    "supplies['Склад'].unique()"
   ],
   "metadata": {
    "collapsed": false,
    "ExecuteTime": {
     "end_time": "2025-05-03T16:04:19.601463897Z",
     "start_time": "2025-05-03T16:04:19.522203741Z"
    }
   },
   "id": "3a92ed37e31b8b8b"
  },
  {
   "cell_type": "code",
   "execution_count": 14,
   "outputs": [],
   "source": [
    "def calculate_coal_balance(row):\n",
    "    # Берём ключевые поля из текущей строки\n",
    "    current_date = row['ВыгрузкаНаСклад']\n",
    "    warehouse = row['Склад']\n",
    "    pile = row['Штабель']\n",
    "    cargo_type = row['Марка']\n",
    "\n",
    "    # Фильтруем запасы угля на складе до текущей даты\n",
    "    incoming = supplies[\n",
    "        (supplies['ВыгрузкаНаСклад'] <= current_date)\n",
    "        & (supplies['Склад'] == warehouse)\n",
    "        & (supplies['Штабель'] == pile)\n",
    "        & (supplies['Марка'] == cargo_type)\n",
    "        ]['На склад, тн'].sum()\n",
    "\n",
    "    # Фильтруем объёмы угля, отправленные с судов до текущей даты\n",
    "    outgoing = supplies[\n",
    "        (supplies['ПогрузкаНаСудно'] <= current_date)\n",
    "        & (supplies['Склад'] == warehouse)\n",
    "        & (supplies['Штабель'] == pile)\n",
    "        & (supplies['Марка'] == cargo_type)\n",
    "        ]['На судно, тн'].sum()\n",
    "\n",
    "    # Баланс равен количеству принятого угля минус отправленному\n",
    "    balance = incoming - outgoing\n",
    "    return balance"
   ],
   "metadata": {
    "collapsed": false,
    "ExecuteTime": {
     "end_time": "2025-05-04T07:08:25.679939933Z",
     "start_time": "2025-05-04T07:08:25.634899369Z"
    }
   },
   "id": "a50f1d7c1a61d51b"
  },
  {
   "cell_type": "code",
   "execution_count": 28,
   "outputs": [
    {
     "data": {
      "text/plain": "     ВыгрузкаНаСклад Марка  Штабель ПогрузкаНаСудно  На склад, тн  \\\n0         2019-01-02    E5        1      2019-02-08    11984.1925   \n1         2019-01-02    A1       34      2019-02-12     3913.8250   \n2         2019-01-02    A1       37      2019-02-23    11626.9120   \n3         2019-01-02    A1       44      2019-01-04      184.7815   \n4         2019-01-02    C3       22      2019-02-07     9520.3315   \n...              ...   ...      ...             ...           ...   \n6318      2020-09-30    E5       15      2020-10-18    12979.1345   \n6319      2020-09-30    A1       15      2020-10-18    79187.0030   \n6320      2020-09-30    A1       46      2020-10-13    15870.3755   \n6321      2020-09-30    A1       46      2020-10-16    11834.6605   \n6322      2020-09-30    A1       46      2020-10-29     3732.9110   \n\n      На судно, тн  Склад  Масса угля  \n0       11984.1925      3           0  \n1        3913.8250      3           0  \n2       11626.9120      3           0  \n3         184.7815      4           0  \n4        9520.3315      3           0  \n...            ...    ...         ...  \n6318    12979.1345      3           0  \n6319    79187.0030      3           0  \n6320    15641.7765      4           0  \n6321    11781.4165      4           0  \n6322     3609.8140      4           0  \n\n[6323 rows x 8 columns]",
      "text/html": "<div>\n<style scoped>\n    .dataframe tbody tr th:only-of-type {\n        vertical-align: middle;\n    }\n\n    .dataframe tbody tr th {\n        vertical-align: top;\n    }\n\n    .dataframe thead th {\n        text-align: right;\n    }\n</style>\n<table border=\"1\" class=\"dataframe\">\n  <thead>\n    <tr style=\"text-align: right;\">\n      <th></th>\n      <th>ВыгрузкаНаСклад</th>\n      <th>Марка</th>\n      <th>Штабель</th>\n      <th>ПогрузкаНаСудно</th>\n      <th>На склад, тн</th>\n      <th>На судно, тн</th>\n      <th>Склад</th>\n      <th>Масса угля</th>\n    </tr>\n  </thead>\n  <tbody>\n    <tr>\n      <th>0</th>\n      <td>2019-01-02</td>\n      <td>E5</td>\n      <td>1</td>\n      <td>2019-02-08</td>\n      <td>11984.1925</td>\n      <td>11984.1925</td>\n      <td>3</td>\n      <td>0</td>\n    </tr>\n    <tr>\n      <th>1</th>\n      <td>2019-01-02</td>\n      <td>A1</td>\n      <td>34</td>\n      <td>2019-02-12</td>\n      <td>3913.8250</td>\n      <td>3913.8250</td>\n      <td>3</td>\n      <td>0</td>\n    </tr>\n    <tr>\n      <th>2</th>\n      <td>2019-01-02</td>\n      <td>A1</td>\n      <td>37</td>\n      <td>2019-02-23</td>\n      <td>11626.9120</td>\n      <td>11626.9120</td>\n      <td>3</td>\n      <td>0</td>\n    </tr>\n    <tr>\n      <th>3</th>\n      <td>2019-01-02</td>\n      <td>A1</td>\n      <td>44</td>\n      <td>2019-01-04</td>\n      <td>184.7815</td>\n      <td>184.7815</td>\n      <td>4</td>\n      <td>0</td>\n    </tr>\n    <tr>\n      <th>4</th>\n      <td>2019-01-02</td>\n      <td>C3</td>\n      <td>22</td>\n      <td>2019-02-07</td>\n      <td>9520.3315</td>\n      <td>9520.3315</td>\n      <td>3</td>\n      <td>0</td>\n    </tr>\n    <tr>\n      <th>...</th>\n      <td>...</td>\n      <td>...</td>\n      <td>...</td>\n      <td>...</td>\n      <td>...</td>\n      <td>...</td>\n      <td>...</td>\n      <td>...</td>\n    </tr>\n    <tr>\n      <th>6318</th>\n      <td>2020-09-30</td>\n      <td>E5</td>\n      <td>15</td>\n      <td>2020-10-18</td>\n      <td>12979.1345</td>\n      <td>12979.1345</td>\n      <td>3</td>\n      <td>0</td>\n    </tr>\n    <tr>\n      <th>6319</th>\n      <td>2020-09-30</td>\n      <td>A1</td>\n      <td>15</td>\n      <td>2020-10-18</td>\n      <td>79187.0030</td>\n      <td>79187.0030</td>\n      <td>3</td>\n      <td>0</td>\n    </tr>\n    <tr>\n      <th>6320</th>\n      <td>2020-09-30</td>\n      <td>A1</td>\n      <td>46</td>\n      <td>2020-10-13</td>\n      <td>15870.3755</td>\n      <td>15641.7765</td>\n      <td>4</td>\n      <td>0</td>\n    </tr>\n    <tr>\n      <th>6321</th>\n      <td>2020-09-30</td>\n      <td>A1</td>\n      <td>46</td>\n      <td>2020-10-16</td>\n      <td>11834.6605</td>\n      <td>11781.4165</td>\n      <td>4</td>\n      <td>0</td>\n    </tr>\n    <tr>\n      <th>6322</th>\n      <td>2020-09-30</td>\n      <td>A1</td>\n      <td>46</td>\n      <td>2020-10-29</td>\n      <td>3732.9110</td>\n      <td>3609.8140</td>\n      <td>4</td>\n      <td>0</td>\n    </tr>\n  </tbody>\n</table>\n<p>6323 rows × 8 columns</p>\n</div>"
     },
     "execution_count": 28,
     "metadata": {},
     "output_type": "execute_result"
    }
   ],
   "source": [
    "supplies['Масса угля'] = 0\n",
    "supplies"
   ],
   "metadata": {
    "collapsed": false,
    "ExecuteTime": {
     "end_time": "2025-05-04T07:31:44.998725860Z",
     "start_time": "2025-05-04T07:31:44.974166306Z"
    }
   },
   "id": "cd4452c0bfedd412"
  },
  {
   "cell_type": "code",
   "execution_count": 29,
   "outputs": [
    {
     "name": "stderr",
     "output_type": "stream",
     "text": [
      "/tmp/ipykernel_11615/103160203.py:2: SettingWithCopyWarning: \n",
      "A value is trying to be set on a copy of a slice from a DataFrame\n",
      "\n",
      "See the caveats in the documentation: https://pandas.pydata.org/pandas-docs/stable/user_guide/indexing.html#returning-a-view-versus-a-copy\n",
      "  supplies['Масса угля'][i] = calculate_coal_balance(supplies.loc[i])\n",
      "/tmp/ipykernel_11615/103160203.py:2: FutureWarning: Setting an item of incompatible dtype is deprecated and will raise in a future error of pandas. Value '11984.1925' has dtype incompatible with int64, please explicitly cast to a compatible dtype first.\n",
      "  supplies['Масса угля'][i] = calculate_coal_balance(supplies.loc[i])\n"
     ]
    }
   ],
   "source": [
    "for i in supplies.index:\n",
    "    supplies['Масса угля'][i] = calculate_coal_balance(supplies.loc[i])"
   ],
   "metadata": {
    "collapsed": false,
    "ExecuteTime": {
     "end_time": "2025-05-04T07:32:11.535638878Z",
     "start_time": "2025-05-04T07:31:51.920595122Z"
    }
   },
   "id": "3232fedee98bc58c"
  },
  {
   "cell_type": "code",
   "execution_count": 32,
   "outputs": [
    {
     "data": {
      "text/plain": "     ВыгрузкаНаСклад Марка  Штабель ПогрузкаНаСудно  На склад, тн  \\\n0         2019-01-02    E5        1      2019-02-08    11984.1925   \n1         2019-01-02    A1       34      2019-02-12     3913.8250   \n2         2019-01-02    A1       37      2019-02-23    11626.9120   \n3         2019-01-02    A1       44      2019-01-04      184.7815   \n4         2019-01-02    C3       22      2019-02-07     9520.3315   \n...              ...   ...      ...             ...           ...   \n6318      2020-09-30    E5       15      2020-10-18    12979.1345   \n6319      2020-09-30    A1       15      2020-10-18    79187.0030   \n6320      2020-09-30    A1       46      2020-10-13    15870.3755   \n6321      2020-09-30    A1       46      2020-10-16    11834.6605   \n6322      2020-09-30    A1       46      2020-10-29     3732.9110   \n\n      На судно, тн  Склад   Масса угля  \n0       11984.1925      3   11984.1925  \n1        3913.8250      3    3913.8250  \n2       11626.9120      3   11626.9120  \n3         184.7815      4     184.7815  \n4        9520.3315      3    9520.3315  \n...            ...    ...          ...  \n6318    12979.1345      3   23891.2135  \n6319    79187.0030      3  101033.5925  \n6320    15641.7765      4  129052.8055  \n6321    11781.4165      4  129052.8055  \n6322     3609.8140      4  129052.8055  \n\n[6323 rows x 8 columns]",
      "text/html": "<div>\n<style scoped>\n    .dataframe tbody tr th:only-of-type {\n        vertical-align: middle;\n    }\n\n    .dataframe tbody tr th {\n        vertical-align: top;\n    }\n\n    .dataframe thead th {\n        text-align: right;\n    }\n</style>\n<table border=\"1\" class=\"dataframe\">\n  <thead>\n    <tr style=\"text-align: right;\">\n      <th></th>\n      <th>ВыгрузкаНаСклад</th>\n      <th>Марка</th>\n      <th>Штабель</th>\n      <th>ПогрузкаНаСудно</th>\n      <th>На склад, тн</th>\n      <th>На судно, тн</th>\n      <th>Склад</th>\n      <th>Масса угля</th>\n    </tr>\n  </thead>\n  <tbody>\n    <tr>\n      <th>0</th>\n      <td>2019-01-02</td>\n      <td>E5</td>\n      <td>1</td>\n      <td>2019-02-08</td>\n      <td>11984.1925</td>\n      <td>11984.1925</td>\n      <td>3</td>\n      <td>11984.1925</td>\n    </tr>\n    <tr>\n      <th>1</th>\n      <td>2019-01-02</td>\n      <td>A1</td>\n      <td>34</td>\n      <td>2019-02-12</td>\n      <td>3913.8250</td>\n      <td>3913.8250</td>\n      <td>3</td>\n      <td>3913.8250</td>\n    </tr>\n    <tr>\n      <th>2</th>\n      <td>2019-01-02</td>\n      <td>A1</td>\n      <td>37</td>\n      <td>2019-02-23</td>\n      <td>11626.9120</td>\n      <td>11626.9120</td>\n      <td>3</td>\n      <td>11626.9120</td>\n    </tr>\n    <tr>\n      <th>3</th>\n      <td>2019-01-02</td>\n      <td>A1</td>\n      <td>44</td>\n      <td>2019-01-04</td>\n      <td>184.7815</td>\n      <td>184.7815</td>\n      <td>4</td>\n      <td>184.7815</td>\n    </tr>\n    <tr>\n      <th>4</th>\n      <td>2019-01-02</td>\n      <td>C3</td>\n      <td>22</td>\n      <td>2019-02-07</td>\n      <td>9520.3315</td>\n      <td>9520.3315</td>\n      <td>3</td>\n      <td>9520.3315</td>\n    </tr>\n    <tr>\n      <th>...</th>\n      <td>...</td>\n      <td>...</td>\n      <td>...</td>\n      <td>...</td>\n      <td>...</td>\n      <td>...</td>\n      <td>...</td>\n      <td>...</td>\n    </tr>\n    <tr>\n      <th>6318</th>\n      <td>2020-09-30</td>\n      <td>E5</td>\n      <td>15</td>\n      <td>2020-10-18</td>\n      <td>12979.1345</td>\n      <td>12979.1345</td>\n      <td>3</td>\n      <td>23891.2135</td>\n    </tr>\n    <tr>\n      <th>6319</th>\n      <td>2020-09-30</td>\n      <td>A1</td>\n      <td>15</td>\n      <td>2020-10-18</td>\n      <td>79187.0030</td>\n      <td>79187.0030</td>\n      <td>3</td>\n      <td>101033.5925</td>\n    </tr>\n    <tr>\n      <th>6320</th>\n      <td>2020-09-30</td>\n      <td>A1</td>\n      <td>46</td>\n      <td>2020-10-13</td>\n      <td>15870.3755</td>\n      <td>15641.7765</td>\n      <td>4</td>\n      <td>129052.8055</td>\n    </tr>\n    <tr>\n      <th>6321</th>\n      <td>2020-09-30</td>\n      <td>A1</td>\n      <td>46</td>\n      <td>2020-10-16</td>\n      <td>11834.6605</td>\n      <td>11781.4165</td>\n      <td>4</td>\n      <td>129052.8055</td>\n    </tr>\n    <tr>\n      <th>6322</th>\n      <td>2020-09-30</td>\n      <td>A1</td>\n      <td>46</td>\n      <td>2020-10-29</td>\n      <td>3732.9110</td>\n      <td>3609.8140</td>\n      <td>4</td>\n      <td>129052.8055</td>\n    </tr>\n  </tbody>\n</table>\n<p>6323 rows × 8 columns</p>\n</div>"
     },
     "execution_count": 32,
     "metadata": {},
     "output_type": "execute_result"
    }
   ],
   "source": [
    "supplies"
   ],
   "metadata": {
    "collapsed": false,
    "ExecuteTime": {
     "end_time": "2025-05-04T07:36:34.298317310Z",
     "start_time": "2025-05-04T07:36:34.254428166Z"
    }
   },
   "id": "cd4237678d4e4c93"
  },
  {
   "cell_type": "code",
   "execution_count": 36,
   "outputs": [
    {
     "data": {
      "text/plain": "           Дата Марка  Штабель  Склад   Масса угля\n0    2019-01-02    E5        1      3   11984.1925\n1    2019-01-02    A1       34      3    3913.8250\n2    2019-01-02    A1       37      3   11626.9120\n3    2019-01-02    A1       44      4     184.7815\n4    2019-01-02    C3       22      3    9520.3315\n...         ...   ...      ...    ...          ...\n6316 2020-09-29    A1        3      4  304021.8375\n6317 2020-09-29    A1       46      4   97614.8585\n6318 2020-09-30    E5       15      3   23891.2135\n6319 2020-09-30    A1       15      3  101033.5925\n6322 2020-09-30    A1       46      4  129052.8055\n\n[5067 rows x 5 columns]",
      "text/html": "<div>\n<style scoped>\n    .dataframe tbody tr th:only-of-type {\n        vertical-align: middle;\n    }\n\n    .dataframe tbody tr th {\n        vertical-align: top;\n    }\n\n    .dataframe thead th {\n        text-align: right;\n    }\n</style>\n<table border=\"1\" class=\"dataframe\">\n  <thead>\n    <tr style=\"text-align: right;\">\n      <th></th>\n      <th>Дата</th>\n      <th>Марка</th>\n      <th>Штабель</th>\n      <th>Склад</th>\n      <th>Масса угля</th>\n    </tr>\n  </thead>\n  <tbody>\n    <tr>\n      <th>0</th>\n      <td>2019-01-02</td>\n      <td>E5</td>\n      <td>1</td>\n      <td>3</td>\n      <td>11984.1925</td>\n    </tr>\n    <tr>\n      <th>1</th>\n      <td>2019-01-02</td>\n      <td>A1</td>\n      <td>34</td>\n      <td>3</td>\n      <td>3913.8250</td>\n    </tr>\n    <tr>\n      <th>2</th>\n      <td>2019-01-02</td>\n      <td>A1</td>\n      <td>37</td>\n      <td>3</td>\n      <td>11626.9120</td>\n    </tr>\n    <tr>\n      <th>3</th>\n      <td>2019-01-02</td>\n      <td>A1</td>\n      <td>44</td>\n      <td>4</td>\n      <td>184.7815</td>\n    </tr>\n    <tr>\n      <th>4</th>\n      <td>2019-01-02</td>\n      <td>C3</td>\n      <td>22</td>\n      <td>3</td>\n      <td>9520.3315</td>\n    </tr>\n    <tr>\n      <th>...</th>\n      <td>...</td>\n      <td>...</td>\n      <td>...</td>\n      <td>...</td>\n      <td>...</td>\n    </tr>\n    <tr>\n      <th>6316</th>\n      <td>2020-09-29</td>\n      <td>A1</td>\n      <td>3</td>\n      <td>4</td>\n      <td>304021.8375</td>\n    </tr>\n    <tr>\n      <th>6317</th>\n      <td>2020-09-29</td>\n      <td>A1</td>\n      <td>46</td>\n      <td>4</td>\n      <td>97614.8585</td>\n    </tr>\n    <tr>\n      <th>6318</th>\n      <td>2020-09-30</td>\n      <td>E5</td>\n      <td>15</td>\n      <td>3</td>\n      <td>23891.2135</td>\n    </tr>\n    <tr>\n      <th>6319</th>\n      <td>2020-09-30</td>\n      <td>A1</td>\n      <td>15</td>\n      <td>3</td>\n      <td>101033.5925</td>\n    </tr>\n    <tr>\n      <th>6322</th>\n      <td>2020-09-30</td>\n      <td>A1</td>\n      <td>46</td>\n      <td>4</td>\n      <td>129052.8055</td>\n    </tr>\n  </tbody>\n</table>\n<p>5067 rows × 5 columns</p>\n</div>"
     },
     "execution_count": 36,
     "metadata": {},
     "output_type": "execute_result"
    }
   ],
   "source": [
    "storage = supplies.copy()\n",
    "storage.drop_duplicates(subset='Масса угля', keep='last', inplace=True)\n",
    "storage = storage.filter(['ВыгрузкаНаСклад', 'Марка', 'Штабель', 'Склад', 'Масса угля'])\n",
    "storage.rename(columns={'ВыгрузкаНаСклад': 'Дата'}, inplace=True)\n",
    "storage"
   ],
   "metadata": {
    "collapsed": false,
    "ExecuteTime": {
     "end_time": "2025-05-04T08:00:51.850561592Z",
     "start_time": "2025-05-04T08:00:51.808239514Z"
    }
   },
   "id": "311fc58d34757a7"
  },
  {
   "cell_type": "code",
   "execution_count": 38,
   "outputs": [
    {
     "data": {
      "text/plain": "          Дата Марка  Штабель  Склад   Масса угля\n640 2019-03-19    E5       38      3  102947.7755\n641 2019-03-19    E5       42      3   24101.9030\n642 2019-03-19    A1       34      3   96022.9020\n644 2019-03-19    A1       52      3  262450.3690\n645 2019-03-19    A1       16      4   40708.3445\n647 2019-03-19    C3       16      4    3974.5745\n649 2019-03-19    B2       49      4  165312.9810",
      "text/html": "<div>\n<style scoped>\n    .dataframe tbody tr th:only-of-type {\n        vertical-align: middle;\n    }\n\n    .dataframe tbody tr th {\n        vertical-align: top;\n    }\n\n    .dataframe thead th {\n        text-align: right;\n    }\n</style>\n<table border=\"1\" class=\"dataframe\">\n  <thead>\n    <tr style=\"text-align: right;\">\n      <th></th>\n      <th>Дата</th>\n      <th>Марка</th>\n      <th>Штабель</th>\n      <th>Склад</th>\n      <th>Масса угля</th>\n    </tr>\n  </thead>\n  <tbody>\n    <tr>\n      <th>640</th>\n      <td>2019-03-19</td>\n      <td>E5</td>\n      <td>38</td>\n      <td>3</td>\n      <td>102947.7755</td>\n    </tr>\n    <tr>\n      <th>641</th>\n      <td>2019-03-19</td>\n      <td>E5</td>\n      <td>42</td>\n      <td>3</td>\n      <td>24101.9030</td>\n    </tr>\n    <tr>\n      <th>642</th>\n      <td>2019-03-19</td>\n      <td>A1</td>\n      <td>34</td>\n      <td>3</td>\n      <td>96022.9020</td>\n    </tr>\n    <tr>\n      <th>644</th>\n      <td>2019-03-19</td>\n      <td>A1</td>\n      <td>52</td>\n      <td>3</td>\n      <td>262450.3690</td>\n    </tr>\n    <tr>\n      <th>645</th>\n      <td>2019-03-19</td>\n      <td>A1</td>\n      <td>16</td>\n      <td>4</td>\n      <td>40708.3445</td>\n    </tr>\n    <tr>\n      <th>647</th>\n      <td>2019-03-19</td>\n      <td>C3</td>\n      <td>16</td>\n      <td>4</td>\n      <td>3974.5745</td>\n    </tr>\n    <tr>\n      <th>649</th>\n      <td>2019-03-19</td>\n      <td>B2</td>\n      <td>49</td>\n      <td>4</td>\n      <td>165312.9810</td>\n    </tr>\n  </tbody>\n</table>\n</div>"
     },
     "execution_count": 38,
     "metadata": {},
     "output_type": "execute_result"
    }
   ],
   "source": [
    "storage[storage['Дата'] == pd.to_datetime('2019-03-19')]"
   ],
   "metadata": {
    "collapsed": false,
    "ExecuteTime": {
     "end_time": "2025-05-04T08:04:23.339692527Z",
     "start_time": "2025-05-04T08:04:23.295409646Z"
    }
   },
   "id": "b03c2705c8fc8079"
  },
  {
   "cell_type": "code",
   "execution_count": 39,
   "outputs": [],
   "source": [
    "# Генерируем диапазон всех нужных дат\n",
    "all_dates = pd.date_range(start='2019-01-01', end='2020-09-30', freq='D')\n",
    "\n",
    "# Уникальные активные комбинации Марка + Штабель + Склад\n",
    "active_combinations = storage[['Марка', 'Штабель', 'Склад']].drop_duplicates()\n",
    "\n",
    "# Создаём все даты для активных комбинаций\n",
    "active_combinations['key'] = 1\n",
    "all_dates_df = pd.DataFrame({'Дата': all_dates})\n",
    "all_dates_df['key'] = 1\n",
    "\n",
    "# Картезианское произведение (все даты × активные штабели)\n",
    "full_grid = all_dates_df.merge(active_combinations, on='key').drop(columns='key')\n",
    "\n",
    "# Объединяем с оригинальной таблицей\n",
    "df_full = full_grid.merge(storage, on=['Дата', 'Марка', 'Штабель', 'Склад'], how='left')\n",
    "\n",
    "# Заполняем пропуски методом ffill по группам\n",
    "df_full['Масса угля'] = df_full.groupby(['Марка', 'Штабель', 'Склад'])['Масса угля'].ffill()\n",
    "\n",
    "# Отсортируем для читаемости\n",
    "df_result = df_full.sort_values(['Марка', 'Штабель', 'Склад', 'Дата']).reset_index(drop=True)"
   ],
   "metadata": {
    "collapsed": false,
    "ExecuteTime": {
     "end_time": "2025-05-04T08:16:21.471295227Z",
     "start_time": "2025-05-04T08:16:21.304689936Z"
    }
   },
   "id": "3d355c925907700b"
  },
  {
   "cell_type": "code",
   "execution_count": 40,
   "outputs": [
    {
     "data": {
      "text/plain": "             Дата Марка  Штабель  Склад  Масса угля\n0      2019-01-01    A1        1      3         NaN\n1      2019-01-02    A1        1      3         NaN\n2      2019-01-03    A1        1      3         NaN\n3      2019-01-04    A1        1      3         NaN\n4      2019-01-05    A1        1      3         NaN\n...           ...   ...      ...    ...         ...\n154633 2020-09-26   L11       34      3   43274.197\n154634 2020-09-27   L11       34      3   43274.197\n154635 2020-09-28   L11       34      3   43274.197\n154636 2020-09-29   L11       34      3   43274.197\n154637 2020-09-30   L11       34      3   43274.197\n\n[154638 rows x 5 columns]",
      "text/html": "<div>\n<style scoped>\n    .dataframe tbody tr th:only-of-type {\n        vertical-align: middle;\n    }\n\n    .dataframe tbody tr th {\n        vertical-align: top;\n    }\n\n    .dataframe thead th {\n        text-align: right;\n    }\n</style>\n<table border=\"1\" class=\"dataframe\">\n  <thead>\n    <tr style=\"text-align: right;\">\n      <th></th>\n      <th>Дата</th>\n      <th>Марка</th>\n      <th>Штабель</th>\n      <th>Склад</th>\n      <th>Масса угля</th>\n    </tr>\n  </thead>\n  <tbody>\n    <tr>\n      <th>0</th>\n      <td>2019-01-01</td>\n      <td>A1</td>\n      <td>1</td>\n      <td>3</td>\n      <td>NaN</td>\n    </tr>\n    <tr>\n      <th>1</th>\n      <td>2019-01-02</td>\n      <td>A1</td>\n      <td>1</td>\n      <td>3</td>\n      <td>NaN</td>\n    </tr>\n    <tr>\n      <th>2</th>\n      <td>2019-01-03</td>\n      <td>A1</td>\n      <td>1</td>\n      <td>3</td>\n      <td>NaN</td>\n    </tr>\n    <tr>\n      <th>3</th>\n      <td>2019-01-04</td>\n      <td>A1</td>\n      <td>1</td>\n      <td>3</td>\n      <td>NaN</td>\n    </tr>\n    <tr>\n      <th>4</th>\n      <td>2019-01-05</td>\n      <td>A1</td>\n      <td>1</td>\n      <td>3</td>\n      <td>NaN</td>\n    </tr>\n    <tr>\n      <th>...</th>\n      <td>...</td>\n      <td>...</td>\n      <td>...</td>\n      <td>...</td>\n      <td>...</td>\n    </tr>\n    <tr>\n      <th>154633</th>\n      <td>2020-09-26</td>\n      <td>L11</td>\n      <td>34</td>\n      <td>3</td>\n      <td>43274.197</td>\n    </tr>\n    <tr>\n      <th>154634</th>\n      <td>2020-09-27</td>\n      <td>L11</td>\n      <td>34</td>\n      <td>3</td>\n      <td>43274.197</td>\n    </tr>\n    <tr>\n      <th>154635</th>\n      <td>2020-09-28</td>\n      <td>L11</td>\n      <td>34</td>\n      <td>3</td>\n      <td>43274.197</td>\n    </tr>\n    <tr>\n      <th>154636</th>\n      <td>2020-09-29</td>\n      <td>L11</td>\n      <td>34</td>\n      <td>3</td>\n      <td>43274.197</td>\n    </tr>\n    <tr>\n      <th>154637</th>\n      <td>2020-09-30</td>\n      <td>L11</td>\n      <td>34</td>\n      <td>3</td>\n      <td>43274.197</td>\n    </tr>\n  </tbody>\n</table>\n<p>154638 rows × 5 columns</p>\n</div>"
     },
     "execution_count": 40,
     "metadata": {},
     "output_type": "execute_result"
    }
   ],
   "source": [
    "df_result"
   ],
   "metadata": {
    "collapsed": false,
    "ExecuteTime": {
     "end_time": "2025-05-04T08:17:08.797356434Z",
     "start_time": "2025-05-04T08:17:08.754821152Z"
    }
   },
   "id": "ef86cef239ec52ac"
  },
  {
   "cell_type": "code",
   "execution_count": 51,
   "outputs": [
    {
     "data": {
      "text/plain": "Дата              0\nМарка             0\nШтабель           0\nСклад             0\nМасса угля    70468\ndtype: int64"
     },
     "execution_count": 51,
     "metadata": {},
     "output_type": "execute_result"
    }
   ],
   "source": [
    "df_result.isnull().sum()"
   ],
   "metadata": {
    "collapsed": false,
    "ExecuteTime": {
     "end_time": "2025-05-04T08:57:12.134582887Z",
     "start_time": "2025-05-04T08:57:12.081512593Z"
    }
   },
   "id": "8eb66172931dfce3"
  },
  {
   "cell_type": "code",
   "execution_count": 42,
   "outputs": [
    {
     "data": {
      "text/plain": "   Дата составления Марка  Вес по акту, тн  Склад         Дата начала  \\\n33       2019-08-04    A1           174.25      3 2019-08-04 09:00:00   \n34       2019-08-05    A1           255.00      3 2019-08-04 21:00:00   \n35       2019-08-06    A1           170.00      3 2019-08-05 21:00:00   \n36       2019-08-06    A1           238.00      3 2019-08-06 09:00:00   \n38       2019-08-07    A1           382.50      3 2019-08-06 09:00:00   \n39       2019-08-07    A1           382.50      3 2019-08-07 09:00:00   \n40       2019-08-08    A1           204.00      3 2019-08-08 09:00:00   \n42       2019-08-09    A1           204.00      3 2019-08-08 21:00:00   \n43       2019-08-09    A1           204.00      3 2019-08-09 09:00:00   \n46       2019-08-14    A1           382.50      3 2019-08-13 21:00:00   \n48       2019-08-15    A1           204.00      3 2019-08-15 09:00:00   \n51       2019-08-20    A1            68.00      3 2019-08-19 21:00:00   \n52       2019-08-21    A1           807.50      3 2019-08-20 21:00:00   \n56       2019-08-22    A1           382.50      3 2019-08-22 09:00:00   \n57       2019-08-24    A1           382.50      3 2019-08-24 09:00:00   \n60       2019-08-25    A1           425.00      3 2019-08-24 21:00:00   \n61       2019-08-27    A1           255.00      3 2019-08-26 21:00:00   \n62       2019-08-27    A1           170.00      3 2019-08-27 09:00:00   \n63       2019-08-28    A1           255.00      3 2019-08-27 21:00:00   \n64       2019-08-29    A1           212.50      3 2019-08-29 09:00:00   \n65       2019-08-29    A1           340.00      3 2019-08-28 21:00:00   \n66       2019-08-30    A1           467.50      3 2019-08-30 09:00:00   \n69       2019-09-02    A1           297.50      3 2019-09-02 21:00:00   \n70       2019-09-02    A1           297.50      3 2019-09-02 09:00:00   \n72       2019-09-03    A1           552.50      3 2019-09-03 21:00:00   \n74       2019-09-03    A1           255.00      3 2019-09-03 09:00:00   \n76       2019-09-04    A1           340.00      3 2019-09-03 21:00:00   \n77       2019-09-04    A1           340.00      3 2019-09-04 09:00:00   \n79       2019-09-05    A1           850.00      3 2019-09-04 21:00:00   \n80       2019-09-05    A1           935.00      3 2019-09-05 09:00:00   \n81       2019-09-06    A1          1700.00      3 2019-09-05 21:00:00   \n\n           Дата оконч.    Нач.форм.штабеля  Штабель  \n33 2019-08-04 21:00:00 2019-07-18 01:31:00        1  \n34 2019-08-05 09:00:00 2019-07-18 01:31:00        1  \n35 2019-08-06 09:00:00 2019-07-18 01:31:00        1  \n36 2019-08-06 21:00:00 2019-07-18 01:31:00        1  \n38 2019-08-07 21:00:00 2019-07-18 01:31:00        1  \n39 2019-08-07 21:00:00 2019-07-18 01:31:00        1  \n40 2019-08-08 21:00:00 2019-07-18 01:31:00        1  \n42 2019-08-09 09:00:00 2019-07-18 01:31:00        1  \n43 2019-08-09 21:00:00 2019-07-18 01:31:00        1  \n46 2019-08-14 09:00:00 2019-07-18 01:31:00        1  \n48 2019-08-15 21:00:00 2019-07-18 01:31:00        1  \n51 2019-08-20 09:00:00 2019-07-18 01:31:00        1  \n52 2019-08-21 09:00:00 2019-07-18 01:31:00        1  \n56 2019-08-22 21:00:00 2019-07-18 01:31:00        1  \n57 2019-08-24 21:00:00 2019-07-18 01:31:00        1  \n60 2019-08-25 09:00:00 2019-07-18 01:31:00        1  \n61 2019-08-27 09:00:00 2019-07-18 01:31:00        1  \n62 2019-08-27 21:00:00 2019-07-18 01:31:00        1  \n63 2019-08-28 09:00:00 2019-07-18 01:31:00        1  \n64 2019-08-29 21:00:00 2019-07-18 01:31:00        1  \n65 2019-08-29 09:00:00 2019-07-18 01:31:00        1  \n66 2019-08-30 21:00:00 2019-07-18 01:31:00        1  \n69 2019-09-03 09:00:00 2019-07-18 01:31:00        1  \n70 2019-09-02 21:00:00 2019-07-18 01:31:00        1  \n72 2019-09-04 09:00:00 2019-07-18 01:31:00        1  \n74 2019-09-03 21:00:00 2019-07-18 01:31:00        1  \n76 2019-09-04 09:00:00 2019-07-18 01:31:00        1  \n77 2019-09-04 21:00:00 2019-07-18 01:31:00        1  \n79 2019-09-05 09:00:00 2019-07-18 01:31:00        1  \n80 2019-09-05 21:00:00 2019-01-01 00:00:00        1  \n81 2019-09-06 09:00:00 2019-07-18 01:31:00        1  ",
      "text/html": "<div>\n<style scoped>\n    .dataframe tbody tr th:only-of-type {\n        vertical-align: middle;\n    }\n\n    .dataframe tbody tr th {\n        vertical-align: top;\n    }\n\n    .dataframe thead th {\n        text-align: right;\n    }\n</style>\n<table border=\"1\" class=\"dataframe\">\n  <thead>\n    <tr style=\"text-align: right;\">\n      <th></th>\n      <th>Дата составления</th>\n      <th>Марка</th>\n      <th>Вес по акту, тн</th>\n      <th>Склад</th>\n      <th>Дата начала</th>\n      <th>Дата оконч.</th>\n      <th>Нач.форм.штабеля</th>\n      <th>Штабель</th>\n    </tr>\n  </thead>\n  <tbody>\n    <tr>\n      <th>33</th>\n      <td>2019-08-04</td>\n      <td>A1</td>\n      <td>174.25</td>\n      <td>3</td>\n      <td>2019-08-04 09:00:00</td>\n      <td>2019-08-04 21:00:00</td>\n      <td>2019-07-18 01:31:00</td>\n      <td>1</td>\n    </tr>\n    <tr>\n      <th>34</th>\n      <td>2019-08-05</td>\n      <td>A1</td>\n      <td>255.00</td>\n      <td>3</td>\n      <td>2019-08-04 21:00:00</td>\n      <td>2019-08-05 09:00:00</td>\n      <td>2019-07-18 01:31:00</td>\n      <td>1</td>\n    </tr>\n    <tr>\n      <th>35</th>\n      <td>2019-08-06</td>\n      <td>A1</td>\n      <td>170.00</td>\n      <td>3</td>\n      <td>2019-08-05 21:00:00</td>\n      <td>2019-08-06 09:00:00</td>\n      <td>2019-07-18 01:31:00</td>\n      <td>1</td>\n    </tr>\n    <tr>\n      <th>36</th>\n      <td>2019-08-06</td>\n      <td>A1</td>\n      <td>238.00</td>\n      <td>3</td>\n      <td>2019-08-06 09:00:00</td>\n      <td>2019-08-06 21:00:00</td>\n      <td>2019-07-18 01:31:00</td>\n      <td>1</td>\n    </tr>\n    <tr>\n      <th>38</th>\n      <td>2019-08-07</td>\n      <td>A1</td>\n      <td>382.50</td>\n      <td>3</td>\n      <td>2019-08-06 09:00:00</td>\n      <td>2019-08-07 21:00:00</td>\n      <td>2019-07-18 01:31:00</td>\n      <td>1</td>\n    </tr>\n    <tr>\n      <th>39</th>\n      <td>2019-08-07</td>\n      <td>A1</td>\n      <td>382.50</td>\n      <td>3</td>\n      <td>2019-08-07 09:00:00</td>\n      <td>2019-08-07 21:00:00</td>\n      <td>2019-07-18 01:31:00</td>\n      <td>1</td>\n    </tr>\n    <tr>\n      <th>40</th>\n      <td>2019-08-08</td>\n      <td>A1</td>\n      <td>204.00</td>\n      <td>3</td>\n      <td>2019-08-08 09:00:00</td>\n      <td>2019-08-08 21:00:00</td>\n      <td>2019-07-18 01:31:00</td>\n      <td>1</td>\n    </tr>\n    <tr>\n      <th>42</th>\n      <td>2019-08-09</td>\n      <td>A1</td>\n      <td>204.00</td>\n      <td>3</td>\n      <td>2019-08-08 21:00:00</td>\n      <td>2019-08-09 09:00:00</td>\n      <td>2019-07-18 01:31:00</td>\n      <td>1</td>\n    </tr>\n    <tr>\n      <th>43</th>\n      <td>2019-08-09</td>\n      <td>A1</td>\n      <td>204.00</td>\n      <td>3</td>\n      <td>2019-08-09 09:00:00</td>\n      <td>2019-08-09 21:00:00</td>\n      <td>2019-07-18 01:31:00</td>\n      <td>1</td>\n    </tr>\n    <tr>\n      <th>46</th>\n      <td>2019-08-14</td>\n      <td>A1</td>\n      <td>382.50</td>\n      <td>3</td>\n      <td>2019-08-13 21:00:00</td>\n      <td>2019-08-14 09:00:00</td>\n      <td>2019-07-18 01:31:00</td>\n      <td>1</td>\n    </tr>\n    <tr>\n      <th>48</th>\n      <td>2019-08-15</td>\n      <td>A1</td>\n      <td>204.00</td>\n      <td>3</td>\n      <td>2019-08-15 09:00:00</td>\n      <td>2019-08-15 21:00:00</td>\n      <td>2019-07-18 01:31:00</td>\n      <td>1</td>\n    </tr>\n    <tr>\n      <th>51</th>\n      <td>2019-08-20</td>\n      <td>A1</td>\n      <td>68.00</td>\n      <td>3</td>\n      <td>2019-08-19 21:00:00</td>\n      <td>2019-08-20 09:00:00</td>\n      <td>2019-07-18 01:31:00</td>\n      <td>1</td>\n    </tr>\n    <tr>\n      <th>52</th>\n      <td>2019-08-21</td>\n      <td>A1</td>\n      <td>807.50</td>\n      <td>3</td>\n      <td>2019-08-20 21:00:00</td>\n      <td>2019-08-21 09:00:00</td>\n      <td>2019-07-18 01:31:00</td>\n      <td>1</td>\n    </tr>\n    <tr>\n      <th>56</th>\n      <td>2019-08-22</td>\n      <td>A1</td>\n      <td>382.50</td>\n      <td>3</td>\n      <td>2019-08-22 09:00:00</td>\n      <td>2019-08-22 21:00:00</td>\n      <td>2019-07-18 01:31:00</td>\n      <td>1</td>\n    </tr>\n    <tr>\n      <th>57</th>\n      <td>2019-08-24</td>\n      <td>A1</td>\n      <td>382.50</td>\n      <td>3</td>\n      <td>2019-08-24 09:00:00</td>\n      <td>2019-08-24 21:00:00</td>\n      <td>2019-07-18 01:31:00</td>\n      <td>1</td>\n    </tr>\n    <tr>\n      <th>60</th>\n      <td>2019-08-25</td>\n      <td>A1</td>\n      <td>425.00</td>\n      <td>3</td>\n      <td>2019-08-24 21:00:00</td>\n      <td>2019-08-25 09:00:00</td>\n      <td>2019-07-18 01:31:00</td>\n      <td>1</td>\n    </tr>\n    <tr>\n      <th>61</th>\n      <td>2019-08-27</td>\n      <td>A1</td>\n      <td>255.00</td>\n      <td>3</td>\n      <td>2019-08-26 21:00:00</td>\n      <td>2019-08-27 09:00:00</td>\n      <td>2019-07-18 01:31:00</td>\n      <td>1</td>\n    </tr>\n    <tr>\n      <th>62</th>\n      <td>2019-08-27</td>\n      <td>A1</td>\n      <td>170.00</td>\n      <td>3</td>\n      <td>2019-08-27 09:00:00</td>\n      <td>2019-08-27 21:00:00</td>\n      <td>2019-07-18 01:31:00</td>\n      <td>1</td>\n    </tr>\n    <tr>\n      <th>63</th>\n      <td>2019-08-28</td>\n      <td>A1</td>\n      <td>255.00</td>\n      <td>3</td>\n      <td>2019-08-27 21:00:00</td>\n      <td>2019-08-28 09:00:00</td>\n      <td>2019-07-18 01:31:00</td>\n      <td>1</td>\n    </tr>\n    <tr>\n      <th>64</th>\n      <td>2019-08-29</td>\n      <td>A1</td>\n      <td>212.50</td>\n      <td>3</td>\n      <td>2019-08-29 09:00:00</td>\n      <td>2019-08-29 21:00:00</td>\n      <td>2019-07-18 01:31:00</td>\n      <td>1</td>\n    </tr>\n    <tr>\n      <th>65</th>\n      <td>2019-08-29</td>\n      <td>A1</td>\n      <td>340.00</td>\n      <td>3</td>\n      <td>2019-08-28 21:00:00</td>\n      <td>2019-08-29 09:00:00</td>\n      <td>2019-07-18 01:31:00</td>\n      <td>1</td>\n    </tr>\n    <tr>\n      <th>66</th>\n      <td>2019-08-30</td>\n      <td>A1</td>\n      <td>467.50</td>\n      <td>3</td>\n      <td>2019-08-30 09:00:00</td>\n      <td>2019-08-30 21:00:00</td>\n      <td>2019-07-18 01:31:00</td>\n      <td>1</td>\n    </tr>\n    <tr>\n      <th>69</th>\n      <td>2019-09-02</td>\n      <td>A1</td>\n      <td>297.50</td>\n      <td>3</td>\n      <td>2019-09-02 21:00:00</td>\n      <td>2019-09-03 09:00:00</td>\n      <td>2019-07-18 01:31:00</td>\n      <td>1</td>\n    </tr>\n    <tr>\n      <th>70</th>\n      <td>2019-09-02</td>\n      <td>A1</td>\n      <td>297.50</td>\n      <td>3</td>\n      <td>2019-09-02 09:00:00</td>\n      <td>2019-09-02 21:00:00</td>\n      <td>2019-07-18 01:31:00</td>\n      <td>1</td>\n    </tr>\n    <tr>\n      <th>72</th>\n      <td>2019-09-03</td>\n      <td>A1</td>\n      <td>552.50</td>\n      <td>3</td>\n      <td>2019-09-03 21:00:00</td>\n      <td>2019-09-04 09:00:00</td>\n      <td>2019-07-18 01:31:00</td>\n      <td>1</td>\n    </tr>\n    <tr>\n      <th>74</th>\n      <td>2019-09-03</td>\n      <td>A1</td>\n      <td>255.00</td>\n      <td>3</td>\n      <td>2019-09-03 09:00:00</td>\n      <td>2019-09-03 21:00:00</td>\n      <td>2019-07-18 01:31:00</td>\n      <td>1</td>\n    </tr>\n    <tr>\n      <th>76</th>\n      <td>2019-09-04</td>\n      <td>A1</td>\n      <td>340.00</td>\n      <td>3</td>\n      <td>2019-09-03 21:00:00</td>\n      <td>2019-09-04 09:00:00</td>\n      <td>2019-07-18 01:31:00</td>\n      <td>1</td>\n    </tr>\n    <tr>\n      <th>77</th>\n      <td>2019-09-04</td>\n      <td>A1</td>\n      <td>340.00</td>\n      <td>3</td>\n      <td>2019-09-04 09:00:00</td>\n      <td>2019-09-04 21:00:00</td>\n      <td>2019-07-18 01:31:00</td>\n      <td>1</td>\n    </tr>\n    <tr>\n      <th>79</th>\n      <td>2019-09-05</td>\n      <td>A1</td>\n      <td>850.00</td>\n      <td>3</td>\n      <td>2019-09-04 21:00:00</td>\n      <td>2019-09-05 09:00:00</td>\n      <td>2019-07-18 01:31:00</td>\n      <td>1</td>\n    </tr>\n    <tr>\n      <th>80</th>\n      <td>2019-09-05</td>\n      <td>A1</td>\n      <td>935.00</td>\n      <td>3</td>\n      <td>2019-09-05 09:00:00</td>\n      <td>2019-09-05 21:00:00</td>\n      <td>2019-01-01 00:00:00</td>\n      <td>1</td>\n    </tr>\n    <tr>\n      <th>81</th>\n      <td>2019-09-06</td>\n      <td>A1</td>\n      <td>1700.00</td>\n      <td>3</td>\n      <td>2019-09-05 21:00:00</td>\n      <td>2019-09-06 09:00:00</td>\n      <td>2019-07-18 01:31:00</td>\n      <td>1</td>\n    </tr>\n  </tbody>\n</table>\n</div>"
     },
     "execution_count": 42,
     "metadata": {},
     "output_type": "execute_result"
    }
   ],
   "source": [
    "fires[(fires['Склад'] == 3) & (fires['Штабель'] == 1)]"
   ],
   "metadata": {
    "collapsed": false,
    "ExecuteTime": {
     "end_time": "2025-05-04T08:21:44.830716434Z",
     "start_time": "2025-05-04T08:21:44.805765280Z"
    }
   },
   "id": "952dc2e0175b846"
  },
  {
   "cell_type": "code",
   "execution_count": 45,
   "outputs": [
    {
     "data": {
      "text/plain": "     ВыгрузкаНаСклад Марка  Штабель ПогрузкаНаСудно  На склад, тн  \\\n1905      2019-07-18    A1        1      2019-07-31    32418.2095   \n1906      2019-07-18    A1        1      2019-08-09     8711.2420   \n1910      2019-07-19    A1        1      2019-08-09    17861.4665   \n1917      2019-07-20    A1        1      2019-08-09    24048.4975   \n1927      2019-07-21    A1        1      2019-08-09      749.8105   \n1937      2019-07-22    A1        1      2019-08-09      199.4695   \n1945      2019-07-23    A1        1      2019-07-31    12347.8820   \n1946      2019-07-23    A1        1      2019-08-09    30035.2515   \n1957      2019-07-24    A1        1      2019-08-09    26210.0815   \n1994      2019-07-27    A1        1      2019-09-10      767.4395   \n2008      2019-07-28    A1        1      2019-09-10     1483.8705   \n2016      2019-07-29    A1        1      2019-09-10    17762.3990   \n2026      2019-07-30    A1        1      2019-09-10      573.8435   \n2041      2019-08-01    A1        1      2019-09-10    11103.5415   \n2178      2019-08-19    A1        1      2019-09-10    13799.4440   \n\n      На судно, тн  Склад   Масса угля  \n1905    32341.6330      3   41129.4515  \n1906     8583.0025      3   41129.4515  \n1910    17861.4665      3   58990.9180  \n1917    24048.4975      3   83039.4155  \n1927      749.8105      3   83789.2260  \n1937      199.4695      3   83988.6955  \n1945    12162.8370      3  126371.8290  \n1946    30035.2515      3  126371.8290  \n1957    26210.0815      3  152581.9105  \n1994      767.4395      3  153349.3500  \n2008     1483.8705      3  154833.2205  \n2016    17762.3990      3  172595.6195  \n2026      573.8435      3  173169.4630  \n2041    11103.5415      3  139768.5345  \n2178    13799.4440      3   45880.3990  ",
      "text/html": "<div>\n<style scoped>\n    .dataframe tbody tr th:only-of-type {\n        vertical-align: middle;\n    }\n\n    .dataframe tbody tr th {\n        vertical-align: top;\n    }\n\n    .dataframe thead th {\n        text-align: right;\n    }\n</style>\n<table border=\"1\" class=\"dataframe\">\n  <thead>\n    <tr style=\"text-align: right;\">\n      <th></th>\n      <th>ВыгрузкаНаСклад</th>\n      <th>Марка</th>\n      <th>Штабель</th>\n      <th>ПогрузкаНаСудно</th>\n      <th>На склад, тн</th>\n      <th>На судно, тн</th>\n      <th>Склад</th>\n      <th>Масса угля</th>\n    </tr>\n  </thead>\n  <tbody>\n    <tr>\n      <th>1905</th>\n      <td>2019-07-18</td>\n      <td>A1</td>\n      <td>1</td>\n      <td>2019-07-31</td>\n      <td>32418.2095</td>\n      <td>32341.6330</td>\n      <td>3</td>\n      <td>41129.4515</td>\n    </tr>\n    <tr>\n      <th>1906</th>\n      <td>2019-07-18</td>\n      <td>A1</td>\n      <td>1</td>\n      <td>2019-08-09</td>\n      <td>8711.2420</td>\n      <td>8583.0025</td>\n      <td>3</td>\n      <td>41129.4515</td>\n    </tr>\n    <tr>\n      <th>1910</th>\n      <td>2019-07-19</td>\n      <td>A1</td>\n      <td>1</td>\n      <td>2019-08-09</td>\n      <td>17861.4665</td>\n      <td>17861.4665</td>\n      <td>3</td>\n      <td>58990.9180</td>\n    </tr>\n    <tr>\n      <th>1917</th>\n      <td>2019-07-20</td>\n      <td>A1</td>\n      <td>1</td>\n      <td>2019-08-09</td>\n      <td>24048.4975</td>\n      <td>24048.4975</td>\n      <td>3</td>\n      <td>83039.4155</td>\n    </tr>\n    <tr>\n      <th>1927</th>\n      <td>2019-07-21</td>\n      <td>A1</td>\n      <td>1</td>\n      <td>2019-08-09</td>\n      <td>749.8105</td>\n      <td>749.8105</td>\n      <td>3</td>\n      <td>83789.2260</td>\n    </tr>\n    <tr>\n      <th>1937</th>\n      <td>2019-07-22</td>\n      <td>A1</td>\n      <td>1</td>\n      <td>2019-08-09</td>\n      <td>199.4695</td>\n      <td>199.4695</td>\n      <td>3</td>\n      <td>83988.6955</td>\n    </tr>\n    <tr>\n      <th>1945</th>\n      <td>2019-07-23</td>\n      <td>A1</td>\n      <td>1</td>\n      <td>2019-07-31</td>\n      <td>12347.8820</td>\n      <td>12162.8370</td>\n      <td>3</td>\n      <td>126371.8290</td>\n    </tr>\n    <tr>\n      <th>1946</th>\n      <td>2019-07-23</td>\n      <td>A1</td>\n      <td>1</td>\n      <td>2019-08-09</td>\n      <td>30035.2515</td>\n      <td>30035.2515</td>\n      <td>3</td>\n      <td>126371.8290</td>\n    </tr>\n    <tr>\n      <th>1957</th>\n      <td>2019-07-24</td>\n      <td>A1</td>\n      <td>1</td>\n      <td>2019-08-09</td>\n      <td>26210.0815</td>\n      <td>26210.0815</td>\n      <td>3</td>\n      <td>152581.9105</td>\n    </tr>\n    <tr>\n      <th>1994</th>\n      <td>2019-07-27</td>\n      <td>A1</td>\n      <td>1</td>\n      <td>2019-09-10</td>\n      <td>767.4395</td>\n      <td>767.4395</td>\n      <td>3</td>\n      <td>153349.3500</td>\n    </tr>\n    <tr>\n      <th>2008</th>\n      <td>2019-07-28</td>\n      <td>A1</td>\n      <td>1</td>\n      <td>2019-09-10</td>\n      <td>1483.8705</td>\n      <td>1483.8705</td>\n      <td>3</td>\n      <td>154833.2205</td>\n    </tr>\n    <tr>\n      <th>2016</th>\n      <td>2019-07-29</td>\n      <td>A1</td>\n      <td>1</td>\n      <td>2019-09-10</td>\n      <td>17762.3990</td>\n      <td>17762.3990</td>\n      <td>3</td>\n      <td>172595.6195</td>\n    </tr>\n    <tr>\n      <th>2026</th>\n      <td>2019-07-30</td>\n      <td>A1</td>\n      <td>1</td>\n      <td>2019-09-10</td>\n      <td>573.8435</td>\n      <td>573.8435</td>\n      <td>3</td>\n      <td>173169.4630</td>\n    </tr>\n    <tr>\n      <th>2041</th>\n      <td>2019-08-01</td>\n      <td>A1</td>\n      <td>1</td>\n      <td>2019-09-10</td>\n      <td>11103.5415</td>\n      <td>11103.5415</td>\n      <td>3</td>\n      <td>139768.5345</td>\n    </tr>\n    <tr>\n      <th>2178</th>\n      <td>2019-08-19</td>\n      <td>A1</td>\n      <td>1</td>\n      <td>2019-09-10</td>\n      <td>13799.4440</td>\n      <td>13799.4440</td>\n      <td>3</td>\n      <td>45880.3990</td>\n    </tr>\n  </tbody>\n</table>\n</div>"
     },
     "execution_count": 45,
     "metadata": {},
     "output_type": "execute_result"
    }
   ],
   "source": [
    "supplies[(supplies['Склад'] == 3) & (supplies['Штабель'] == 1) & (supplies['Марка'] == 'A1')]"
   ],
   "metadata": {
    "collapsed": false,
    "ExecuteTime": {
     "end_time": "2025-05-04T08:26:28.542344176Z",
     "start_time": "2025-05-04T08:26:28.521540238Z"
    }
   },
   "id": "701fa68f497f278c"
  },
  {
   "cell_type": "code",
   "execution_count": 41,
   "outputs": [
    {
     "data": {
      "text/plain": "           Дата Марка  Штабель  Склад   Масса угля\n0    2019-01-02    E5        1      3   11984.1925\n34   2019-01-06    E5        1      3   23411.8985\n42   2019-01-07    E5        1      3   35396.0910\n71   2019-01-10    E5        1      3   61295.3530\n94   2019-01-13    E5        1      3   61480.4065\n101  2019-01-13    B2        1      3   14063.8025\n104  2019-01-14    E5        1      3   62439.0365\n109  2019-01-14    B2        1      3   46594.4245\n127  2019-01-16    B2        1      3   58583.9635\n129  2019-01-17    E5        1      3   62625.4245\n138  2019-01-17    B2        1      3   71757.2295\n155  2019-01-22    B2        1      3   91439.0220\n156  2019-01-23    B2        1      3  115966.5625\n160  2019-01-24    B2        1      3  130358.2780\n232  2019-01-31    B2        1      3  130757.7525\n318  2019-02-07    B2        1      3  131362.3065\n356  2019-02-14    E5        1      3   12178.0520\n1906 2019-07-18    A1        1      3   41129.4515\n1910 2019-07-19    A1        1      3   58990.9180\n1917 2019-07-20    A1        1      3   83039.4155\n1927 2019-07-21    A1        1      3   83789.2260\n1937 2019-07-22    A1        1      3   83988.6955\n1946 2019-07-23    A1        1      3  126371.8290\n1957 2019-07-24    A1        1      3  152581.9105\n1994 2019-07-27    A1        1      3  153349.3500\n2008 2019-07-28    A1        1      3  154833.2205\n2016 2019-07-29    A1        1      3  172595.6195\n2026 2019-07-30    A1        1      3  173169.4630\n2041 2019-08-01    A1        1      3  139768.5345\n2178 2019-08-19    A1        1      3   45880.3990",
      "text/html": "<div>\n<style scoped>\n    .dataframe tbody tr th:only-of-type {\n        vertical-align: middle;\n    }\n\n    .dataframe tbody tr th {\n        vertical-align: top;\n    }\n\n    .dataframe thead th {\n        text-align: right;\n    }\n</style>\n<table border=\"1\" class=\"dataframe\">\n  <thead>\n    <tr style=\"text-align: right;\">\n      <th></th>\n      <th>Дата</th>\n      <th>Марка</th>\n      <th>Штабель</th>\n      <th>Склад</th>\n      <th>Масса угля</th>\n    </tr>\n  </thead>\n  <tbody>\n    <tr>\n      <th>0</th>\n      <td>2019-01-02</td>\n      <td>E5</td>\n      <td>1</td>\n      <td>3</td>\n      <td>11984.1925</td>\n    </tr>\n    <tr>\n      <th>34</th>\n      <td>2019-01-06</td>\n      <td>E5</td>\n      <td>1</td>\n      <td>3</td>\n      <td>23411.8985</td>\n    </tr>\n    <tr>\n      <th>42</th>\n      <td>2019-01-07</td>\n      <td>E5</td>\n      <td>1</td>\n      <td>3</td>\n      <td>35396.0910</td>\n    </tr>\n    <tr>\n      <th>71</th>\n      <td>2019-01-10</td>\n      <td>E5</td>\n      <td>1</td>\n      <td>3</td>\n      <td>61295.3530</td>\n    </tr>\n    <tr>\n      <th>94</th>\n      <td>2019-01-13</td>\n      <td>E5</td>\n      <td>1</td>\n      <td>3</td>\n      <td>61480.4065</td>\n    </tr>\n    <tr>\n      <th>101</th>\n      <td>2019-01-13</td>\n      <td>B2</td>\n      <td>1</td>\n      <td>3</td>\n      <td>14063.8025</td>\n    </tr>\n    <tr>\n      <th>104</th>\n      <td>2019-01-14</td>\n      <td>E5</td>\n      <td>1</td>\n      <td>3</td>\n      <td>62439.0365</td>\n    </tr>\n    <tr>\n      <th>109</th>\n      <td>2019-01-14</td>\n      <td>B2</td>\n      <td>1</td>\n      <td>3</td>\n      <td>46594.4245</td>\n    </tr>\n    <tr>\n      <th>127</th>\n      <td>2019-01-16</td>\n      <td>B2</td>\n      <td>1</td>\n      <td>3</td>\n      <td>58583.9635</td>\n    </tr>\n    <tr>\n      <th>129</th>\n      <td>2019-01-17</td>\n      <td>E5</td>\n      <td>1</td>\n      <td>3</td>\n      <td>62625.4245</td>\n    </tr>\n    <tr>\n      <th>138</th>\n      <td>2019-01-17</td>\n      <td>B2</td>\n      <td>1</td>\n      <td>3</td>\n      <td>71757.2295</td>\n    </tr>\n    <tr>\n      <th>155</th>\n      <td>2019-01-22</td>\n      <td>B2</td>\n      <td>1</td>\n      <td>3</td>\n      <td>91439.0220</td>\n    </tr>\n    <tr>\n      <th>156</th>\n      <td>2019-01-23</td>\n      <td>B2</td>\n      <td>1</td>\n      <td>3</td>\n      <td>115966.5625</td>\n    </tr>\n    <tr>\n      <th>160</th>\n      <td>2019-01-24</td>\n      <td>B2</td>\n      <td>1</td>\n      <td>3</td>\n      <td>130358.2780</td>\n    </tr>\n    <tr>\n      <th>232</th>\n      <td>2019-01-31</td>\n      <td>B2</td>\n      <td>1</td>\n      <td>3</td>\n      <td>130757.7525</td>\n    </tr>\n    <tr>\n      <th>318</th>\n      <td>2019-02-07</td>\n      <td>B2</td>\n      <td>1</td>\n      <td>3</td>\n      <td>131362.3065</td>\n    </tr>\n    <tr>\n      <th>356</th>\n      <td>2019-02-14</td>\n      <td>E5</td>\n      <td>1</td>\n      <td>3</td>\n      <td>12178.0520</td>\n    </tr>\n    <tr>\n      <th>1906</th>\n      <td>2019-07-18</td>\n      <td>A1</td>\n      <td>1</td>\n      <td>3</td>\n      <td>41129.4515</td>\n    </tr>\n    <tr>\n      <th>1910</th>\n      <td>2019-07-19</td>\n      <td>A1</td>\n      <td>1</td>\n      <td>3</td>\n      <td>58990.9180</td>\n    </tr>\n    <tr>\n      <th>1917</th>\n      <td>2019-07-20</td>\n      <td>A1</td>\n      <td>1</td>\n      <td>3</td>\n      <td>83039.4155</td>\n    </tr>\n    <tr>\n      <th>1927</th>\n      <td>2019-07-21</td>\n      <td>A1</td>\n      <td>1</td>\n      <td>3</td>\n      <td>83789.2260</td>\n    </tr>\n    <tr>\n      <th>1937</th>\n      <td>2019-07-22</td>\n      <td>A1</td>\n      <td>1</td>\n      <td>3</td>\n      <td>83988.6955</td>\n    </tr>\n    <tr>\n      <th>1946</th>\n      <td>2019-07-23</td>\n      <td>A1</td>\n      <td>1</td>\n      <td>3</td>\n      <td>126371.8290</td>\n    </tr>\n    <tr>\n      <th>1957</th>\n      <td>2019-07-24</td>\n      <td>A1</td>\n      <td>1</td>\n      <td>3</td>\n      <td>152581.9105</td>\n    </tr>\n    <tr>\n      <th>1994</th>\n      <td>2019-07-27</td>\n      <td>A1</td>\n      <td>1</td>\n      <td>3</td>\n      <td>153349.3500</td>\n    </tr>\n    <tr>\n      <th>2008</th>\n      <td>2019-07-28</td>\n      <td>A1</td>\n      <td>1</td>\n      <td>3</td>\n      <td>154833.2205</td>\n    </tr>\n    <tr>\n      <th>2016</th>\n      <td>2019-07-29</td>\n      <td>A1</td>\n      <td>1</td>\n      <td>3</td>\n      <td>172595.6195</td>\n    </tr>\n    <tr>\n      <th>2026</th>\n      <td>2019-07-30</td>\n      <td>A1</td>\n      <td>1</td>\n      <td>3</td>\n      <td>173169.4630</td>\n    </tr>\n    <tr>\n      <th>2041</th>\n      <td>2019-08-01</td>\n      <td>A1</td>\n      <td>1</td>\n      <td>3</td>\n      <td>139768.5345</td>\n    </tr>\n    <tr>\n      <th>2178</th>\n      <td>2019-08-19</td>\n      <td>A1</td>\n      <td>1</td>\n      <td>3</td>\n      <td>45880.3990</td>\n    </tr>\n  </tbody>\n</table>\n</div>"
     },
     "execution_count": 41,
     "metadata": {},
     "output_type": "execute_result"
    }
   ],
   "source": [
    "storage[(storage['Склад'] == 3) & (storage['Штабель'] == 1)]"
   ],
   "metadata": {
    "collapsed": false,
    "ExecuteTime": {
     "end_time": "2025-05-04T08:20:01.717619681Z",
     "start_time": "2025-05-04T08:20:01.676515518Z"
    }
   },
   "id": "170ba662bd7032d6"
  },
  {
   "cell_type": "code",
   "execution_count": 67,
   "outputs": [
    {
     "data": {
      "text/plain": "             Дата Марка  Штабель  Склад  Масса угля Дата составления  \\\n0      2019-01-01    A1        1      3         NaN              NaN   \n1      2019-01-02    A1        1      3         NaN              NaN   \n2      2019-01-03    A1        1      3         NaN              NaN   \n3      2019-01-04    A1        1      3         NaN              NaN   \n4      2019-01-05    A1        1      3         NaN              NaN   \n...           ...   ...      ...    ...         ...              ...   \n154763 2020-09-26   L11       34      3   43274.197              NaN   \n154764 2020-09-27   L11       34      3   43274.197              NaN   \n154765 2020-09-28   L11       34      3   43274.197              NaN   \n154766 2020-09-29   L11       34      3   43274.197              NaN   \n154767 2020-09-30   L11       34      3   43274.197              NaN   \n\n        Вес по акту, тн Дата начала Дата оконч. Нач.форм.штабеля  \n0                   NaN         NaT         NaT              NaT  \n1                   NaN         NaT         NaT              NaT  \n2                   NaN         NaT         NaT              NaT  \n3                   NaN         NaT         NaT              NaT  \n4                   NaN         NaT         NaT              NaT  \n...                 ...         ...         ...              ...  \n154763              NaN         NaT         NaT              NaT  \n154764              NaN         NaT         NaT              NaT  \n154765              NaN         NaT         NaT              NaT  \n154766              NaN         NaT         NaT              NaT  \n154767              NaN         NaT         NaT              NaT  \n\n[154768 rows x 10 columns]",
      "text/html": "<div>\n<style scoped>\n    .dataframe tbody tr th:only-of-type {\n        vertical-align: middle;\n    }\n\n    .dataframe tbody tr th {\n        vertical-align: top;\n    }\n\n    .dataframe thead th {\n        text-align: right;\n    }\n</style>\n<table border=\"1\" class=\"dataframe\">\n  <thead>\n    <tr style=\"text-align: right;\">\n      <th></th>\n      <th>Дата</th>\n      <th>Марка</th>\n      <th>Штабель</th>\n      <th>Склад</th>\n      <th>Масса угля</th>\n      <th>Дата составления</th>\n      <th>Вес по акту, тн</th>\n      <th>Дата начала</th>\n      <th>Дата оконч.</th>\n      <th>Нач.форм.штабеля</th>\n    </tr>\n  </thead>\n  <tbody>\n    <tr>\n      <th>0</th>\n      <td>2019-01-01</td>\n      <td>A1</td>\n      <td>1</td>\n      <td>3</td>\n      <td>NaN</td>\n      <td>NaN</td>\n      <td>NaN</td>\n      <td>NaT</td>\n      <td>NaT</td>\n      <td>NaT</td>\n    </tr>\n    <tr>\n      <th>1</th>\n      <td>2019-01-02</td>\n      <td>A1</td>\n      <td>1</td>\n      <td>3</td>\n      <td>NaN</td>\n      <td>NaN</td>\n      <td>NaN</td>\n      <td>NaT</td>\n      <td>NaT</td>\n      <td>NaT</td>\n    </tr>\n    <tr>\n      <th>2</th>\n      <td>2019-01-03</td>\n      <td>A1</td>\n      <td>1</td>\n      <td>3</td>\n      <td>NaN</td>\n      <td>NaN</td>\n      <td>NaN</td>\n      <td>NaT</td>\n      <td>NaT</td>\n      <td>NaT</td>\n    </tr>\n    <tr>\n      <th>3</th>\n      <td>2019-01-04</td>\n      <td>A1</td>\n      <td>1</td>\n      <td>3</td>\n      <td>NaN</td>\n      <td>NaN</td>\n      <td>NaN</td>\n      <td>NaT</td>\n      <td>NaT</td>\n      <td>NaT</td>\n    </tr>\n    <tr>\n      <th>4</th>\n      <td>2019-01-05</td>\n      <td>A1</td>\n      <td>1</td>\n      <td>3</td>\n      <td>NaN</td>\n      <td>NaN</td>\n      <td>NaN</td>\n      <td>NaT</td>\n      <td>NaT</td>\n      <td>NaT</td>\n    </tr>\n    <tr>\n      <th>...</th>\n      <td>...</td>\n      <td>...</td>\n      <td>...</td>\n      <td>...</td>\n      <td>...</td>\n      <td>...</td>\n      <td>...</td>\n      <td>...</td>\n      <td>...</td>\n      <td>...</td>\n    </tr>\n    <tr>\n      <th>154763</th>\n      <td>2020-09-26</td>\n      <td>L11</td>\n      <td>34</td>\n      <td>3</td>\n      <td>43274.197</td>\n      <td>NaN</td>\n      <td>NaN</td>\n      <td>NaT</td>\n      <td>NaT</td>\n      <td>NaT</td>\n    </tr>\n    <tr>\n      <th>154764</th>\n      <td>2020-09-27</td>\n      <td>L11</td>\n      <td>34</td>\n      <td>3</td>\n      <td>43274.197</td>\n      <td>NaN</td>\n      <td>NaN</td>\n      <td>NaT</td>\n      <td>NaT</td>\n      <td>NaT</td>\n    </tr>\n    <tr>\n      <th>154765</th>\n      <td>2020-09-28</td>\n      <td>L11</td>\n      <td>34</td>\n      <td>3</td>\n      <td>43274.197</td>\n      <td>NaN</td>\n      <td>NaN</td>\n      <td>NaT</td>\n      <td>NaT</td>\n      <td>NaT</td>\n    </tr>\n    <tr>\n      <th>154766</th>\n      <td>2020-09-29</td>\n      <td>L11</td>\n      <td>34</td>\n      <td>3</td>\n      <td>43274.197</td>\n      <td>NaN</td>\n      <td>NaN</td>\n      <td>NaT</td>\n      <td>NaT</td>\n      <td>NaT</td>\n    </tr>\n    <tr>\n      <th>154767</th>\n      <td>2020-09-30</td>\n      <td>L11</td>\n      <td>34</td>\n      <td>3</td>\n      <td>43274.197</td>\n      <td>NaN</td>\n      <td>NaN</td>\n      <td>NaT</td>\n      <td>NaT</td>\n      <td>NaT</td>\n    </tr>\n  </tbody>\n</table>\n<p>154768 rows × 10 columns</p>\n</div>"
     },
     "execution_count": 67,
     "metadata": {},
     "output_type": "execute_result"
    }
   ],
   "source": [
    "full_data = df_result.merge(fires, how='left',\n",
    "                          left_on=['Дата', 'Марка', 'Штабель', 'Склад'],\n",
    "                          right_on=['Дата начала', 'Марка', 'Штабель', 'Склад'])\n",
    "full_data"
   ],
   "metadata": {
    "collapsed": false,
    "ExecuteTime": {
     "end_time": "2025-05-04T09:29:51.175292241Z",
     "start_time": "2025-05-04T09:29:51.087691914Z"
    }
   },
   "id": "44242b0591f19b27"
  },
  {
   "cell_type": "code",
   "execution_count": 68,
   "outputs": [
    {
     "data": {
      "text/plain": "             Дата Марка  Штабель  Склад   Масса угля Дата составления  \\\n215    2019-08-04    A1        1      3  139768.5345       2019-08-04   \n216    2019-08-04    A1        1      3  139768.5345       2019-08-05   \n217    2019-08-05    A1        1      3  139768.5345       2019-08-06   \n218    2019-08-06    A1        1      3  139768.5345       2019-08-06   \n219    2019-08-06    A1        1      3  139768.5345       2019-08-07   \n...           ...   ...      ...    ...          ...              ...   \n103004 2020-09-26    E5        1      3   12178.0520              NaN   \n103005 2020-09-27    E5        1      3   12178.0520              NaN   \n103006 2020-09-28    E5        1      3   12178.0520              NaN   \n103007 2020-09-29    E5        1      3   12178.0520              NaN   \n103008 2020-09-30    E5        1      3   12178.0520              NaN   \n\n        Вес по акту, тн Дата начала         Дата оконч.    Нач.форм.штабеля  \n215              174.25  2019-08-04 2019-08-04 21:00:00 2019-07-18 01:31:00  \n216              255.00  2019-08-04 2019-08-05 09:00:00 2019-07-18 01:31:00  \n217              170.00  2019-08-05 2019-08-06 09:00:00 2019-07-18 01:31:00  \n218              238.00  2019-08-06 2019-08-06 21:00:00 2019-07-18 01:31:00  \n219              382.50  2019-08-06 2019-08-07 21:00:00 2019-07-18 01:31:00  \n...                 ...         ...                 ...                 ...  \n103004              NaN         NaT                 NaT                 NaT  \n103005              NaN         NaT                 NaT                 NaT  \n103006              NaN         NaT                 NaT                 NaT  \n103007              NaN         NaT                 NaT                 NaT  \n103008              NaN         NaT                 NaT                 NaT  \n\n[1282 rows x 10 columns]",
      "text/html": "<div>\n<style scoped>\n    .dataframe tbody tr th:only-of-type {\n        vertical-align: middle;\n    }\n\n    .dataframe tbody tr th {\n        vertical-align: top;\n    }\n\n    .dataframe thead th {\n        text-align: right;\n    }\n</style>\n<table border=\"1\" class=\"dataframe\">\n  <thead>\n    <tr style=\"text-align: right;\">\n      <th></th>\n      <th>Дата</th>\n      <th>Марка</th>\n      <th>Штабель</th>\n      <th>Склад</th>\n      <th>Масса угля</th>\n      <th>Дата составления</th>\n      <th>Вес по акту, тн</th>\n      <th>Дата начала</th>\n      <th>Дата оконч.</th>\n      <th>Нач.форм.штабеля</th>\n    </tr>\n  </thead>\n  <tbody>\n    <tr>\n      <th>215</th>\n      <td>2019-08-04</td>\n      <td>A1</td>\n      <td>1</td>\n      <td>3</td>\n      <td>139768.5345</td>\n      <td>2019-08-04</td>\n      <td>174.25</td>\n      <td>2019-08-04</td>\n      <td>2019-08-04 21:00:00</td>\n      <td>2019-07-18 01:31:00</td>\n    </tr>\n    <tr>\n      <th>216</th>\n      <td>2019-08-04</td>\n      <td>A1</td>\n      <td>1</td>\n      <td>3</td>\n      <td>139768.5345</td>\n      <td>2019-08-05</td>\n      <td>255.00</td>\n      <td>2019-08-04</td>\n      <td>2019-08-05 09:00:00</td>\n      <td>2019-07-18 01:31:00</td>\n    </tr>\n    <tr>\n      <th>217</th>\n      <td>2019-08-05</td>\n      <td>A1</td>\n      <td>1</td>\n      <td>3</td>\n      <td>139768.5345</td>\n      <td>2019-08-06</td>\n      <td>170.00</td>\n      <td>2019-08-05</td>\n      <td>2019-08-06 09:00:00</td>\n      <td>2019-07-18 01:31:00</td>\n    </tr>\n    <tr>\n      <th>218</th>\n      <td>2019-08-06</td>\n      <td>A1</td>\n      <td>1</td>\n      <td>3</td>\n      <td>139768.5345</td>\n      <td>2019-08-06</td>\n      <td>238.00</td>\n      <td>2019-08-06</td>\n      <td>2019-08-06 21:00:00</td>\n      <td>2019-07-18 01:31:00</td>\n    </tr>\n    <tr>\n      <th>219</th>\n      <td>2019-08-06</td>\n      <td>A1</td>\n      <td>1</td>\n      <td>3</td>\n      <td>139768.5345</td>\n      <td>2019-08-07</td>\n      <td>382.50</td>\n      <td>2019-08-06</td>\n      <td>2019-08-07 21:00:00</td>\n      <td>2019-07-18 01:31:00</td>\n    </tr>\n    <tr>\n      <th>...</th>\n      <td>...</td>\n      <td>...</td>\n      <td>...</td>\n      <td>...</td>\n      <td>...</td>\n      <td>...</td>\n      <td>...</td>\n      <td>...</td>\n      <td>...</td>\n      <td>...</td>\n    </tr>\n    <tr>\n      <th>103004</th>\n      <td>2020-09-26</td>\n      <td>E5</td>\n      <td>1</td>\n      <td>3</td>\n      <td>12178.0520</td>\n      <td>NaN</td>\n      <td>NaN</td>\n      <td>NaT</td>\n      <td>NaT</td>\n      <td>NaT</td>\n    </tr>\n    <tr>\n      <th>103005</th>\n      <td>2020-09-27</td>\n      <td>E5</td>\n      <td>1</td>\n      <td>3</td>\n      <td>12178.0520</td>\n      <td>NaN</td>\n      <td>NaN</td>\n      <td>NaT</td>\n      <td>NaT</td>\n      <td>NaT</td>\n    </tr>\n    <tr>\n      <th>103006</th>\n      <td>2020-09-28</td>\n      <td>E5</td>\n      <td>1</td>\n      <td>3</td>\n      <td>12178.0520</td>\n      <td>NaN</td>\n      <td>NaN</td>\n      <td>NaT</td>\n      <td>NaT</td>\n      <td>NaT</td>\n    </tr>\n    <tr>\n      <th>103007</th>\n      <td>2020-09-29</td>\n      <td>E5</td>\n      <td>1</td>\n      <td>3</td>\n      <td>12178.0520</td>\n      <td>NaN</td>\n      <td>NaN</td>\n      <td>NaT</td>\n      <td>NaT</td>\n      <td>NaT</td>\n    </tr>\n    <tr>\n      <th>103008</th>\n      <td>2020-09-30</td>\n      <td>E5</td>\n      <td>1</td>\n      <td>3</td>\n      <td>12178.0520</td>\n      <td>NaN</td>\n      <td>NaN</td>\n      <td>NaT</td>\n      <td>NaT</td>\n      <td>NaT</td>\n    </tr>\n  </tbody>\n</table>\n<p>1282 rows × 10 columns</p>\n</div>"
     },
     "execution_count": 68,
     "metadata": {},
     "output_type": "execute_result"
    }
   ],
   "source": [
    "full_data[(full_data['Склад'] == 3) & (full_data['Штабель'] == 1) & (full_data['Дата'] >= pd.to_datetime('2019-08-04'))]"
   ],
   "metadata": {
    "collapsed": false,
    "ExecuteTime": {
     "end_time": "2025-05-04T09:29:56.965214350Z",
     "start_time": "2025-05-04T09:29:56.935807001Z"
    }
   },
   "id": "ebbd575628b3a348"
  },
  {
   "cell_type": "code",
   "execution_count": 70,
   "outputs": [
    {
     "data": {
      "text/plain": "Дата                     0\nМарка                    0\nШтабель                  0\nСклад                    0\nМасса угля           70468\nДата составления    154282\nВес по акту, тн     154282\nДата начала         154282\nДата оконч.         154282\nНач.форм.штабеля    154282\ndtype: int64"
     },
     "execution_count": 70,
     "metadata": {},
     "output_type": "execute_result"
    }
   ],
   "source": [
    "full_data.isnull().sum()"
   ],
   "metadata": {
    "collapsed": false,
    "ExecuteTime": {
     "end_time": "2025-05-04T10:07:55.916153422Z",
     "start_time": "2025-05-04T10:07:55.891651638Z"
    }
   },
   "id": "7d4c52d3269e5a0"
  },
  {
   "cell_type": "code",
   "execution_count": 77,
   "outputs": [
    {
     "data": {
      "text/plain": "             Дата Марка  Штабель  Склад  Масса угля Дата составления  \\\n0      2019-01-01    A1        1      3         NaN              NaN   \n1      2019-01-02    A1        1      3         NaN              NaN   \n2      2019-01-03    A1        1      3         NaN              NaN   \n3      2019-01-04    A1        1      3         NaN              NaN   \n4      2019-01-05    A1        1      3         NaN              NaN   \n...           ...   ...      ...    ...         ...              ...   \n154763 2020-09-26   L11       34      3   43274.197              NaN   \n154764 2020-09-27   L11       34      3   43274.197              NaN   \n154765 2020-09-28   L11       34      3   43274.197              NaN   \n154766 2020-09-29   L11       34      3   43274.197              NaN   \n154767 2020-09-30   L11       34      3   43274.197              NaN   \n\n        Вес по акту, тн Дата начала Дата оконч. Нач.форм.штабеля  Возгорание  \n0                   NaN         NaT         NaT              NaT           0  \n1                   NaN         NaT         NaT              NaT           0  \n2                   NaN         NaT         NaT              NaT           0  \n3                   NaN         NaT         NaT              NaT           0  \n4                   NaN         NaT         NaT              NaT           0  \n...                 ...         ...         ...              ...         ...  \n154763              NaN         NaT         NaT              NaT           0  \n154764              NaN         NaT         NaT              NaT           0  \n154765              NaN         NaT         NaT              NaT           0  \n154766              NaN         NaT         NaT              NaT           0  \n154767              NaN         NaT         NaT              NaT           0  \n\n[154768 rows x 11 columns]",
      "text/html": "<div>\n<style scoped>\n    .dataframe tbody tr th:only-of-type {\n        vertical-align: middle;\n    }\n\n    .dataframe tbody tr th {\n        vertical-align: top;\n    }\n\n    .dataframe thead th {\n        text-align: right;\n    }\n</style>\n<table border=\"1\" class=\"dataframe\">\n  <thead>\n    <tr style=\"text-align: right;\">\n      <th></th>\n      <th>Дата</th>\n      <th>Марка</th>\n      <th>Штабель</th>\n      <th>Склад</th>\n      <th>Масса угля</th>\n      <th>Дата составления</th>\n      <th>Вес по акту, тн</th>\n      <th>Дата начала</th>\n      <th>Дата оконч.</th>\n      <th>Нач.форм.штабеля</th>\n      <th>Возгорание</th>\n    </tr>\n  </thead>\n  <tbody>\n    <tr>\n      <th>0</th>\n      <td>2019-01-01</td>\n      <td>A1</td>\n      <td>1</td>\n      <td>3</td>\n      <td>NaN</td>\n      <td>NaN</td>\n      <td>NaN</td>\n      <td>NaT</td>\n      <td>NaT</td>\n      <td>NaT</td>\n      <td>0</td>\n    </tr>\n    <tr>\n      <th>1</th>\n      <td>2019-01-02</td>\n      <td>A1</td>\n      <td>1</td>\n      <td>3</td>\n      <td>NaN</td>\n      <td>NaN</td>\n      <td>NaN</td>\n      <td>NaT</td>\n      <td>NaT</td>\n      <td>NaT</td>\n      <td>0</td>\n    </tr>\n    <tr>\n      <th>2</th>\n      <td>2019-01-03</td>\n      <td>A1</td>\n      <td>1</td>\n      <td>3</td>\n      <td>NaN</td>\n      <td>NaN</td>\n      <td>NaN</td>\n      <td>NaT</td>\n      <td>NaT</td>\n      <td>NaT</td>\n      <td>0</td>\n    </tr>\n    <tr>\n      <th>3</th>\n      <td>2019-01-04</td>\n      <td>A1</td>\n      <td>1</td>\n      <td>3</td>\n      <td>NaN</td>\n      <td>NaN</td>\n      <td>NaN</td>\n      <td>NaT</td>\n      <td>NaT</td>\n      <td>NaT</td>\n      <td>0</td>\n    </tr>\n    <tr>\n      <th>4</th>\n      <td>2019-01-05</td>\n      <td>A1</td>\n      <td>1</td>\n      <td>3</td>\n      <td>NaN</td>\n      <td>NaN</td>\n      <td>NaN</td>\n      <td>NaT</td>\n      <td>NaT</td>\n      <td>NaT</td>\n      <td>0</td>\n    </tr>\n    <tr>\n      <th>...</th>\n      <td>...</td>\n      <td>...</td>\n      <td>...</td>\n      <td>...</td>\n      <td>...</td>\n      <td>...</td>\n      <td>...</td>\n      <td>...</td>\n      <td>...</td>\n      <td>...</td>\n      <td>...</td>\n    </tr>\n    <tr>\n      <th>154763</th>\n      <td>2020-09-26</td>\n      <td>L11</td>\n      <td>34</td>\n      <td>3</td>\n      <td>43274.197</td>\n      <td>NaN</td>\n      <td>NaN</td>\n      <td>NaT</td>\n      <td>NaT</td>\n      <td>NaT</td>\n      <td>0</td>\n    </tr>\n    <tr>\n      <th>154764</th>\n      <td>2020-09-27</td>\n      <td>L11</td>\n      <td>34</td>\n      <td>3</td>\n      <td>43274.197</td>\n      <td>NaN</td>\n      <td>NaN</td>\n      <td>NaT</td>\n      <td>NaT</td>\n      <td>NaT</td>\n      <td>0</td>\n    </tr>\n    <tr>\n      <th>154765</th>\n      <td>2020-09-28</td>\n      <td>L11</td>\n      <td>34</td>\n      <td>3</td>\n      <td>43274.197</td>\n      <td>NaN</td>\n      <td>NaN</td>\n      <td>NaT</td>\n      <td>NaT</td>\n      <td>NaT</td>\n      <td>0</td>\n    </tr>\n    <tr>\n      <th>154766</th>\n      <td>2020-09-29</td>\n      <td>L11</td>\n      <td>34</td>\n      <td>3</td>\n      <td>43274.197</td>\n      <td>NaN</td>\n      <td>NaN</td>\n      <td>NaT</td>\n      <td>NaT</td>\n      <td>NaT</td>\n      <td>0</td>\n    </tr>\n    <tr>\n      <th>154767</th>\n      <td>2020-09-30</td>\n      <td>L11</td>\n      <td>34</td>\n      <td>3</td>\n      <td>43274.197</td>\n      <td>NaN</td>\n      <td>NaN</td>\n      <td>NaT</td>\n      <td>NaT</td>\n      <td>NaT</td>\n      <td>0</td>\n    </tr>\n  </tbody>\n</table>\n<p>154768 rows × 11 columns</p>\n</div>"
     },
     "execution_count": 77,
     "metadata": {},
     "output_type": "execute_result"
    }
   ],
   "source": [
    "full_data['Возгорание'] = (~full_data['Дата начала'].isnull()).astype(int)\n",
    "full_data"
   ],
   "metadata": {
    "collapsed": false,
    "ExecuteTime": {
     "end_time": "2025-05-04T10:19:07.202852606Z",
     "start_time": "2025-05-04T10:19:07.154882010Z"
    }
   },
   "id": "2d993be67fc3440d"
  },
  {
   "cell_type": "code",
   "execution_count": 78,
   "outputs": [
    {
     "data": {
      "text/plain": "Возгорание\n0    154282\n1       486\nName: count, dtype: int64"
     },
     "execution_count": 78,
     "metadata": {},
     "output_type": "execute_result"
    }
   ],
   "source": [
    "full_data['Возгорание'].value_counts()"
   ],
   "metadata": {
    "collapsed": false,
    "ExecuteTime": {
     "end_time": "2025-05-04T10:19:17.593232432Z",
     "start_time": "2025-05-04T10:19:17.570751785Z"
    }
   },
   "id": "b450613061b64205"
  },
  {
   "cell_type": "code",
   "execution_count": 81,
   "outputs": [
    {
     "data": {
      "text/plain": "             Дата Марка  Штабель  Склад   Масса угля Дата составления  \\\n39715  2019-01-02    A1       37      3   11626.9120              NaN   \n77450  2019-01-02    B2       44      4     184.5180              NaN   \n87674  2019-01-02    C3       22      3    9520.3315              NaN   \n102371 2019-01-02    E5        1      3   11984.1925              NaN   \n89591  2019-01-02    C3       28      4   35438.2850              NaN   \n...           ...   ...      ...    ...          ...              ...   \n42924  2020-09-30    A1       39      4    6009.8485              NaN   \n42269  2020-09-30    A1       38      4  172050.8885              NaN   \n41630  2020-09-30    A1       38      3   34177.6585              NaN   \n116427 2020-09-30    E5       17      3     199.4695              NaN   \n154767 2020-09-30   L11       34      3   43274.1970              NaN   \n\n        Вес по акту, тн Дата начала Дата оконч. Нач.форм.штабеля  Возгорание  \n39715               NaN         NaT         NaT              NaT           0  \n77450               NaN         NaT         NaT              NaT           0  \n87674               NaN         NaT         NaT              NaT           0  \n102371              NaN         NaT         NaT              NaT           0  \n89591               NaN         NaT         NaT              NaT           0  \n...                 ...         ...         ...              ...         ...  \n42924               NaN         NaT         NaT              NaT           0  \n42269               NaN         NaT         NaT              NaT           0  \n41630               NaN         NaT         NaT              NaT           0  \n116427              NaN         NaT         NaT              NaT           0  \n154767              NaN         NaT         NaT              NaT           0  \n\n[84300 rows x 11 columns]",
      "text/html": "<div>\n<style scoped>\n    .dataframe tbody tr th:only-of-type {\n        vertical-align: middle;\n    }\n\n    .dataframe tbody tr th {\n        vertical-align: top;\n    }\n\n    .dataframe thead th {\n        text-align: right;\n    }\n</style>\n<table border=\"1\" class=\"dataframe\">\n  <thead>\n    <tr style=\"text-align: right;\">\n      <th></th>\n      <th>Дата</th>\n      <th>Марка</th>\n      <th>Штабель</th>\n      <th>Склад</th>\n      <th>Масса угля</th>\n      <th>Дата составления</th>\n      <th>Вес по акту, тн</th>\n      <th>Дата начала</th>\n      <th>Дата оконч.</th>\n      <th>Нач.форм.штабеля</th>\n      <th>Возгорание</th>\n    </tr>\n  </thead>\n  <tbody>\n    <tr>\n      <th>39715</th>\n      <td>2019-01-02</td>\n      <td>A1</td>\n      <td>37</td>\n      <td>3</td>\n      <td>11626.9120</td>\n      <td>NaN</td>\n      <td>NaN</td>\n      <td>NaT</td>\n      <td>NaT</td>\n      <td>NaT</td>\n      <td>0</td>\n    </tr>\n    <tr>\n      <th>77450</th>\n      <td>2019-01-02</td>\n      <td>B2</td>\n      <td>44</td>\n      <td>4</td>\n      <td>184.5180</td>\n      <td>NaN</td>\n      <td>NaN</td>\n      <td>NaT</td>\n      <td>NaT</td>\n      <td>NaT</td>\n      <td>0</td>\n    </tr>\n    <tr>\n      <th>87674</th>\n      <td>2019-01-02</td>\n      <td>C3</td>\n      <td>22</td>\n      <td>3</td>\n      <td>9520.3315</td>\n      <td>NaN</td>\n      <td>NaN</td>\n      <td>NaT</td>\n      <td>NaT</td>\n      <td>NaT</td>\n      <td>0</td>\n    </tr>\n    <tr>\n      <th>102371</th>\n      <td>2019-01-02</td>\n      <td>E5</td>\n      <td>1</td>\n      <td>3</td>\n      <td>11984.1925</td>\n      <td>NaN</td>\n      <td>NaN</td>\n      <td>NaT</td>\n      <td>NaT</td>\n      <td>NaT</td>\n      <td>0</td>\n    </tr>\n    <tr>\n      <th>89591</th>\n      <td>2019-01-02</td>\n      <td>C3</td>\n      <td>28</td>\n      <td>4</td>\n      <td>35438.2850</td>\n      <td>NaN</td>\n      <td>NaN</td>\n      <td>NaT</td>\n      <td>NaT</td>\n      <td>NaT</td>\n      <td>0</td>\n    </tr>\n    <tr>\n      <th>...</th>\n      <td>...</td>\n      <td>...</td>\n      <td>...</td>\n      <td>...</td>\n      <td>...</td>\n      <td>...</td>\n      <td>...</td>\n      <td>...</td>\n      <td>...</td>\n      <td>...</td>\n      <td>...</td>\n    </tr>\n    <tr>\n      <th>42924</th>\n      <td>2020-09-30</td>\n      <td>A1</td>\n      <td>39</td>\n      <td>4</td>\n      <td>6009.8485</td>\n      <td>NaN</td>\n      <td>NaN</td>\n      <td>NaT</td>\n      <td>NaT</td>\n      <td>NaT</td>\n      <td>0</td>\n    </tr>\n    <tr>\n      <th>42269</th>\n      <td>2020-09-30</td>\n      <td>A1</td>\n      <td>38</td>\n      <td>4</td>\n      <td>172050.8885</td>\n      <td>NaN</td>\n      <td>NaN</td>\n      <td>NaT</td>\n      <td>NaT</td>\n      <td>NaT</td>\n      <td>0</td>\n    </tr>\n    <tr>\n      <th>41630</th>\n      <td>2020-09-30</td>\n      <td>A1</td>\n      <td>38</td>\n      <td>3</td>\n      <td>34177.6585</td>\n      <td>NaN</td>\n      <td>NaN</td>\n      <td>NaT</td>\n      <td>NaT</td>\n      <td>NaT</td>\n      <td>0</td>\n    </tr>\n    <tr>\n      <th>116427</th>\n      <td>2020-09-30</td>\n      <td>E5</td>\n      <td>17</td>\n      <td>3</td>\n      <td>199.4695</td>\n      <td>NaN</td>\n      <td>NaN</td>\n      <td>NaT</td>\n      <td>NaT</td>\n      <td>NaT</td>\n      <td>0</td>\n    </tr>\n    <tr>\n      <th>154767</th>\n      <td>2020-09-30</td>\n      <td>L11</td>\n      <td>34</td>\n      <td>3</td>\n      <td>43274.1970</td>\n      <td>NaN</td>\n      <td>NaN</td>\n      <td>NaT</td>\n      <td>NaT</td>\n      <td>NaT</td>\n      <td>0</td>\n    </tr>\n  </tbody>\n</table>\n<p>84300 rows × 11 columns</p>\n</div>"
     },
     "execution_count": 81,
     "metadata": {},
     "output_type": "execute_result"
    }
   ],
   "source": [
    "full_data = full_data.dropna(subset=['Масса угля']).sort_values(['Дата'])\n",
    "full_data"
   ],
   "metadata": {
    "collapsed": false,
    "ExecuteTime": {
     "end_time": "2025-05-04T10:27:27.618788020Z",
     "start_time": "2025-05-04T10:27:27.568380695Z"
    }
   },
   "id": "15fbeef2ab26392b"
  },
  {
   "cell_type": "code",
   "execution_count": 87,
   "outputs": [
    {
     "data": {
      "text/plain": "            Дата Марка  Штабель  Склад   Масса угля Дата составления  \\\n69223 2019-03-24    B2       21      3   74139.0995       2019-03-24   \n69224 2019-03-24    B2       21      3   74139.0995       2019-03-25   \n23916 2019-07-10    A1       22      4  271498.8825       2019-07-11   \n23915 2019-07-10    A1       22      4  271498.8825       2019-07-10   \n23920 2019-07-14    A1       22      4  317418.7980       2019-07-14   \n...          ...   ...      ...    ...          ...              ...   \n1319  2020-09-27    A1        1      6  233258.9125       2020-09-28   \n37152 2020-09-27    A1       33      3  350350.6115       2020-09-27   \n37153 2020-09-27    A1       33      3  350350.6115       2020-09-28   \n37154 2020-09-28    A1       33      3  108709.0925       2020-09-28   \n37155 2020-09-28    A1       33      3  108709.0925       2020-09-29   \n\n       Вес по акту, тн Дата начала         Дата оконч.    Нач.форм.штабеля  \\\n69223            42.50  2019-03-24 2019-03-24 21:00:00 2019-01-03 00:00:00   \n69224            72.25  2019-03-24 2019-03-25 09:00:00 2019-01-03 00:00:00   \n23916            85.00  2019-07-10 2019-07-11 09:00:00 2019-05-19 00:00:00   \n23915            85.00  2019-07-10 2019-07-10 21:00:00 2019-05-19 00:00:00   \n23920           170.00  2019-07-14 2019-07-14 21:00:00 2019-05-19 00:00:00   \n...                ...         ...                 ...                 ...   \n1319              5.95  2020-09-27 2020-09-28 09:00:00 2020-03-15 00:00:00   \n37152            34.00  2020-09-27 2020-09-27 21:00:00 2020-08-09 09:00:00   \n37153            25.50  2020-09-27 2020-09-28 09:00:00 2020-08-09 09:00:00   \n37154            46.75  2020-09-28 2020-09-28 21:00:00 2020-08-09 09:00:00   \n37155            34.00  2020-09-28 2020-09-29 09:00:00 2020-08-09 09:00:00   \n\n       Возгорание  \n69223           1  \n69224           1  \n23916           1  \n23915           1  \n23920           1  \n...           ...  \n1319            1  \n37152           1  \n37153           1  \n37154           1  \n37155           1  \n\n[251 rows x 11 columns]",
      "text/html": "<div>\n<style scoped>\n    .dataframe tbody tr th:only-of-type {\n        vertical-align: middle;\n    }\n\n    .dataframe tbody tr th {\n        vertical-align: top;\n    }\n\n    .dataframe thead th {\n        text-align: right;\n    }\n</style>\n<table border=\"1\" class=\"dataframe\">\n  <thead>\n    <tr style=\"text-align: right;\">\n      <th></th>\n      <th>Дата</th>\n      <th>Марка</th>\n      <th>Штабель</th>\n      <th>Склад</th>\n      <th>Масса угля</th>\n      <th>Дата составления</th>\n      <th>Вес по акту, тн</th>\n      <th>Дата начала</th>\n      <th>Дата оконч.</th>\n      <th>Нач.форм.штабеля</th>\n      <th>Возгорание</th>\n    </tr>\n  </thead>\n  <tbody>\n    <tr>\n      <th>69223</th>\n      <td>2019-03-24</td>\n      <td>B2</td>\n      <td>21</td>\n      <td>3</td>\n      <td>74139.0995</td>\n      <td>2019-03-24</td>\n      <td>42.50</td>\n      <td>2019-03-24</td>\n      <td>2019-03-24 21:00:00</td>\n      <td>2019-01-03 00:00:00</td>\n      <td>1</td>\n    </tr>\n    <tr>\n      <th>69224</th>\n      <td>2019-03-24</td>\n      <td>B2</td>\n      <td>21</td>\n      <td>3</td>\n      <td>74139.0995</td>\n      <td>2019-03-25</td>\n      <td>72.25</td>\n      <td>2019-03-24</td>\n      <td>2019-03-25 09:00:00</td>\n      <td>2019-01-03 00:00:00</td>\n      <td>1</td>\n    </tr>\n    <tr>\n      <th>23916</th>\n      <td>2019-07-10</td>\n      <td>A1</td>\n      <td>22</td>\n      <td>4</td>\n      <td>271498.8825</td>\n      <td>2019-07-11</td>\n      <td>85.00</td>\n      <td>2019-07-10</td>\n      <td>2019-07-11 09:00:00</td>\n      <td>2019-05-19 00:00:00</td>\n      <td>1</td>\n    </tr>\n    <tr>\n      <th>23915</th>\n      <td>2019-07-10</td>\n      <td>A1</td>\n      <td>22</td>\n      <td>4</td>\n      <td>271498.8825</td>\n      <td>2019-07-10</td>\n      <td>85.00</td>\n      <td>2019-07-10</td>\n      <td>2019-07-10 21:00:00</td>\n      <td>2019-05-19 00:00:00</td>\n      <td>1</td>\n    </tr>\n    <tr>\n      <th>23920</th>\n      <td>2019-07-14</td>\n      <td>A1</td>\n      <td>22</td>\n      <td>4</td>\n      <td>317418.7980</td>\n      <td>2019-07-14</td>\n      <td>170.00</td>\n      <td>2019-07-14</td>\n      <td>2019-07-14 21:00:00</td>\n      <td>2019-05-19 00:00:00</td>\n      <td>1</td>\n    </tr>\n    <tr>\n      <th>...</th>\n      <td>...</td>\n      <td>...</td>\n      <td>...</td>\n      <td>...</td>\n      <td>...</td>\n      <td>...</td>\n      <td>...</td>\n      <td>...</td>\n      <td>...</td>\n      <td>...</td>\n      <td>...</td>\n    </tr>\n    <tr>\n      <th>1319</th>\n      <td>2020-09-27</td>\n      <td>A1</td>\n      <td>1</td>\n      <td>6</td>\n      <td>233258.9125</td>\n      <td>2020-09-28</td>\n      <td>5.95</td>\n      <td>2020-09-27</td>\n      <td>2020-09-28 09:00:00</td>\n      <td>2020-03-15 00:00:00</td>\n      <td>1</td>\n    </tr>\n    <tr>\n      <th>37152</th>\n      <td>2020-09-27</td>\n      <td>A1</td>\n      <td>33</td>\n      <td>3</td>\n      <td>350350.6115</td>\n      <td>2020-09-27</td>\n      <td>34.00</td>\n      <td>2020-09-27</td>\n      <td>2020-09-27 21:00:00</td>\n      <td>2020-08-09 09:00:00</td>\n      <td>1</td>\n    </tr>\n    <tr>\n      <th>37153</th>\n      <td>2020-09-27</td>\n      <td>A1</td>\n      <td>33</td>\n      <td>3</td>\n      <td>350350.6115</td>\n      <td>2020-09-28</td>\n      <td>25.50</td>\n      <td>2020-09-27</td>\n      <td>2020-09-28 09:00:00</td>\n      <td>2020-08-09 09:00:00</td>\n      <td>1</td>\n    </tr>\n    <tr>\n      <th>37154</th>\n      <td>2020-09-28</td>\n      <td>A1</td>\n      <td>33</td>\n      <td>3</td>\n      <td>108709.0925</td>\n      <td>2020-09-28</td>\n      <td>46.75</td>\n      <td>2020-09-28</td>\n      <td>2020-09-28 21:00:00</td>\n      <td>2020-08-09 09:00:00</td>\n      <td>1</td>\n    </tr>\n    <tr>\n      <th>37155</th>\n      <td>2020-09-28</td>\n      <td>A1</td>\n      <td>33</td>\n      <td>3</td>\n      <td>108709.0925</td>\n      <td>2020-09-29</td>\n      <td>34.00</td>\n      <td>2020-09-28</td>\n      <td>2020-09-29 09:00:00</td>\n      <td>2020-08-09 09:00:00</td>\n      <td>1</td>\n    </tr>\n  </tbody>\n</table>\n<p>251 rows × 11 columns</p>\n</div>"
     },
     "execution_count": 87,
     "metadata": {},
     "output_type": "execute_result"
    }
   ],
   "source": [
    "full_data[full_data.duplicated(subset=['Масса угля', 'Дата'], keep=False)]"
   ],
   "metadata": {
    "collapsed": false,
    "ExecuteTime": {
     "end_time": "2025-05-04T10:40:04.448509192Z",
     "start_time": "2025-05-04T10:40:04.397784858Z"
    }
   },
   "id": "c1e3b5634460bef5"
  },
  {
   "cell_type": "code",
   "execution_count": 89,
   "outputs": [
    {
     "data": {
      "text/plain": "             Дата Марка  Штабель  Склад   Масса угля Дата составления  \\\n39715  2019-01-02    A1       37      3   11626.9120              NaN   \n77450  2019-01-02    B2       44      4     184.5180              NaN   \n87674  2019-01-02    C3       22      3    9520.3315              NaN   \n102371 2019-01-02    E5        1      3   11984.1925              NaN   \n89591  2019-01-02    C3       28      4   35438.2850              NaN   \n...           ...   ...      ...    ...          ...              ...   \n42924  2020-09-30    A1       39      4    6009.8485              NaN   \n42269  2020-09-30    A1       38      4  172050.8885              NaN   \n41630  2020-09-30    A1       38      3   34177.6585              NaN   \n116427 2020-09-30    E5       17      3     199.4695              NaN   \n154767 2020-09-30   L11       34      3   43274.1970              NaN   \n\n        Вес по акту, тн Дата начала Дата оконч. Нач.форм.штабеля  Возгорание  \n39715               NaN         NaT         NaT              NaT           0  \n77450               NaN         NaT         NaT              NaT           0  \n87674               NaN         NaT         NaT              NaT           0  \n102371              NaN         NaT         NaT              NaT           0  \n89591               NaN         NaT         NaT              NaT           0  \n...                 ...         ...         ...              ...         ...  \n42924               NaN         NaT         NaT              NaT           0  \n42269               NaN         NaT         NaT              NaT           0  \n41630               NaN         NaT         NaT              NaT           0  \n116427              NaN         NaT         NaT              NaT           0  \n154767              NaN         NaT         NaT              NaT           0  \n\n[84170 rows x 11 columns]",
      "text/html": "<div>\n<style scoped>\n    .dataframe tbody tr th:only-of-type {\n        vertical-align: middle;\n    }\n\n    .dataframe tbody tr th {\n        vertical-align: top;\n    }\n\n    .dataframe thead th {\n        text-align: right;\n    }\n</style>\n<table border=\"1\" class=\"dataframe\">\n  <thead>\n    <tr style=\"text-align: right;\">\n      <th></th>\n      <th>Дата</th>\n      <th>Марка</th>\n      <th>Штабель</th>\n      <th>Склад</th>\n      <th>Масса угля</th>\n      <th>Дата составления</th>\n      <th>Вес по акту, тн</th>\n      <th>Дата начала</th>\n      <th>Дата оконч.</th>\n      <th>Нач.форм.штабеля</th>\n      <th>Возгорание</th>\n    </tr>\n  </thead>\n  <tbody>\n    <tr>\n      <th>39715</th>\n      <td>2019-01-02</td>\n      <td>A1</td>\n      <td>37</td>\n      <td>3</td>\n      <td>11626.9120</td>\n      <td>NaN</td>\n      <td>NaN</td>\n      <td>NaT</td>\n      <td>NaT</td>\n      <td>NaT</td>\n      <td>0</td>\n    </tr>\n    <tr>\n      <th>77450</th>\n      <td>2019-01-02</td>\n      <td>B2</td>\n      <td>44</td>\n      <td>4</td>\n      <td>184.5180</td>\n      <td>NaN</td>\n      <td>NaN</td>\n      <td>NaT</td>\n      <td>NaT</td>\n      <td>NaT</td>\n      <td>0</td>\n    </tr>\n    <tr>\n      <th>87674</th>\n      <td>2019-01-02</td>\n      <td>C3</td>\n      <td>22</td>\n      <td>3</td>\n      <td>9520.3315</td>\n      <td>NaN</td>\n      <td>NaN</td>\n      <td>NaT</td>\n      <td>NaT</td>\n      <td>NaT</td>\n      <td>0</td>\n    </tr>\n    <tr>\n      <th>102371</th>\n      <td>2019-01-02</td>\n      <td>E5</td>\n      <td>1</td>\n      <td>3</td>\n      <td>11984.1925</td>\n      <td>NaN</td>\n      <td>NaN</td>\n      <td>NaT</td>\n      <td>NaT</td>\n      <td>NaT</td>\n      <td>0</td>\n    </tr>\n    <tr>\n      <th>89591</th>\n      <td>2019-01-02</td>\n      <td>C3</td>\n      <td>28</td>\n      <td>4</td>\n      <td>35438.2850</td>\n      <td>NaN</td>\n      <td>NaN</td>\n      <td>NaT</td>\n      <td>NaT</td>\n      <td>NaT</td>\n      <td>0</td>\n    </tr>\n    <tr>\n      <th>...</th>\n      <td>...</td>\n      <td>...</td>\n      <td>...</td>\n      <td>...</td>\n      <td>...</td>\n      <td>...</td>\n      <td>...</td>\n      <td>...</td>\n      <td>...</td>\n      <td>...</td>\n      <td>...</td>\n    </tr>\n    <tr>\n      <th>42924</th>\n      <td>2020-09-30</td>\n      <td>A1</td>\n      <td>39</td>\n      <td>4</td>\n      <td>6009.8485</td>\n      <td>NaN</td>\n      <td>NaN</td>\n      <td>NaT</td>\n      <td>NaT</td>\n      <td>NaT</td>\n      <td>0</td>\n    </tr>\n    <tr>\n      <th>42269</th>\n      <td>2020-09-30</td>\n      <td>A1</td>\n      <td>38</td>\n      <td>4</td>\n      <td>172050.8885</td>\n      <td>NaN</td>\n      <td>NaN</td>\n      <td>NaT</td>\n      <td>NaT</td>\n      <td>NaT</td>\n      <td>0</td>\n    </tr>\n    <tr>\n      <th>41630</th>\n      <td>2020-09-30</td>\n      <td>A1</td>\n      <td>38</td>\n      <td>3</td>\n      <td>34177.6585</td>\n      <td>NaN</td>\n      <td>NaN</td>\n      <td>NaT</td>\n      <td>NaT</td>\n      <td>NaT</td>\n      <td>0</td>\n    </tr>\n    <tr>\n      <th>116427</th>\n      <td>2020-09-30</td>\n      <td>E5</td>\n      <td>17</td>\n      <td>3</td>\n      <td>199.4695</td>\n      <td>NaN</td>\n      <td>NaN</td>\n      <td>NaT</td>\n      <td>NaT</td>\n      <td>NaT</td>\n      <td>0</td>\n    </tr>\n    <tr>\n      <th>154767</th>\n      <td>2020-09-30</td>\n      <td>L11</td>\n      <td>34</td>\n      <td>3</td>\n      <td>43274.1970</td>\n      <td>NaN</td>\n      <td>NaN</td>\n      <td>NaT</td>\n      <td>NaT</td>\n      <td>NaT</td>\n      <td>0</td>\n    </tr>\n  </tbody>\n</table>\n<p>84170 rows × 11 columns</p>\n</div>"
     },
     "execution_count": 89,
     "metadata": {},
     "output_type": "execute_result"
    }
   ],
   "source": [
    "full_data.drop_duplicates(subset=['Масса угля', 'Дата'], inplace=True)\n",
    "full_data"
   ],
   "metadata": {
    "collapsed": false,
    "ExecuteTime": {
     "end_time": "2025-05-04T10:43:39.025563605Z",
     "start_time": "2025-05-04T10:43:38.973567824Z"
    }
   },
   "id": "c52378da51e9270b"
  },
  {
   "cell_type": "code",
   "execution_count": 108,
   "outputs": [
    {
     "data": {
      "text/plain": "             Дата Марка  Штабель  Склад   Масса угля Дата составления  \\\n87674  2019-01-02    C3       22      3    9520.3315              NaN   \n102371 2019-01-02    E5        1      3   11984.1925              NaN   \n37159  2019-01-02    A1       34      3    3913.8250              NaN   \n77451  2019-01-03    B2       44      4    6510.5325              NaN   \n37160  2019-01-03    A1       34      3    3913.8250              NaN   \n...           ...   ...      ...    ...          ...              ...   \n42924  2020-09-30    A1       39      4    6009.8485              NaN   \n42269  2020-09-30    A1       38      4  172050.8885              NaN   \n41630  2020-09-30    A1       38      3   34177.6585              NaN   \n116427 2020-09-30    E5       17      3     199.4695              NaN   \n154767 2020-09-30   L11       34      3   43274.1970              NaN   \n\n        Вес по акту, тн Дата начала Дата оконч. Нач.форм.штабеля  Возгорание  \n87674               NaN         NaT         NaT              NaT           0  \n102371              NaN         NaT         NaT              NaT           0  \n37159               NaN         NaT         NaT              NaT           0  \n77451               NaN         NaT         NaT              NaT           0  \n37160               NaN         NaT         NaT              NaT           0  \n...                 ...         ...         ...              ...         ...  \n42924               NaN         NaT         NaT              NaT           0  \n42269               NaN         NaT         NaT              NaT           0  \n41630               NaN         NaT         NaT              NaT           0  \n116427              NaN         NaT         NaT              NaT           0  \n154767              NaN         NaT         NaT              NaT           0  \n\n[80591 rows x 11 columns]",
      "text/html": "<div>\n<style scoped>\n    .dataframe tbody tr th:only-of-type {\n        vertical-align: middle;\n    }\n\n    .dataframe tbody tr th {\n        vertical-align: top;\n    }\n\n    .dataframe thead th {\n        text-align: right;\n    }\n</style>\n<table border=\"1\" class=\"dataframe\">\n  <thead>\n    <tr style=\"text-align: right;\">\n      <th></th>\n      <th>Дата</th>\n      <th>Марка</th>\n      <th>Штабель</th>\n      <th>Склад</th>\n      <th>Масса угля</th>\n      <th>Дата составления</th>\n      <th>Вес по акту, тн</th>\n      <th>Дата начала</th>\n      <th>Дата оконч.</th>\n      <th>Нач.форм.штабеля</th>\n      <th>Возгорание</th>\n    </tr>\n  </thead>\n  <tbody>\n    <tr>\n      <th>87674</th>\n      <td>2019-01-02</td>\n      <td>C3</td>\n      <td>22</td>\n      <td>3</td>\n      <td>9520.3315</td>\n      <td>NaN</td>\n      <td>NaN</td>\n      <td>NaT</td>\n      <td>NaT</td>\n      <td>NaT</td>\n      <td>0</td>\n    </tr>\n    <tr>\n      <th>102371</th>\n      <td>2019-01-02</td>\n      <td>E5</td>\n      <td>1</td>\n      <td>3</td>\n      <td>11984.1925</td>\n      <td>NaN</td>\n      <td>NaN</td>\n      <td>NaT</td>\n      <td>NaT</td>\n      <td>NaT</td>\n      <td>0</td>\n    </tr>\n    <tr>\n      <th>37159</th>\n      <td>2019-01-02</td>\n      <td>A1</td>\n      <td>34</td>\n      <td>3</td>\n      <td>3913.8250</td>\n      <td>NaN</td>\n      <td>NaN</td>\n      <td>NaT</td>\n      <td>NaT</td>\n      <td>NaT</td>\n      <td>0</td>\n    </tr>\n    <tr>\n      <th>77451</th>\n      <td>2019-01-03</td>\n      <td>B2</td>\n      <td>44</td>\n      <td>4</td>\n      <td>6510.5325</td>\n      <td>NaN</td>\n      <td>NaN</td>\n      <td>NaT</td>\n      <td>NaT</td>\n      <td>NaT</td>\n      <td>0</td>\n    </tr>\n    <tr>\n      <th>37160</th>\n      <td>2019-01-03</td>\n      <td>A1</td>\n      <td>34</td>\n      <td>3</td>\n      <td>3913.8250</td>\n      <td>NaN</td>\n      <td>NaN</td>\n      <td>NaT</td>\n      <td>NaT</td>\n      <td>NaT</td>\n      <td>0</td>\n    </tr>\n    <tr>\n      <th>...</th>\n      <td>...</td>\n      <td>...</td>\n      <td>...</td>\n      <td>...</td>\n      <td>...</td>\n      <td>...</td>\n      <td>...</td>\n      <td>...</td>\n      <td>...</td>\n      <td>...</td>\n      <td>...</td>\n    </tr>\n    <tr>\n      <th>42924</th>\n      <td>2020-09-30</td>\n      <td>A1</td>\n      <td>39</td>\n      <td>4</td>\n      <td>6009.8485</td>\n      <td>NaN</td>\n      <td>NaN</td>\n      <td>NaT</td>\n      <td>NaT</td>\n      <td>NaT</td>\n      <td>0</td>\n    </tr>\n    <tr>\n      <th>42269</th>\n      <td>2020-09-30</td>\n      <td>A1</td>\n      <td>38</td>\n      <td>4</td>\n      <td>172050.8885</td>\n      <td>NaN</td>\n      <td>NaN</td>\n      <td>NaT</td>\n      <td>NaT</td>\n      <td>NaT</td>\n      <td>0</td>\n    </tr>\n    <tr>\n      <th>41630</th>\n      <td>2020-09-30</td>\n      <td>A1</td>\n      <td>38</td>\n      <td>3</td>\n      <td>34177.6585</td>\n      <td>NaN</td>\n      <td>NaN</td>\n      <td>NaT</td>\n      <td>NaT</td>\n      <td>NaT</td>\n      <td>0</td>\n    </tr>\n    <tr>\n      <th>116427</th>\n      <td>2020-09-30</td>\n      <td>E5</td>\n      <td>17</td>\n      <td>3</td>\n      <td>199.4695</td>\n      <td>NaN</td>\n      <td>NaN</td>\n      <td>NaT</td>\n      <td>NaT</td>\n      <td>NaT</td>\n      <td>0</td>\n    </tr>\n    <tr>\n      <th>154767</th>\n      <td>2020-09-30</td>\n      <td>L11</td>\n      <td>34</td>\n      <td>3</td>\n      <td>43274.1970</td>\n      <td>NaN</td>\n      <td>NaN</td>\n      <td>NaT</td>\n      <td>NaT</td>\n      <td>NaT</td>\n      <td>0</td>\n    </tr>\n  </tbody>\n</table>\n<p>80591 rows × 11 columns</p>\n</div>"
     },
     "execution_count": 108,
     "metadata": {},
     "output_type": "execute_result"
    }
   ],
   "source": [
    "full_data[full_data.duplicated(subset=['Масса угля', 'Марка', 'Штабель'], keep=False)]"
   ],
   "metadata": {
    "collapsed": false,
    "ExecuteTime": {
     "end_time": "2025-05-04T14:01:33.495433087Z",
     "start_time": "2025-05-04T14:01:33.444607577Z"
    }
   },
   "id": "872041740b847213"
  },
  {
   "cell_type": "code",
   "execution_count": 91,
   "outputs": [
    {
     "data": {
      "text/plain": "Возгорание\n0    83814\n1      356\nName: count, dtype: int64"
     },
     "execution_count": 91,
     "metadata": {},
     "output_type": "execute_result"
    }
   ],
   "source": [
    "full_data['Возгорание'].value_counts()"
   ],
   "metadata": {
    "collapsed": false,
    "ExecuteTime": {
     "end_time": "2025-05-04T10:47:58.931328914Z",
     "start_time": "2025-05-04T10:47:58.905988264Z"
    }
   },
   "id": "7aadd9215be39509"
  },
  {
   "cell_type": "code",
   "execution_count": 102,
   "outputs": [
    {
     "data": {
      "text/plain": "             Дата Марка  Штабель  Склад   Масса угля Дата составления  \\\n39715  2019-01-02    A1       37      3   11626.9120              NaN   \n77450  2019-01-02    B2       44      4     184.5180              NaN   \n87674  2019-01-02    C3       22      3    9520.3315              NaN   \n102371 2019-01-02    E5        1      3   11984.1925              NaN   \n89591  2019-01-02    C3       28      4   35438.2850              NaN   \n...           ...   ...      ...    ...          ...              ...   \n42924  2020-09-30    A1       39      4    6009.8485              NaN   \n42269  2020-09-30    A1       38      4  172050.8885              NaN   \n41630  2020-09-30    A1       38      3   34177.6585              NaN   \n116427 2020-09-30    E5       17      3     199.4695              NaN   \n154767 2020-09-30   L11       34      3   43274.1970              NaN   \n\n        Вес по акту, тн Дата начала Дата оконч. Нач.форм.штабеля  Возгорание  \n39715               NaN         NaT         NaT              NaT           0  \n77450               NaN         NaT         NaT              NaT           0  \n87674               NaN         NaT         NaT              NaT           0  \n102371              NaN         NaT         NaT              NaT           0  \n89591               NaN         NaT         NaT              NaT           0  \n...                 ...         ...         ...              ...         ...  \n42924               NaN         NaT         NaT              NaT           0  \n42269               NaN         NaT         NaT              NaT           0  \n41630               NaN         NaT         NaT              NaT           0  \n116427              NaN         NaT         NaT              NaT           0  \n154767              NaN         NaT         NaT              NaT           0  \n\n[83833 rows x 11 columns]",
      "text/html": "<div>\n<style scoped>\n    .dataframe tbody tr th:only-of-type {\n        vertical-align: middle;\n    }\n\n    .dataframe tbody tr th {\n        vertical-align: top;\n    }\n\n    .dataframe thead th {\n        text-align: right;\n    }\n</style>\n<table border=\"1\" class=\"dataframe\">\n  <thead>\n    <tr style=\"text-align: right;\">\n      <th></th>\n      <th>Дата</th>\n      <th>Марка</th>\n      <th>Штабель</th>\n      <th>Склад</th>\n      <th>Масса угля</th>\n      <th>Дата составления</th>\n      <th>Вес по акту, тн</th>\n      <th>Дата начала</th>\n      <th>Дата оконч.</th>\n      <th>Нач.форм.штабеля</th>\n      <th>Возгорание</th>\n    </tr>\n  </thead>\n  <tbody>\n    <tr>\n      <th>39715</th>\n      <td>2019-01-02</td>\n      <td>A1</td>\n      <td>37</td>\n      <td>3</td>\n      <td>11626.9120</td>\n      <td>NaN</td>\n      <td>NaN</td>\n      <td>NaT</td>\n      <td>NaT</td>\n      <td>NaT</td>\n      <td>0</td>\n    </tr>\n    <tr>\n      <th>77450</th>\n      <td>2019-01-02</td>\n      <td>B2</td>\n      <td>44</td>\n      <td>4</td>\n      <td>184.5180</td>\n      <td>NaN</td>\n      <td>NaN</td>\n      <td>NaT</td>\n      <td>NaT</td>\n      <td>NaT</td>\n      <td>0</td>\n    </tr>\n    <tr>\n      <th>87674</th>\n      <td>2019-01-02</td>\n      <td>C3</td>\n      <td>22</td>\n      <td>3</td>\n      <td>9520.3315</td>\n      <td>NaN</td>\n      <td>NaN</td>\n      <td>NaT</td>\n      <td>NaT</td>\n      <td>NaT</td>\n      <td>0</td>\n    </tr>\n    <tr>\n      <th>102371</th>\n      <td>2019-01-02</td>\n      <td>E5</td>\n      <td>1</td>\n      <td>3</td>\n      <td>11984.1925</td>\n      <td>NaN</td>\n      <td>NaN</td>\n      <td>NaT</td>\n      <td>NaT</td>\n      <td>NaT</td>\n      <td>0</td>\n    </tr>\n    <tr>\n      <th>89591</th>\n      <td>2019-01-02</td>\n      <td>C3</td>\n      <td>28</td>\n      <td>4</td>\n      <td>35438.2850</td>\n      <td>NaN</td>\n      <td>NaN</td>\n      <td>NaT</td>\n      <td>NaT</td>\n      <td>NaT</td>\n      <td>0</td>\n    </tr>\n    <tr>\n      <th>...</th>\n      <td>...</td>\n      <td>...</td>\n      <td>...</td>\n      <td>...</td>\n      <td>...</td>\n      <td>...</td>\n      <td>...</td>\n      <td>...</td>\n      <td>...</td>\n      <td>...</td>\n      <td>...</td>\n    </tr>\n    <tr>\n      <th>42924</th>\n      <td>2020-09-30</td>\n      <td>A1</td>\n      <td>39</td>\n      <td>4</td>\n      <td>6009.8485</td>\n      <td>NaN</td>\n      <td>NaN</td>\n      <td>NaT</td>\n      <td>NaT</td>\n      <td>NaT</td>\n      <td>0</td>\n    </tr>\n    <tr>\n      <th>42269</th>\n      <td>2020-09-30</td>\n      <td>A1</td>\n      <td>38</td>\n      <td>4</td>\n      <td>172050.8885</td>\n      <td>NaN</td>\n      <td>NaN</td>\n      <td>NaT</td>\n      <td>NaT</td>\n      <td>NaT</td>\n      <td>0</td>\n    </tr>\n    <tr>\n      <th>41630</th>\n      <td>2020-09-30</td>\n      <td>A1</td>\n      <td>38</td>\n      <td>3</td>\n      <td>34177.6585</td>\n      <td>NaN</td>\n      <td>NaN</td>\n      <td>NaT</td>\n      <td>NaT</td>\n      <td>NaT</td>\n      <td>0</td>\n    </tr>\n    <tr>\n      <th>116427</th>\n      <td>2020-09-30</td>\n      <td>E5</td>\n      <td>17</td>\n      <td>3</td>\n      <td>199.4695</td>\n      <td>NaN</td>\n      <td>NaN</td>\n      <td>NaT</td>\n      <td>NaT</td>\n      <td>NaT</td>\n      <td>0</td>\n    </tr>\n    <tr>\n      <th>154767</th>\n      <td>2020-09-30</td>\n      <td>L11</td>\n      <td>34</td>\n      <td>3</td>\n      <td>43274.1970</td>\n      <td>NaN</td>\n      <td>NaN</td>\n      <td>NaT</td>\n      <td>NaT</td>\n      <td>NaT</td>\n      <td>0</td>\n    </tr>\n  </tbody>\n</table>\n<p>83833 rows × 11 columns</p>\n</div>"
     },
     "execution_count": 102,
     "metadata": {},
     "output_type": "execute_result"
    }
   ],
   "source": [
    "full_data = full_data[full_data['Масса угля'] != 0]\n",
    "full_data"
   ],
   "metadata": {
    "collapsed": false,
    "ExecuteTime": {
     "end_time": "2025-05-04T13:14:19.877479995Z",
     "start_time": "2025-05-04T13:14:19.830148018Z"
    }
   },
   "id": "e76a211433a0a9d7"
  },
  {
   "cell_type": "markdown",
   "source": [
    "Трейн/тест по сезонам\n",
    "Модель под разные сезоны\n"
   ],
   "metadata": {
    "collapsed": false
   },
   "id": "8c50746214ff4bed"
  },
  {
   "cell_type": "code",
   "execution_count": 104,
   "outputs": [
    {
     "data": {
      "text/plain": "             Дата Марка  Штабель  Склад   Масса угля Дата составления  \\\n39715  2019-01-02    A1       37      3   11626.9120              NaN   \n77450  2019-01-02    B2       44      4     184.5180              NaN   \n87674  2019-01-02    C3       22      3    9520.3315              NaN   \n102371 2019-01-02    E5        1      3   11984.1925              NaN   \n89591  2019-01-02    C3       28      4   35438.2850              NaN   \n...           ...   ...      ...    ...          ...              ...   \n42924  2020-09-30    A1       39      4    6009.8485              NaN   \n42269  2020-09-30    A1       38      4  172050.8885              NaN   \n41630  2020-09-30    A1       38      3   34177.6585              NaN   \n116427 2020-09-30    E5       17      3     199.4695              NaN   \n154767 2020-09-30   L11       34      3   43274.1970              NaN   \n\n        Вес по акту, тн Дата начала Дата оконч. Нач.форм.штабеля  Возгорание  \n39715               NaN         NaT         NaT              NaT           0  \n77450               NaN         NaT         NaT              NaT           0  \n87674               NaN         NaT         NaT              NaT           0  \n102371              NaN         NaT         NaT              NaT           0  \n89591               NaN         NaT         NaT              NaT           0  \n...                 ...         ...         ...              ...         ...  \n42924               NaN         NaT         NaT              NaT           0  \n42269               NaN         NaT         NaT              NaT           0  \n41630               NaN         NaT         NaT              NaT           0  \n116427              NaN         NaT         NaT              NaT           0  \n154767              NaN         NaT         NaT              NaT           0  \n\n[83833 rows x 11 columns]",
      "text/html": "<div>\n<style scoped>\n    .dataframe tbody tr th:only-of-type {\n        vertical-align: middle;\n    }\n\n    .dataframe tbody tr th {\n        vertical-align: top;\n    }\n\n    .dataframe thead th {\n        text-align: right;\n    }\n</style>\n<table border=\"1\" class=\"dataframe\">\n  <thead>\n    <tr style=\"text-align: right;\">\n      <th></th>\n      <th>Дата</th>\n      <th>Марка</th>\n      <th>Штабель</th>\n      <th>Склад</th>\n      <th>Масса угля</th>\n      <th>Дата составления</th>\n      <th>Вес по акту, тн</th>\n      <th>Дата начала</th>\n      <th>Дата оконч.</th>\n      <th>Нач.форм.штабеля</th>\n      <th>Возгорание</th>\n    </tr>\n  </thead>\n  <tbody>\n    <tr>\n      <th>39715</th>\n      <td>2019-01-02</td>\n      <td>A1</td>\n      <td>37</td>\n      <td>3</td>\n      <td>11626.9120</td>\n      <td>NaN</td>\n      <td>NaN</td>\n      <td>NaT</td>\n      <td>NaT</td>\n      <td>NaT</td>\n      <td>0</td>\n    </tr>\n    <tr>\n      <th>77450</th>\n      <td>2019-01-02</td>\n      <td>B2</td>\n      <td>44</td>\n      <td>4</td>\n      <td>184.5180</td>\n      <td>NaN</td>\n      <td>NaN</td>\n      <td>NaT</td>\n      <td>NaT</td>\n      <td>NaT</td>\n      <td>0</td>\n    </tr>\n    <tr>\n      <th>87674</th>\n      <td>2019-01-02</td>\n      <td>C3</td>\n      <td>22</td>\n      <td>3</td>\n      <td>9520.3315</td>\n      <td>NaN</td>\n      <td>NaN</td>\n      <td>NaT</td>\n      <td>NaT</td>\n      <td>NaT</td>\n      <td>0</td>\n    </tr>\n    <tr>\n      <th>102371</th>\n      <td>2019-01-02</td>\n      <td>E5</td>\n      <td>1</td>\n      <td>3</td>\n      <td>11984.1925</td>\n      <td>NaN</td>\n      <td>NaN</td>\n      <td>NaT</td>\n      <td>NaT</td>\n      <td>NaT</td>\n      <td>0</td>\n    </tr>\n    <tr>\n      <th>89591</th>\n      <td>2019-01-02</td>\n      <td>C3</td>\n      <td>28</td>\n      <td>4</td>\n      <td>35438.2850</td>\n      <td>NaN</td>\n      <td>NaN</td>\n      <td>NaT</td>\n      <td>NaT</td>\n      <td>NaT</td>\n      <td>0</td>\n    </tr>\n    <tr>\n      <th>...</th>\n      <td>...</td>\n      <td>...</td>\n      <td>...</td>\n      <td>...</td>\n      <td>...</td>\n      <td>...</td>\n      <td>...</td>\n      <td>...</td>\n      <td>...</td>\n      <td>...</td>\n      <td>...</td>\n    </tr>\n    <tr>\n      <th>42924</th>\n      <td>2020-09-30</td>\n      <td>A1</td>\n      <td>39</td>\n      <td>4</td>\n      <td>6009.8485</td>\n      <td>NaN</td>\n      <td>NaN</td>\n      <td>NaT</td>\n      <td>NaT</td>\n      <td>NaT</td>\n      <td>0</td>\n    </tr>\n    <tr>\n      <th>42269</th>\n      <td>2020-09-30</td>\n      <td>A1</td>\n      <td>38</td>\n      <td>4</td>\n      <td>172050.8885</td>\n      <td>NaN</td>\n      <td>NaN</td>\n      <td>NaT</td>\n      <td>NaT</td>\n      <td>NaT</td>\n      <td>0</td>\n    </tr>\n    <tr>\n      <th>41630</th>\n      <td>2020-09-30</td>\n      <td>A1</td>\n      <td>38</td>\n      <td>3</td>\n      <td>34177.6585</td>\n      <td>NaN</td>\n      <td>NaN</td>\n      <td>NaT</td>\n      <td>NaT</td>\n      <td>NaT</td>\n      <td>0</td>\n    </tr>\n    <tr>\n      <th>116427</th>\n      <td>2020-09-30</td>\n      <td>E5</td>\n      <td>17</td>\n      <td>3</td>\n      <td>199.4695</td>\n      <td>NaN</td>\n      <td>NaN</td>\n      <td>NaT</td>\n      <td>NaT</td>\n      <td>NaT</td>\n      <td>0</td>\n    </tr>\n    <tr>\n      <th>154767</th>\n      <td>2020-09-30</td>\n      <td>L11</td>\n      <td>34</td>\n      <td>3</td>\n      <td>43274.1970</td>\n      <td>NaN</td>\n      <td>NaN</td>\n      <td>NaT</td>\n      <td>NaT</td>\n      <td>NaT</td>\n      <td>0</td>\n    </tr>\n  </tbody>\n</table>\n<p>83833 rows × 11 columns</p>\n</div>"
     },
     "execution_count": 104,
     "metadata": {},
     "output_type": "execute_result"
    }
   ],
   "source": [
    "full_data"
   ],
   "metadata": {
    "collapsed": false,
    "ExecuteTime": {
     "end_time": "2025-05-04T13:56:10.083834883Z",
     "start_time": "2025-05-04T13:56:10.040882717Z"
    }
   },
   "id": "928b0a5c722379d7"
  },
  {
   "cell_type": "code",
   "execution_count": 106,
   "outputs": [
    {
     "data": {
      "text/plain": "Дата                    0\nМарка                   0\nШтабель                 0\nСклад                   0\nМасса угля              0\nДата составления    83477\nВес по акту, тн     83477\nДата начала         83477\nДата оконч.         83477\nНач.форм.штабеля    83477\nВозгорание              0\ndtype: int64"
     },
     "execution_count": 106,
     "metadata": {},
     "output_type": "execute_result"
    }
   ],
   "source": [
    "full_data.isnull().sum()"
   ],
   "metadata": {
    "collapsed": false,
    "ExecuteTime": {
     "end_time": "2025-05-04T13:59:08.875914052Z",
     "start_time": "2025-05-04T13:59:08.822405712Z"
    }
   },
   "id": "1949808014d54f94"
  },
  {
   "cell_type": "code",
   "execution_count": 184,
   "outputs": [
    {
     "data": {
      "text/plain": "            Дата Марка  Штабель  Склад   Масса угля  Возгорание\n5505  2019-11-23    A1        6      4   31763.8795           0\n14460 2019-11-23    A1       13      4   56572.5660           0\n37484 2019-11-23    A1       34      3   37919.9025           0\n50292 2019-11-23    A1       46      4   26772.2970           0\n49645 2019-11-23    A1       46      3   56087.2585           0\n...          ...   ...      ...    ...          ...         ...\n44206 2020-09-30    A1       41      3  257098.7520           0\n43566 2020-09-30    A1       40      4  180292.5735           0\n42924 2020-09-30    A1       39      4    6009.8485           0\n42269 2020-09-30    A1       38      4  172050.8885           0\n41630 2020-09-30    A1       38      3   34177.6585           0\n\n[22997 rows x 6 columns]",
      "text/html": "<div>\n<style scoped>\n    .dataframe tbody tr th:only-of-type {\n        vertical-align: middle;\n    }\n\n    .dataframe tbody tr th {\n        vertical-align: top;\n    }\n\n    .dataframe thead th {\n        text-align: right;\n    }\n</style>\n<table border=\"1\" class=\"dataframe\">\n  <thead>\n    <tr style=\"text-align: right;\">\n      <th></th>\n      <th>Дата</th>\n      <th>Марка</th>\n      <th>Штабель</th>\n      <th>Склад</th>\n      <th>Масса угля</th>\n      <th>Возгорание</th>\n    </tr>\n  </thead>\n  <tbody>\n    <tr>\n      <th>5505</th>\n      <td>2019-11-23</td>\n      <td>A1</td>\n      <td>6</td>\n      <td>4</td>\n      <td>31763.8795</td>\n      <td>0</td>\n    </tr>\n    <tr>\n      <th>14460</th>\n      <td>2019-11-23</td>\n      <td>A1</td>\n      <td>13</td>\n      <td>4</td>\n      <td>56572.5660</td>\n      <td>0</td>\n    </tr>\n    <tr>\n      <th>37484</th>\n      <td>2019-11-23</td>\n      <td>A1</td>\n      <td>34</td>\n      <td>3</td>\n      <td>37919.9025</td>\n      <td>0</td>\n    </tr>\n    <tr>\n      <th>50292</th>\n      <td>2019-11-23</td>\n      <td>A1</td>\n      <td>46</td>\n      <td>4</td>\n      <td>26772.2970</td>\n      <td>0</td>\n    </tr>\n    <tr>\n      <th>49645</th>\n      <td>2019-11-23</td>\n      <td>A1</td>\n      <td>46</td>\n      <td>3</td>\n      <td>56087.2585</td>\n      <td>0</td>\n    </tr>\n    <tr>\n      <th>...</th>\n      <td>...</td>\n      <td>...</td>\n      <td>...</td>\n      <td>...</td>\n      <td>...</td>\n      <td>...</td>\n    </tr>\n    <tr>\n      <th>44206</th>\n      <td>2020-09-30</td>\n      <td>A1</td>\n      <td>41</td>\n      <td>3</td>\n      <td>257098.7520</td>\n      <td>0</td>\n    </tr>\n    <tr>\n      <th>43566</th>\n      <td>2020-09-30</td>\n      <td>A1</td>\n      <td>40</td>\n      <td>4</td>\n      <td>180292.5735</td>\n      <td>0</td>\n    </tr>\n    <tr>\n      <th>42924</th>\n      <td>2020-09-30</td>\n      <td>A1</td>\n      <td>39</td>\n      <td>4</td>\n      <td>6009.8485</td>\n      <td>0</td>\n    </tr>\n    <tr>\n      <th>42269</th>\n      <td>2020-09-30</td>\n      <td>A1</td>\n      <td>38</td>\n      <td>4</td>\n      <td>172050.8885</td>\n      <td>0</td>\n    </tr>\n    <tr>\n      <th>41630</th>\n      <td>2020-09-30</td>\n      <td>A1</td>\n      <td>38</td>\n      <td>3</td>\n      <td>34177.6585</td>\n      <td>0</td>\n    </tr>\n  </tbody>\n</table>\n<p>22997 rows × 6 columns</p>\n</div>"
     },
     "execution_count": 184,
     "metadata": {},
     "output_type": "execute_result"
    }
   ],
   "source": [
    "tmp = full_data.drop(columns=['Дата составления', 'Вес по акту, тн', 'Дата начала', 'Дата оконч.', 'Нач.форм.штабеля'])\n",
    "tmp = tmp[tmp['Марка'] == 'A1']\n",
    "tmp = tmp[(tmp['Дата'] >= temperature['Дата'].iloc[0]) & (tmp['Дата'] <= temperature['Дата'].iloc[-1])]\n",
    "tmp"
   ],
   "metadata": {
    "collapsed": false,
    "ExecuteTime": {
     "end_time": "2025-05-05T00:51:29.116828906Z",
     "start_time": "2025-05-05T00:51:29.038894497Z"
    }
   },
   "id": "6c1b426d93d154d2"
  },
  {
   "cell_type": "code",
   "execution_count": 185,
   "outputs": [
    {
     "data": {
      "text/plain": "Возгорание\n0    22776\n1      221\nName: count, dtype: int64"
     },
     "execution_count": 185,
     "metadata": {},
     "output_type": "execute_result"
    }
   ],
   "source": [
    "tmp['Возгорание'].value_counts()"
   ],
   "metadata": {
    "collapsed": false,
    "ExecuteTime": {
     "end_time": "2025-05-05T00:51:41.981253083Z",
     "start_time": "2025-05-05T00:51:41.935307384Z"
    }
   },
   "id": "5f54bb9df79a724"
  },
  {
   "cell_type": "code",
   "execution_count": 92,
   "outputs": [],
   "source": [
    "X = full_data.drop(columns=['Дата составления', 'Вес по акту, тн', 'Дата начала', 'Дата оконч.', 'Нач.форм.штабеля', 'Возгорание'])\n",
    "y = full_data['Возгорание']"
   ],
   "metadata": {
    "collapsed": false,
    "ExecuteTime": {
     "end_time": "2025-05-04T10:49:54.983093689Z",
     "start_time": "2025-05-04T10:49:54.946918071Z"
    }
   },
   "id": "4c080d5058cef830"
  },
  {
   "cell_type": "code",
   "execution_count": 95,
   "outputs": [],
   "source": [
    "from sklearn.model_selection import train_test_split\n",
    "X_train, X_test, y_train, y_test = train_test_split(X, y, test_size=0.2, shuffle=False)"
   ],
   "metadata": {
    "collapsed": false,
    "ExecuteTime": {
     "end_time": "2025-05-04T10:51:09.203361528Z",
     "start_time": "2025-05-04T10:51:09.154080016Z"
    }
   },
   "id": "57f8aa64e402ca47"
  },
  {
   "cell_type": "code",
   "execution_count": 96,
   "outputs": [
    {
     "name": "stdout",
     "output_type": "stream",
     "text": [
      "Возгорание\n",
      "0    67107\n",
      "1      229\n",
      "Name: count, dtype: int64 Возгорание\n",
      "0    16707\n",
      "1      127\n",
      "Name: count, dtype: int64\n"
     ]
    }
   ],
   "source": [
    "print(y_train.value_counts(), y_test.value_counts())"
   ],
   "metadata": {
    "collapsed": false,
    "ExecuteTime": {
     "end_time": "2025-05-04T10:51:45.912229508Z",
     "start_time": "2025-05-04T10:51:45.806768674Z"
    }
   },
   "id": "3779e9a3ded25e2a"
  },
  {
   "cell_type": "code",
   "execution_count": 97,
   "outputs": [
    {
     "data": {
      "text/plain": "Марка\nA1     32859\nE5     18834\nB2     15099\nC3     10567\nG7      4315\nK10     1353\nI9       478\nF6       435\nL11      230\nName: count, dtype: int64"
     },
     "execution_count": 97,
     "metadata": {},
     "output_type": "execute_result"
    }
   ],
   "source": [
    "X['Марка'].value_counts()"
   ],
   "metadata": {
    "collapsed": false,
    "ExecuteTime": {
     "end_time": "2025-05-04T10:52:35.433229145Z",
     "start_time": "2025-05-04T10:52:35.343547757Z"
    }
   },
   "id": "d99a1b2b9c1d6fdb"
  },
  {
   "cell_type": "code",
   "execution_count": 189,
   "outputs": [],
   "source": [
    "temperature.rename(columns={'Дата акта': 'Дата'}, inplace=True)\n",
    "temperature['Дата'] = pd.to_datetime(temperature['Дата'])"
   ],
   "metadata": {
    "collapsed": false,
    "ExecuteTime": {
     "end_time": "2025-05-05T02:20:58.070009338Z",
     "start_time": "2025-05-05T02:20:57.997886387Z"
    }
   },
   "id": "ecb353fffe94ebd7"
  },
  {
   "cell_type": "code",
   "execution_count": 166,
   "outputs": [],
   "source": [
    "temperature.sort_values(['Дата'], inplace=True)"
   ],
   "metadata": {
    "collapsed": false,
    "ExecuteTime": {
     "end_time": "2025-05-04T23:48:42.017853194Z",
     "start_time": "2025-05-04T23:48:41.996230338Z"
    }
   },
   "id": "e7bd3526bf464b2f"
  },
  {
   "cell_type": "code",
   "execution_count": 190,
   "outputs": [
    {
     "data": {
      "text/plain": "      Склад  Штабель      Марка  Максимальная температура      Пикет  \\\n30        4       10    A1-СУЭК                      16.7        NaN   \n22        3        7     A1-СКГ                      19.2        NaN   \n23        3       36  A1-МТ-ШУБ                      17.7        NaN   \n24        3       17     A1-КРУ                      20.5        NaN   \n25        3       31  A1-СА-ШУБ                      18.3        NaN   \n...     ...      ...        ...                       ...        ...   \n4081      3       33         A1                      73.5  3048-3092   \n4080      3       27         A1                      34.3  3004-3007   \n4104      6        1         A1                      28.4  6035-6053   \n4091      6        1         A1                      55.8  6035-6053   \n4105      6        5         A1                      30.1  6054-6083   \n\n           Дата  Смена  \n30   2019-11-23  921.0  \n22   2019-11-23  921.0  \n23   2019-11-23  921.0  \n24   2019-11-23  921.0  \n25   2019-11-23  921.0  \n...         ...    ...  \n4081 2020-09-30  219.0  \n4080 2020-09-30  219.0  \n4104 2020-09-30  921.0  \n4091 2020-09-30  219.0  \n4105 2020-09-30  921.0  \n\n[4106 rows x 7 columns]",
      "text/html": "<div>\n<style scoped>\n    .dataframe tbody tr th:only-of-type {\n        vertical-align: middle;\n    }\n\n    .dataframe tbody tr th {\n        vertical-align: top;\n    }\n\n    .dataframe thead th {\n        text-align: right;\n    }\n</style>\n<table border=\"1\" class=\"dataframe\">\n  <thead>\n    <tr style=\"text-align: right;\">\n      <th></th>\n      <th>Склад</th>\n      <th>Штабель</th>\n      <th>Марка</th>\n      <th>Максимальная температура</th>\n      <th>Пикет</th>\n      <th>Дата</th>\n      <th>Смена</th>\n    </tr>\n  </thead>\n  <tbody>\n    <tr>\n      <th>30</th>\n      <td>4</td>\n      <td>10</td>\n      <td>A1-СУЭК</td>\n      <td>16.7</td>\n      <td>NaN</td>\n      <td>2019-11-23</td>\n      <td>921.0</td>\n    </tr>\n    <tr>\n      <th>22</th>\n      <td>3</td>\n      <td>7</td>\n      <td>A1-СКГ</td>\n      <td>19.2</td>\n      <td>NaN</td>\n      <td>2019-11-23</td>\n      <td>921.0</td>\n    </tr>\n    <tr>\n      <th>23</th>\n      <td>3</td>\n      <td>36</td>\n      <td>A1-МТ-ШУБ</td>\n      <td>17.7</td>\n      <td>NaN</td>\n      <td>2019-11-23</td>\n      <td>921.0</td>\n    </tr>\n    <tr>\n      <th>24</th>\n      <td>3</td>\n      <td>17</td>\n      <td>A1-КРУ</td>\n      <td>20.5</td>\n      <td>NaN</td>\n      <td>2019-11-23</td>\n      <td>921.0</td>\n    </tr>\n    <tr>\n      <th>25</th>\n      <td>3</td>\n      <td>31</td>\n      <td>A1-СА-ШУБ</td>\n      <td>18.3</td>\n      <td>NaN</td>\n      <td>2019-11-23</td>\n      <td>921.0</td>\n    </tr>\n    <tr>\n      <th>...</th>\n      <td>...</td>\n      <td>...</td>\n      <td>...</td>\n      <td>...</td>\n      <td>...</td>\n      <td>...</td>\n      <td>...</td>\n    </tr>\n    <tr>\n      <th>4081</th>\n      <td>3</td>\n      <td>33</td>\n      <td>A1</td>\n      <td>73.5</td>\n      <td>3048-3092</td>\n      <td>2020-09-30</td>\n      <td>219.0</td>\n    </tr>\n    <tr>\n      <th>4080</th>\n      <td>3</td>\n      <td>27</td>\n      <td>A1</td>\n      <td>34.3</td>\n      <td>3004-3007</td>\n      <td>2020-09-30</td>\n      <td>219.0</td>\n    </tr>\n    <tr>\n      <th>4104</th>\n      <td>6</td>\n      <td>1</td>\n      <td>A1</td>\n      <td>28.4</td>\n      <td>6035-6053</td>\n      <td>2020-09-30</td>\n      <td>921.0</td>\n    </tr>\n    <tr>\n      <th>4091</th>\n      <td>6</td>\n      <td>1</td>\n      <td>A1</td>\n      <td>55.8</td>\n      <td>6035-6053</td>\n      <td>2020-09-30</td>\n      <td>219.0</td>\n    </tr>\n    <tr>\n      <th>4105</th>\n      <td>6</td>\n      <td>5</td>\n      <td>A1</td>\n      <td>30.1</td>\n      <td>6054-6083</td>\n      <td>2020-09-30</td>\n      <td>921.0</td>\n    </tr>\n  </tbody>\n</table>\n<p>4106 rows × 7 columns</p>\n</div>"
     },
     "execution_count": 190,
     "metadata": {},
     "output_type": "execute_result"
    }
   ],
   "source": [
    "temperature"
   ],
   "metadata": {
    "collapsed": false,
    "ExecuteTime": {
     "end_time": "2025-05-05T02:21:00.402142392Z",
     "start_time": "2025-05-05T02:21:00.376058815Z"
    }
   },
   "id": "3a5251f4d66311e"
  },
  {
   "cell_type": "code",
   "execution_count": 193,
   "outputs": [
    {
     "data": {
      "text/plain": "Timedelta('156 days 00:00:00')"
     },
     "execution_count": 193,
     "metadata": {},
     "output_type": "execute_result"
    }
   ],
   "source": [
    "(pd.to_datetime('2020-09-30') - pd.to_datetime('2019-11-23')) / 2"
   ],
   "metadata": {
    "collapsed": false,
    "ExecuteTime": {
     "end_time": "2025-05-05T02:23:05.814005508Z",
     "start_time": "2025-05-05T02:23:05.678356346Z"
    }
   },
   "id": "a139788ebf64318e"
  },
  {
   "cell_type": "code",
   "execution_count": 194,
   "outputs": [
    {
     "data": {
      "text/plain": "Timestamp('2020-04-27 00:00:00')"
     },
     "execution_count": 194,
     "metadata": {},
     "output_type": "execute_result"
    }
   ],
   "source": [
    "pd.to_datetime('2019-11-23') + pd.to_timedelta('156 days')"
   ],
   "metadata": {
    "collapsed": false,
    "ExecuteTime": {
     "end_time": "2025-05-05T02:24:05.894300652Z",
     "start_time": "2025-05-05T02:24:05.782936916Z"
    }
   },
   "id": "85c2e4781049a10a"
  },
  {
   "cell_type": "code",
   "execution_count": 195,
   "outputs": [
    {
     "name": "stdout",
     "output_type": "stream",
     "text": [
      "Пропущенные даты:\n",
      "DatetimeIndex(['2019-12-03', '2019-12-17', '2019-12-18', '2019-12-19',\n",
      "               '2019-12-20', '2019-12-21', '2019-12-22', '2019-12-23',\n",
      "               '2019-12-24', '2019-12-25',\n",
      "               ...\n",
      "               '2020-04-18', '2020-04-19', '2020-04-20', '2020-04-21',\n",
      "               '2020-04-22', '2020-04-23', '2020-04-24', '2020-04-25',\n",
      "               '2020-04-26', '2020-07-07'],\n",
      "              dtype='datetime64[ns]', length=109, freq=None)\n"
     ]
    }
   ],
   "source": [
    "full_range = pd.date_range(start=temperature['Дата'].min(), end=temperature['Дата'].max(), freq='D')\n",
    "\n",
    "# Найди недостающие даты\n",
    "missing_dates = full_range.difference(temperature['Дата'])\n",
    "\n",
    "# Выведи результат\n",
    "print(\"Пропущенные даты:\" if not missing_dates.empty else \"Все даты присутствуют.\")\n",
    "print(missing_dates)"
   ],
   "metadata": {
    "collapsed": false,
    "ExecuteTime": {
     "end_time": "2025-05-05T02:41:16.400125378Z",
     "start_time": "2025-05-05T02:41:16.345719500Z"
    }
   },
   "id": "61522696f6d6f464"
  },
  {
   "cell_type": "code",
   "execution_count": 146,
   "outputs": [
    {
     "data": {
      "text/plain": "Пикет\n6062-6085             82\n6084-6094             66\n6017-6023             57\n4010-4013             54\n6057-6062             53\n                      ..\n3046-3077 —            1\n3012-3027—             1\n5054-5081              1\n6062-6085 000«0тэк     1\n6084-^094              1\nName: count, Length: 506, dtype: int64"
     },
     "execution_count": 146,
     "metadata": {},
     "output_type": "execute_result"
    }
   ],
   "source": [
    "temperature['Пикет'].value_counts()"
   ],
   "metadata": {
    "collapsed": false,
    "ExecuteTime": {
     "end_time": "2025-05-04T18:42:13.382525244Z",
     "start_time": "2025-05-04T18:42:13.348099132Z"
    }
   },
   "id": "4bdce6f9a7ce03fd"
  },
  {
   "cell_type": "code",
   "execution_count": 202,
   "outputs": [
    {
     "name": "stderr",
     "output_type": "stream",
     "text": [
      "/tmp/ipykernel_11615/824777246.py:3: SettingWithCopyWarning: \n",
      "A value is trying to be set on a copy of a slice from a DataFrame.\n",
      "Try using .loc[row_indexer,col_indexer] = value instead\n",
      "\n",
      "See the caveats in the documentation: https://pandas.pydata.org/pandas-docs/stable/user_guide/indexing.html#returning-a-view-versus-a-copy\n",
      "  filtered_temperature['Дата'] = pd.to_datetime(filtered_temperature['Дата'], errors='coerce')\n"
     ]
    },
    {
     "data": {
      "text/plain": "      Склад  Штабель      Марка  Максимальная температура      Пикет  \\\n30        4       10    A1-СУЭК                      16.7        NaN   \n22        3        7     A1-СКГ                      19.2        NaN   \n23        3       36  A1-МТ-ШУБ                      17.7        NaN   \n24        3       17     A1-КРУ                      20.5        NaN   \n25        3       31  A1-СА-ШУБ                      18.3        NaN   \n...     ...      ...        ...                       ...        ...   \n4081      3       33         A1                      73.5  3048-3092   \n4080      3       27         A1                      34.3  3004-3007   \n4104      6        1         A1                      28.4  6035-6053   \n4091      6        1         A1                      55.8  6035-6053   \n4105      6        5         A1                      30.1  6054-6083   \n\n           Дата  Смена  \n30   2019-11-23  921.0  \n22   2019-11-23  921.0  \n23   2019-11-23  921.0  \n24   2019-11-23  921.0  \n25   2019-11-23  921.0  \n...         ...    ...  \n4081 2020-09-30  219.0  \n4080 2020-09-30  219.0  \n4104 2020-09-30  921.0  \n4091 2020-09-30  219.0  \n4105 2020-09-30  921.0  \n\n[4095 rows x 7 columns]",
      "text/html": "<div>\n<style scoped>\n    .dataframe tbody tr th:only-of-type {\n        vertical-align: middle;\n    }\n\n    .dataframe tbody tr th {\n        vertical-align: top;\n    }\n\n    .dataframe thead th {\n        text-align: right;\n    }\n</style>\n<table border=\"1\" class=\"dataframe\">\n  <thead>\n    <tr style=\"text-align: right;\">\n      <th></th>\n      <th>Склад</th>\n      <th>Штабель</th>\n      <th>Марка</th>\n      <th>Максимальная температура</th>\n      <th>Пикет</th>\n      <th>Дата</th>\n      <th>Смена</th>\n    </tr>\n  </thead>\n  <tbody>\n    <tr>\n      <th>30</th>\n      <td>4</td>\n      <td>10</td>\n      <td>A1-СУЭК</td>\n      <td>16.7</td>\n      <td>NaN</td>\n      <td>2019-11-23</td>\n      <td>921.0</td>\n    </tr>\n    <tr>\n      <th>22</th>\n      <td>3</td>\n      <td>7</td>\n      <td>A1-СКГ</td>\n      <td>19.2</td>\n      <td>NaN</td>\n      <td>2019-11-23</td>\n      <td>921.0</td>\n    </tr>\n    <tr>\n      <th>23</th>\n      <td>3</td>\n      <td>36</td>\n      <td>A1-МТ-ШУБ</td>\n      <td>17.7</td>\n      <td>NaN</td>\n      <td>2019-11-23</td>\n      <td>921.0</td>\n    </tr>\n    <tr>\n      <th>24</th>\n      <td>3</td>\n      <td>17</td>\n      <td>A1-КРУ</td>\n      <td>20.5</td>\n      <td>NaN</td>\n      <td>2019-11-23</td>\n      <td>921.0</td>\n    </tr>\n    <tr>\n      <th>25</th>\n      <td>3</td>\n      <td>31</td>\n      <td>A1-СА-ШУБ</td>\n      <td>18.3</td>\n      <td>NaN</td>\n      <td>2019-11-23</td>\n      <td>921.0</td>\n    </tr>\n    <tr>\n      <th>...</th>\n      <td>...</td>\n      <td>...</td>\n      <td>...</td>\n      <td>...</td>\n      <td>...</td>\n      <td>...</td>\n      <td>...</td>\n    </tr>\n    <tr>\n      <th>4081</th>\n      <td>3</td>\n      <td>33</td>\n      <td>A1</td>\n      <td>73.5</td>\n      <td>3048-3092</td>\n      <td>2020-09-30</td>\n      <td>219.0</td>\n    </tr>\n    <tr>\n      <th>4080</th>\n      <td>3</td>\n      <td>27</td>\n      <td>A1</td>\n      <td>34.3</td>\n      <td>3004-3007</td>\n      <td>2020-09-30</td>\n      <td>219.0</td>\n    </tr>\n    <tr>\n      <th>4104</th>\n      <td>6</td>\n      <td>1</td>\n      <td>A1</td>\n      <td>28.4</td>\n      <td>6035-6053</td>\n      <td>2020-09-30</td>\n      <td>921.0</td>\n    </tr>\n    <tr>\n      <th>4091</th>\n      <td>6</td>\n      <td>1</td>\n      <td>A1</td>\n      <td>55.8</td>\n      <td>6035-6053</td>\n      <td>2020-09-30</td>\n      <td>219.0</td>\n    </tr>\n    <tr>\n      <th>4105</th>\n      <td>6</td>\n      <td>5</td>\n      <td>A1</td>\n      <td>30.1</td>\n      <td>6054-6083</td>\n      <td>2020-09-30</td>\n      <td>921.0</td>\n    </tr>\n  </tbody>\n</table>\n<p>4095 rows × 7 columns</p>\n</div>"
     },
     "execution_count": 202,
     "metadata": {},
     "output_type": "execute_result"
    }
   ],
   "source": [
    "filtered_temperature = temperature[temperature['Марка'].str.startswith('A1')]\n",
    "# filtered_temperature['Марка'] = filtered_temperature['Марка'].where(~filtered_temperature['Марка'].str.contains('^A1'), 'A1')\n",
    "filtered_temperature['Дата'] = pd.to_datetime(filtered_temperature['Дата'], errors='coerce')\n",
    "filtered_temperature"
   ],
   "metadata": {
    "collapsed": false,
    "ExecuteTime": {
     "end_time": "2025-05-05T03:01:34.045854133Z",
     "start_time": "2025-05-05T03:01:33.957251532Z"
    }
   },
   "id": "9a947354b6118b2f"
  },
  {
   "cell_type": "code",
   "execution_count": 226,
   "outputs": [
    {
     "data": {
      "text/plain": "            Дата  Штабель  Склад   Масса угля Дата составления  \\\n5505  2019-11-23        6      4   31763.8795              NaN   \n14460 2019-11-23       13      4   56572.5660              NaN   \n37484 2019-11-23       34      3   37919.9025              NaN   \n50292 2019-11-23       46      4   26772.2970              NaN   \n49645 2019-11-23       46      3   56087.2585              NaN   \n...          ...      ...    ...          ...              ...   \n44206 2020-09-30       41      3  257098.7520              NaN   \n43566 2020-09-30       40      4  180292.5735              NaN   \n42924 2020-09-30       39      4    6009.8485              NaN   \n42269 2020-09-30       38      4  172050.8885              NaN   \n41630 2020-09-30       38      3   34177.6585              NaN   \n\n       Вес по акту, тн Дата начала Дата оконч. Нач.форм.штабеля  Возгорание  \n5505               NaN         NaT         NaT              NaT           0  \n14460              NaN         NaT         NaT              NaT           0  \n37484              NaN         NaT         NaT              NaT           0  \n50292              NaN         NaT         NaT              NaT           0  \n49645              NaN         NaT         NaT              NaT           0  \n...                ...         ...         ...              ...         ...  \n44206              NaN         NaT         NaT              NaT           0  \n43566              NaN         NaT         NaT              NaT           0  \n42924              NaN         NaT         NaT              NaT           0  \n42269              NaN         NaT         NaT              NaT           0  \n41630              NaN         NaT         NaT              NaT           0  \n\n[22997 rows x 10 columns]",
      "text/html": "<div>\n<style scoped>\n    .dataframe tbody tr th:only-of-type {\n        vertical-align: middle;\n    }\n\n    .dataframe tbody tr th {\n        vertical-align: top;\n    }\n\n    .dataframe thead th {\n        text-align: right;\n    }\n</style>\n<table border=\"1\" class=\"dataframe\">\n  <thead>\n    <tr style=\"text-align: right;\">\n      <th></th>\n      <th>Дата</th>\n      <th>Штабель</th>\n      <th>Склад</th>\n      <th>Масса угля</th>\n      <th>Дата составления</th>\n      <th>Вес по акту, тн</th>\n      <th>Дата начала</th>\n      <th>Дата оконч.</th>\n      <th>Нач.форм.штабеля</th>\n      <th>Возгорание</th>\n    </tr>\n  </thead>\n  <tbody>\n    <tr>\n      <th>5505</th>\n      <td>2019-11-23</td>\n      <td>6</td>\n      <td>4</td>\n      <td>31763.8795</td>\n      <td>NaN</td>\n      <td>NaN</td>\n      <td>NaT</td>\n      <td>NaT</td>\n      <td>NaT</td>\n      <td>0</td>\n    </tr>\n    <tr>\n      <th>14460</th>\n      <td>2019-11-23</td>\n      <td>13</td>\n      <td>4</td>\n      <td>56572.5660</td>\n      <td>NaN</td>\n      <td>NaN</td>\n      <td>NaT</td>\n      <td>NaT</td>\n      <td>NaT</td>\n      <td>0</td>\n    </tr>\n    <tr>\n      <th>37484</th>\n      <td>2019-11-23</td>\n      <td>34</td>\n      <td>3</td>\n      <td>37919.9025</td>\n      <td>NaN</td>\n      <td>NaN</td>\n      <td>NaT</td>\n      <td>NaT</td>\n      <td>NaT</td>\n      <td>0</td>\n    </tr>\n    <tr>\n      <th>50292</th>\n      <td>2019-11-23</td>\n      <td>46</td>\n      <td>4</td>\n      <td>26772.2970</td>\n      <td>NaN</td>\n      <td>NaN</td>\n      <td>NaT</td>\n      <td>NaT</td>\n      <td>NaT</td>\n      <td>0</td>\n    </tr>\n    <tr>\n      <th>49645</th>\n      <td>2019-11-23</td>\n      <td>46</td>\n      <td>3</td>\n      <td>56087.2585</td>\n      <td>NaN</td>\n      <td>NaN</td>\n      <td>NaT</td>\n      <td>NaT</td>\n      <td>NaT</td>\n      <td>0</td>\n    </tr>\n    <tr>\n      <th>...</th>\n      <td>...</td>\n      <td>...</td>\n      <td>...</td>\n      <td>...</td>\n      <td>...</td>\n      <td>...</td>\n      <td>...</td>\n      <td>...</td>\n      <td>...</td>\n      <td>...</td>\n    </tr>\n    <tr>\n      <th>44206</th>\n      <td>2020-09-30</td>\n      <td>41</td>\n      <td>3</td>\n      <td>257098.7520</td>\n      <td>NaN</td>\n      <td>NaN</td>\n      <td>NaT</td>\n      <td>NaT</td>\n      <td>NaT</td>\n      <td>0</td>\n    </tr>\n    <tr>\n      <th>43566</th>\n      <td>2020-09-30</td>\n      <td>40</td>\n      <td>4</td>\n      <td>180292.5735</td>\n      <td>NaN</td>\n      <td>NaN</td>\n      <td>NaT</td>\n      <td>NaT</td>\n      <td>NaT</td>\n      <td>0</td>\n    </tr>\n    <tr>\n      <th>42924</th>\n      <td>2020-09-30</td>\n      <td>39</td>\n      <td>4</td>\n      <td>6009.8485</td>\n      <td>NaN</td>\n      <td>NaN</td>\n      <td>NaT</td>\n      <td>NaT</td>\n      <td>NaT</td>\n      <td>0</td>\n    </tr>\n    <tr>\n      <th>42269</th>\n      <td>2020-09-30</td>\n      <td>38</td>\n      <td>4</td>\n      <td>172050.8885</td>\n      <td>NaN</td>\n      <td>NaN</td>\n      <td>NaT</td>\n      <td>NaT</td>\n      <td>NaT</td>\n      <td>0</td>\n    </tr>\n    <tr>\n      <th>41630</th>\n      <td>2020-09-30</td>\n      <td>38</td>\n      <td>3</td>\n      <td>34177.6585</td>\n      <td>NaN</td>\n      <td>NaN</td>\n      <td>NaT</td>\n      <td>NaT</td>\n      <td>NaT</td>\n      <td>0</td>\n    </tr>\n  </tbody>\n</table>\n<p>22997 rows × 10 columns</p>\n</div>"
     },
     "execution_count": 226,
     "metadata": {},
     "output_type": "execute_result"
    }
   ],
   "source": [
    "tmp = full_data[(full_data['Дата'] >= temperature['Дата'].iloc[0]) & (full_data['Дата'] <= temperature['Дата'].iloc[-1])\n",
    "          & (full_data['Марка'] == 'A1')]\n",
    "tmp= tmp.drop(columns=['Марка'])\n",
    "tmp"
   ],
   "metadata": {
    "collapsed": false,
    "ExecuteTime": {
     "end_time": "2025-05-05T03:17:49.289722857Z",
     "start_time": "2025-05-05T03:17:49.236093235Z"
    }
   },
   "id": "31d5a039b5058246"
  },
  {
   "cell_type": "code",
   "execution_count": 227,
   "outputs": [],
   "source": [
    "tmp_temp = filtered_temperature.drop(columns=['Марка'])"
   ],
   "metadata": {
    "collapsed": false,
    "ExecuteTime": {
     "end_time": "2025-05-05T03:17:51.516134529Z",
     "start_time": "2025-05-05T03:17:51.491910535Z"
    }
   },
   "id": "3c80e30a62a027ee"
  },
  {
   "cell_type": "code",
   "execution_count": 228,
   "outputs": [
    {
     "data": {
      "text/plain": "           Дата  Штабель  Склад   Масса угля  Возгорание  \\\n0    2019-11-23       46      4   26772.2970           0   \n1    2019-11-23       31      3  261788.5165           0   \n2    2019-11-23       10      4   22825.6450           0   \n3    2019-11-23       17      3   32158.8575           0   \n4    2019-11-23        7      3   20705.8555           0   \n...         ...      ...    ...          ...         ...   \n4085 2020-09-30       45      6    8674.2585           0   \n4086 2020-09-30       35      4  309105.4240           0   \n4087 2020-09-30       35      4  309105.4240           0   \n4088 2020-09-30       33      3  108709.0925           1   \n4089 2020-09-30       33      3  108709.0925           1   \n\n      Максимальная температура  \n0                         16.1  \n1                         18.3  \n2                         16.7  \n3                         20.5  \n4                         19.2  \n...                        ...  \n4085                      30.7  \n4086                      27.1  \n4087                      28.0  \n4088                      63.0  \n4089                      73.5  \n\n[4090 rows x 6 columns]",
      "text/html": "<div>\n<style scoped>\n    .dataframe tbody tr th:only-of-type {\n        vertical-align: middle;\n    }\n\n    .dataframe tbody tr th {\n        vertical-align: top;\n    }\n\n    .dataframe thead th {\n        text-align: right;\n    }\n</style>\n<table border=\"1\" class=\"dataframe\">\n  <thead>\n    <tr style=\"text-align: right;\">\n      <th></th>\n      <th>Дата</th>\n      <th>Штабель</th>\n      <th>Склад</th>\n      <th>Масса угля</th>\n      <th>Возгорание</th>\n      <th>Максимальная температура</th>\n    </tr>\n  </thead>\n  <tbody>\n    <tr>\n      <th>0</th>\n      <td>2019-11-23</td>\n      <td>46</td>\n      <td>4</td>\n      <td>26772.2970</td>\n      <td>0</td>\n      <td>16.1</td>\n    </tr>\n    <tr>\n      <th>1</th>\n      <td>2019-11-23</td>\n      <td>31</td>\n      <td>3</td>\n      <td>261788.5165</td>\n      <td>0</td>\n      <td>18.3</td>\n    </tr>\n    <tr>\n      <th>2</th>\n      <td>2019-11-23</td>\n      <td>10</td>\n      <td>4</td>\n      <td>22825.6450</td>\n      <td>0</td>\n      <td>16.7</td>\n    </tr>\n    <tr>\n      <th>3</th>\n      <td>2019-11-23</td>\n      <td>17</td>\n      <td>3</td>\n      <td>32158.8575</td>\n      <td>0</td>\n      <td>20.5</td>\n    </tr>\n    <tr>\n      <th>4</th>\n      <td>2019-11-23</td>\n      <td>7</td>\n      <td>3</td>\n      <td>20705.8555</td>\n      <td>0</td>\n      <td>19.2</td>\n    </tr>\n    <tr>\n      <th>...</th>\n      <td>...</td>\n      <td>...</td>\n      <td>...</td>\n      <td>...</td>\n      <td>...</td>\n      <td>...</td>\n    </tr>\n    <tr>\n      <th>4085</th>\n      <td>2020-09-30</td>\n      <td>45</td>\n      <td>6</td>\n      <td>8674.2585</td>\n      <td>0</td>\n      <td>30.7</td>\n    </tr>\n    <tr>\n      <th>4086</th>\n      <td>2020-09-30</td>\n      <td>35</td>\n      <td>4</td>\n      <td>309105.4240</td>\n      <td>0</td>\n      <td>27.1</td>\n    </tr>\n    <tr>\n      <th>4087</th>\n      <td>2020-09-30</td>\n      <td>35</td>\n      <td>4</td>\n      <td>309105.4240</td>\n      <td>0</td>\n      <td>28.0</td>\n    </tr>\n    <tr>\n      <th>4088</th>\n      <td>2020-09-30</td>\n      <td>33</td>\n      <td>3</td>\n      <td>108709.0925</td>\n      <td>1</td>\n      <td>63.0</td>\n    </tr>\n    <tr>\n      <th>4089</th>\n      <td>2020-09-30</td>\n      <td>33</td>\n      <td>3</td>\n      <td>108709.0925</td>\n      <td>1</td>\n      <td>73.5</td>\n    </tr>\n  </tbody>\n</table>\n<p>4090 rows × 6 columns</p>\n</div>"
     },
     "execution_count": 228,
     "metadata": {},
     "output_type": "execute_result"
    }
   ],
   "source": [
    "tmp = tmp.merge(tmp_temp, how='inner', left_on=['Дата', 'Штабель', 'Склад'], right_on=['Дата', 'Штабель', 'Склад'])\n",
    "tmp.drop(columns=['Смена'], inplace=True)\n",
    "tmp.dropna(axis=1, inplace=True)\n",
    "tmp"
   ],
   "metadata": {
    "collapsed": false,
    "ExecuteTime": {
     "end_time": "2025-05-05T03:17:53.427248413Z",
     "start_time": "2025-05-05T03:17:53.361568502Z"
    }
   },
   "id": "e5fdc900ce8bf80"
  },
  {
   "cell_type": "code",
   "execution_count": 229,
   "outputs": [
    {
     "data": {
      "text/plain": "           Дата  Штабель  Склад   Масса угля  Возгорание  \\\n0    2019-11-23        7      3   20705.8555           0   \n1    2019-11-23       17      3   32158.8575           0   \n2    2019-11-23       31      3  261788.5165           0   \n3    2019-11-23       36      3  238428.6550           0   \n4    2019-11-23        9      4  276335.1360           0   \n...         ...      ...    ...          ...         ...   \n2165 2020-09-30       46      4  129052.8055           0   \n2166 2020-09-30        1      6  233258.9125           0   \n2167 2020-09-30        5      6  184674.6975           0   \n2168 2020-09-30       26      6  120530.8670           0   \n2169 2020-09-30       45      6    8674.2585           0   \n\n      Максимальная температура  \n0                         19.2  \n1                         20.5  \n2                         18.3  \n3                         17.7  \n4                         22.6  \n...                        ...  \n2165                      29.4  \n2166                      55.8  \n2167                      65.3  \n2168                      30.4  \n2169                      30.7  \n\n[2170 rows x 6 columns]",
      "text/html": "<div>\n<style scoped>\n    .dataframe tbody tr th:only-of-type {\n        vertical-align: middle;\n    }\n\n    .dataframe tbody tr th {\n        vertical-align: top;\n    }\n\n    .dataframe thead th {\n        text-align: right;\n    }\n</style>\n<table border=\"1\" class=\"dataframe\">\n  <thead>\n    <tr style=\"text-align: right;\">\n      <th></th>\n      <th>Дата</th>\n      <th>Штабель</th>\n      <th>Склад</th>\n      <th>Масса угля</th>\n      <th>Возгорание</th>\n      <th>Максимальная температура</th>\n    </tr>\n  </thead>\n  <tbody>\n    <tr>\n      <th>0</th>\n      <td>2019-11-23</td>\n      <td>7</td>\n      <td>3</td>\n      <td>20705.8555</td>\n      <td>0</td>\n      <td>19.2</td>\n    </tr>\n    <tr>\n      <th>1</th>\n      <td>2019-11-23</td>\n      <td>17</td>\n      <td>3</td>\n      <td>32158.8575</td>\n      <td>0</td>\n      <td>20.5</td>\n    </tr>\n    <tr>\n      <th>2</th>\n      <td>2019-11-23</td>\n      <td>31</td>\n      <td>3</td>\n      <td>261788.5165</td>\n      <td>0</td>\n      <td>18.3</td>\n    </tr>\n    <tr>\n      <th>3</th>\n      <td>2019-11-23</td>\n      <td>36</td>\n      <td>3</td>\n      <td>238428.6550</td>\n      <td>0</td>\n      <td>17.7</td>\n    </tr>\n    <tr>\n      <th>4</th>\n      <td>2019-11-23</td>\n      <td>9</td>\n      <td>4</td>\n      <td>276335.1360</td>\n      <td>0</td>\n      <td>22.6</td>\n    </tr>\n    <tr>\n      <th>...</th>\n      <td>...</td>\n      <td>...</td>\n      <td>...</td>\n      <td>...</td>\n      <td>...</td>\n      <td>...</td>\n    </tr>\n    <tr>\n      <th>2165</th>\n      <td>2020-09-30</td>\n      <td>46</td>\n      <td>4</td>\n      <td>129052.8055</td>\n      <td>0</td>\n      <td>29.4</td>\n    </tr>\n    <tr>\n      <th>2166</th>\n      <td>2020-09-30</td>\n      <td>1</td>\n      <td>6</td>\n      <td>233258.9125</td>\n      <td>0</td>\n      <td>55.8</td>\n    </tr>\n    <tr>\n      <th>2167</th>\n      <td>2020-09-30</td>\n      <td>5</td>\n      <td>6</td>\n      <td>184674.6975</td>\n      <td>0</td>\n      <td>65.3</td>\n    </tr>\n    <tr>\n      <th>2168</th>\n      <td>2020-09-30</td>\n      <td>26</td>\n      <td>6</td>\n      <td>120530.8670</td>\n      <td>0</td>\n      <td>30.4</td>\n    </tr>\n    <tr>\n      <th>2169</th>\n      <td>2020-09-30</td>\n      <td>45</td>\n      <td>6</td>\n      <td>8674.2585</td>\n      <td>0</td>\n      <td>30.7</td>\n    </tr>\n  </tbody>\n</table>\n<p>2170 rows × 6 columns</p>\n</div>"
     },
     "execution_count": 229,
     "metadata": {},
     "output_type": "execute_result"
    }
   ],
   "source": [
    "group_cols = ['Дата', 'Склад', 'Штабель', 'Масса угля', 'Возгорание']  # подставь свои реальные имена\n",
    "\n",
    "# Найдём индексы строк с максимальной температурой в каждой группе\n",
    "idx = tmp.groupby(group_cols)['Максимальная температура'].idxmax()\n",
    "\n",
    "# Оставим только строки с максимальной температурой\n",
    "df_max_temp = tmp.loc[idx].reset_index(drop=True)\n",
    "df_max_temp"
   ],
   "metadata": {
    "collapsed": false,
    "ExecuteTime": {
     "end_time": "2025-05-05T03:18:53.446055066Z",
     "start_time": "2025-05-05T03:18:53.294700897Z"
    }
   },
   "id": "aad5cce3849a8b7a"
  },
  {
   "cell_type": "code",
   "execution_count": 230,
   "outputs": [
    {
     "data": {
      "text/plain": "Возгорание\n0    1955\n1     215\nName: count, dtype: int64"
     },
     "execution_count": 230,
     "metadata": {},
     "output_type": "execute_result"
    }
   ],
   "source": [
    "df_max_temp['Возгорание'].value_counts()"
   ],
   "metadata": {
    "collapsed": false,
    "ExecuteTime": {
     "end_time": "2025-05-05T03:19:45.289257005Z",
     "start_time": "2025-05-05T03:19:45.236474039Z"
    }
   },
   "id": "43e16f26bf52cd19"
  },
  {
   "cell_type": "code",
   "execution_count": 231,
   "outputs": [
    {
     "data": {
      "text/plain": "Index(['Дата', 'Штабель', 'Склад', 'Масса угля', 'Возгорание',\n       'Максимальная температура'],\n      dtype='object')"
     },
     "execution_count": 231,
     "metadata": {},
     "output_type": "execute_result"
    }
   ],
   "source": [
    "df_max_temp.columns"
   ],
   "metadata": {
    "collapsed": false,
    "ExecuteTime": {
     "end_time": "2025-05-05T04:27:48.508156407Z",
     "start_time": "2025-05-05T04:27:48.480924820Z"
    }
   },
   "id": "70630b152c4a0347"
  },
  {
   "cell_type": "code",
   "execution_count": 232,
   "outputs": [
    {
     "data": {
      "text/plain": "           Дата  Штабель  Склад   Масса угля  Возгорание  \\\n0    2019-11-23        7      3   20705.8555           0   \n1    2019-11-23       17      3   32158.8575           0   \n2    2019-11-23       31      3  261788.5165           0   \n3    2019-11-23       36      3  238428.6550           0   \n4    2019-11-23        9      4  276335.1360           0   \n...         ...      ...    ...          ...         ...   \n2165 2020-09-30       46      4  129052.8055           0   \n2166 2020-09-30        1      6  233258.9125           0   \n2167 2020-09-30        5      6  184674.6975           0   \n2168 2020-09-30       26      6  120530.8670           0   \n2169 2020-09-30       45      6    8674.2585           0   \n\n      Максимальная температура  is_fire  \n0                         19.2      0.0  \n1                         20.5      0.0  \n2                         18.3      0.0  \n3                         17.7      0.0  \n4                         22.6      0.0  \n...                        ...      ...  \n2165                      29.4      NaN  \n2166                      55.8      NaN  \n2167                      65.3      NaN  \n2168                      30.4      NaN  \n2169                      30.7      NaN  \n\n[2170 rows x 7 columns]",
      "text/html": "<div>\n<style scoped>\n    .dataframe tbody tr th:only-of-type {\n        vertical-align: middle;\n    }\n\n    .dataframe tbody tr th {\n        vertical-align: top;\n    }\n\n    .dataframe thead th {\n        text-align: right;\n    }\n</style>\n<table border=\"1\" class=\"dataframe\">\n  <thead>\n    <tr style=\"text-align: right;\">\n      <th></th>\n      <th>Дата</th>\n      <th>Штабель</th>\n      <th>Склад</th>\n      <th>Масса угля</th>\n      <th>Возгорание</th>\n      <th>Максимальная температура</th>\n      <th>is_fire</th>\n    </tr>\n  </thead>\n  <tbody>\n    <tr>\n      <th>0</th>\n      <td>2019-11-23</td>\n      <td>7</td>\n      <td>3</td>\n      <td>20705.8555</td>\n      <td>0</td>\n      <td>19.2</td>\n      <td>0.0</td>\n    </tr>\n    <tr>\n      <th>1</th>\n      <td>2019-11-23</td>\n      <td>17</td>\n      <td>3</td>\n      <td>32158.8575</td>\n      <td>0</td>\n      <td>20.5</td>\n      <td>0.0</td>\n    </tr>\n    <tr>\n      <th>2</th>\n      <td>2019-11-23</td>\n      <td>31</td>\n      <td>3</td>\n      <td>261788.5165</td>\n      <td>0</td>\n      <td>18.3</td>\n      <td>0.0</td>\n    </tr>\n    <tr>\n      <th>3</th>\n      <td>2019-11-23</td>\n      <td>36</td>\n      <td>3</td>\n      <td>238428.6550</td>\n      <td>0</td>\n      <td>17.7</td>\n      <td>0.0</td>\n    </tr>\n    <tr>\n      <th>4</th>\n      <td>2019-11-23</td>\n      <td>9</td>\n      <td>4</td>\n      <td>276335.1360</td>\n      <td>0</td>\n      <td>22.6</td>\n      <td>0.0</td>\n    </tr>\n    <tr>\n      <th>...</th>\n      <td>...</td>\n      <td>...</td>\n      <td>...</td>\n      <td>...</td>\n      <td>...</td>\n      <td>...</td>\n      <td>...</td>\n    </tr>\n    <tr>\n      <th>2165</th>\n      <td>2020-09-30</td>\n      <td>46</td>\n      <td>4</td>\n      <td>129052.8055</td>\n      <td>0</td>\n      <td>29.4</td>\n      <td>NaN</td>\n    </tr>\n    <tr>\n      <th>2166</th>\n      <td>2020-09-30</td>\n      <td>1</td>\n      <td>6</td>\n      <td>233258.9125</td>\n      <td>0</td>\n      <td>55.8</td>\n      <td>NaN</td>\n    </tr>\n    <tr>\n      <th>2167</th>\n      <td>2020-09-30</td>\n      <td>5</td>\n      <td>6</td>\n      <td>184674.6975</td>\n      <td>0</td>\n      <td>65.3</td>\n      <td>NaN</td>\n    </tr>\n    <tr>\n      <th>2168</th>\n      <td>2020-09-30</td>\n      <td>26</td>\n      <td>6</td>\n      <td>120530.8670</td>\n      <td>0</td>\n      <td>30.4</td>\n      <td>NaN</td>\n    </tr>\n    <tr>\n      <th>2169</th>\n      <td>2020-09-30</td>\n      <td>45</td>\n      <td>6</td>\n      <td>8674.2585</td>\n      <td>0</td>\n      <td>30.7</td>\n      <td>NaN</td>\n    </tr>\n  </tbody>\n</table>\n<p>2170 rows × 7 columns</p>\n</div>"
     },
     "execution_count": 232,
     "metadata": {},
     "output_type": "execute_result"
    }
   ],
   "source": [
    "# Создаём сдвинутую на -3 дня таблицу с нужными колонками\n",
    "df_shifted = df_max_temp[['Дата', 'Штабель', 'Склад', 'Возгорание']].copy()\n",
    "df_shifted['Дата'] = df_shifted['Дата'] - pd.Timedelta(days=3)\n",
    "df_shifted = df_shifted.rename(columns={'Возгорание': 'is_fire'})\n",
    "\n",
    "# Объединяем по дате, складу и штабелю\n",
    "df_with_target = df_max_temp.merge(df_shifted, on=['Дата', 'Штабель', 'Склад'], how='left')\n",
    "\n",
    "# Заполним пропущенные значения (если есть) — например, нулями\n",
    "# df_with_target['is_fire'] = df_with_target['is_fire'].fillna(0).astype(int)\n",
    "\n",
    "df_with_target"
   ],
   "metadata": {
    "collapsed": false,
    "ExecuteTime": {
     "end_time": "2025-05-05T04:37:34.951301289Z",
     "start_time": "2025-05-05T04:37:34.879906001Z"
    }
   },
   "id": "ceae4cebf0a9b732"
  },
  {
   "cell_type": "code",
   "execution_count": 233,
   "outputs": [
    {
     "data": {
      "text/plain": "           Дата  Штабель  Склад   Масса угля  Возгорание  \\\n479  2020-05-11        6      4  198518.0525           0   \n681  2020-05-29        1      6  554091.1405           0   \n693  2020-05-30        1      6  554091.1405           0   \n743  2020-06-03        1      6  554091.1405           0   \n754  2020-06-04        1      6  554091.1405           0   \n...         ...      ...    ...          ...         ...   \n2082 2020-09-24        5      6  184674.6975           1   \n2088 2020-09-25       33      3  350350.6115           1   \n2095 2020-09-25        1      6  233258.9125           1   \n2103 2020-09-26       33      3  350350.6115           0   \n2118 2020-09-27       33      3  350350.6115           1   \n\n      Максимальная температура  is_fire  \n479                       24.7      1.0  \n681                       28.1      1.0  \n693                       30.5      1.0  \n743                       32.1      1.0  \n754                       31.6      1.0  \n...                        ...      ...  \n2082                      93.3      1.0  \n2088                     254.0      1.0  \n2095                      80.8      1.0  \n2103                      38.3      1.0  \n2118                     150.0      1.0  \n\n[211 rows x 7 columns]",
      "text/html": "<div>\n<style scoped>\n    .dataframe tbody tr th:only-of-type {\n        vertical-align: middle;\n    }\n\n    .dataframe tbody tr th {\n        vertical-align: top;\n    }\n\n    .dataframe thead th {\n        text-align: right;\n    }\n</style>\n<table border=\"1\" class=\"dataframe\">\n  <thead>\n    <tr style=\"text-align: right;\">\n      <th></th>\n      <th>Дата</th>\n      <th>Штабель</th>\n      <th>Склад</th>\n      <th>Масса угля</th>\n      <th>Возгорание</th>\n      <th>Максимальная температура</th>\n      <th>is_fire</th>\n    </tr>\n  </thead>\n  <tbody>\n    <tr>\n      <th>479</th>\n      <td>2020-05-11</td>\n      <td>6</td>\n      <td>4</td>\n      <td>198518.0525</td>\n      <td>0</td>\n      <td>24.7</td>\n      <td>1.0</td>\n    </tr>\n    <tr>\n      <th>681</th>\n      <td>2020-05-29</td>\n      <td>1</td>\n      <td>6</td>\n      <td>554091.1405</td>\n      <td>0</td>\n      <td>28.1</td>\n      <td>1.0</td>\n    </tr>\n    <tr>\n      <th>693</th>\n      <td>2020-05-30</td>\n      <td>1</td>\n      <td>6</td>\n      <td>554091.1405</td>\n      <td>0</td>\n      <td>30.5</td>\n      <td>1.0</td>\n    </tr>\n    <tr>\n      <th>743</th>\n      <td>2020-06-03</td>\n      <td>1</td>\n      <td>6</td>\n      <td>554091.1405</td>\n      <td>0</td>\n      <td>32.1</td>\n      <td>1.0</td>\n    </tr>\n    <tr>\n      <th>754</th>\n      <td>2020-06-04</td>\n      <td>1</td>\n      <td>6</td>\n      <td>554091.1405</td>\n      <td>0</td>\n      <td>31.6</td>\n      <td>1.0</td>\n    </tr>\n    <tr>\n      <th>...</th>\n      <td>...</td>\n      <td>...</td>\n      <td>...</td>\n      <td>...</td>\n      <td>...</td>\n      <td>...</td>\n      <td>...</td>\n    </tr>\n    <tr>\n      <th>2082</th>\n      <td>2020-09-24</td>\n      <td>5</td>\n      <td>6</td>\n      <td>184674.6975</td>\n      <td>1</td>\n      <td>93.3</td>\n      <td>1.0</td>\n    </tr>\n    <tr>\n      <th>2088</th>\n      <td>2020-09-25</td>\n      <td>33</td>\n      <td>3</td>\n      <td>350350.6115</td>\n      <td>1</td>\n      <td>254.0</td>\n      <td>1.0</td>\n    </tr>\n    <tr>\n      <th>2095</th>\n      <td>2020-09-25</td>\n      <td>1</td>\n      <td>6</td>\n      <td>233258.9125</td>\n      <td>1</td>\n      <td>80.8</td>\n      <td>1.0</td>\n    </tr>\n    <tr>\n      <th>2103</th>\n      <td>2020-09-26</td>\n      <td>33</td>\n      <td>3</td>\n      <td>350350.6115</td>\n      <td>0</td>\n      <td>38.3</td>\n      <td>1.0</td>\n    </tr>\n    <tr>\n      <th>2118</th>\n      <td>2020-09-27</td>\n      <td>33</td>\n      <td>3</td>\n      <td>350350.6115</td>\n      <td>1</td>\n      <td>150.0</td>\n      <td>1.0</td>\n    </tr>\n  </tbody>\n</table>\n<p>211 rows × 7 columns</p>\n</div>"
     },
     "execution_count": 233,
     "metadata": {},
     "output_type": "execute_result"
    }
   ],
   "source": [
    "df_with_target[df_with_target['is_fire'] == 1]"
   ],
   "metadata": {
    "collapsed": false,
    "ExecuteTime": {
     "end_time": "2025-05-05T04:38:13.872468157Z",
     "start_time": "2025-05-05T04:38:13.815724442Z"
    }
   },
   "id": "74bf86c7b5744a04"
  },
  {
   "cell_type": "code",
   "execution_count": 235,
   "outputs": [
    {
     "data": {
      "text/plain": "           Дата  Штабель  Склад   Масса угля  Возгорание  \\\n681  2020-05-29        1      6  554091.1405           0   \n693  2020-05-30        1      6  554091.1405           0   \n706  2020-05-31        1      6  554091.1405           0   \n719  2020-06-01        1      6  554091.1405           1   \n732  2020-06-02        1      6  554091.1405           1   \n...         ...      ...    ...          ...         ...   \n2110 2020-09-26        1      6  233258.9125           0   \n2124 2020-09-27        1      6  233258.9125           1   \n2138 2020-09-28        1      6  233258.9125           1   \n2152 2020-09-29        1      6  233258.9125           0   \n2166 2020-09-30        1      6  233258.9125           0   \n\n      Максимальная температура  is_fire  \n681                       28.1      1.0  \n693                       30.5      1.0  \n706                       27.9      0.0  \n719                       88.7      0.0  \n732                       88.1      0.0  \n...                        ...      ...  \n2110                      35.2      0.0  \n2124                     150.0      0.0  \n2138                     150.0      NaN  \n2152                      82.9      NaN  \n2166                      55.8      NaN  \n\n[124 rows x 7 columns]",
      "text/html": "<div>\n<style scoped>\n    .dataframe tbody tr th:only-of-type {\n        vertical-align: middle;\n    }\n\n    .dataframe tbody tr th {\n        vertical-align: top;\n    }\n\n    .dataframe thead th {\n        text-align: right;\n    }\n</style>\n<table border=\"1\" class=\"dataframe\">\n  <thead>\n    <tr style=\"text-align: right;\">\n      <th></th>\n      <th>Дата</th>\n      <th>Штабель</th>\n      <th>Склад</th>\n      <th>Масса угля</th>\n      <th>Возгорание</th>\n      <th>Максимальная температура</th>\n      <th>is_fire</th>\n    </tr>\n  </thead>\n  <tbody>\n    <tr>\n      <th>681</th>\n      <td>2020-05-29</td>\n      <td>1</td>\n      <td>6</td>\n      <td>554091.1405</td>\n      <td>0</td>\n      <td>28.1</td>\n      <td>1.0</td>\n    </tr>\n    <tr>\n      <th>693</th>\n      <td>2020-05-30</td>\n      <td>1</td>\n      <td>6</td>\n      <td>554091.1405</td>\n      <td>0</td>\n      <td>30.5</td>\n      <td>1.0</td>\n    </tr>\n    <tr>\n      <th>706</th>\n      <td>2020-05-31</td>\n      <td>1</td>\n      <td>6</td>\n      <td>554091.1405</td>\n      <td>0</td>\n      <td>27.9</td>\n      <td>0.0</td>\n    </tr>\n    <tr>\n      <th>719</th>\n      <td>2020-06-01</td>\n      <td>1</td>\n      <td>6</td>\n      <td>554091.1405</td>\n      <td>1</td>\n      <td>88.7</td>\n      <td>0.0</td>\n    </tr>\n    <tr>\n      <th>732</th>\n      <td>2020-06-02</td>\n      <td>1</td>\n      <td>6</td>\n      <td>554091.1405</td>\n      <td>1</td>\n      <td>88.1</td>\n      <td>0.0</td>\n    </tr>\n    <tr>\n      <th>...</th>\n      <td>...</td>\n      <td>...</td>\n      <td>...</td>\n      <td>...</td>\n      <td>...</td>\n      <td>...</td>\n      <td>...</td>\n    </tr>\n    <tr>\n      <th>2110</th>\n      <td>2020-09-26</td>\n      <td>1</td>\n      <td>6</td>\n      <td>233258.9125</td>\n      <td>0</td>\n      <td>35.2</td>\n      <td>0.0</td>\n    </tr>\n    <tr>\n      <th>2124</th>\n      <td>2020-09-27</td>\n      <td>1</td>\n      <td>6</td>\n      <td>233258.9125</td>\n      <td>1</td>\n      <td>150.0</td>\n      <td>0.0</td>\n    </tr>\n    <tr>\n      <th>2138</th>\n      <td>2020-09-28</td>\n      <td>1</td>\n      <td>6</td>\n      <td>233258.9125</td>\n      <td>1</td>\n      <td>150.0</td>\n      <td>NaN</td>\n    </tr>\n    <tr>\n      <th>2152</th>\n      <td>2020-09-29</td>\n      <td>1</td>\n      <td>6</td>\n      <td>233258.9125</td>\n      <td>0</td>\n      <td>82.9</td>\n      <td>NaN</td>\n    </tr>\n    <tr>\n      <th>2166</th>\n      <td>2020-09-30</td>\n      <td>1</td>\n      <td>6</td>\n      <td>233258.9125</td>\n      <td>0</td>\n      <td>55.8</td>\n      <td>NaN</td>\n    </tr>\n  </tbody>\n</table>\n<p>124 rows × 7 columns</p>\n</div>"
     },
     "execution_count": 235,
     "metadata": {},
     "output_type": "execute_result"
    }
   ],
   "source": [
    "df_with_target[(df_with_target['Дата'] >= pd.to_datetime('2020-05-29')) & (df_with_target['Штабель'] == 1) & (df_with_target['Склад'] == 6)]"
   ],
   "metadata": {
    "collapsed": false,
    "ExecuteTime": {
     "end_time": "2025-05-05T04:50:47.023600500Z",
     "start_time": "2025-05-05T04:50:46.963104499Z"
    }
   },
   "id": "60cefdd294257053"
  },
  {
   "cell_type": "code",
   "execution_count": 116,
   "outputs": [
    {
     "data": {
      "text/plain": "Дата                            0\nМарка                           0\nШтабель                         0\nСклад                           0\nМасса угля                      0\nДата составления            84859\nВес по акту, тн             84859\nДата начала                 84859\nДата оконч.                 84859\nНач.форм.штабеля            84859\nВозгорание                      0\nМаксимальная температура    81919\nПикет                       82002\nСмена                       82063\ndtype: int64"
     },
     "execution_count": 116,
     "metadata": {},
     "output_type": "execute_result"
    }
   ],
   "source": [
    "tmp.isnull().sum()"
   ],
   "metadata": {
    "collapsed": false,
    "ExecuteTime": {
     "end_time": "2025-05-04T14:17:36.900343555Z",
     "start_time": "2025-05-04T14:17:36.851183036Z"
    }
   },
   "id": "35a9685809bdbf90"
  },
  {
   "cell_type": "code",
   "execution_count": 119,
   "outputs": [
    {
     "data": {
      "text/plain": "Empty DataFrame\nColumns: [Дата, Марка, Штабель, Склад, Масса угля, Дата составления, Вес по акту, тн, Дата начала, Дата оконч., Нач.форм.штабеля, Возгорание, Максимальная температура, Пикет, Смена]\nIndex: []",
      "text/html": "<div>\n<style scoped>\n    .dataframe tbody tr th:only-of-type {\n        vertical-align: middle;\n    }\n\n    .dataframe tbody tr th {\n        vertical-align: top;\n    }\n\n    .dataframe thead th {\n        text-align: right;\n    }\n</style>\n<table border=\"1\" class=\"dataframe\">\n  <thead>\n    <tr style=\"text-align: right;\">\n      <th></th>\n      <th>Дата</th>\n      <th>Марка</th>\n      <th>Штабель</th>\n      <th>Склад</th>\n      <th>Масса угля</th>\n      <th>Дата составления</th>\n      <th>Вес по акту, тн</th>\n      <th>Дата начала</th>\n      <th>Дата оконч.</th>\n      <th>Нач.форм.штабеля</th>\n      <th>Возгорание</th>\n      <th>Максимальная температура</th>\n      <th>Пикет</th>\n      <th>Смена</th>\n    </tr>\n  </thead>\n  <tbody>\n  </tbody>\n</table>\n</div>"
     },
     "execution_count": 119,
     "metadata": {},
     "output_type": "execute_result"
    }
   ],
   "source": [
    "tmp[tmp.duplicated(keep=False)]"
   ],
   "metadata": {
    "collapsed": false,
    "ExecuteTime": {
     "end_time": "2025-05-04T14:21:48.647276194Z",
     "start_time": "2025-05-04T14:21:48.599279273Z"
    }
   },
   "id": "d67eea848c1b3874"
  },
  {
   "cell_type": "code",
   "execution_count": 152,
   "outputs": [
    {
     "name": "stderr",
     "output_type": "stream",
     "text": [
      "/tmp/ipykernel_11615/2313816429.py:52: SettingWithCopyWarning: \n",
      "A value is trying to be set on a copy of a slice from a DataFrame\n",
      "\n",
      "See the caveats in the documentation: https://pandas.pydata.org/pandas-docs/stable/user_guide/indexing.html#returning-a-view-versus-a-copy\n",
      "  dfs[0]['Масса угля'][i] = calculate_coal_balance(dfs[0].loc[i], dfs[0])\n",
      "/tmp/ipykernel_11615/2313816429.py:52: FutureWarning: Setting an item of incompatible dtype is deprecated and will raise in a future error of pandas. Value '11984.1925' has dtype incompatible with int64, please explicitly cast to a compatible dtype first.\n",
      "  dfs[0]['Масса угля'][i] = calculate_coal_balance(dfs[0].loc[i], dfs[0])\n",
      "/tmp/ipykernel_11615/2313816429.py:93: SettingWithCopyWarning: \n",
      "A value is trying to be set on a copy of a slice from a DataFrame.\n",
      "Try using .loc[row_indexer,col_indexer] = value instead\n",
      "\n",
      "See the caveats in the documentation: https://pandas.pydata.org/pandas-docs/stable/user_guide/indexing.html#returning-a-view-versus-a-copy\n",
      "  filtered_temperature['Марка'] = filtered_temperature['Марка'].where(~filtered_temperature['Марка'].str.contains('^A1'), 'A1')\n",
      "/tmp/ipykernel_11615/2313816429.py:98: SettingWithCopyWarning: \n",
      "A value is trying to be set on a copy of a slice from a DataFrame.\n",
      "Try using .loc[row_indexer,col_indexer] = value instead\n",
      "\n",
      "See the caveats in the documentation: https://pandas.pydata.org/pandas-docs/stable/user_guide/indexing.html#returning-a-view-versus-a-copy\n",
      "  filtered_temperature['Дата акта'] = pd.to_datetime(filtered_temperature['Дата акта'], errors='coerce').dt.normalize()\n"
     ]
    }
   ],
   "source": [
    "# def read_multiple_csv(*csv_files):\n",
    "# \n",
    "#     dfs = []\n",
    "#     for file_path in csv_files:\n",
    "#         try:\n",
    "#             df = pd.read_csv(file_path)\n",
    "#             dfs.append(df)\n",
    "#         except Exception as e:\n",
    "#             print(f\"Произошла ошибка при чтении файла {file_path}: {e}\")\n",
    "#     return dfs\n",
    "# \n",
    "# \n",
    "# # dfs = read_multiple_csv('supplies.csv',\"fires.csv\")\n",
    "# \n",
    "# def calculate_coal_balance(row, supplies):\n",
    "#     current_date = row['ВыгрузкаНаСклад']\n",
    "#     warehouse = row['Склад']\n",
    "#     pile = row['Штабель']\n",
    "#     cargo_type = row['Марка']\n",
    "# \n",
    "#     incoming = supplies[\n",
    "#         (supplies['ВыгрузкаНаСклад'] <= current_date)\n",
    "#         & (supplies['Склад'] == warehouse)\n",
    "#         & (supplies['Штабель'] == pile)\n",
    "#         & (supplies['Марка'] == cargo_type)\n",
    "#         ]['На склад, тн'].sum()\n",
    "# \n",
    "#     outgoing = supplies[\n",
    "#         (supplies['ПогрузкаНаСудно'] <= current_date)\n",
    "#         & (supplies['Склад'] == warehouse)\n",
    "#         & (supplies['Штабель'] == pile)\n",
    "#         & (supplies['Марка'] == cargo_type)\n",
    "#         ]['На судно, тн'].sum()\n",
    "# \n",
    "#     balance = incoming - outgoing\n",
    "#     return balance\n",
    "# \n",
    "# def prepare_and_merge_data():\n",
    "#     dfs = read_multiple_csv('../data/supplies.csv',\"../data/fires.csv\")\n",
    "# \n",
    "#     dfs[1].rename(columns={'Груз': 'Марка'}, inplace=True)\n",
    "#     dfs[0].rename(columns={'Наим. ЕТСНГ' : 'Марка'}, inplace=True)\n",
    "#     dfs[0]['ВыгрузкаНаСклад'] = pd.to_datetime(dfs[0]['ВыгрузкаНаСклад'], errors='coerce')\n",
    "#     dfs[0]['ПогрузкаНаСудно'] = pd.to_datetime(dfs[0]['ПогрузкаНаСудно'], errors='coerce')\n",
    "# \n",
    "#     dfs[1]['Нач.форм.штабеля'] = pd.to_datetime(dfs[1]['Нач.форм.штабеля'], errors='coerce')\n",
    "#     dfs[1]['Дата начала'] = pd.to_datetime(dfs[1]['Дата начала'], errors='coerce').dt.normalize()\n",
    "# \n",
    "#     dfs[0]['Масса угля'] = 0\n",
    "# \n",
    "#     for i in dfs[0].index:\n",
    "#         dfs[0]['Масса угля'][i] = calculate_coal_balance(dfs[0].loc[i], dfs[0])\n",
    "# \n",
    "#     storage = dfs[0].copy()\n",
    "#     storage.drop_duplicates(subset='Масса угля', keep='last', inplace=True)\n",
    "#     storage = storage.filter(['ВыгрузкаНаСклад', 'Марка', 'Штабель', 'Склад', 'Масса угля'])\n",
    "#     storage.rename(columns={'ВыгрузкаНаСклад': 'Дата'}, inplace=True)\n",
    "# \n",
    "#     all_dates = pd.date_range(start='2019-01-01', end='2020-09-30', freq='D')\n",
    "# \n",
    "#     active_combinations = storage[['Марка', 'Штабель', 'Склад']].drop_duplicates()\n",
    "# \n",
    "#     active_combinations['key'] = 1\n",
    "#     all_dates_df = pd.DataFrame({'Дата': all_dates})\n",
    "#     all_dates_df['key'] = 1\n",
    "# \n",
    "#     full_grid = all_dates_df.merge(active_combinations, on='key').drop(columns='key')\n",
    "# \n",
    "#     df_full = full_grid.merge(storage, on=['Дата', 'Марка', 'Штабель', 'Склад'], how='left')\n",
    "# \n",
    "#     df_full['Масса угля'] = df_full.groupby(['Марка', 'Штабель', 'Склад'])['Масса угля'].ffill()\n",
    "# \n",
    "#     df_result = df_full.sort_values(['Марка', 'Штабель', 'Склад', 'Дата']).reset_index(drop=True)\n",
    "# \n",
    "#     full_data = df_result.merge(dfs[1], how='left',\n",
    "#                                 left_on=['Дата', 'Марка', 'Штабель', 'Склад'],\n",
    "#                                 right_on=['Дата начала', 'Марка', 'Штабель', 'Склад'])\n",
    "# \n",
    "#     full_data['Возгорание'] = (~full_data['Дата начала'].isnull()).astype(int)\n",
    "#     full_data = full_data.dropna(subset=['Масса угля']).sort_values(['Дата'])\n",
    "#     full_data.drop_duplicates(subset=['Масса угля', 'Дата'], inplace=True)\n",
    "#     full_data = full_data[full_data['Масса угля'] != 0]\n",
    "# \n",
    "#     return full_data\n",
    "# \n",
    "# \n",
    "# \n",
    "# data = prepare_and_merge_data()\n",
    "# \n",
    "# temperature = pd.read_csv('../data/temperature (1).csv')\n",
    "# filtered_temperature = temperature[temperature['Марка'].str.startswith('A1')]\n",
    "# \n",
    "# filtered_temperature['Марка'] = filtered_temperature['Марка'].where(~filtered_temperature['Марка'].str.contains('^A1'), 'A1')\n",
    "# \n",
    "# \n",
    "# filtered_temperature['Марка'].value_counts()\n",
    "# \n",
    "# filtered_temperature['Дата акта'] = pd.to_datetime(filtered_temperature['Дата акта'], errors='coerce').dt.normalize()\n",
    "# \n",
    "# merged_df = pd.merge(data, filtered_temperature, how='inner', left_on=['Склад', 'Штабель', 'Марка', 'Дата'], right_on=['Склад', 'Штабель', 'Марка', 'Дата акта'])\n",
    "# \n",
    "# \n",
    "# def add_fire_target(df):\n",
    "# \n",
    "#     result_df = df.copy()\n",
    "# \n",
    "#     result_df['Дата + 3 дня'] = result_df['Дата'] + pd.Timedelta(days=3)\n",
    "# \n",
    "#     merged = result_df.merge(\n",
    "#         df,\n",
    "#         how='left',\n",
    "#         left_on=['Дата + 3 дня', 'Склад', 'Штабель', 'Марка'],\n",
    "#         right_on=['Дата', 'Склад', 'Штабель', 'Марка'],\n",
    "#         suffixes=('', '_future')\n",
    "#     )\n",
    "# \n",
    "#     result_df['is_fire'] = merged['Возгорание_future']\n",
    "# \n",
    "#     result_df.drop(columns=['Дата + 3 дня'], inplace=True)\n",
    "# \n",
    "#     return result_df\n",
    "# \n",
    "# res = add_fire_target(merged_df)"
   ],
   "metadata": {
    "collapsed": false,
    "ExecuteTime": {
     "end_time": "2025-05-04T22:17:06.326185773Z",
     "start_time": "2025-05-04T22:16:43.560441305Z"
    }
   },
   "id": "836e00b980a67f7"
  },
  {
   "cell_type": "code",
   "execution_count": 153,
   "outputs": [
    {
     "data": {
      "text/plain": "           Дата Марка  Штабель  Склад   Масса угля Дата составления  \\\n0    2019-11-23    A1       46      4   26772.2970              NaN   \n1    2019-11-23    A1       31      3  261788.5165              NaN   \n2    2019-11-23    A1       10      4   22825.6450              NaN   \n3    2019-11-23    A1       17      3   32158.8575              NaN   \n4    2019-11-23    A1        7      3   20705.8555              NaN   \n...         ...   ...      ...    ...          ...              ...   \n4085 2020-09-30    A1       45      6    8674.2585              NaN   \n4086 2020-09-30    A1       35      4  309105.4240              NaN   \n4087 2020-09-30    A1       35      4  309105.4240              NaN   \n4088 2020-09-30    A1       33      3  108709.0925       2020-09-30   \n4089 2020-09-30    A1       33      3  108709.0925       2020-09-30   \n\n      Вес по акту, тн Дата начала          Дата оконч.    Нач.форм.штабеля  \\\n0                 NaN         NaT                  NaN                 NaT   \n1                 NaN         NaT                  NaN                 NaT   \n2                 NaN         NaT                  NaN                 NaT   \n3                 NaN         NaT                  NaN                 NaT   \n4                 NaN         NaT                  NaN                 NaT   \n...               ...         ...                  ...                 ...   \n4085              NaN         NaT                  NaN                 NaT   \n4086              NaN         NaT                  NaN                 NaT   \n4087              NaN         NaT                  NaN                 NaT   \n4088            255.0  2020-09-30  2020-09-30 21:00:00 2020-08-09 09:00:00   \n4089            255.0  2020-09-30  2020-09-30 21:00:00 2020-08-09 09:00:00   \n\n      Возгорание  Максимальная температура      Пикет  Дата акта  Смена  \\\n0              0                      16.1        NaN 2019-11-23  921.0   \n1              0                      18.3        NaN 2019-11-23  921.0   \n2              0                      16.7        NaN 2019-11-23  921.0   \n3              0                      20.5        NaN 2019-11-23  921.0   \n4              0                      19.2        NaN 2019-11-23  921.0   \n...          ...                       ...        ...        ...    ...   \n4085           0                      29.6  6017-6023 2020-09-30  921.0   \n4086           0                      28.0  4015-4034 2020-09-30  219.0   \n4087           0                      27.1  4015-4034 2020-09-30  921.0   \n4088           1                      73.5  3048-3092 2020-09-30  219.0   \n4089           1                      63.0  3048-3092 2020-09-30  921.0   \n\n      is_fire  \n0         0.0  \n1         0.0  \n2         0.0  \n3         0.0  \n4         0.0  \n...       ...  \n4085      0.0  \n4086      0.0  \n4087      0.0  \n4088      0.0  \n4089      0.0  \n\n[4090 rows x 16 columns]",
      "text/html": "<div>\n<style scoped>\n    .dataframe tbody tr th:only-of-type {\n        vertical-align: middle;\n    }\n\n    .dataframe tbody tr th {\n        vertical-align: top;\n    }\n\n    .dataframe thead th {\n        text-align: right;\n    }\n</style>\n<table border=\"1\" class=\"dataframe\">\n  <thead>\n    <tr style=\"text-align: right;\">\n      <th></th>\n      <th>Дата</th>\n      <th>Марка</th>\n      <th>Штабель</th>\n      <th>Склад</th>\n      <th>Масса угля</th>\n      <th>Дата составления</th>\n      <th>Вес по акту, тн</th>\n      <th>Дата начала</th>\n      <th>Дата оконч.</th>\n      <th>Нач.форм.штабеля</th>\n      <th>Возгорание</th>\n      <th>Максимальная температура</th>\n      <th>Пикет</th>\n      <th>Дата акта</th>\n      <th>Смена</th>\n      <th>is_fire</th>\n    </tr>\n  </thead>\n  <tbody>\n    <tr>\n      <th>0</th>\n      <td>2019-11-23</td>\n      <td>A1</td>\n      <td>46</td>\n      <td>4</td>\n      <td>26772.2970</td>\n      <td>NaN</td>\n      <td>NaN</td>\n      <td>NaT</td>\n      <td>NaN</td>\n      <td>NaT</td>\n      <td>0</td>\n      <td>16.1</td>\n      <td>NaN</td>\n      <td>2019-11-23</td>\n      <td>921.0</td>\n      <td>0.0</td>\n    </tr>\n    <tr>\n      <th>1</th>\n      <td>2019-11-23</td>\n      <td>A1</td>\n      <td>31</td>\n      <td>3</td>\n      <td>261788.5165</td>\n      <td>NaN</td>\n      <td>NaN</td>\n      <td>NaT</td>\n      <td>NaN</td>\n      <td>NaT</td>\n      <td>0</td>\n      <td>18.3</td>\n      <td>NaN</td>\n      <td>2019-11-23</td>\n      <td>921.0</td>\n      <td>0.0</td>\n    </tr>\n    <tr>\n      <th>2</th>\n      <td>2019-11-23</td>\n      <td>A1</td>\n      <td>10</td>\n      <td>4</td>\n      <td>22825.6450</td>\n      <td>NaN</td>\n      <td>NaN</td>\n      <td>NaT</td>\n      <td>NaN</td>\n      <td>NaT</td>\n      <td>0</td>\n      <td>16.7</td>\n      <td>NaN</td>\n      <td>2019-11-23</td>\n      <td>921.0</td>\n      <td>0.0</td>\n    </tr>\n    <tr>\n      <th>3</th>\n      <td>2019-11-23</td>\n      <td>A1</td>\n      <td>17</td>\n      <td>3</td>\n      <td>32158.8575</td>\n      <td>NaN</td>\n      <td>NaN</td>\n      <td>NaT</td>\n      <td>NaN</td>\n      <td>NaT</td>\n      <td>0</td>\n      <td>20.5</td>\n      <td>NaN</td>\n      <td>2019-11-23</td>\n      <td>921.0</td>\n      <td>0.0</td>\n    </tr>\n    <tr>\n      <th>4</th>\n      <td>2019-11-23</td>\n      <td>A1</td>\n      <td>7</td>\n      <td>3</td>\n      <td>20705.8555</td>\n      <td>NaN</td>\n      <td>NaN</td>\n      <td>NaT</td>\n      <td>NaN</td>\n      <td>NaT</td>\n      <td>0</td>\n      <td>19.2</td>\n      <td>NaN</td>\n      <td>2019-11-23</td>\n      <td>921.0</td>\n      <td>0.0</td>\n    </tr>\n    <tr>\n      <th>...</th>\n      <td>...</td>\n      <td>...</td>\n      <td>...</td>\n      <td>...</td>\n      <td>...</td>\n      <td>...</td>\n      <td>...</td>\n      <td>...</td>\n      <td>...</td>\n      <td>...</td>\n      <td>...</td>\n      <td>...</td>\n      <td>...</td>\n      <td>...</td>\n      <td>...</td>\n      <td>...</td>\n    </tr>\n    <tr>\n      <th>4085</th>\n      <td>2020-09-30</td>\n      <td>A1</td>\n      <td>45</td>\n      <td>6</td>\n      <td>8674.2585</td>\n      <td>NaN</td>\n      <td>NaN</td>\n      <td>NaT</td>\n      <td>NaN</td>\n      <td>NaT</td>\n      <td>0</td>\n      <td>29.6</td>\n      <td>6017-6023</td>\n      <td>2020-09-30</td>\n      <td>921.0</td>\n      <td>0.0</td>\n    </tr>\n    <tr>\n      <th>4086</th>\n      <td>2020-09-30</td>\n      <td>A1</td>\n      <td>35</td>\n      <td>4</td>\n      <td>309105.4240</td>\n      <td>NaN</td>\n      <td>NaN</td>\n      <td>NaT</td>\n      <td>NaN</td>\n      <td>NaT</td>\n      <td>0</td>\n      <td>28.0</td>\n      <td>4015-4034</td>\n      <td>2020-09-30</td>\n      <td>219.0</td>\n      <td>0.0</td>\n    </tr>\n    <tr>\n      <th>4087</th>\n      <td>2020-09-30</td>\n      <td>A1</td>\n      <td>35</td>\n      <td>4</td>\n      <td>309105.4240</td>\n      <td>NaN</td>\n      <td>NaN</td>\n      <td>NaT</td>\n      <td>NaN</td>\n      <td>NaT</td>\n      <td>0</td>\n      <td>27.1</td>\n      <td>4015-4034</td>\n      <td>2020-09-30</td>\n      <td>921.0</td>\n      <td>0.0</td>\n    </tr>\n    <tr>\n      <th>4088</th>\n      <td>2020-09-30</td>\n      <td>A1</td>\n      <td>33</td>\n      <td>3</td>\n      <td>108709.0925</td>\n      <td>2020-09-30</td>\n      <td>255.0</td>\n      <td>2020-09-30</td>\n      <td>2020-09-30 21:00:00</td>\n      <td>2020-08-09 09:00:00</td>\n      <td>1</td>\n      <td>73.5</td>\n      <td>3048-3092</td>\n      <td>2020-09-30</td>\n      <td>219.0</td>\n      <td>0.0</td>\n    </tr>\n    <tr>\n      <th>4089</th>\n      <td>2020-09-30</td>\n      <td>A1</td>\n      <td>33</td>\n      <td>3</td>\n      <td>108709.0925</td>\n      <td>2020-09-30</td>\n      <td>255.0</td>\n      <td>2020-09-30</td>\n      <td>2020-09-30 21:00:00</td>\n      <td>2020-08-09 09:00:00</td>\n      <td>1</td>\n      <td>63.0</td>\n      <td>3048-3092</td>\n      <td>2020-09-30</td>\n      <td>921.0</td>\n      <td>0.0</td>\n    </tr>\n  </tbody>\n</table>\n<p>4090 rows × 16 columns</p>\n</div>"
     },
     "execution_count": 153,
     "metadata": {},
     "output_type": "execute_result"
    }
   ],
   "source": [
    "res"
   ],
   "metadata": {
    "collapsed": false,
    "ExecuteTime": {
     "end_time": "2025-05-04T22:17:14.973154116Z",
     "start_time": "2025-05-04T22:17:14.919577099Z"
    }
   },
   "id": "bbeae9848ef339cd"
  },
  {
   "cell_type": "code",
   "execution_count": 178,
   "outputs": [
    {
     "data": {
      "text/plain": "Возгорание\n0    3556\n1     534\nName: count, dtype: int64"
     },
     "execution_count": 178,
     "metadata": {},
     "output_type": "execute_result"
    }
   ],
   "source": [
    "# res['Возгорание'].value_counts()"
   ],
   "metadata": {
    "collapsed": false,
    "ExecuteTime": {
     "end_time": "2025-05-05T00:41:16.230043743Z",
     "start_time": "2025-05-05T00:41:16.172462805Z"
    }
   },
   "id": "fa31e7ea242e5c1c"
  },
  {
   "cell_type": "code",
   "execution_count": 155,
   "outputs": [
    {
     "data": {
      "text/plain": "           Дата Марка  Штабель  Склад   Масса угля Дата составления  \\\n925  2020-05-23    A1        7      3   42668.5890              NaN   \n1762 2020-06-27    A1        9      4  219041.9655              NaN   \n1763 2020-06-27    A1        9      4  219041.9655              NaN   \n1764 2020-06-27    A1        1      6  554091.1405       2020-06-27   \n1765 2020-06-27    A1        1      6  554091.1405       2020-06-27   \n...         ...   ...      ...    ...          ...              ...   \n4067 2020-09-30    A1       27      3   25275.0900              NaN   \n4068 2020-09-30    A1       26      6  120530.8670              NaN   \n4069 2020-09-30    A1       26      6  120530.8670              NaN   \n4070 2020-09-30    A1       23      4    2122.6115              NaN   \n4071 2020-09-30    A1       23      4    2122.6115              NaN   \n\n      Вес по акту, тн Дата начала          Дата оконч. Нач.форм.штабеля  \\\n925               NaN         NaT                  NaN              NaT   \n1762              NaN         NaT                  NaN              NaT   \n1763              NaN         NaT                  NaN              NaT   \n1764            102.0  2020-06-27  2020-06-27 23:30:00       2020-03-15   \n1765            102.0  2020-06-27  2020-06-27 23:30:00       2020-03-15   \n...               ...         ...                  ...              ...   \n4067              NaN         NaT                  NaN              NaT   \n4068              NaN         NaT                  NaN              NaT   \n4069              NaN         NaT                  NaN              NaT   \n4070              NaN         NaT                  NaN              NaT   \n4071              NaN         NaT                  NaN              NaT   \n\n      Возгорание  Максимальная температура      Пикет  Дата акта  Смена  \\\n925            0                      26.7  3012-3027 2020-05-23  219.0   \n1762           0                      26.1  4067-4077 2020-06-27  219.0   \n1763           0                      24.7  4067-4077 2020-06-27  921.0   \n1764           1                     289.0  6019-6056 2020-06-27  219.0   \n1765           1                     300.0  6062-6085 2020-06-27  219.0   \n...          ...                       ...        ...        ...    ...   \n4067           0                      27.3  3004-3007 2020-09-30  921.0   \n4068           0                      25.7  6026-6034 2020-09-30  219.0   \n4069           0                      30.4  6026-6034 2020-09-30  921.0   \n4070           0                      30.6  4010-4013 2020-09-30  219.0   \n4071           0                      25.1  4010-4013 2020-09-30  921.0   \n\n      is_fire  \n925       1.0  \n1762      1.0  \n1763      1.0  \n1764      1.0  \n1765      1.0  \n...       ...  \n4067      1.0  \n4068      1.0  \n4069      1.0  \n4070      1.0  \n4071      1.0  \n\n[745 rows x 16 columns]",
      "text/html": "<div>\n<style scoped>\n    .dataframe tbody tr th:only-of-type {\n        vertical-align: middle;\n    }\n\n    .dataframe tbody tr th {\n        vertical-align: top;\n    }\n\n    .dataframe thead th {\n        text-align: right;\n    }\n</style>\n<table border=\"1\" class=\"dataframe\">\n  <thead>\n    <tr style=\"text-align: right;\">\n      <th></th>\n      <th>Дата</th>\n      <th>Марка</th>\n      <th>Штабель</th>\n      <th>Склад</th>\n      <th>Масса угля</th>\n      <th>Дата составления</th>\n      <th>Вес по акту, тн</th>\n      <th>Дата начала</th>\n      <th>Дата оконч.</th>\n      <th>Нач.форм.штабеля</th>\n      <th>Возгорание</th>\n      <th>Максимальная температура</th>\n      <th>Пикет</th>\n      <th>Дата акта</th>\n      <th>Смена</th>\n      <th>is_fire</th>\n    </tr>\n  </thead>\n  <tbody>\n    <tr>\n      <th>925</th>\n      <td>2020-05-23</td>\n      <td>A1</td>\n      <td>7</td>\n      <td>3</td>\n      <td>42668.5890</td>\n      <td>NaN</td>\n      <td>NaN</td>\n      <td>NaT</td>\n      <td>NaN</td>\n      <td>NaT</td>\n      <td>0</td>\n      <td>26.7</td>\n      <td>3012-3027</td>\n      <td>2020-05-23</td>\n      <td>219.0</td>\n      <td>1.0</td>\n    </tr>\n    <tr>\n      <th>1762</th>\n      <td>2020-06-27</td>\n      <td>A1</td>\n      <td>9</td>\n      <td>4</td>\n      <td>219041.9655</td>\n      <td>NaN</td>\n      <td>NaN</td>\n      <td>NaT</td>\n      <td>NaN</td>\n      <td>NaT</td>\n      <td>0</td>\n      <td>26.1</td>\n      <td>4067-4077</td>\n      <td>2020-06-27</td>\n      <td>219.0</td>\n      <td>1.0</td>\n    </tr>\n    <tr>\n      <th>1763</th>\n      <td>2020-06-27</td>\n      <td>A1</td>\n      <td>9</td>\n      <td>4</td>\n      <td>219041.9655</td>\n      <td>NaN</td>\n      <td>NaN</td>\n      <td>NaT</td>\n      <td>NaN</td>\n      <td>NaT</td>\n      <td>0</td>\n      <td>24.7</td>\n      <td>4067-4077</td>\n      <td>2020-06-27</td>\n      <td>921.0</td>\n      <td>1.0</td>\n    </tr>\n    <tr>\n      <th>1764</th>\n      <td>2020-06-27</td>\n      <td>A1</td>\n      <td>1</td>\n      <td>6</td>\n      <td>554091.1405</td>\n      <td>2020-06-27</td>\n      <td>102.0</td>\n      <td>2020-06-27</td>\n      <td>2020-06-27 23:30:00</td>\n      <td>2020-03-15</td>\n      <td>1</td>\n      <td>289.0</td>\n      <td>6019-6056</td>\n      <td>2020-06-27</td>\n      <td>219.0</td>\n      <td>1.0</td>\n    </tr>\n    <tr>\n      <th>1765</th>\n      <td>2020-06-27</td>\n      <td>A1</td>\n      <td>1</td>\n      <td>6</td>\n      <td>554091.1405</td>\n      <td>2020-06-27</td>\n      <td>102.0</td>\n      <td>2020-06-27</td>\n      <td>2020-06-27 23:30:00</td>\n      <td>2020-03-15</td>\n      <td>1</td>\n      <td>300.0</td>\n      <td>6062-6085</td>\n      <td>2020-06-27</td>\n      <td>219.0</td>\n      <td>1.0</td>\n    </tr>\n    <tr>\n      <th>...</th>\n      <td>...</td>\n      <td>...</td>\n      <td>...</td>\n      <td>...</td>\n      <td>...</td>\n      <td>...</td>\n      <td>...</td>\n      <td>...</td>\n      <td>...</td>\n      <td>...</td>\n      <td>...</td>\n      <td>...</td>\n      <td>...</td>\n      <td>...</td>\n      <td>...</td>\n      <td>...</td>\n    </tr>\n    <tr>\n      <th>4067</th>\n      <td>2020-09-30</td>\n      <td>A1</td>\n      <td>27</td>\n      <td>3</td>\n      <td>25275.0900</td>\n      <td>NaN</td>\n      <td>NaN</td>\n      <td>NaT</td>\n      <td>NaN</td>\n      <td>NaT</td>\n      <td>0</td>\n      <td>27.3</td>\n      <td>3004-3007</td>\n      <td>2020-09-30</td>\n      <td>921.0</td>\n      <td>1.0</td>\n    </tr>\n    <tr>\n      <th>4068</th>\n      <td>2020-09-30</td>\n      <td>A1</td>\n      <td>26</td>\n      <td>6</td>\n      <td>120530.8670</td>\n      <td>NaN</td>\n      <td>NaN</td>\n      <td>NaT</td>\n      <td>NaN</td>\n      <td>NaT</td>\n      <td>0</td>\n      <td>25.7</td>\n      <td>6026-6034</td>\n      <td>2020-09-30</td>\n      <td>219.0</td>\n      <td>1.0</td>\n    </tr>\n    <tr>\n      <th>4069</th>\n      <td>2020-09-30</td>\n      <td>A1</td>\n      <td>26</td>\n      <td>6</td>\n      <td>120530.8670</td>\n      <td>NaN</td>\n      <td>NaN</td>\n      <td>NaT</td>\n      <td>NaN</td>\n      <td>NaT</td>\n      <td>0</td>\n      <td>30.4</td>\n      <td>6026-6034</td>\n      <td>2020-09-30</td>\n      <td>921.0</td>\n      <td>1.0</td>\n    </tr>\n    <tr>\n      <th>4070</th>\n      <td>2020-09-30</td>\n      <td>A1</td>\n      <td>23</td>\n      <td>4</td>\n      <td>2122.6115</td>\n      <td>NaN</td>\n      <td>NaN</td>\n      <td>NaT</td>\n      <td>NaN</td>\n      <td>NaT</td>\n      <td>0</td>\n      <td>30.6</td>\n      <td>4010-4013</td>\n      <td>2020-09-30</td>\n      <td>219.0</td>\n      <td>1.0</td>\n    </tr>\n    <tr>\n      <th>4071</th>\n      <td>2020-09-30</td>\n      <td>A1</td>\n      <td>23</td>\n      <td>4</td>\n      <td>2122.6115</td>\n      <td>NaN</td>\n      <td>NaN</td>\n      <td>NaT</td>\n      <td>NaN</td>\n      <td>NaT</td>\n      <td>0</td>\n      <td>25.1</td>\n      <td>4010-4013</td>\n      <td>2020-09-30</td>\n      <td>921.0</td>\n      <td>1.0</td>\n    </tr>\n  </tbody>\n</table>\n<p>745 rows × 16 columns</p>\n</div>"
     },
     "execution_count": 155,
     "metadata": {},
     "output_type": "execute_result"
    }
   ],
   "source": [
    "# res[res['is_fire'] == 1]"
   ],
   "metadata": {
    "collapsed": false,
    "ExecuteTime": {
     "end_time": "2025-05-04T22:41:32.189371069Z",
     "start_time": "2025-05-04T22:41:32.125937324Z"
    }
   },
   "id": "93c82402dc4a71ee"
  },
  {
   "cell_type": "code",
   "execution_count": 157,
   "outputs": [
    {
     "data": {
      "text/plain": "           Дата Марка  Штабель  Склад  Масса угля  Возгорание  \\\n924  2020-05-23    A1        7      3  42668.5890           0   \n925  2020-05-23    A1        7      3  42668.5890           0   \n937  2020-05-24    A1        7      3  42872.1980           0   \n957  2020-05-25    A1        7      3  42872.1980           0   \n958  2020-05-25    A1        7      3  42872.1980           0   \n968  2020-05-26    A1        7      3  41511.2885           0   \n969  2020-05-26    A1        7      3  41511.2885           0   \n1008 2020-05-27    A1        7      3  41511.2885           0   \n1009 2020-05-27    A1        7      3  41511.2885           0   \n1043 2020-05-28    A1        7      3  41511.2885           0   \n1044 2020-05-28    A1        7      3  41511.2885           0   \n1061 2020-05-29    A1        7      3  41511.2885           0   \n\n      Максимальная температура        Пикет  Дата акта  Смена  is_fire  \n924                       25.7    3012-3027 2020-05-23  921.0      0.0  \n925                       26.7    3012-3027 2020-05-23  219.0      1.0  \n937                       29.1  2 3010-3027 2020-05-24  921.0      0.0  \n957                       18.6    3010-3027 2020-05-25  219.0      0.0  \n958                       25.9    3010-3027 2020-05-25  921.0      0.0  \n968                       24.2    3010-3027 2020-05-26  219.0      0.0  \n969                       24.9    3010-3027 2020-05-26  921.0      0.0  \n1008                      25.2    3010-3027 2020-05-27  219.0      0.0  \n1009                      27.4    3010-3027 2020-05-27  921.0      0.0  \n1043                      26.4    3010-3027 2020-05-28  219.0      0.0  \n1044                      25.2    3010-3027 2020-05-28  921.0      0.0  \n1061                      25.3    3010-3027 2020-05-29  219.0      0.0  ",
      "text/html": "<div>\n<style scoped>\n    .dataframe tbody tr th:only-of-type {\n        vertical-align: middle;\n    }\n\n    .dataframe tbody tr th {\n        vertical-align: top;\n    }\n\n    .dataframe thead th {\n        text-align: right;\n    }\n</style>\n<table border=\"1\" class=\"dataframe\">\n  <thead>\n    <tr style=\"text-align: right;\">\n      <th></th>\n      <th>Дата</th>\n      <th>Марка</th>\n      <th>Штабель</th>\n      <th>Склад</th>\n      <th>Масса угля</th>\n      <th>Возгорание</th>\n      <th>Максимальная температура</th>\n      <th>Пикет</th>\n      <th>Дата акта</th>\n      <th>Смена</th>\n      <th>is_fire</th>\n    </tr>\n  </thead>\n  <tbody>\n    <tr>\n      <th>924</th>\n      <td>2020-05-23</td>\n      <td>A1</td>\n      <td>7</td>\n      <td>3</td>\n      <td>42668.5890</td>\n      <td>0</td>\n      <td>25.7</td>\n      <td>3012-3027</td>\n      <td>2020-05-23</td>\n      <td>921.0</td>\n      <td>0.0</td>\n    </tr>\n    <tr>\n      <th>925</th>\n      <td>2020-05-23</td>\n      <td>A1</td>\n      <td>7</td>\n      <td>3</td>\n      <td>42668.5890</td>\n      <td>0</td>\n      <td>26.7</td>\n      <td>3012-3027</td>\n      <td>2020-05-23</td>\n      <td>219.0</td>\n      <td>1.0</td>\n    </tr>\n    <tr>\n      <th>937</th>\n      <td>2020-05-24</td>\n      <td>A1</td>\n      <td>7</td>\n      <td>3</td>\n      <td>42872.1980</td>\n      <td>0</td>\n      <td>29.1</td>\n      <td>2 3010-3027</td>\n      <td>2020-05-24</td>\n      <td>921.0</td>\n      <td>0.0</td>\n    </tr>\n    <tr>\n      <th>957</th>\n      <td>2020-05-25</td>\n      <td>A1</td>\n      <td>7</td>\n      <td>3</td>\n      <td>42872.1980</td>\n      <td>0</td>\n      <td>18.6</td>\n      <td>3010-3027</td>\n      <td>2020-05-25</td>\n      <td>219.0</td>\n      <td>0.0</td>\n    </tr>\n    <tr>\n      <th>958</th>\n      <td>2020-05-25</td>\n      <td>A1</td>\n      <td>7</td>\n      <td>3</td>\n      <td>42872.1980</td>\n      <td>0</td>\n      <td>25.9</td>\n      <td>3010-3027</td>\n      <td>2020-05-25</td>\n      <td>921.0</td>\n      <td>0.0</td>\n    </tr>\n    <tr>\n      <th>968</th>\n      <td>2020-05-26</td>\n      <td>A1</td>\n      <td>7</td>\n      <td>3</td>\n      <td>41511.2885</td>\n      <td>0</td>\n      <td>24.2</td>\n      <td>3010-3027</td>\n      <td>2020-05-26</td>\n      <td>219.0</td>\n      <td>0.0</td>\n    </tr>\n    <tr>\n      <th>969</th>\n      <td>2020-05-26</td>\n      <td>A1</td>\n      <td>7</td>\n      <td>3</td>\n      <td>41511.2885</td>\n      <td>0</td>\n      <td>24.9</td>\n      <td>3010-3027</td>\n      <td>2020-05-26</td>\n      <td>921.0</td>\n      <td>0.0</td>\n    </tr>\n    <tr>\n      <th>1008</th>\n      <td>2020-05-27</td>\n      <td>A1</td>\n      <td>7</td>\n      <td>3</td>\n      <td>41511.2885</td>\n      <td>0</td>\n      <td>25.2</td>\n      <td>3010-3027</td>\n      <td>2020-05-27</td>\n      <td>219.0</td>\n      <td>0.0</td>\n    </tr>\n    <tr>\n      <th>1009</th>\n      <td>2020-05-27</td>\n      <td>A1</td>\n      <td>7</td>\n      <td>3</td>\n      <td>41511.2885</td>\n      <td>0</td>\n      <td>27.4</td>\n      <td>3010-3027</td>\n      <td>2020-05-27</td>\n      <td>921.0</td>\n      <td>0.0</td>\n    </tr>\n    <tr>\n      <th>1043</th>\n      <td>2020-05-28</td>\n      <td>A1</td>\n      <td>7</td>\n      <td>3</td>\n      <td>41511.2885</td>\n      <td>0</td>\n      <td>26.4</td>\n      <td>3010-3027</td>\n      <td>2020-05-28</td>\n      <td>219.0</td>\n      <td>0.0</td>\n    </tr>\n    <tr>\n      <th>1044</th>\n      <td>2020-05-28</td>\n      <td>A1</td>\n      <td>7</td>\n      <td>3</td>\n      <td>41511.2885</td>\n      <td>0</td>\n      <td>25.2</td>\n      <td>3010-3027</td>\n      <td>2020-05-28</td>\n      <td>921.0</td>\n      <td>0.0</td>\n    </tr>\n    <tr>\n      <th>1061</th>\n      <td>2020-05-29</td>\n      <td>A1</td>\n      <td>7</td>\n      <td>3</td>\n      <td>41511.2885</td>\n      <td>0</td>\n      <td>25.3</td>\n      <td>3010-3027</td>\n      <td>2020-05-29</td>\n      <td>219.0</td>\n      <td>0.0</td>\n    </tr>\n  </tbody>\n</table>\n</div>"
     },
     "execution_count": 157,
     "metadata": {},
     "output_type": "execute_result"
    }
   ],
   "source": [
    "# res[(res['Дата'] >= pd.to_datetime('2020-05-23')) & (res['Штабель'] == 7) & (res['Склад'] == 3)].drop(columns=['Дата составления', 'Вес по акту, тн', 'Дата начала', 'Дата оконч.', 'Нач.форм.штабеля'])"
   ],
   "metadata": {
    "collapsed": false,
    "ExecuteTime": {
     "end_time": "2025-05-04T23:03:20.724620463Z",
     "start_time": "2025-05-04T23:03:20.697822892Z"
    }
   },
   "id": "788143b8f8bb3ed"
  },
  {
   "cell_type": "code",
   "execution_count": 121,
   "outputs": [
    {
     "data": {
      "text/plain": "Index(['date', 't', 'p', 'humidity', 'precipitation', 'wind_dir', 'v_avg',\n       'v_max', 'cloudcover', 'visibility', 'weather_code'],\n      dtype='object')"
     },
     "execution_count": 121,
     "metadata": {},
     "output_type": "execute_result"
    }
   ],
   "source": [
    "weather.columns"
   ],
   "metadata": {
    "collapsed": false,
    "ExecuteTime": {
     "end_time": "2025-05-04T14:30:55.230358960Z",
     "start_time": "2025-05-04T14:30:55.201889418Z"
    }
   },
   "id": "bffe533e3553b210"
  },
  {
   "cell_type": "code",
   "execution_count": 123,
   "outputs": [],
   "source": [
    "weather['date'] = pd.to_datetime(weather['date'])"
   ],
   "metadata": {
    "collapsed": false,
    "ExecuteTime": {
     "end_time": "2025-05-04T14:36:40.873564378Z",
     "start_time": "2025-05-04T14:36:40.830982445Z"
    }
   },
   "id": "8e9362bc3e9d406d"
  },
  {
   "cell_type": "code",
   "execution_count": 158,
   "outputs": [
    {
     "data": {
      "text/plain": "                    date    t       p  humidity  precipitation  wind_dir  \\\n0    2015-01-01 00:00:00 -2.1  1026.6        75            0.0        41   \n1    2015-01-01 01:00:00 -2.1  1025.9        73            0.0        40   \n2    2015-01-01 02:00:00 -2.2  1026.1        75            0.0        36   \n3    2015-01-01 03:00:00 -2.2  1025.8        75            0.0        34   \n4    2015-01-01 04:00:00 -2.3  1025.9        76            0.0        33   \n...                  ...  ...     ...       ...            ...       ...   \n8755 2021-12-31 19:00:00  3.7  1018.4        90            0.4       324   \n8756 2021-12-31 20:00:00  3.7  1018.4        90            0.1       325   \n8757 2021-12-31 21:00:00  3.9  1018.3        89            0.0       318   \n8758 2021-12-31 22:00:00  4.0  1018.2        89            0.0       313   \n8759 2021-12-31 23:00:00  4.2  1018.0        89            0.0       308   \n\n      v_avg  v_max  cloudcover  weather_code  \n0      34.2   54.0          98             3  \n1      32.2   52.2          99             3  \n2      32.2   50.4          99             3  \n3      33.2   51.5          97             3  \n4      33.5   52.6         100             3  \n...     ...    ...         ...           ...  \n8755   16.0   25.6         100            51  \n8756   15.0   24.1         100            51  \n8757   13.5   23.0         100             3  \n8758   12.2   21.2         100             3  \n8759   12.3   19.4         100             3  \n\n[61344 rows x 10 columns]",
      "text/html": "<div>\n<style scoped>\n    .dataframe tbody tr th:only-of-type {\n        vertical-align: middle;\n    }\n\n    .dataframe tbody tr th {\n        vertical-align: top;\n    }\n\n    .dataframe thead th {\n        text-align: right;\n    }\n</style>\n<table border=\"1\" class=\"dataframe\">\n  <thead>\n    <tr style=\"text-align: right;\">\n      <th></th>\n      <th>date</th>\n      <th>t</th>\n      <th>p</th>\n      <th>humidity</th>\n      <th>precipitation</th>\n      <th>wind_dir</th>\n      <th>v_avg</th>\n      <th>v_max</th>\n      <th>cloudcover</th>\n      <th>weather_code</th>\n    </tr>\n  </thead>\n  <tbody>\n    <tr>\n      <th>0</th>\n      <td>2015-01-01 00:00:00</td>\n      <td>-2.1</td>\n      <td>1026.6</td>\n      <td>75</td>\n      <td>0.0</td>\n      <td>41</td>\n      <td>34.2</td>\n      <td>54.0</td>\n      <td>98</td>\n      <td>3</td>\n    </tr>\n    <tr>\n      <th>1</th>\n      <td>2015-01-01 01:00:00</td>\n      <td>-2.1</td>\n      <td>1025.9</td>\n      <td>73</td>\n      <td>0.0</td>\n      <td>40</td>\n      <td>32.2</td>\n      <td>52.2</td>\n      <td>99</td>\n      <td>3</td>\n    </tr>\n    <tr>\n      <th>2</th>\n      <td>2015-01-01 02:00:00</td>\n      <td>-2.2</td>\n      <td>1026.1</td>\n      <td>75</td>\n      <td>0.0</td>\n      <td>36</td>\n      <td>32.2</td>\n      <td>50.4</td>\n      <td>99</td>\n      <td>3</td>\n    </tr>\n    <tr>\n      <th>3</th>\n      <td>2015-01-01 03:00:00</td>\n      <td>-2.2</td>\n      <td>1025.8</td>\n      <td>75</td>\n      <td>0.0</td>\n      <td>34</td>\n      <td>33.2</td>\n      <td>51.5</td>\n      <td>97</td>\n      <td>3</td>\n    </tr>\n    <tr>\n      <th>4</th>\n      <td>2015-01-01 04:00:00</td>\n      <td>-2.3</td>\n      <td>1025.9</td>\n      <td>76</td>\n      <td>0.0</td>\n      <td>33</td>\n      <td>33.5</td>\n      <td>52.6</td>\n      <td>100</td>\n      <td>3</td>\n    </tr>\n    <tr>\n      <th>...</th>\n      <td>...</td>\n      <td>...</td>\n      <td>...</td>\n      <td>...</td>\n      <td>...</td>\n      <td>...</td>\n      <td>...</td>\n      <td>...</td>\n      <td>...</td>\n      <td>...</td>\n    </tr>\n    <tr>\n      <th>8755</th>\n      <td>2021-12-31 19:00:00</td>\n      <td>3.7</td>\n      <td>1018.4</td>\n      <td>90</td>\n      <td>0.4</td>\n      <td>324</td>\n      <td>16.0</td>\n      <td>25.6</td>\n      <td>100</td>\n      <td>51</td>\n    </tr>\n    <tr>\n      <th>8756</th>\n      <td>2021-12-31 20:00:00</td>\n      <td>3.7</td>\n      <td>1018.4</td>\n      <td>90</td>\n      <td>0.1</td>\n      <td>325</td>\n      <td>15.0</td>\n      <td>24.1</td>\n      <td>100</td>\n      <td>51</td>\n    </tr>\n    <tr>\n      <th>8757</th>\n      <td>2021-12-31 21:00:00</td>\n      <td>3.9</td>\n      <td>1018.3</td>\n      <td>89</td>\n      <td>0.0</td>\n      <td>318</td>\n      <td>13.5</td>\n      <td>23.0</td>\n      <td>100</td>\n      <td>3</td>\n    </tr>\n    <tr>\n      <th>8758</th>\n      <td>2021-12-31 22:00:00</td>\n      <td>4.0</td>\n      <td>1018.2</td>\n      <td>89</td>\n      <td>0.0</td>\n      <td>313</td>\n      <td>12.2</td>\n      <td>21.2</td>\n      <td>100</td>\n      <td>3</td>\n    </tr>\n    <tr>\n      <th>8759</th>\n      <td>2021-12-31 23:00:00</td>\n      <td>4.2</td>\n      <td>1018.0</td>\n      <td>89</td>\n      <td>0.0</td>\n      <td>308</td>\n      <td>12.3</td>\n      <td>19.4</td>\n      <td>100</td>\n      <td>3</td>\n    </tr>\n  </tbody>\n</table>\n<p>61344 rows × 10 columns</p>\n</div>"
     },
     "execution_count": 158,
     "metadata": {},
     "output_type": "execute_result"
    }
   ],
   "source": [
    "weather"
   ],
   "metadata": {
    "collapsed": false,
    "ExecuteTime": {
     "end_time": "2025-05-04T23:37:47.532170275Z",
     "start_time": "2025-05-04T23:37:47.488598032Z"
    }
   },
   "id": "41be153cb344b59a"
  },
  {
   "cell_type": "code",
   "execution_count": 131,
   "outputs": [
    {
     "data": {
      "text/plain": "date             0\nt                0\np                0\nhumidity         0\nprecipitation    0\nwind_dir         0\nv_avg            0\nv_max            0\ncloudcover       0\nweather_code     0\ndtype: int64"
     },
     "execution_count": 131,
     "metadata": {},
     "output_type": "execute_result"
    }
   ],
   "source": [
    "weather.isnull().sum()"
   ],
   "metadata": {
    "collapsed": false,
    "ExecuteTime": {
     "end_time": "2025-05-04T16:04:06.435322872Z",
     "start_time": "2025-05-04T16:04:06.383038173Z"
    }
   },
   "id": "2677a2927974d988"
  },
  {
   "cell_type": "code",
   "execution_count": 130,
   "outputs": [],
   "source": [
    "weather.drop(columns=['visibility'], inplace=True)"
   ],
   "metadata": {
    "collapsed": false,
    "ExecuteTime": {
     "end_time": "2025-05-04T16:03:57.890698291Z",
     "start_time": "2025-05-04T16:03:57.857835560Z"
    }
   },
   "id": "5f291725588729f5"
  },
  {
   "cell_type": "code",
   "execution_count": 170,
   "outputs": [],
   "source": [
    "weather_daily = weather.groupby(weather['date'].dt.date).agg({\n",
    "    't': ['mean', 'min', 'max'],\n",
    "    'p': 'mean',\n",
    "    'humidity': 'mean',\n",
    "    'precipitation': 'sum',\n",
    "    'wind_dir': lambda x: x.mode().iloc[0] if not x.mode().empty else np.nan,\n",
    "    'v_avg': 'mean',\n",
    "    'v_max': 'max',\n",
    "    'cloudcover': 'mean',\n",
    "    'weather_code': lambda x: x.mode().iloc[0] if not x.mode().empty else np.nan,\n",
    "}).reset_index()\n",
    "weather_daily['date'] = pd.to_datetime(weather_daily['date'])\n",
    "# Убираем мультииндекс после агрегации\n",
    "weather_daily.columns = ['_'.join(col).strip() if isinstance(col, tuple) else col for col in weather_daily.columns]\n",
    "\n",
    "# Переименуем 'date_' обратно в 'date'\n",
    "weather_daily = weather_daily.rename(columns={'date_': 'date'})\n",
    "\n",
    "# Оставляем только нужные колонки\n",
    "weather_daily = weather_daily[[\n",
    "    'date',\n",
    "    't_mean',          # средняя температура\n",
    "    'humidity_mean',   # средняя влажность\n",
    "    'precipitation_sum',  # сумма осадков\n",
    "    'v_avg_mean',      # средняя скорость ветра\n",
    "    'weather_code_<lambda>'  # тип погоды\n",
    "]]\n",
    "\n",
    "# Переименуем weather_code_<lambda> для удобства\n",
    "weather_daily = weather_daily.rename(columns={\n",
    "    'weather_code_<lambda>': 'weather_code'\n",
    "})"
   ],
   "metadata": {
    "collapsed": false,
    "ExecuteTime": {
     "end_time": "2025-05-05T00:19:36.655446656Z",
     "start_time": "2025-05-05T00:19:34.911782728Z"
    }
   },
   "id": "1f8f11e1e28521f6"
  },
  {
   "cell_type": "code",
   "execution_count": 171,
   "outputs": [
    {
     "data": {
      "text/plain": "           date    t_mean  humidity_mean  precipitation_sum  v_avg_mean  \\\n0    2015-01-01 -2.083333      72.958333                0.0   24.495833   \n1    2015-01-02  2.154167      70.708333                0.0   17.637500   \n2    2015-01-03  5.750000      82.458333                2.4   24.816667   \n3    2015-01-04  5.141667      71.375000                3.1   24.645833   \n4    2015-01-05  3.333333      76.041667                6.1   23.837500   \n...         ...       ...            ...                ...         ...   \n2550 2021-12-27  4.333333      92.833333                4.2   20.091667   \n2551 2021-12-28  9.570833      89.666667                0.9   22.654167   \n2552 2021-12-29  7.041667      93.166667                3.4   17.000000   \n2553 2021-12-30  5.145833      97.458333                0.0   19.995833   \n2554 2021-12-31  4.437500      92.458333                3.8   16.854167   \n\n      weather_code  \n0                3  \n1                2  \n2                3  \n3                3  \n4                1  \n...            ...  \n2550            51  \n2551             3  \n2552             3  \n2553             3  \n2554             3  \n\n[2555 rows x 6 columns]",
      "text/html": "<div>\n<style scoped>\n    .dataframe tbody tr th:only-of-type {\n        vertical-align: middle;\n    }\n\n    .dataframe tbody tr th {\n        vertical-align: top;\n    }\n\n    .dataframe thead th {\n        text-align: right;\n    }\n</style>\n<table border=\"1\" class=\"dataframe\">\n  <thead>\n    <tr style=\"text-align: right;\">\n      <th></th>\n      <th>date</th>\n      <th>t_mean</th>\n      <th>humidity_mean</th>\n      <th>precipitation_sum</th>\n      <th>v_avg_mean</th>\n      <th>weather_code</th>\n    </tr>\n  </thead>\n  <tbody>\n    <tr>\n      <th>0</th>\n      <td>2015-01-01</td>\n      <td>-2.083333</td>\n      <td>72.958333</td>\n      <td>0.0</td>\n      <td>24.495833</td>\n      <td>3</td>\n    </tr>\n    <tr>\n      <th>1</th>\n      <td>2015-01-02</td>\n      <td>2.154167</td>\n      <td>70.708333</td>\n      <td>0.0</td>\n      <td>17.637500</td>\n      <td>2</td>\n    </tr>\n    <tr>\n      <th>2</th>\n      <td>2015-01-03</td>\n      <td>5.750000</td>\n      <td>82.458333</td>\n      <td>2.4</td>\n      <td>24.816667</td>\n      <td>3</td>\n    </tr>\n    <tr>\n      <th>3</th>\n      <td>2015-01-04</td>\n      <td>5.141667</td>\n      <td>71.375000</td>\n      <td>3.1</td>\n      <td>24.645833</td>\n      <td>3</td>\n    </tr>\n    <tr>\n      <th>4</th>\n      <td>2015-01-05</td>\n      <td>3.333333</td>\n      <td>76.041667</td>\n      <td>6.1</td>\n      <td>23.837500</td>\n      <td>1</td>\n    </tr>\n    <tr>\n      <th>...</th>\n      <td>...</td>\n      <td>...</td>\n      <td>...</td>\n      <td>...</td>\n      <td>...</td>\n      <td>...</td>\n    </tr>\n    <tr>\n      <th>2550</th>\n      <td>2021-12-27</td>\n      <td>4.333333</td>\n      <td>92.833333</td>\n      <td>4.2</td>\n      <td>20.091667</td>\n      <td>51</td>\n    </tr>\n    <tr>\n      <th>2551</th>\n      <td>2021-12-28</td>\n      <td>9.570833</td>\n      <td>89.666667</td>\n      <td>0.9</td>\n      <td>22.654167</td>\n      <td>3</td>\n    </tr>\n    <tr>\n      <th>2552</th>\n      <td>2021-12-29</td>\n      <td>7.041667</td>\n      <td>93.166667</td>\n      <td>3.4</td>\n      <td>17.000000</td>\n      <td>3</td>\n    </tr>\n    <tr>\n      <th>2553</th>\n      <td>2021-12-30</td>\n      <td>5.145833</td>\n      <td>97.458333</td>\n      <td>0.0</td>\n      <td>19.995833</td>\n      <td>3</td>\n    </tr>\n    <tr>\n      <th>2554</th>\n      <td>2021-12-31</td>\n      <td>4.437500</td>\n      <td>92.458333</td>\n      <td>3.8</td>\n      <td>16.854167</td>\n      <td>3</td>\n    </tr>\n  </tbody>\n</table>\n<p>2555 rows × 6 columns</p>\n</div>"
     },
     "execution_count": 171,
     "metadata": {},
     "output_type": "execute_result"
    }
   ],
   "source": [
    "weather_daily"
   ],
   "metadata": {
    "collapsed": false,
    "ExecuteTime": {
     "end_time": "2025-05-05T00:19:39.501463690Z",
     "start_time": "2025-05-05T00:19:39.466204751Z"
    }
   },
   "id": "885dbbf999a4efb5"
  },
  {
   "cell_type": "code",
   "execution_count": 172,
   "outputs": [
    {
     "data": {
      "text/plain": "           date     t_mean  humidity_mean  precipitation_sum  v_avg_mean  \\\n1786 2019-11-23   2.254167      75.916667                0.0   38.029167   \n1787 2019-11-24   3.379167      77.833333                0.0   29.037500   \n1788 2019-11-25   5.375000      83.250000                0.1   23.812500   \n1789 2019-11-26   7.733333      79.625000                1.3   27.516667   \n1790 2019-11-27  11.083333      89.333333                3.7   20.954167   \n...         ...        ...            ...                ...         ...   \n2093 2020-09-26  21.545833      82.000000                0.0   13.000000   \n2094 2020-09-27  22.458333      91.083333                0.1   19.654167   \n2095 2020-09-28  21.470833      76.708333                0.0   18.729167   \n2096 2020-09-29  22.441667      88.083333                0.1   18.458333   \n2097 2020-09-30  20.650000      81.458333               10.2   17.550000   \n\n      weather_code  \n1786             0  \n1787             3  \n1788             3  \n1789             3  \n1790            51  \n...            ...  \n2093             0  \n2094             1  \n2095             0  \n2096             3  \n2097             0  \n\n[312 rows x 6 columns]",
      "text/html": "<div>\n<style scoped>\n    .dataframe tbody tr th:only-of-type {\n        vertical-align: middle;\n    }\n\n    .dataframe tbody tr th {\n        vertical-align: top;\n    }\n\n    .dataframe thead th {\n        text-align: right;\n    }\n</style>\n<table border=\"1\" class=\"dataframe\">\n  <thead>\n    <tr style=\"text-align: right;\">\n      <th></th>\n      <th>date</th>\n      <th>t_mean</th>\n      <th>humidity_mean</th>\n      <th>precipitation_sum</th>\n      <th>v_avg_mean</th>\n      <th>weather_code</th>\n    </tr>\n  </thead>\n  <tbody>\n    <tr>\n      <th>1786</th>\n      <td>2019-11-23</td>\n      <td>2.254167</td>\n      <td>75.916667</td>\n      <td>0.0</td>\n      <td>38.029167</td>\n      <td>0</td>\n    </tr>\n    <tr>\n      <th>1787</th>\n      <td>2019-11-24</td>\n      <td>3.379167</td>\n      <td>77.833333</td>\n      <td>0.0</td>\n      <td>29.037500</td>\n      <td>3</td>\n    </tr>\n    <tr>\n      <th>1788</th>\n      <td>2019-11-25</td>\n      <td>5.375000</td>\n      <td>83.250000</td>\n      <td>0.1</td>\n      <td>23.812500</td>\n      <td>3</td>\n    </tr>\n    <tr>\n      <th>1789</th>\n      <td>2019-11-26</td>\n      <td>7.733333</td>\n      <td>79.625000</td>\n      <td>1.3</td>\n      <td>27.516667</td>\n      <td>3</td>\n    </tr>\n    <tr>\n      <th>1790</th>\n      <td>2019-11-27</td>\n      <td>11.083333</td>\n      <td>89.333333</td>\n      <td>3.7</td>\n      <td>20.954167</td>\n      <td>51</td>\n    </tr>\n    <tr>\n      <th>...</th>\n      <td>...</td>\n      <td>...</td>\n      <td>...</td>\n      <td>...</td>\n      <td>...</td>\n      <td>...</td>\n    </tr>\n    <tr>\n      <th>2093</th>\n      <td>2020-09-26</td>\n      <td>21.545833</td>\n      <td>82.000000</td>\n      <td>0.0</td>\n      <td>13.000000</td>\n      <td>0</td>\n    </tr>\n    <tr>\n      <th>2094</th>\n      <td>2020-09-27</td>\n      <td>22.458333</td>\n      <td>91.083333</td>\n      <td>0.1</td>\n      <td>19.654167</td>\n      <td>1</td>\n    </tr>\n    <tr>\n      <th>2095</th>\n      <td>2020-09-28</td>\n      <td>21.470833</td>\n      <td>76.708333</td>\n      <td>0.0</td>\n      <td>18.729167</td>\n      <td>0</td>\n    </tr>\n    <tr>\n      <th>2096</th>\n      <td>2020-09-29</td>\n      <td>22.441667</td>\n      <td>88.083333</td>\n      <td>0.1</td>\n      <td>18.458333</td>\n      <td>3</td>\n    </tr>\n    <tr>\n      <th>2097</th>\n      <td>2020-09-30</td>\n      <td>20.650000</td>\n      <td>81.458333</td>\n      <td>10.2</td>\n      <td>17.550000</td>\n      <td>0</td>\n    </tr>\n  </tbody>\n</table>\n<p>312 rows × 6 columns</p>\n</div>"
     },
     "execution_count": 172,
     "metadata": {},
     "output_type": "execute_result"
    }
   ],
   "source": [
    "weather_daily = weather_daily[(weather_daily['date'] >= temperature['Дата'].iloc[0]) & (weather_daily['date'] <= temperature['Дата'].iloc[-1])]\n",
    "weather_daily"
   ],
   "metadata": {
    "collapsed": false,
    "ExecuteTime": {
     "end_time": "2025-05-05T00:19:57.032239409Z",
     "start_time": "2025-05-05T00:19:57.021876024Z"
    }
   },
   "id": "df443b88f03bd98"
  },
  {
   "cell_type": "code",
   "execution_count": 236,
   "outputs": [
    {
     "data": {
      "text/plain": "           date     t_mean  humidity_mean  precipitation_sum  v_avg_mean  \\\n1786 2019-11-23   2.254167      75.916667                0.0   38.029167   \n1787 2019-11-24   3.379167      77.833333                0.0   29.037500   \n1788 2019-11-25   5.375000      83.250000                0.1   23.812500   \n1789 2019-11-26   7.733333      79.625000                1.3   27.516667   \n1790 2019-11-27  11.083333      89.333333                3.7   20.954167   \n...         ...        ...            ...                ...         ...   \n2093 2020-09-26  21.545833      82.000000                0.0   13.000000   \n2094 2020-09-27  22.458333      91.083333                0.1   19.654167   \n2095 2020-09-28  21.470833      76.708333                0.0   18.729167   \n2096 2020-09-29  22.441667      88.083333                0.1   18.458333   \n2097 2020-09-30  20.650000      81.458333               10.2   17.550000   \n\n      weather_code  \n1786             0  \n1787             3  \n1788             3  \n1789             3  \n1790            51  \n...            ...  \n2093             0  \n2094             1  \n2095             0  \n2096             3  \n2097             0  \n\n[312 rows x 6 columns]",
      "text/html": "<div>\n<style scoped>\n    .dataframe tbody tr th:only-of-type {\n        vertical-align: middle;\n    }\n\n    .dataframe tbody tr th {\n        vertical-align: top;\n    }\n\n    .dataframe thead th {\n        text-align: right;\n    }\n</style>\n<table border=\"1\" class=\"dataframe\">\n  <thead>\n    <tr style=\"text-align: right;\">\n      <th></th>\n      <th>date</th>\n      <th>t_mean</th>\n      <th>humidity_mean</th>\n      <th>precipitation_sum</th>\n      <th>v_avg_mean</th>\n      <th>weather_code</th>\n    </tr>\n  </thead>\n  <tbody>\n    <tr>\n      <th>1786</th>\n      <td>2019-11-23</td>\n      <td>2.254167</td>\n      <td>75.916667</td>\n      <td>0.0</td>\n      <td>38.029167</td>\n      <td>0</td>\n    </tr>\n    <tr>\n      <th>1787</th>\n      <td>2019-11-24</td>\n      <td>3.379167</td>\n      <td>77.833333</td>\n      <td>0.0</td>\n      <td>29.037500</td>\n      <td>3</td>\n    </tr>\n    <tr>\n      <th>1788</th>\n      <td>2019-11-25</td>\n      <td>5.375000</td>\n      <td>83.250000</td>\n      <td>0.1</td>\n      <td>23.812500</td>\n      <td>3</td>\n    </tr>\n    <tr>\n      <th>1789</th>\n      <td>2019-11-26</td>\n      <td>7.733333</td>\n      <td>79.625000</td>\n      <td>1.3</td>\n      <td>27.516667</td>\n      <td>3</td>\n    </tr>\n    <tr>\n      <th>1790</th>\n      <td>2019-11-27</td>\n      <td>11.083333</td>\n      <td>89.333333</td>\n      <td>3.7</td>\n      <td>20.954167</td>\n      <td>51</td>\n    </tr>\n    <tr>\n      <th>...</th>\n      <td>...</td>\n      <td>...</td>\n      <td>...</td>\n      <td>...</td>\n      <td>...</td>\n      <td>...</td>\n    </tr>\n    <tr>\n      <th>2093</th>\n      <td>2020-09-26</td>\n      <td>21.545833</td>\n      <td>82.000000</td>\n      <td>0.0</td>\n      <td>13.000000</td>\n      <td>0</td>\n    </tr>\n    <tr>\n      <th>2094</th>\n      <td>2020-09-27</td>\n      <td>22.458333</td>\n      <td>91.083333</td>\n      <td>0.1</td>\n      <td>19.654167</td>\n      <td>1</td>\n    </tr>\n    <tr>\n      <th>2095</th>\n      <td>2020-09-28</td>\n      <td>21.470833</td>\n      <td>76.708333</td>\n      <td>0.0</td>\n      <td>18.729167</td>\n      <td>0</td>\n    </tr>\n    <tr>\n      <th>2096</th>\n      <td>2020-09-29</td>\n      <td>22.441667</td>\n      <td>88.083333</td>\n      <td>0.1</td>\n      <td>18.458333</td>\n      <td>3</td>\n    </tr>\n    <tr>\n      <th>2097</th>\n      <td>2020-09-30</td>\n      <td>20.650000</td>\n      <td>81.458333</td>\n      <td>10.2</td>\n      <td>17.550000</td>\n      <td>0</td>\n    </tr>\n  </tbody>\n</table>\n<p>312 rows × 6 columns</p>\n</div>"
     },
     "execution_count": 236,
     "metadata": {},
     "output_type": "execute_result"
    }
   ],
   "source": [
    "weather_daily"
   ],
   "metadata": {
    "collapsed": false,
    "ExecuteTime": {
     "end_time": "2025-05-05T04:52:48.364983921Z",
     "start_time": "2025-05-05T04:52:48.277350747Z"
    }
   },
   "id": "23d16273ad5fae49"
  },
  {
   "cell_type": "code",
   "execution_count": 173,
   "outputs": [
    {
     "data": {
      "text/plain": "Index(['date', 't_mean', 'humidity_mean', 'precipitation_sum', 'v_avg_mean',\n       'weather_code'],\n      dtype='object')"
     },
     "execution_count": 173,
     "metadata": {},
     "output_type": "execute_result"
    }
   ],
   "source": [
    "weather_daily.columns"
   ],
   "metadata": {
    "collapsed": false,
    "ExecuteTime": {
     "end_time": "2025-05-05T00:21:52.943807920Z",
     "start_time": "2025-05-05T00:21:52.881551347Z"
    }
   },
   "id": "ed290b65cdb75567"
  },
  {
   "cell_type": "code",
   "execution_count": 174,
   "outputs": [
    {
     "data": {
      "text/plain": "weather_code\n0     166\n3     106\n1      22\n51      8\n2       8\n73      1\n71      1\nName: count, dtype: int64"
     },
     "execution_count": 174,
     "metadata": {},
     "output_type": "execute_result"
    }
   ],
   "source": [
    "weather_daily.weather_code.value_counts()"
   ],
   "metadata": {
    "collapsed": false,
    "ExecuteTime": {
     "end_time": "2025-05-05T00:22:33.768175607Z",
     "start_time": "2025-05-05T00:22:33.714386307Z"
    }
   },
   "id": "55c67e5886ebeca"
  },
  {
   "cell_type": "code",
   "execution_count": 237,
   "outputs": [
    {
     "data": {
      "text/plain": "           Дата  Штабель  Склад   Масса угля  Возгорание  \\\n0    2019-11-23        7      3   20705.8555           0   \n1    2019-11-23       17      3   32158.8575           0   \n2    2019-11-23       31      3  261788.5165           0   \n3    2019-11-23       36      3  238428.6550           0   \n4    2019-11-23        9      4  276335.1360           0   \n...         ...      ...    ...          ...         ...   \n2165 2020-09-30       46      4  129052.8055           0   \n2166 2020-09-30        1      6  233258.9125           0   \n2167 2020-09-30        5      6  184674.6975           0   \n2168 2020-09-30       26      6  120530.8670           0   \n2169 2020-09-30       45      6    8674.2585           0   \n\n      Максимальная температура  is_fire       date     t_mean  humidity_mean  \\\n0                         19.2      0.0 2019-11-23   2.254167      75.916667   \n1                         20.5      0.0 2019-11-23   2.254167      75.916667   \n2                         18.3      0.0 2019-11-23   2.254167      75.916667   \n3                         17.7      0.0 2019-11-23   2.254167      75.916667   \n4                         22.6      0.0 2019-11-23   2.254167      75.916667   \n...                        ...      ...        ...        ...            ...   \n2165                      29.4      NaN 2020-09-30  20.650000      81.458333   \n2166                      55.8      NaN 2020-09-30  20.650000      81.458333   \n2167                      65.3      NaN 2020-09-30  20.650000      81.458333   \n2168                      30.4      NaN 2020-09-30  20.650000      81.458333   \n2169                      30.7      NaN 2020-09-30  20.650000      81.458333   \n\n      precipitation_sum  v_avg_mean  weather_code  \n0                   0.0   38.029167             0  \n1                   0.0   38.029167             0  \n2                   0.0   38.029167             0  \n3                   0.0   38.029167             0  \n4                   0.0   38.029167             0  \n...                 ...         ...           ...  \n2165               10.2   17.550000             0  \n2166               10.2   17.550000             0  \n2167               10.2   17.550000             0  \n2168               10.2   17.550000             0  \n2169               10.2   17.550000             0  \n\n[2170 rows x 13 columns]",
      "text/html": "<div>\n<style scoped>\n    .dataframe tbody tr th:only-of-type {\n        vertical-align: middle;\n    }\n\n    .dataframe tbody tr th {\n        vertical-align: top;\n    }\n\n    .dataframe thead th {\n        text-align: right;\n    }\n</style>\n<table border=\"1\" class=\"dataframe\">\n  <thead>\n    <tr style=\"text-align: right;\">\n      <th></th>\n      <th>Дата</th>\n      <th>Штабель</th>\n      <th>Склад</th>\n      <th>Масса угля</th>\n      <th>Возгорание</th>\n      <th>Максимальная температура</th>\n      <th>is_fire</th>\n      <th>date</th>\n      <th>t_mean</th>\n      <th>humidity_mean</th>\n      <th>precipitation_sum</th>\n      <th>v_avg_mean</th>\n      <th>weather_code</th>\n    </tr>\n  </thead>\n  <tbody>\n    <tr>\n      <th>0</th>\n      <td>2019-11-23</td>\n      <td>7</td>\n      <td>3</td>\n      <td>20705.8555</td>\n      <td>0</td>\n      <td>19.2</td>\n      <td>0.0</td>\n      <td>2019-11-23</td>\n      <td>2.254167</td>\n      <td>75.916667</td>\n      <td>0.0</td>\n      <td>38.029167</td>\n      <td>0</td>\n    </tr>\n    <tr>\n      <th>1</th>\n      <td>2019-11-23</td>\n      <td>17</td>\n      <td>3</td>\n      <td>32158.8575</td>\n      <td>0</td>\n      <td>20.5</td>\n      <td>0.0</td>\n      <td>2019-11-23</td>\n      <td>2.254167</td>\n      <td>75.916667</td>\n      <td>0.0</td>\n      <td>38.029167</td>\n      <td>0</td>\n    </tr>\n    <tr>\n      <th>2</th>\n      <td>2019-11-23</td>\n      <td>31</td>\n      <td>3</td>\n      <td>261788.5165</td>\n      <td>0</td>\n      <td>18.3</td>\n      <td>0.0</td>\n      <td>2019-11-23</td>\n      <td>2.254167</td>\n      <td>75.916667</td>\n      <td>0.0</td>\n      <td>38.029167</td>\n      <td>0</td>\n    </tr>\n    <tr>\n      <th>3</th>\n      <td>2019-11-23</td>\n      <td>36</td>\n      <td>3</td>\n      <td>238428.6550</td>\n      <td>0</td>\n      <td>17.7</td>\n      <td>0.0</td>\n      <td>2019-11-23</td>\n      <td>2.254167</td>\n      <td>75.916667</td>\n      <td>0.0</td>\n      <td>38.029167</td>\n      <td>0</td>\n    </tr>\n    <tr>\n      <th>4</th>\n      <td>2019-11-23</td>\n      <td>9</td>\n      <td>4</td>\n      <td>276335.1360</td>\n      <td>0</td>\n      <td>22.6</td>\n      <td>0.0</td>\n      <td>2019-11-23</td>\n      <td>2.254167</td>\n      <td>75.916667</td>\n      <td>0.0</td>\n      <td>38.029167</td>\n      <td>0</td>\n    </tr>\n    <tr>\n      <th>...</th>\n      <td>...</td>\n      <td>...</td>\n      <td>...</td>\n      <td>...</td>\n      <td>...</td>\n      <td>...</td>\n      <td>...</td>\n      <td>...</td>\n      <td>...</td>\n      <td>...</td>\n      <td>...</td>\n      <td>...</td>\n      <td>...</td>\n    </tr>\n    <tr>\n      <th>2165</th>\n      <td>2020-09-30</td>\n      <td>46</td>\n      <td>4</td>\n      <td>129052.8055</td>\n      <td>0</td>\n      <td>29.4</td>\n      <td>NaN</td>\n      <td>2020-09-30</td>\n      <td>20.650000</td>\n      <td>81.458333</td>\n      <td>10.2</td>\n      <td>17.550000</td>\n      <td>0</td>\n    </tr>\n    <tr>\n      <th>2166</th>\n      <td>2020-09-30</td>\n      <td>1</td>\n      <td>6</td>\n      <td>233258.9125</td>\n      <td>0</td>\n      <td>55.8</td>\n      <td>NaN</td>\n      <td>2020-09-30</td>\n      <td>20.650000</td>\n      <td>81.458333</td>\n      <td>10.2</td>\n      <td>17.550000</td>\n      <td>0</td>\n    </tr>\n    <tr>\n      <th>2167</th>\n      <td>2020-09-30</td>\n      <td>5</td>\n      <td>6</td>\n      <td>184674.6975</td>\n      <td>0</td>\n      <td>65.3</td>\n      <td>NaN</td>\n      <td>2020-09-30</td>\n      <td>20.650000</td>\n      <td>81.458333</td>\n      <td>10.2</td>\n      <td>17.550000</td>\n      <td>0</td>\n    </tr>\n    <tr>\n      <th>2168</th>\n      <td>2020-09-30</td>\n      <td>26</td>\n      <td>6</td>\n      <td>120530.8670</td>\n      <td>0</td>\n      <td>30.4</td>\n      <td>NaN</td>\n      <td>2020-09-30</td>\n      <td>20.650000</td>\n      <td>81.458333</td>\n      <td>10.2</td>\n      <td>17.550000</td>\n      <td>0</td>\n    </tr>\n    <tr>\n      <th>2169</th>\n      <td>2020-09-30</td>\n      <td>45</td>\n      <td>6</td>\n      <td>8674.2585</td>\n      <td>0</td>\n      <td>30.7</td>\n      <td>NaN</td>\n      <td>2020-09-30</td>\n      <td>20.650000</td>\n      <td>81.458333</td>\n      <td>10.2</td>\n      <td>17.550000</td>\n      <td>0</td>\n    </tr>\n  </tbody>\n</table>\n<p>2170 rows × 13 columns</p>\n</div>"
     },
     "execution_count": 237,
     "metadata": {},
     "output_type": "execute_result"
    }
   ],
   "source": [
    "final_data = df_with_target.merge(weather_daily, how='inner', left_on=['Дата'], right_on=['date'])\n",
    "final_data"
   ],
   "metadata": {
    "collapsed": false,
    "ExecuteTime": {
     "end_time": "2025-05-05T04:54:40.715641558Z",
     "start_time": "2025-05-05T04:54:40.633401Z"
    }
   },
   "id": "746785e18c83b73b"
  },
  {
   "cell_type": "code",
   "execution_count": 238,
   "outputs": [
    {
     "data": {
      "text/plain": "Возгорание\n0    1955\n1     215\nName: count, dtype: int64"
     },
     "execution_count": 238,
     "metadata": {},
     "output_type": "execute_result"
    }
   ],
   "source": [
    "final_data['Возгорание'].value_counts()"
   ],
   "metadata": {
    "collapsed": false,
    "ExecuteTime": {
     "end_time": "2025-05-05T04:56:54.243522505Z",
     "start_time": "2025-05-05T04:56:54.188041868Z"
    }
   },
   "id": "e43088ec125a6bf2"
  },
  {
   "cell_type": "code",
   "execution_count": 240,
   "outputs": [
    {
     "data": {
      "text/plain": "Дата                          0\nШтабель                       0\nСклад                         0\nМасса угля                    0\nВозгорание                    0\nМаксимальная температура      0\nis_fire                     335\ndate                          0\nt_mean                        0\nhumidity_mean                 0\nprecipitation_sum             0\nv_avg_mean                    0\nweather_code                  0\ndtype: int64"
     },
     "execution_count": 240,
     "metadata": {},
     "output_type": "execute_result"
    }
   ],
   "source": [
    "final_data.isnull().sum()"
   ],
   "metadata": {
    "collapsed": false,
    "ExecuteTime": {
     "end_time": "2025-05-05T05:03:30.131706508Z",
     "start_time": "2025-05-05T05:03:30.028973943Z"
    }
   },
   "id": "c3b21b1e4039d3bd"
  },
  {
   "cell_type": "code",
   "execution_count": 239,
   "outputs": [],
   "source": [
    "final_data.to_pickle('../data/final_data.pkl')"
   ],
   "metadata": {
    "collapsed": false,
    "ExecuteTime": {
     "end_time": "2025-05-05T04:57:44.580460317Z",
     "start_time": "2025-05-05T04:57:44.525510204Z"
    }
   },
   "id": "86bf06e7961964d1"
  },
  {
   "cell_type": "code",
   "execution_count": 242,
   "outputs": [
    {
     "data": {
      "text/plain": "<Axes: >"
     },
     "execution_count": 242,
     "metadata": {},
     "output_type": "execute_result"
    },
    {
     "data": {
      "text/plain": "<Figure size 640x480 with 1 Axes>",
      "image/png": "[encoded data removed]"
     },
     "metadata": {},
     "output_type": "display_data"
    }
   ],
   "source": [
    "final_data['Возгорание'].value_counts().hist()"
   ],
   "metadata": {
    "collapsed": false,
    "ExecuteTime": {
     "end_time": "2025-05-05T09:28:46.537290359Z",
     "start_time": "2025-05-05T09:28:46.209631215Z"
    }
   },
   "id": "c0ba307003bdb71f"
  },
  {
   "cell_type": "code",
   "execution_count": 243,
   "outputs": [
    {
     "data": {
      "text/plain": "<Figure size 1200x500 with 2 Axes>",
      "image/png": "[encoded data removed]"
     },
     "metadata": {},
     "output_type": "display_data"
    }
   ],
   "source": [
    "import matplotlib.pyplot as plt\n",
    "import matplotlib.style as style\n",
    "\n",
    "# Включаем стиль FiveThirtyEight\n",
    "style.use('fivethirtyeight')\n",
    "\n",
    "# Данные\n",
    "y_train_counts = {'0': 1307, '1': 167}\n",
    "y_test_counts = {'0': 317, '1': 50}\n",
    "\n",
    "# График для y_train\n",
    "fig, axs = plt.subplots(1, 2, figsize=(12, 5))\n",
    "\n",
    "axs[0].bar(y_train_counts.keys(), y_train_counts.values(), color=['#1f77b4', '#ff7f0e'])\n",
    "axs[0].set_title('Распределение классов в y_train')\n",
    "axs[0].set_xlabel('Класс')\n",
    "axs[0].set_ylabel('Количество')\n",
    "\n",
    "# График для y_test\n",
    "axs[1].bar(y_test_counts.keys(), y_test_counts.values(), color=['#1f77b4', '#ff7f0e'])\n",
    "axs[1].set_title('Распределение классов в y_test')\n",
    "axs[1].set_xlabel('Класс')\n",
    "axs[1].set_ylabel('Количество')\n",
    "\n",
    "plt.tight_layout()\n",
    "plt.show()"
   ],
   "metadata": {
    "collapsed": false,
    "ExecuteTime": {
     "end_time": "2025-05-05T09:50:50.532758421Z",
     "start_time": "2025-05-05T09:50:50.260502471Z"
    }
   },
   "id": "5420e597fafee1f4"
  },
  {
   "cell_type": "markdown",
   "source": [],
   "metadata": {
    "collapsed": false
   },
   "id": "89f372960a0efd82"
  }
 ],
 "metadata": {
  "kernelspec": {
   "display_name": "Python 3",
   "language": "python",
   "name": "python3"
  },
  "language_info": {
   "codemirror_mode": {
    "name": "ipython",
    "version": 2
   },
   "file_extension": ".py",
   "mimetype": "text/x-python",
   "name": "python",
   "nbconvert_exporter": "python",
   "pygments_lexer": "ipython2",
   "version": "2.7.6"
  }
 },
 "nbformat": 4,
 "nbformat_minor": 5
}
